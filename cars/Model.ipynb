{
 "cells": [
  {
   "cell_type": "code",
   "execution_count": 1,
   "metadata": {
    "collapsed": false
   },
   "outputs": [
    {
     "name": "stderr",
     "output_type": "stream",
     "text": [
      "\n",
      "Attaching package: ‘dplyr’\n",
      "\n",
      "The following objects are masked from ‘package:stats’:\n",
      "\n",
      "    filter, lag\n",
      "\n",
      "The following objects are masked from ‘package:base’:\n",
      "\n",
      "    intersect, setdiff, setequal, union\n",
      "\n"
     ]
    }
   ],
   "source": [
    "library(dplyr)\n",
    "library(tidyr)\n",
    "library(ggplot2)"
   ]
  },
  {
   "cell_type": "code",
   "execution_count": 2,
   "metadata": {
    "collapsed": true
   },
   "outputs": [],
   "source": [
    "options(repr.plot.width = 10, repr.plot.height = 6)"
   ]
  },
  {
   "cell_type": "code",
   "execution_count": 7,
   "metadata": {
    "collapsed": true
   },
   "outputs": [],
   "source": [
    "df <- read.csv(\"data/cars.tidy.csv\", stringsAsFactor = FALSE)\n",
    "df$price_in_1000 <- df$price / 1000"
   ]
  },
  {
   "cell_type": "code",
   "execution_count": 9,
   "metadata": {
    "collapsed": false
   },
   "outputs": [
    {
     "name": "stdout",
     "output_type": "stream",
     "text": [
      "'data.frame':\t203 obs. of  19 variables:\n",
      " $ name             : chr  \"Ashok Leyland Stile\" \"Aston Martin Rapide\" \"Aston Martin Rapide S\" \"Aston Martin V12 Vantage\" ...\n",
      " $ model            : chr  \"Ashok Leyland Stile LE 8-STR (Diesel)\" \"Aston Martin Rapide LUXE (Petrol)\" \"Aston Martin Rapide S (Petrol)\" \"Aston Martin V12 Vantage Coupe (Petrol)\" ...\n",
      " $ price            : num  749990 35000000 44000000 35000000 13500000 ...\n",
      " $ type             : chr  \"MPV\" \"Sedan\" \"Sedan\" \"Coupe\" ...\n",
      " $ engine           : int  1461 5935 5935 5935 4735 5935 1968 1968 1968 2967 ...\n",
      " $ fuel             : chr  \" Diesel\" \" Petrol\" \" Petrol\" \" Petrol\" ...\n",
      " $ weight           : chr  \" 2000\" NA \" 1990\" NA ...\n",
      " $ clearance        : num  180 120 110 120 120 147 NA 128 165 160 ...\n",
      " $ bhp              : chr  \" 75 \" \" 350 \" \" 550 \" \" 510 \" ...\n",
      " $ rpm              : chr  \" 3300\" \" 6000\" \" 6750\" \" 6500\" ...\n",
      " $ mileage_city     : chr  \" 16.2\" NA \" 5.6\" \" 7\" ...\n",
      " $ mileage_highway  : num  20.7 7 11.9 9 8 ...\n",
      " $ cylinders        : int  4 4 12 12 8 4 4 4 4 6 ...\n",
      " $ seats            : chr  \" 8\" \" 4\" \" 4\" \" 2\" ...\n",
      " $ transmission_type: chr  \" 5 Speed Manual\" \" 6 Speed Automatic\" \" 6 Speed Manual\" \" 6 Speed Manual\" ...\n",
      " $ brand            : chr  \"Ashok\" \"Aston\" \"Aston\" \"Aston\" ...\n",
      " $ gears            : int  5 6 6 6 6 6 6 7 8 6 ...\n",
      " $ transmission     : chr  \"Manual\" \"Automatic\" \"Manual\" \"Manual\" ...\n",
      " $ price_in_1000    : num  750 35000 44000 35000 13500 ...\n"
     ]
    }
   ],
   "source": [
    "str(df)"
   ]
  },
  {
   "cell_type": "code",
   "execution_count": 10,
   "metadata": {
    "collapsed": false
   },
   "outputs": [
    {
     "name": "stderr",
     "output_type": "stream",
     "text": [
      "Warning message:\n",
      "In eval(expr, envir, enclos): NAs introduced by coercion"
     ]
    },
    {
     "data": {
      "text/html": [
       "<ol class=list-inline>\n",
       "\t<li>16.2</li>\n",
       "\t<li>NA</li>\n",
       "\t<li>5.6</li>\n",
       "\t<li>7</li>\n",
       "\t<li>5</li>\n",
       "\t<li>4</li>\n",
       "</ol>\n"
      ],
      "text/latex": [
       "\\begin{enumerate*}\n",
       "\\item 16.2\n",
       "\\item NA\n",
       "\\item 5.6\n",
       "\\item 7\n",
       "\\item 5\n",
       "\\item 4\n",
       "\\end{enumerate*}\n"
      ],
      "text/markdown": [
       "1. 16.2\n",
       "2. NA\n",
       "3. 5.6\n",
       "4. 7\n",
       "5. 5\n",
       "6. 4\n",
       "\n",
       "\n"
      ],
      "text/plain": [
       "[1] 16.2   NA  5.6  7.0  5.0  4.0"
      ]
     },
     "execution_count": 10,
     "metadata": {},
     "output_type": "execute_result"
    }
   ],
   "source": [
    "df$mileage_city <- as.numeric(df$mileage_city)\n",
    "head(df$mileage_city)"
   ]
  },
  {
   "cell_type": "code",
   "execution_count": 11,
   "metadata": {
    "collapsed": false
   },
   "outputs": [
    {
     "data": {
      "text/plain": [
       "\n",
       "Call:\n",
       "lm(formula = price_in_1000 ~ mileage_city, data = df)\n",
       "\n",
       "Coefficients:\n",
       " (Intercept)  mileage_city  \n",
       "       19732         -1153  \n"
      ]
     },
     "execution_count": 11,
     "metadata": {},
     "output_type": "execute_result"
    }
   ],
   "source": [
    "lm(price_in_1000 ~ mileage_city, data = df)"
   ]
  },
  {
   "cell_type": "code",
   "execution_count": null,
   "metadata": {
    "collapsed": true
   },
   "outputs": [],
   "source": []
  }
 ],
 "metadata": {
  "kernelspec": {
   "display_name": "R",
   "language": "R",
   "name": "ir"
  },
  "language_info": {
   "codemirror_mode": "r",
   "file_extension": ".r",
   "mimetype": "text/x-r-source",
   "name": "R",
   "pygments_lexer": "r",
   "version": "3.2.2"
  }
 },
 "nbformat": 4,
 "nbformat_minor": 0
}
