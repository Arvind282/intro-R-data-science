{
 "cells": [
  {
   "cell_type": "markdown",
   "metadata": {},
   "source": [
    "# Bank Marketing"
   ]
  },
  {
   "cell_type": "markdown",
   "metadata": {},
   "source": [
    "## 1. Frame\n",
    "\n",
    "A Portuguese Bank wants to run a direct marketing campaign to sell its new term deposit plan. The goal is to help them identify customers who would most likely buy the plan?\n",
    "\n",
    "**Open Discussion** How to approach this problem?"
   ]
  },
  {
   "cell_type": "markdown",
   "metadata": {},
   "source": [
    "## 2. Acquire\n",
    "\n",
    "UCI has a number of datasets related to machine learning. We will leverage the Bank Marketing dataset.\n",
    "Look into this link for more information\n",
    "https://archive.ics.uci.edu/ml/datasets/Bank+Marketing\n",
    "\n",
    "**Load the train and test datasets**"
   ]
  },
  {
   "cell_type": "code",
   "execution_count": 1,
   "metadata": {
    "collapsed": true
   },
   "outputs": [],
   "source": [
    "train <- \n",
    "test <- "
   ]
  },
  {
   "cell_type": "markdown",
   "metadata": {},
   "source": [
    "# Attribute Information:\n",
    "\n",
    "## Input variables:\n",
    "\n",
    "### bank client data:\n",
    "\n",
    "1. age (numeric)\n",
    "2. job : type of job (categorical: 'admin.','blue-collar','entrepreneur','housemaid','management','retired','self-employed','services','student','technician','unemployed','unknown')\n",
    "3. marital : marital status (categorical: 'divorced','married','single','unknown'; note: 'divorced' means divorced or widowed)\n",
    "4. education (categorical: 'basic.4y','basic.6y','basic.9y','high.school','illiterate','professional.course','university.degree','unknown')\n",
    "5. default: has credit in default? (categorical: 'no','yes','unknown')\n",
    "6. housing: has housing loan? (categorical: 'no','yes','unknown')\n",
    "7. loan: has personal loan? (categorical: 'no','yes','unknown')\n",
    "\n",
    "### related with the last contact of the current campaign:\n",
    "\n",
    "8. contact: contact communication type (categorical: 'cellular','telephone') \n",
    "9. month: last contact month of year (categorical: 'jan', 'feb', 'mar', ..., 'nov', 'dec')\n",
    "10. day_of_week: last contact day of the week (categorical: 'mon','tue','wed','thu','fri')\n",
    "11. duration: last contact duration, in seconds (numeric). Important note: this attribute highly affects the output target (e.g., if duration=0 then y='no'). Yet, the duration is not known before a call is performed. Also, after the end of the call y is obviously known. Thus, this input should only be included for benchmark purposes and should be discarded if the intention is to have a realistic predictive model.\n",
    "\n",
    "### other attributes:\n",
    "\n",
    "12. campaign: number of contacts performed during this campaign and for this client (numeric, includes last contact)\n",
    "13. pdays: number of days that passed by after the client was last contacted from a previous campaign (numeric; 999 means client was not previously contacted)\n",
    "14. previous: number of contacts performed before this campaign and for this client (numeric)\n",
    "15. poutcome: outcome of the previous marketing campaign (categorical: 'failure','nonexistent','success')\n",
    "\n",
    "### social and economic context attributes\n",
    "\n",
    "16. emp.var.rate: employment variation rate - quarterly indicator (numeric)\n",
    "17. cons.price.idx: consumer price index - monthly indicator (numeric) \n",
    "18. cons.conf.idx: consumer confidence index - monthly indicator (numeric) \n",
    "19. euribor3m: euribor 3 month rate - daily indicator (numeric)\n",
    "20. nr.employed: number of employees - quarterly indicator (numeric)\n",
    "\n",
    "## Output variable (desired target):\n",
    " y - has the client subscribed a term deposit? (binary: 'yes','no')"
   ]
  },
  {
   "cell_type": "markdown",
   "metadata": {},
   "source": [
    "## 3. Explore\n",
    "\n",
    "**Exercise**"
   ]
  },
  {
   "cell_type": "code",
   "execution_count": 2,
   "metadata": {
    "collapsed": true
   },
   "outputs": [],
   "source": [
    "#Find frequency of deposit "
   ]
  },
  {
   "cell_type": "code",
   "execution_count": 6,
   "metadata": {
    "collapsed": false
   },
   "outputs": [
    {
     "name": "stdout",
     "output_type": "stream",
     "text": [
      "[1] \"Train\"\n",
      "\n",
      "   no   yes \n",
      "31092  4119 \n",
      "[1] \"Test\"\n",
      "\n",
      "  no  yes \n",
      "8830 1170 \n"
     ]
    }
   ],
   "source": [
    "# Train:\n",
    "print(\"Train\")\n",
    "#Code here\n",
    "print(\"Test\")\n",
    "#Code here"
   ]
  },
  {
   "cell_type": "code",
   "execution_count": 7,
   "metadata": {
    "collapsed": false
   },
   "outputs": [
    {
     "name": "stdout",
     "output_type": "stream",
     "text": [
      "[1] \"Train\"\n"
     ]
    },
    {
     "data": {
      "text/html": [
       "<ol class=list-inline>\n",
       "\t<li>35211</li>\n",
       "\t<li>17</li>\n",
       "</ol>\n"
      ],
      "text/latex": [
       "\\begin{enumerate*}\n",
       "\\item 35211\n",
       "\\item 17\n",
       "\\end{enumerate*}\n"
      ],
      "text/markdown": [
       "1. 35211\n",
       "2. 17\n",
       "\n",
       "\n"
      ],
      "text/plain": [
       "[1] 35211    17"
      ]
     },
     "execution_count": 7,
     "metadata": {},
     "output_type": "execute_result"
    },
    {
     "name": "stdout",
     "output_type": "stream",
     "text": [
      "[1] \"Test\"\n"
     ]
    },
    {
     "data": {
      "text/html": [
       "<ol class=list-inline>\n",
       "\t<li>10000</li>\n",
       "\t<li>17</li>\n",
       "</ol>\n"
      ],
      "text/latex": [
       "\\begin{enumerate*}\n",
       "\\item 10000\n",
       "\\item 17\n",
       "\\end{enumerate*}\n"
      ],
      "text/markdown": [
       "1. 10000\n",
       "2. 17\n",
       "\n",
       "\n"
      ],
      "text/plain": [
       "[1] 10000    17"
      ]
     },
     "execution_count": 7,
     "metadata": {},
     "output_type": "execute_result"
    }
   ],
   "source": [
    "# Find number of rows and columns in train and test\n",
    "print(\"Train\")\n",
    "#Code here\n",
    "print(\"Test\")\n",
    "#Code here"
   ]
  },
  {
   "cell_type": "code",
   "execution_count": 9,
   "metadata": {
    "collapsed": false
   },
   "outputs": [
    {
     "name": "stdout",
     "output_type": "stream",
     "text": [
      "[1] \"Train\"\n"
     ]
    },
    {
     "data": {
      "text/html": [
       "<ol class=list-inline>\n",
       "\t<li>'age'</li>\n",
       "\t<li>'job'</li>\n",
       "\t<li>'marital'</li>\n",
       "\t<li>'education'</li>\n",
       "\t<li>'default'</li>\n",
       "\t<li>'balance'</li>\n",
       "\t<li>'housing'</li>\n",
       "\t<li>'loan'</li>\n",
       "\t<li>'contact'</li>\n",
       "\t<li>'day'</li>\n",
       "\t<li>'month'</li>\n",
       "\t<li>'duration'</li>\n",
       "\t<li>'campaign'</li>\n",
       "\t<li>'pdays'</li>\n",
       "\t<li>'previous'</li>\n",
       "\t<li>'poutcome'</li>\n",
       "\t<li>'deposit'</li>\n",
       "</ol>\n"
      ],
      "text/latex": [
       "\\begin{enumerate*}\n",
       "\\item 'age'\n",
       "\\item 'job'\n",
       "\\item 'marital'\n",
       "\\item 'education'\n",
       "\\item 'default'\n",
       "\\item 'balance'\n",
       "\\item 'housing'\n",
       "\\item 'loan'\n",
       "\\item 'contact'\n",
       "\\item 'day'\n",
       "\\item 'month'\n",
       "\\item 'duration'\n",
       "\\item 'campaign'\n",
       "\\item 'pdays'\n",
       "\\item 'previous'\n",
       "\\item 'poutcome'\n",
       "\\item 'deposit'\n",
       "\\end{enumerate*}\n"
      ],
      "text/markdown": [
       "1. 'age'\n",
       "2. 'job'\n",
       "3. 'marital'\n",
       "4. 'education'\n",
       "5. 'default'\n",
       "6. 'balance'\n",
       "7. 'housing'\n",
       "8. 'loan'\n",
       "9. 'contact'\n",
       "10. 'day'\n",
       "11. 'month'\n",
       "12. 'duration'\n",
       "13. 'campaign'\n",
       "14. 'pdays'\n",
       "15. 'previous'\n",
       "16. 'poutcome'\n",
       "17. 'deposit'\n",
       "\n",
       "\n"
      ],
      "text/plain": [
       " [1] \"age\"       \"job\"       \"marital\"   \"education\" \"default\"   \"balance\"  \n",
       " [7] \"housing\"   \"loan\"      \"contact\"   \"day\"       \"month\"     \"duration\" \n",
       "[13] \"campaign\"  \"pdays\"     \"previous\"  \"poutcome\"  \"deposit\"  "
      ]
     },
     "execution_count": 9,
     "metadata": {},
     "output_type": "execute_result"
    },
    {
     "name": "stdout",
     "output_type": "stream",
     "text": [
      "[1] \"Test\"\n"
     ]
    },
    {
     "data": {
      "text/html": [
       "<ol class=list-inline>\n",
       "\t<li>'age'</li>\n",
       "\t<li>'job'</li>\n",
       "\t<li>'marital'</li>\n",
       "\t<li>'education'</li>\n",
       "\t<li>'default'</li>\n",
       "\t<li>'balance'</li>\n",
       "\t<li>'housing'</li>\n",
       "\t<li>'loan'</li>\n",
       "\t<li>'contact'</li>\n",
       "\t<li>'day'</li>\n",
       "\t<li>'month'</li>\n",
       "\t<li>'duration'</li>\n",
       "\t<li>'campaign'</li>\n",
       "\t<li>'pdays'</li>\n",
       "\t<li>'previous'</li>\n",
       "\t<li>'poutcome'</li>\n",
       "\t<li>'deposit'</li>\n",
       "</ol>\n"
      ],
      "text/latex": [
       "\\begin{enumerate*}\n",
       "\\item 'age'\n",
       "\\item 'job'\n",
       "\\item 'marital'\n",
       "\\item 'education'\n",
       "\\item 'default'\n",
       "\\item 'balance'\n",
       "\\item 'housing'\n",
       "\\item 'loan'\n",
       "\\item 'contact'\n",
       "\\item 'day'\n",
       "\\item 'month'\n",
       "\\item 'duration'\n",
       "\\item 'campaign'\n",
       "\\item 'pdays'\n",
       "\\item 'previous'\n",
       "\\item 'poutcome'\n",
       "\\item 'deposit'\n",
       "\\end{enumerate*}\n"
      ],
      "text/markdown": [
       "1. 'age'\n",
       "2. 'job'\n",
       "3. 'marital'\n",
       "4. 'education'\n",
       "5. 'default'\n",
       "6. 'balance'\n",
       "7. 'housing'\n",
       "8. 'loan'\n",
       "9. 'contact'\n",
       "10. 'day'\n",
       "11. 'month'\n",
       "12. 'duration'\n",
       "13. 'campaign'\n",
       "14. 'pdays'\n",
       "15. 'previous'\n",
       "16. 'poutcome'\n",
       "17. 'deposit'\n",
       "\n",
       "\n"
      ],
      "text/plain": [
       " [1] \"age\"       \"job\"       \"marital\"   \"education\" \"default\"   \"balance\"  \n",
       " [7] \"housing\"   \"loan\"      \"contact\"   \"day\"       \"month\"     \"duration\" \n",
       "[13] \"campaign\"  \"pdays\"     \"previous\"  \"poutcome\"  \"deposit\"  "
      ]
     },
     "execution_count": 9,
     "metadata": {},
     "output_type": "execute_result"
    }
   ],
   "source": [
    "# Find names of the features in train and test\n",
    "print(\"Train\")\n",
    "#Code here\n",
    "print(\"Test\")\n",
    "#Code here"
   ]
  },
  {
   "cell_type": "markdown",
   "metadata": {},
   "source": [
    "**Exercise**\n",
    "\n",
    "1. Plot Deposit\n",
    "2. Plot Deposit Vs Age\n",
    "3. Plot Deposit Vs another feature\n",
    "4. Plot any two features against each other"
   ]
  },
  {
   "cell_type": "code",
   "execution_count": null,
   "metadata": {
    "collapsed": true
   },
   "outputs": [],
   "source": []
  },
  {
   "cell_type": "code",
   "execution_count": null,
   "metadata": {
    "collapsed": true
   },
   "outputs": [],
   "source": []
  },
  {
   "cell_type": "code",
   "execution_count": null,
   "metadata": {
    "collapsed": true
   },
   "outputs": [],
   "source": []
  },
  {
   "cell_type": "code",
   "execution_count": null,
   "metadata": {
    "collapsed": true
   },
   "outputs": [],
   "source": []
  },
  {
   "cell_type": "markdown",
   "metadata": {},
   "source": [
    "## 4. Refine"
   ]
  },
  {
   "cell_type": "code",
   "execution_count": 13,
   "metadata": {
    "collapsed": false
   },
   "outputs": [
    {
     "data": {
      "text/html": [
       "<table>\n",
       "<thead><tr><th></th><th scope=col>age</th><th scope=col>job</th><th scope=col>marital</th><th scope=col>education</th><th scope=col>default</th><th scope=col>balance</th><th scope=col>housing</th><th scope=col>loan</th><th scope=col>contact</th><th scope=col>day</th><th scope=col>month</th><th scope=col>duration</th><th scope=col>campaign</th><th scope=col>pdays</th><th scope=col>previous</th><th scope=col>poutcome</th><th scope=col>deposit</th></tr></thead>\n",
       "<tbody>\n",
       "\t<tr><th scope=row>1</th><td>58</td><td>management</td><td>married</td><td>tertiary</td><td>no</td><td>2143</td><td>yes</td><td>no</td><td>unknown</td><td>5</td><td>may</td><td>261</td><td>1</td><td>-1</td><td>0</td><td>unknown</td><td>no</td></tr>\n",
       "\t<tr><th scope=row>2</th><td>44</td><td>technician</td><td>single</td><td>secondary</td><td>no</td><td>29</td><td>yes</td><td>no</td><td>unknown</td><td>5</td><td>may</td><td>151</td><td>1</td><td>-1</td><td>0</td><td>unknown</td><td>no</td></tr>\n",
       "\t<tr><th scope=row>3</th><td>33</td><td>entrepreneur</td><td>married</td><td>secondary</td><td>no</td><td>2</td><td>yes</td><td>yes</td><td>unknown</td><td>5</td><td>may</td><td>76</td><td>1</td><td>-1</td><td>0</td><td>unknown</td><td>no</td></tr>\n",
       "\t<tr><th scope=row>4</th><td>47</td><td>blue-collar</td><td>married</td><td>unknown</td><td>no</td><td>1506</td><td>yes</td><td>no</td><td>unknown</td><td>5</td><td>may</td><td>92</td><td>1</td><td>-1</td><td>0</td><td>unknown</td><td>no</td></tr>\n",
       "\t<tr><th scope=row>5</th><td>33</td><td>unknown</td><td>single</td><td>unknown</td><td>no</td><td>1</td><td>no</td><td>no</td><td>unknown</td><td>5</td><td>may</td><td>198</td><td>1</td><td>-1</td><td>0</td><td>unknown</td><td>no</td></tr>\n",
       "\t<tr><th scope=row>6</th><td>28</td><td>management</td><td>single</td><td>tertiary</td><td>no</td><td>447</td><td>yes</td><td>yes</td><td>unknown</td><td>5</td><td>may</td><td>217</td><td>1</td><td>-1</td><td>0</td><td>unknown</td><td>no</td></tr>\n",
       "</tbody>\n",
       "</table>\n"
      ],
      "text/latex": [
       "\\begin{tabular}{r|lllllllllllllllll}\n",
       "  & age & job & marital & education & default & balance & housing & loan & contact & day & month & duration & campaign & pdays & previous & poutcome & deposit\\\\\n",
       "\\hline\n",
       "\t1 & 58 & management & married & tertiary & no & 2143 & yes & no & unknown & 5 & may & 261 & 1 & -1 & 0 & unknown & no\\\\\n",
       "\t2 & 44 & technician & single & secondary & no & 29 & yes & no & unknown & 5 & may & 151 & 1 & -1 & 0 & unknown & no\\\\\n",
       "\t3 & 33 & entrepreneur & married & secondary & no & 2 & yes & yes & unknown & 5 & may & 76 & 1 & -1 & 0 & unknown & no\\\\\n",
       "\t4 & 47 & blue-collar & married & unknown & no & 1506 & yes & no & unknown & 5 & may & 92 & 1 & -1 & 0 & unknown & no\\\\\n",
       "\t5 & 33 & unknown & single & unknown & no & 1 & no & no & unknown & 5 & may & 198 & 1 & -1 & 0 & unknown & no\\\\\n",
       "\t6 & 28 & management & single & tertiary & no & 447 & yes & yes & unknown & 5 & may & 217 & 1 & -1 & 0 & unknown & no\\\\\n",
       "\\end{tabular}\n"
      ],
      "text/plain": [
       "  age          job marital education default balance housing loan contact day\n",
       "1  58   management married  tertiary      no    2143     yes   no unknown   5\n",
       "2  44   technician  single secondary      no      29     yes   no unknown   5\n",
       "3  33 entrepreneur married secondary      no       2     yes  yes unknown   5\n",
       "4  47  blue-collar married   unknown      no    1506     yes   no unknown   5\n",
       "5  33      unknown  single   unknown      no       1      no   no unknown   5\n",
       "6  28   management  single  tertiary      no     447     yes  yes unknown   5\n",
       "  month duration campaign pdays previous poutcome deposit\n",
       "1   may      261        1    -1        0  unknown      no\n",
       "2   may      151        1    -1        0  unknown      no\n",
       "3   may       76        1    -1        0  unknown      no\n",
       "4   may       92        1    -1        0  unknown      no\n",
       "5   may      198        1    -1        0  unknown      no\n",
       "6   may      217        1    -1        0  unknown      no"
      ]
     },
     "execution_count": 13,
     "metadata": {},
     "output_type": "execute_result"
    }
   ],
   "source": [
    "#Print the head of train\n",
    "head(train)"
   ]
  },
  {
   "cell_type": "markdown",
   "metadata": {},
   "source": [
    "Exercise"
   ]
  },
  {
   "cell_type": "code",
   "execution_count": 7,
   "metadata": {
    "collapsed": false
   },
   "outputs": [
    {
     "data": {
      "text/html": [
       "<table>\n",
       "<thead><tr><th></th><th scope=col>age</th><th scope=col>job</th><th scope=col>marital</th><th scope=col>education</th><th scope=col>default</th><th scope=col>balance</th><th scope=col>housing</th><th scope=col>loan</th><th scope=col>contact</th><th scope=col>day</th><th scope=col>month</th><th scope=col>duration</th><th scope=col>campaign</th><th scope=col>pdays</th><th scope=col>previous</th><th scope=col>poutcome</th><th scope=col>deposit</th></tr></thead>\n",
       "<tbody>\n",
       "\t<tr><th scope=row>1</th><td>38</td><td>self-employed</td><td>single</td><td>secondary</td><td>no</td><td>677</td><td>yes</td><td>no</td><td>cellular</td><td>14</td><td>may</td><td>114</td><td>2</td><td>-1</td><td>0</td><td>unknown</td><td>no</td></tr>\n",
       "\t<tr><th scope=row>2</th><td>58</td><td>blue-collar</td><td>married</td><td>primary</td><td>no</td><td>5445</td><td>yes</td><td>no</td><td>cellular</td><td>14</td><td>apr</td><td>391</td><td>1</td><td>-1</td><td>0</td><td>unknown</td><td>no</td></tr>\n",
       "\t<tr><th scope=row>3</th><td>55</td><td>retired</td><td>married</td><td>secondary</td><td>no</td><td>5</td><td>no</td><td>no</td><td>unknown</td><td>20</td><td>jun</td><td>108</td><td>1</td><td>-1</td><td>0</td><td>unknown</td><td>no</td></tr>\n",
       "\t<tr><th scope=row>4</th><td>26</td><td>management</td><td>single</td><td>secondary</td><td>no</td><td>63</td><td>no</td><td>no</td><td>cellular</td><td>28</td><td>jul</td><td>76</td><td>4</td><td>-1</td><td>0</td><td>unknown</td><td>no</td></tr>\n",
       "\t<tr><th scope=row>5</th><td>48</td><td>technician</td><td>divorced</td><td>tertiary</td><td>no</td><td>907</td><td>no</td><td>yes</td><td>cellular</td><td>4</td><td>aug</td><td>103</td><td>1</td><td>-1</td><td>0</td><td>unknown</td><td>no</td></tr>\n",
       "\t<tr><th scope=row>6</th><td>33</td><td>technician</td><td>married</td><td>tertiary</td><td>no</td><td>525</td><td>yes</td><td>yes</td><td>unknown</td><td>28</td><td>may</td><td>139</td><td>1</td><td>-1</td><td>0</td><td>unknown</td><td>no</td></tr>\n",
       "</tbody>\n",
       "</table>\n"
      ],
      "text/latex": [
       "\\begin{tabular}{r|lllllllllllllllll}\n",
       "  & age & job & marital & education & default & balance & housing & loan & contact & day & month & duration & campaign & pdays & previous & poutcome & deposit\\\\\n",
       "\\hline\n",
       "\t1 & 38 & self-employed & single & secondary & no & 677 & yes & no & cellular & 14 & may & 114 & 2 & -1 & 0 & unknown & no\\\\\n",
       "\t2 & 58 & blue-collar & married & primary & no & 5445 & yes & no & cellular & 14 & apr & 391 & 1 & -1 & 0 & unknown & no\\\\\n",
       "\t3 & 55 & retired & married & secondary & no & 5 & no & no & unknown & 20 & jun & 108 & 1 & -1 & 0 & unknown & no\\\\\n",
       "\t4 & 26 & management & single & secondary & no & 63 & no & no & cellular & 28 & jul & 76 & 4 & -1 & 0 & unknown & no\\\\\n",
       "\t5 & 48 & technician & divorced & tertiary & no & 907 & no & yes & cellular & 4 & aug & 103 & 1 & -1 & 0 & unknown & no\\\\\n",
       "\t6 & 33 & technician & married & tertiary & no & 525 & yes & yes & unknown & 28 & may & 139 & 1 & -1 & 0 & unknown & no\\\\\n",
       "\\end{tabular}\n"
      ],
      "text/plain": [
       "  age           job  marital education default balance housing loan  contact\n",
       "1  38 self-employed   single secondary      no     677     yes   no cellular\n",
       "2  58   blue-collar  married   primary      no    5445     yes   no cellular\n",
       "3  55       retired  married secondary      no       5      no   no  unknown\n",
       "4  26    management   single secondary      no      63      no   no cellular\n",
       "5  48    technician divorced  tertiary      no     907      no  yes cellular\n",
       "6  33    technician  married  tertiary      no     525     yes  yes  unknown\n",
       "  day month duration campaign pdays previous poutcome deposit\n",
       "1  14   may      114        2    -1        0  unknown      no\n",
       "2  14   apr      391        1    -1        0  unknown      no\n",
       "3  20   jun      108        1    -1        0  unknown      no\n",
       "4  28   jul       76        4    -1        0  unknown      no\n",
       "5   4   aug      103        1    -1        0  unknown      no\n",
       "6  28   may      139        1    -1        0  unknown      no"
      ]
     },
     "execution_count": 7,
     "metadata": {},
     "output_type": "execute_result"
    }
   ],
   "source": [
    "#Print the head of test dataset\n"
   ]
  },
  {
   "cell_type": "markdown",
   "metadata": {},
   "source": [
    "### Find the class of each of the columns in train dataset"
   ]
  },
  {
   "cell_type": "code",
   "execution_count": 3,
   "metadata": {
    "collapsed": false
   },
   "outputs": [
    {
     "data": {
      "text/html": [
       "<dl>\n",
       "\t<dt>$age</dt>\n",
       "\t\t<dd>'integer'</dd>\n",
       "\t<dt>$job</dt>\n",
       "\t\t<dd>'factor'</dd>\n",
       "\t<dt>$marital</dt>\n",
       "\t\t<dd>'factor'</dd>\n",
       "\t<dt>$education</dt>\n",
       "\t\t<dd>'factor'</dd>\n",
       "\t<dt>$default</dt>\n",
       "\t\t<dd>'factor'</dd>\n",
       "\t<dt>$balance</dt>\n",
       "\t\t<dd>'integer'</dd>\n",
       "\t<dt>$housing</dt>\n",
       "\t\t<dd>'factor'</dd>\n",
       "\t<dt>$loan</dt>\n",
       "\t\t<dd>'factor'</dd>\n",
       "\t<dt>$contact</dt>\n",
       "\t\t<dd>'factor'</dd>\n",
       "\t<dt>$day</dt>\n",
       "\t\t<dd>'integer'</dd>\n",
       "\t<dt>$month</dt>\n",
       "\t\t<dd>'factor'</dd>\n",
       "\t<dt>$duration</dt>\n",
       "\t\t<dd>'integer'</dd>\n",
       "\t<dt>$campaign</dt>\n",
       "\t\t<dd>'integer'</dd>\n",
       "\t<dt>$pdays</dt>\n",
       "\t\t<dd>'integer'</dd>\n",
       "\t<dt>$previous</dt>\n",
       "\t\t<dd>'integer'</dd>\n",
       "\t<dt>$poutcome</dt>\n",
       "\t\t<dd>'factor'</dd>\n",
       "\t<dt>$deposit</dt>\n",
       "\t\t<dd>'factor'</dd>\n",
       "</dl>\n"
      ],
      "text/latex": [
       "\\begin{description}\n",
       "\\item[\\$age] 'integer'\n",
       "\\item[\\$job] 'factor'\n",
       "\\item[\\$marital] 'factor'\n",
       "\\item[\\$education] 'factor'\n",
       "\\item[\\$default] 'factor'\n",
       "\\item[\\$balance] 'integer'\n",
       "\\item[\\$housing] 'factor'\n",
       "\\item[\\$loan] 'factor'\n",
       "\\item[\\$contact] 'factor'\n",
       "\\item[\\$day] 'integer'\n",
       "\\item[\\$month] 'factor'\n",
       "\\item[\\$duration] 'integer'\n",
       "\\item[\\$campaign] 'integer'\n",
       "\\item[\\$pdays] 'integer'\n",
       "\\item[\\$previous] 'integer'\n",
       "\\item[\\$poutcome] 'factor'\n",
       "\\item[\\$deposit] 'factor'\n",
       "\\end{description}\n"
      ],
      "text/markdown": [
       "$age\n",
       ":   'integer'\n",
       "$job\n",
       ":   'factor'\n",
       "$marital\n",
       ":   'factor'\n",
       "$education\n",
       ":   'factor'\n",
       "$default\n",
       ":   'factor'\n",
       "$balance\n",
       ":   'integer'\n",
       "$housing\n",
       ":   'factor'\n",
       "$loan\n",
       ":   'factor'\n",
       "$contact\n",
       ":   'factor'\n",
       "$day\n",
       ":   'integer'\n",
       "$month\n",
       ":   'factor'\n",
       "$duration\n",
       ":   'integer'\n",
       "$campaign\n",
       ":   'integer'\n",
       "$pdays\n",
       ":   'integer'\n",
       "$previous\n",
       ":   'integer'\n",
       "$poutcome\n",
       ":   'factor'\n",
       "$deposit\n",
       ":   'factor'\n",
       "\n",
       "\n"
      ],
      "text/plain": [
       "$age\n",
       "[1] \"integer\"\n",
       "\n",
       "$job\n",
       "[1] \"factor\"\n",
       "\n",
       "$marital\n",
       "[1] \"factor\"\n",
       "\n",
       "$education\n",
       "[1] \"factor\"\n",
       "\n",
       "$default\n",
       "[1] \"factor\"\n",
       "\n",
       "$balance\n",
       "[1] \"integer\"\n",
       "\n",
       "$housing\n",
       "[1] \"factor\"\n",
       "\n",
       "$loan\n",
       "[1] \"factor\"\n",
       "\n",
       "$contact\n",
       "[1] \"factor\"\n",
       "\n",
       "$day\n",
       "[1] \"integer\"\n",
       "\n",
       "$month\n",
       "[1] \"factor\"\n",
       "\n",
       "$duration\n",
       "[1] \"integer\"\n",
       "\n",
       "$campaign\n",
       "[1] \"integer\"\n",
       "\n",
       "$pdays\n",
       "[1] \"integer\"\n",
       "\n",
       "$previous\n",
       "[1] \"integer\"\n",
       "\n",
       "$poutcome\n",
       "[1] \"factor\"\n",
       "\n",
       "$deposit\n",
       "[1] \"factor\"\n"
      ]
     },
     "execution_count": 3,
     "metadata": {},
     "output_type": "execute_result"
    }
   ],
   "source": [
    "lapply(train, class)"
   ]
  },
  {
   "cell_type": "markdown",
   "metadata": {},
   "source": [
    "Exercise"
   ]
  },
  {
   "cell_type": "code",
   "execution_count": 11,
   "metadata": {
    "collapsed": true
   },
   "outputs": [],
   "source": [
    "#Find the classes for the features in test dataset. Does it match the train dataset?"
   ]
  },
  {
   "cell_type": "code",
   "execution_count": null,
   "metadata": {
    "collapsed": true
   },
   "outputs": [],
   "source": []
  },
  {
   "cell_type": "markdown",
   "metadata": {},
   "source": [
    "Exercise"
   ]
  },
  {
   "cell_type": "code",
   "execution_count": 14,
   "metadata": {
    "collapsed": true
   },
   "outputs": [],
   "source": [
    "#Find if train and test have missing values"
   ]
  },
  {
   "cell_type": "code",
   "execution_count": 15,
   "metadata": {
    "collapsed": true
   },
   "outputs": [],
   "source": [
    "#Does train has missing values?"
   ]
  },
  {
   "cell_type": "code",
   "execution_count": null,
   "metadata": {
    "collapsed": true
   },
   "outputs": [],
   "source": []
  },
  {
   "cell_type": "code",
   "execution_count": 16,
   "metadata": {
    "collapsed": true
   },
   "outputs": [],
   "source": [
    "#Does test has missing values?"
   ]
  },
  {
   "cell_type": "code",
   "execution_count": null,
   "metadata": {
    "collapsed": true
   },
   "outputs": [],
   "source": []
  },
  {
   "cell_type": "code",
   "execution_count": 19,
   "metadata": {
    "collapsed": false
   },
   "outputs": [
    {
     "data": {
      "text/html": [
       "<ol class=list-inline>\n",
       "\t<li>'age'</li>\n",
       "\t<li>'job'</li>\n",
       "\t<li>'marital'</li>\n",
       "\t<li>'education'</li>\n",
       "\t<li>'default'</li>\n",
       "\t<li>'balance'</li>\n",
       "\t<li>'housing'</li>\n",
       "\t<li>'loan'</li>\n",
       "\t<li>'contact'</li>\n",
       "\t<li>'day'</li>\n",
       "\t<li>'month'</li>\n",
       "\t<li>'duration'</li>\n",
       "\t<li>'campaign'</li>\n",
       "\t<li>'pdays'</li>\n",
       "\t<li>'previous'</li>\n",
       "\t<li>'poutcome'</li>\n",
       "\t<li>'deposit'</li>\n",
       "</ol>\n"
      ],
      "text/latex": [
       "\\begin{enumerate*}\n",
       "\\item 'age'\n",
       "\\item 'job'\n",
       "\\item 'marital'\n",
       "\\item 'education'\n",
       "\\item 'default'\n",
       "\\item 'balance'\n",
       "\\item 'housing'\n",
       "\\item 'loan'\n",
       "\\item 'contact'\n",
       "\\item 'day'\n",
       "\\item 'month'\n",
       "\\item 'duration'\n",
       "\\item 'campaign'\n",
       "\\item 'pdays'\n",
       "\\item 'previous'\n",
       "\\item 'poutcome'\n",
       "\\item 'deposit'\n",
       "\\end{enumerate*}\n"
      ],
      "text/markdown": [
       "1. 'age'\n",
       "2. 'job'\n",
       "3. 'marital'\n",
       "4. 'education'\n",
       "5. 'default'\n",
       "6. 'balance'\n",
       "7. 'housing'\n",
       "8. 'loan'\n",
       "9. 'contact'\n",
       "10. 'day'\n",
       "11. 'month'\n",
       "12. 'duration'\n",
       "13. 'campaign'\n",
       "14. 'pdays'\n",
       "15. 'previous'\n",
       "16. 'poutcome'\n",
       "17. 'deposit'\n",
       "\n",
       "\n"
      ],
      "text/plain": [
       " [1] \"age\"       \"job\"       \"marital\"   \"education\" \"default\"   \"balance\"  \n",
       " [7] \"housing\"   \"loan\"      \"contact\"   \"day\"       \"month\"     \"duration\" \n",
       "[13] \"campaign\"  \"pdays\"     \"previous\"  \"poutcome\"  \"deposit\"  "
      ]
     },
     "execution_count": 19,
     "metadata": {},
     "output_type": "execute_result"
    }
   ],
   "source": [
    "#Find column names of train and test\n"
   ]
  },
  {
   "cell_type": "code",
   "execution_count": 14,
   "metadata": {
    "collapsed": false
   },
   "outputs": [
    {
     "data": {
      "text/plain": [
       "      age                 job           marital          education    \n",
       " Min.   :18.00   blue-collar:7560   divorced: 4086   primary  : 5315  \n",
       " 1st Qu.:33.00   management :7382   married :21161   secondary:18053  \n",
       " Median :39.00   technician :5926   single  : 9964   tertiary :10406  \n",
       " Mean   :40.97   admin.     :4059                    unknown  : 1437  \n",
       " 3rd Qu.:48.00   services   :3186                                     \n",
       " Max.   :95.00   retired    :1788                                     \n",
       "                 (Other)    :5310                                     \n",
       " default        balance       housing      loan            contact     \n",
       " no :34571   Min.   : -8019   no :15663   no :29573   cellular :22817  \n",
       " yes:  640   1st Qu.:    71   yes:19548   yes: 5638   telephone: 2274  \n",
       "             Median :   447                           unknown  :10120  \n",
       "             Mean   :  1356                                            \n",
       "             3rd Qu.:  1418                                            \n",
       "             Max.   :102127                                            \n",
       "                                                                       \n",
       "      day           month          duration         campaign     \n",
       " Min.   : 1.0   may    :10751   Min.   :   0.0   Min.   : 1.000  \n",
       " 1st Qu.: 8.0   jul    : 5398   1st Qu.: 103.0   1st Qu.: 1.000  \n",
       " Median :16.0   aug    : 4902   Median : 180.0   Median : 2.000  \n",
       " Mean   :15.8   jun    : 4123   Mean   : 258.2   Mean   : 2.759  \n",
       " 3rd Qu.:21.0   nov    : 3126   3rd Qu.: 319.0   3rd Qu.: 3.000  \n",
       " Max.   :31.0   apr    : 2249   Max.   :4918.0   Max.   :63.000  \n",
       "                (Other): 4662                                    \n",
       "     pdays          previous           poutcome     deposit    \n",
       " Min.   : -1.0   Min.   :  0.0000   failure: 3803   no :31092  \n",
       " 1st Qu.: -1.0   1st Qu.:  0.0000   other  : 1425   yes: 4119  \n",
       " Median : -1.0   Median :  0.0000   success: 1184              \n",
       " Mean   : 40.1   Mean   :  0.5827   unknown:28799              \n",
       " 3rd Qu.: -1.0   3rd Qu.:  0.0000                              \n",
       " Max.   :871.0   Max.   :275.0000                              \n",
       "                                                               "
      ]
     },
     "execution_count": 14,
     "metadata": {},
     "output_type": "execute_result"
    }
   ],
   "source": [
    "# Find summary statistics of train\n"
   ]
  },
  {
   "cell_type": "code",
   "execution_count": 15,
   "metadata": {
    "collapsed": false
   },
   "outputs": [
    {
     "data": {
      "text/plain": [
       "      age                 job           marital         education    default   \n",
       " Min.   :18.00   blue-collar:2172   divorced:1121   primary  :1536   no :9825  \n",
       " 1st Qu.:33.00   management :2076   married :6053   secondary:5149   yes: 175  \n",
       " Median :39.00   technician :1671   single  :2826   tertiary :2895             \n",
       " Mean   :40.83   admin.     :1112                   unknown  : 420             \n",
       " 3rd Qu.:48.00   services   : 968                                              \n",
       " Max.   :89.00   retired    : 476                                              \n",
       "                 (Other)    :1525                                              \n",
       "    balance      housing     loan           contact          day       \n",
       " Min.   :-2827   no :4418   no :8394   cellular :6468   Min.   : 1.00  \n",
       " 1st Qu.:   75   yes:5582   yes:1606   telephone: 632   1st Qu.: 8.00  \n",
       " Median :  450                         unknown  :2900   Median :16.00  \n",
       " Mean   : 1385                                          Mean   :15.82  \n",
       " 3rd Qu.: 1448                                          3rd Qu.:21.00  \n",
       " Max.   :66721                                          Max.   :31.00  \n",
       "                                                                       \n",
       "     month         duration         campaign         pdays       \n",
       " may    :3015   Min.   :   0.0   Min.   : 1.00   Min.   : -1.00  \n",
       " jul    :1497   1st Qu.: 102.0   1st Qu.: 1.00   1st Qu.: -1.00  \n",
       " aug    :1345   Median : 180.0   Median : 2.00   Median : -1.00  \n",
       " jun    :1218   Mean   : 258.1   Mean   : 2.78   Mean   : 40.53  \n",
       " nov    : 844   3rd Qu.: 317.0   3rd Qu.: 3.00   3rd Qu.: -1.00  \n",
       " apr    : 683   Max.   :3785.0   Max.   :58.00   Max.   :805.00  \n",
       " (Other):1398                                                    \n",
       "    previous          poutcome    deposit   \n",
       " Min.   : 0.0000   failure:1098   no :8830  \n",
       " 1st Qu.: 0.0000   other  : 415   yes:1170  \n",
       " Median : 0.0000   success: 327             \n",
       " Mean   : 0.5721   unknown:8160             \n",
       " 3rd Qu.: 0.0000                            \n",
       " Max.   :35.0000                            \n",
       "                                            "
      ]
     },
     "execution_count": 15,
     "metadata": {},
     "output_type": "execute_result"
    }
   ],
   "source": [
    "#Find summary statistics of test\n"
   ]
  },
  {
   "cell_type": "code",
   "execution_count": 17,
   "metadata": {
    "collapsed": false
   },
   "outputs": [
    {
     "data": {
      "text/html": [
       "0.0351975918370962"
      ],
      "text/latex": [
       "0.0351975918370962"
      ],
      "text/markdown": [
       "0.0351975918370962"
      ],
      "text/plain": [
       "[1] 0.03519759"
      ]
     },
     "execution_count": 17,
     "metadata": {},
     "output_type": "execute_result"
    }
   ],
   "source": [
    "#Find correlation between age and deposit in train dataset\n"
   ]
  },
  {
   "cell_type": "code",
   "execution_count": 20,
   "metadata": {
    "collapsed": false
   },
   "outputs": [
    {
     "data": {
      "text/html": [
       "-0.0747459602733383"
      ],
      "text/latex": [
       "-0.0747459602733383"
      ],
      "text/markdown": [
       "-0.0747459602733383"
      ],
      "text/plain": [
       "[1] -0.07474596"
      ]
     },
     "execution_count": 20,
     "metadata": {},
     "output_type": "execute_result"
    }
   ],
   "source": [
    "#Find correlation between campaign and deposit in train dataset"
   ]
  },
  {
   "cell_type": "code",
   "execution_count": 21,
   "metadata": {
    "collapsed": false
   },
   "outputs": [
    {
     "data": {
      "text/html": [
       "10.6511973326696"
      ],
      "text/latex": [
       "10.6511973326696"
      ],
      "text/markdown": [
       "10.6511973326696"
      ],
      "text/plain": [
       "[1] 10.6512"
      ]
     },
     "execution_count": 21,
     "metadata": {},
     "output_type": "execute_result"
    }
   ],
   "source": [
    "#What is the standard deviation of age in train?\n"
   ]
  },
  {
   "cell_type": "code",
   "execution_count": 22,
   "metadata": {
    "collapsed": false
   },
   "outputs": [
    {
     "data": {
      "text/html": [
       "40.9651529351623"
      ],
      "text/latex": [
       "40.9651529351623"
      ],
      "text/markdown": [
       "40.9651529351623"
      ],
      "text/plain": [
       "[1] 40.96515"
      ]
     },
     "execution_count": 22,
     "metadata": {},
     "output_type": "execute_result"
    }
   ],
   "source": [
    "#What is the mean of age in train?\n"
   ]
  },
  {
   "cell_type": "code",
   "execution_count": null,
   "metadata": {
    "collapsed": true
   },
   "outputs": [],
   "source": []
  },
  {
   "cell_type": "markdown",
   "metadata": {},
   "source": [
    "## 5. Model"
   ]
  },
  {
   "cell_type": "markdown",
   "metadata": {},
   "source": [
    "### Logistic Regression"
   ]
  },
  {
   "cell_type": "code",
   "execution_count": 30,
   "metadata": {
    "collapsed": true
   },
   "outputs": [],
   "source": [
    "# Logit Function"
   ]
  },
  {
   "cell_type": "code",
   "execution_count": 44,
   "metadata": {
    "collapsed": true
   },
   "outputs": [],
   "source": [
    "x <- seq(0,1, length=100)\n",
    "x <- x[2:(length(x)-1)]"
   ]
  },
  {
   "cell_type": "code",
   "execution_count": 45,
   "metadata": {
    "collapsed": true
   },
   "outputs": [],
   "source": [
    "logit <- function (t) {\n",
    "log( t / (1-t) )\n",
    "}"
   ]
  },
  {
   "cell_type": "code",
   "execution_count": 46,
   "metadata": {
    "collapsed": false
   },
   "outputs": [
    {
     "data": {
      "image/png": "[encoded data removed]",
      "image/svg+xml": [
       "<?xml version=\"1.0\" encoding=\"UTF-8\"?>\n",
       "<svg xmlns=\"http://www.w3.org/2000/svg\" xmlns:xlink=\"http://www.w3.org/1999/xlink\" width=\"504pt\" height=\"504pt\" viewBox=\"0 0 504 504\" version=\"1.1\">\n",
       "<defs>\n",
       "<g>\n",
       "<symbol overflow=\"visible\" id=\"glyph0-0\">\n",
       "<path style=\"stroke:none;\" d=\"M 0.390625 0 L 0.390625 -8.609375 L 7.21875 -8.609375 L 7.21875 0 Z M 6.140625 -1.078125 L 6.140625 -7.53125 L 1.46875 -7.53125 L 1.46875 -1.078125 Z M 6.140625 -1.078125 \"/>\n",
       "</symbol>\n",
       "<symbol overflow=\"visible\" id=\"glyph0-1\">\n",
       "<path style=\"stroke:none;\" d=\"M 0.5 -3.890625 L 3.4375 -3.890625 L 3.4375 -2.796875 L 0.5 -2.796875 Z M 0.5 -3.890625 \"/>\n",
       "</symbol>\n",
       "<symbol overflow=\"visible\" id=\"glyph0-2\">\n",
       "<path style=\"stroke:none;\" d=\"M 3.96875 -2.96875 L 3.96875 -6.78125 L 1.28125 -2.96875 Z M 3.984375 0 L 3.984375 -2.046875 L 0.3125 -2.046875 L 0.3125 -3.078125 L 4.15625 -8.421875 L 5.046875 -8.421875 L 5.046875 -2.96875 L 6.28125 -2.96875 L 6.28125 -2.046875 L 5.046875 -2.046875 L 5.046875 0 Z M 3.984375 0 \"/>\n",
       "</symbol>\n",
       "<symbol overflow=\"visible\" id=\"glyph0-3\">\n",
       "<path style=\"stroke:none;\" d=\"M 0.375 0 C 0.414062 -0.71875 0.566406 -1.34375 0.828125 -1.875 C 1.085938 -2.414062 1.59375 -2.90625 2.34375 -3.34375 L 3.46875 -4 C 3.96875 -4.289062 4.320312 -4.539062 4.53125 -4.75 C 4.851562 -5.070312 5.015625 -5.441406 5.015625 -5.859375 C 5.015625 -6.347656 4.863281 -6.734375 4.5625 -7.015625 C 4.269531 -7.304688 3.882812 -7.453125 3.40625 -7.453125 C 2.675781 -7.453125 2.175781 -7.179688 1.90625 -6.640625 C 1.75 -6.335938 1.664062 -5.929688 1.65625 -5.421875 L 0.578125 -5.421875 C 0.585938 -6.148438 0.722656 -6.742188 0.984375 -7.203125 C 1.441406 -8.015625 2.25 -8.421875 3.40625 -8.421875 C 4.363281 -8.421875 5.0625 -8.160156 5.5 -7.640625 C 5.945312 -7.117188 6.171875 -6.539062 6.171875 -5.90625 C 6.171875 -5.238281 5.9375 -4.664062 5.46875 -4.1875 C 5.195312 -3.90625 4.707031 -3.566406 4 -3.171875 L 3.1875 -2.734375 C 2.8125 -2.523438 2.515625 -2.320312 2.296875 -2.125 C 1.898438 -1.789062 1.648438 -1.414062 1.546875 -1 L 6.140625 -1 L 6.140625 0 Z M 0.375 0 \"/>\n",
       "</symbol>\n",
       "<symbol overflow=\"visible\" id=\"glyph0-4\">\n",
       "<path style=\"stroke:none;\" d=\"M 3.25 -8.390625 C 4.332031 -8.390625 5.117188 -7.941406 5.609375 -7.046875 C 5.984375 -6.359375 6.171875 -5.410156 6.171875 -4.203125 C 6.171875 -3.066406 6 -2.125 5.65625 -1.375 C 5.164062 -0.300781 4.359375 0.234375 3.234375 0.234375 C 2.234375 0.234375 1.484375 -0.203125 0.984375 -1.078125 C 0.578125 -1.816406 0.375 -2.800781 0.375 -4.03125 C 0.375 -4.976562 0.5 -5.796875 0.75 -6.484375 C 1.207031 -7.753906 2.039062 -8.390625 3.25 -8.390625 Z M 3.234375 -0.734375 C 3.785156 -0.734375 4.222656 -0.972656 4.546875 -1.453125 C 4.867188 -1.941406 5.03125 -2.847656 5.03125 -4.171875 C 5.03125 -5.117188 4.910156 -5.898438 4.671875 -6.515625 C 4.441406 -7.128906 3.988281 -7.4375 3.3125 -7.4375 C 2.6875 -7.4375 2.226562 -7.144531 1.9375 -6.5625 C 1.65625 -5.976562 1.515625 -5.117188 1.515625 -3.984375 C 1.515625 -3.128906 1.609375 -2.441406 1.796875 -1.921875 C 2.078125 -1.128906 2.554688 -0.734375 3.234375 -0.734375 Z M 3.234375 -0.734375 \"/>\n",
       "</symbol>\n",
       "<symbol overflow=\"visible\" id=\"glyph0-5\">\n",
       "<path style=\"stroke:none;\" d=\"M 0.796875 -8.609375 L 1.859375 -8.609375 L 1.859375 0 L 0.796875 0 Z M 0.796875 -8.609375 \"/>\n",
       "</symbol>\n",
       "<symbol overflow=\"visible\" id=\"glyph0-6\">\n",
       "<path style=\"stroke:none;\" d=\"M 3.265625 -0.6875 C 3.960938 -0.6875 4.441406 -0.945312 4.703125 -1.46875 C 4.960938 -2 5.09375 -2.585938 5.09375 -3.234375 C 5.09375 -3.828125 5 -4.304688 4.8125 -4.671875 C 4.507812 -5.242188 4 -5.53125 3.28125 -5.53125 C 2.632812 -5.53125 2.164062 -5.285156 1.875 -4.796875 C 1.582031 -4.304688 1.4375 -3.710938 1.4375 -3.015625 C 1.4375 -2.347656 1.582031 -1.789062 1.875 -1.34375 C 2.164062 -0.90625 2.628906 -0.6875 3.265625 -0.6875 Z M 3.3125 -6.453125 C 4.113281 -6.453125 4.789062 -6.179688 5.34375 -5.640625 C 5.90625 -5.109375 6.1875 -4.316406 6.1875 -3.265625 C 6.1875 -2.253906 5.941406 -1.414062 5.453125 -0.75 C 4.960938 -0.09375 4.203125 0.234375 3.171875 0.234375 C 2.304688 0.234375 1.617188 -0.0546875 1.109375 -0.640625 C 0.597656 -1.234375 0.34375 -2.019531 0.34375 -3 C 0.34375 -4.050781 0.609375 -4.890625 1.140625 -5.515625 C 1.679688 -6.140625 2.40625 -6.453125 3.3125 -6.453125 Z M 3.265625 -6.421875 Z M 3.265625 -6.421875 \"/>\n",
       "</symbol>\n",
       "<symbol overflow=\"visible\" id=\"glyph0-7\">\n",
       "<path style=\"stroke:none;\" d=\"M 2.984375 -6.390625 C 3.484375 -6.390625 3.914062 -6.269531 4.28125 -6.03125 C 4.476562 -5.882812 4.679688 -5.679688 4.890625 -5.421875 L 4.890625 -6.21875 L 5.859375 -6.21875 L 5.859375 -0.515625 C 5.859375 0.285156 5.742188 0.914062 5.515625 1.375 C 5.078125 2.226562 4.25 2.65625 3.03125 2.65625 C 2.351562 2.65625 1.785156 2.503906 1.328125 2.203125 C 0.867188 1.898438 0.609375 1.425781 0.546875 0.78125 L 1.625 0.78125 C 1.675781 1.0625 1.773438 1.28125 1.921875 1.4375 C 2.160156 1.664062 2.535156 1.78125 3.046875 1.78125 C 3.859375 1.78125 4.390625 1.492188 4.640625 0.921875 C 4.785156 0.585938 4.851562 -0.0078125 4.84375 -0.875 C 4.632812 -0.550781 4.378906 -0.3125 4.078125 -0.15625 C 3.785156 0 3.394531 0.078125 2.90625 0.078125 C 2.226562 0.078125 1.632812 -0.160156 1.125 -0.640625 C 0.613281 -1.128906 0.359375 -1.929688 0.359375 -3.046875 C 0.359375 -4.097656 0.613281 -4.914062 1.125 -5.5 C 1.644531 -6.09375 2.265625 -6.390625 2.984375 -6.390625 Z M 4.890625 -3.171875 C 4.890625 -3.941406 4.726562 -4.515625 4.40625 -4.890625 C 4.082031 -5.265625 3.675781 -5.453125 3.1875 -5.453125 C 2.4375 -5.453125 1.925781 -5.101562 1.65625 -4.40625 C 1.507812 -4.039062 1.4375 -3.554688 1.4375 -2.953125 C 1.4375 -2.242188 1.578125 -1.703125 1.859375 -1.328125 C 2.148438 -0.960938 2.539062 -0.78125 3.03125 -0.78125 C 3.789062 -0.78125 4.320312 -1.125 4.625 -1.8125 C 4.800781 -2.195312 4.890625 -2.648438 4.890625 -3.171875 Z M 3.109375 -6.421875 Z M 3.109375 -6.421875 \"/>\n",
       "</symbol>\n",
       "<symbol overflow=\"visible\" id=\"glyph0-8\">\n",
       "<path style=\"stroke:none;\" d=\"M 0.78125 -6.25 L 1.84375 -6.25 L 1.84375 0 L 0.78125 0 Z M 0.78125 -8.609375 L 1.84375 -8.609375 L 1.84375 -7.40625 L 0.78125 -7.40625 Z M 0.78125 -8.609375 \"/>\n",
       "</symbol>\n",
       "<symbol overflow=\"visible\" id=\"glyph0-9\">\n",
       "<path style=\"stroke:none;\" d=\"M 0.984375 -8.03125 L 2.046875 -8.03125 L 2.046875 -6.28125 L 3.046875 -6.28125 L 3.046875 -5.421875 L 2.046875 -5.421875 L 2.046875 -1.3125 C 2.046875 -1.09375 2.125 -0.945312 2.28125 -0.875 C 2.351562 -0.832031 2.488281 -0.8125 2.6875 -0.8125 C 2.738281 -0.8125 2.789062 -0.8125 2.84375 -0.8125 C 2.90625 -0.820312 2.972656 -0.828125 3.046875 -0.828125 L 3.046875 0 C 2.929688 0.03125 2.804688 0.0507812 2.671875 0.0625 C 2.546875 0.0820312 2.40625 0.09375 2.25 0.09375 C 1.757812 0.09375 1.425781 -0.03125 1.25 -0.28125 C 1.070312 -0.53125 0.984375 -0.859375 0.984375 -1.265625 L 0.984375 -5.421875 L 0.140625 -5.421875 L 0.140625 -6.28125 L 0.984375 -6.28125 Z M 0.984375 -8.03125 \"/>\n",
       "</symbol>\n",
       "<symbol overflow=\"visible\" id=\"glyph0-10\">\n",
       "<path style=\"stroke:none;\" d=\"M 3.546875 -8.75 C 2.929688 -7.5625 2.535156 -6.6875 2.359375 -6.125 C 2.078125 -5.257812 1.9375 -4.269531 1.9375 -3.15625 C 1.9375 -2.019531 2.097656 -0.984375 2.421875 -0.046875 C 2.609375 0.535156 2.988281 1.367188 3.5625 2.453125 L 2.859375 2.453125 C 2.285156 1.554688 1.929688 0.984375 1.796875 0.734375 C 1.660156 0.492188 1.515625 0.160156 1.359375 -0.265625 C 1.140625 -0.835938 0.984375 -1.453125 0.890625 -2.109375 C 0.847656 -2.453125 0.828125 -2.773438 0.828125 -3.078125 C 0.828125 -4.234375 1.007812 -5.265625 1.375 -6.171875 C 1.601562 -6.742188 2.082031 -7.601562 2.8125 -8.75 Z M 3.546875 -8.75 \"/>\n",
       "</symbol>\n",
       "<symbol overflow=\"visible\" id=\"glyph0-11\">\n",
       "<path style=\"stroke:none;\" d=\"M 0.171875 -6.28125 L 1.546875 -6.28125 L 2.984375 -4.0625 L 4.4375 -6.28125 L 5.71875 -6.25 L 3.609375 -3.21875 L 5.8125 0 L 4.46875 0 L 2.90625 -2.359375 L 1.40625 0 L 0.0625 0 L 2.28125 -3.21875 Z M 0.171875 -6.28125 \"/>\n",
       "</symbol>\n",
       "<symbol overflow=\"visible\" id=\"glyph0-12\">\n",
       "<path style=\"stroke:none;\" d=\"M 0.421875 2.453125 C 1.035156 1.242188 1.4375 0.359375 1.625 -0.203125 C 1.894531 -1.035156 2.03125 -2.019531 2.03125 -3.15625 C 2.03125 -4.28125 1.867188 -5.3125 1.546875 -6.25 C 1.359375 -6.832031 0.976562 -7.664062 0.40625 -8.75 L 1.109375 -8.75 C 1.710938 -7.789062 2.078125 -7.195312 2.203125 -6.96875 C 2.328125 -6.75 2.460938 -6.441406 2.609375 -6.046875 C 2.796875 -5.554688 2.929688 -5.070312 3.015625 -4.59375 C 3.097656 -4.113281 3.140625 -3.65625 3.140625 -3.21875 C 3.140625 -2.0625 2.953125 -1.03125 2.578125 -0.125 C 2.347656 0.457031 1.875 1.316406 1.15625 2.453125 Z M 0.421875 2.453125 \"/>\n",
       "</symbol>\n",
       "<symbol overflow=\"visible\" id=\"glyph1-0\">\n",
       "<path style=\"stroke:none;\" d=\"M 0 -0.390625 L -8.609375 -0.390625 L -8.609375 -7.21875 L 0 -7.21875 Z M -1.078125 -6.140625 L -7.53125 -6.140625 L -7.53125 -1.46875 L -1.078125 -1.46875 Z M -1.078125 -6.140625 \"/>\n",
       "</symbol>\n",
       "<symbol overflow=\"visible\" id=\"glyph1-1\">\n",
       "<path style=\"stroke:none;\" d=\"M -8.390625 -3.25 C -8.390625 -4.332031 -7.941406 -5.117188 -7.046875 -5.609375 C -6.359375 -5.984375 -5.410156 -6.171875 -4.203125 -6.171875 C -3.066406 -6.171875 -2.125 -6 -1.375 -5.65625 C -0.300781 -5.164062 0.234375 -4.359375 0.234375 -3.234375 C 0.234375 -2.234375 -0.203125 -1.484375 -1.078125 -0.984375 C -1.816406 -0.578125 -2.800781 -0.375 -4.03125 -0.375 C -4.976562 -0.375 -5.796875 -0.5 -6.484375 -0.75 C -7.753906 -1.207031 -8.390625 -2.039062 -8.390625 -3.25 Z M -0.734375 -3.234375 C -0.734375 -3.785156 -0.972656 -4.222656 -1.453125 -4.546875 C -1.941406 -4.867188 -2.847656 -5.03125 -4.171875 -5.03125 C -5.117188 -5.03125 -5.898438 -4.910156 -6.515625 -4.671875 C -7.128906 -4.441406 -7.4375 -3.988281 -7.4375 -3.3125 C -7.4375 -2.6875 -7.144531 -2.226562 -6.5625 -1.9375 C -5.976562 -1.65625 -5.117188 -1.515625 -3.984375 -1.515625 C -3.128906 -1.515625 -2.441406 -1.609375 -1.921875 -1.796875 C -1.128906 -2.078125 -0.734375 -2.554688 -0.734375 -3.234375 Z M -0.734375 -3.234375 \"/>\n",
       "</symbol>\n",
       "<symbol overflow=\"visible\" id=\"glyph1-2\">\n",
       "<path style=\"stroke:none;\" d=\"M -1.28125 -1.03125 L -1.28125 -2.25 L 0 -2.25 L 0 -1.03125 Z M -1.28125 -1.03125 \"/>\n",
       "</symbol>\n",
       "<symbol overflow=\"visible\" id=\"glyph1-3\">\n",
       "<path style=\"stroke:none;\" d=\"M 0 -0.375 C -0.71875 -0.414062 -1.34375 -0.566406 -1.875 -0.828125 C -2.414062 -1.085938 -2.90625 -1.59375 -3.34375 -2.34375 L -4 -3.46875 C -4.289062 -3.96875 -4.539062 -4.320312 -4.75 -4.53125 C -5.070312 -4.851562 -5.441406 -5.015625 -5.859375 -5.015625 C -6.347656 -5.015625 -6.734375 -4.863281 -7.015625 -4.5625 C -7.304688 -4.269531 -7.453125 -3.882812 -7.453125 -3.40625 C -7.453125 -2.675781 -7.179688 -2.175781 -6.640625 -1.90625 C -6.335938 -1.75 -5.929688 -1.664062 -5.421875 -1.65625 L -5.421875 -0.578125 C -6.148438 -0.585938 -6.742188 -0.722656 -7.203125 -0.984375 C -8.015625 -1.441406 -8.421875 -2.25 -8.421875 -3.40625 C -8.421875 -4.363281 -8.160156 -5.0625 -7.640625 -5.5 C -7.117188 -5.945312 -6.539062 -6.171875 -5.90625 -6.171875 C -5.238281 -6.171875 -4.664062 -5.9375 -4.1875 -5.46875 C -3.90625 -5.195312 -3.566406 -4.707031 -3.171875 -4 L -2.734375 -3.1875 C -2.523438 -2.8125 -2.320312 -2.515625 -2.125 -2.296875 C -1.789062 -1.898438 -1.414062 -1.648438 -1 -1.546875 L -1 -6.140625 L 0 -6.140625 Z M 0 -0.375 \"/>\n",
       "</symbol>\n",
       "<symbol overflow=\"visible\" id=\"glyph1-4\">\n",
       "<path style=\"stroke:none;\" d=\"M -2.96875 -3.96875 L -6.78125 -3.96875 L -2.96875 -1.28125 Z M 0 -3.984375 L -2.046875 -3.984375 L -2.046875 -0.3125 L -3.078125 -0.3125 L -8.421875 -4.15625 L -8.421875 -5.046875 L -2.96875 -5.046875 L -2.96875 -6.28125 L -2.046875 -6.28125 L -2.046875 -5.046875 L 0 -5.046875 Z M 0 -3.984375 \"/>\n",
       "</symbol>\n",
       "<symbol overflow=\"visible\" id=\"glyph1-5\">\n",
       "<path style=\"stroke:none;\" d=\"M -8.421875 -3.515625 C -8.421875 -4.453125 -8.175781 -5.101562 -7.6875 -5.46875 C -7.207031 -5.84375 -6.707031 -6.03125 -6.1875 -6.03125 L -6.1875 -4.984375 C -6.519531 -4.921875 -6.78125 -4.820312 -6.96875 -4.6875 C -7.320312 -4.425781 -7.5 -4.039062 -7.5 -3.53125 C -7.5 -2.9375 -7.222656 -2.460938 -6.671875 -2.109375 C -6.128906 -1.765625 -5.351562 -1.578125 -4.34375 -1.546875 C -4.695312 -1.785156 -4.960938 -2.085938 -5.140625 -2.453125 C -5.296875 -2.785156 -5.375 -3.160156 -5.375 -3.578125 C -5.375 -4.285156 -5.148438 -4.898438 -4.703125 -5.421875 C -4.253906 -5.941406 -3.582031 -6.203125 -2.6875 -6.203125 C -1.925781 -6.203125 -1.25 -5.953125 -0.65625 -5.453125 C -0.0703125 -4.960938 0.21875 -4.257812 0.21875 -3.34375 C 0.21875 -2.550781 -0.078125 -1.867188 -0.671875 -1.296875 C -1.273438 -0.734375 -2.28125 -0.453125 -3.6875 -0.453125 C -4.726562 -0.453125 -5.613281 -0.578125 -6.34375 -0.828125 C -7.726562 -1.316406 -8.421875 -2.210938 -8.421875 -3.515625 Z M -0.71875 -3.4375 C -0.71875 -3.988281 -0.90625 -4.398438 -1.28125 -4.671875 C -1.65625 -4.953125 -2.097656 -5.09375 -2.609375 -5.09375 C -3.035156 -5.09375 -3.441406 -4.96875 -3.828125 -4.71875 C -4.210938 -4.476562 -4.40625 -4.03125 -4.40625 -3.375 C -4.40625 -2.925781 -4.253906 -2.53125 -3.953125 -2.1875 C -3.660156 -1.84375 -3.210938 -1.671875 -2.609375 -1.671875 C -2.078125 -1.671875 -1.628906 -1.828125 -1.265625 -2.140625 C -0.898438 -2.453125 -0.71875 -2.882812 -0.71875 -3.4375 Z M -0.71875 -3.4375 \"/>\n",
       "</symbol>\n",
       "<symbol overflow=\"visible\" id=\"glyph1-6\">\n",
       "<path style=\"stroke:none;\" d=\"M -4.875 -3.265625 C -4.875 -3.734375 -5.003906 -4.097656 -5.265625 -4.359375 C -5.523438 -4.617188 -5.832031 -4.75 -6.1875 -4.75 C -6.5 -4.75 -6.785156 -4.625 -7.046875 -4.375 C -7.316406 -4.125 -7.453125 -3.742188 -7.453125 -3.234375 C -7.453125 -2.722656 -7.316406 -2.351562 -7.046875 -2.125 C -6.785156 -1.894531 -6.484375 -1.78125 -6.140625 -1.78125 C -5.742188 -1.78125 -5.429688 -1.925781 -5.203125 -2.21875 C -4.984375 -2.519531 -4.875 -2.867188 -4.875 -3.265625 Z M -0.71875 -3.328125 C -0.71875 -3.816406 -0.847656 -4.222656 -1.109375 -4.546875 C -1.378906 -4.867188 -1.773438 -5.03125 -2.296875 -5.03125 C -2.835938 -5.03125 -3.25 -4.863281 -3.53125 -4.53125 C -3.8125 -4.195312 -3.953125 -3.769531 -3.953125 -3.25 C -3.953125 -2.75 -3.804688 -2.335938 -3.515625 -2.015625 C -3.234375 -1.703125 -2.835938 -1.546875 -2.328125 -1.546875 C -1.890625 -1.546875 -1.507812 -1.691406 -1.1875 -1.984375 C -0.875 -2.273438 -0.71875 -2.722656 -0.71875 -3.328125 Z M -4.46875 -1.828125 C -4.59375 -1.535156 -4.738281 -1.304688 -4.90625 -1.140625 C -5.21875 -0.835938 -5.625 -0.6875 -6.125 -0.6875 C -6.75 -0.6875 -7.285156 -0.910156 -7.734375 -1.359375 C -8.191406 -1.816406 -8.421875 -2.457031 -8.421875 -3.28125 C -8.421875 -4.09375 -8.207031 -4.722656 -7.78125 -5.171875 C -7.351562 -5.628906 -6.859375 -5.859375 -6.296875 -5.859375 C -5.773438 -5.859375 -5.347656 -5.726562 -5.015625 -5.46875 C -4.835938 -5.320312 -4.660156 -5.09375 -4.484375 -4.78125 C -4.328125 -5.125 -4.144531 -5.394531 -3.9375 -5.59375 C -3.539062 -5.96875 -3.03125 -6.15625 -2.40625 -6.15625 C -1.664062 -6.15625 -1.039062 -5.90625 -0.53125 -5.40625 C -0.0195312 -4.914062 0.234375 -4.21875 0.234375 -3.3125 C 0.234375 -2.488281 0.015625 -1.796875 -0.421875 -1.234375 C -0.867188 -0.671875 -1.515625 -0.390625 -2.359375 -0.390625 C -2.847656 -0.390625 -3.273438 -0.507812 -3.640625 -0.75 C -4.003906 -0.988281 -4.28125 -1.347656 -4.46875 -1.828125 Z M -4.46875 -1.828125 \"/>\n",
       "</symbol>\n",
       "<symbol overflow=\"visible\" id=\"glyph1-7\">\n",
       "<path style=\"stroke:none;\" d=\"M -5.9375 -1.15625 L -6.75 -1.15625 C -6.820312 -1.914062 -6.945312 -2.441406 -7.125 -2.734375 C -7.300781 -3.035156 -7.710938 -3.265625 -8.359375 -3.421875 L -8.359375 -4.25 L 0 -4.25 L 0 -3.125 L -5.9375 -3.125 Z M -5.9375 -1.15625 \"/>\n",
       "</symbol>\n",
       "<symbol overflow=\"visible\" id=\"glyph1-8\">\n",
       "<path style=\"stroke:none;\" d=\"M -6.28125 -0.171875 L -6.28125 -1.546875 L -4.0625 -2.984375 L -6.28125 -4.4375 L -6.25 -5.71875 L -3.21875 -3.609375 L 0 -5.8125 L 0 -4.46875 L -2.359375 -2.90625 L 0 -1.40625 L 0 -0.0625 L -3.21875 -2.28125 Z M -6.28125 -0.171875 \"/>\n",
       "</symbol>\n",
       "</g>\n",
       "</defs>\n",
       "<g id=\"surface31\">\n",
       "<rect x=\"0\" y=\"0\" width=\"504\" height=\"504\" style=\"fill:rgb(100%,100%,100%);fill-opacity:1;stroke:none;\"/>\n",
       "<path style=\"fill:none;stroke-width:0.75;stroke-linecap:round;stroke-linejoin:round;stroke:rgb(0%,0%,0%);stroke-opacity:1;stroke-miterlimit:10;\" d=\"M 74.398438 416.800781 L 103.855469 413.253906 L 121.269531 409.707031 L 133.753906 406.160156 L 143.542969 402.613281 L 151.625 399.066406 L 158.53125 395.523438 L 164.582031 391.976562 L 169.976562 388.429688 L 174.855469 384.882812 L 179.320312 381.335938 L 183.445312 377.789062 L 187.28125 374.242188 L 190.871094 370.695312 L 194.257812 367.152344 L 197.460938 363.605469 L 200.507812 360.058594 L 203.414062 356.511719 L 206.199219 352.964844 L 208.875 349.417969 L 211.449219 345.871094 L 213.9375 342.324219 L 216.347656 338.78125 L 218.683594 335.234375 L 220.957031 331.6875 L 223.167969 328.140625 L 225.328125 324.59375 L 227.433594 321.046875 L 229.5 317.5 L 231.519531 313.953125 L 233.503906 310.410156 L 235.457031 306.863281 L 237.375 303.316406 L 239.261719 299.769531 L 241.125 296.222656 L 242.964844 292.675781 L 244.78125 289.128906 L 246.582031 285.582031 L 248.359375 282.039062 L 250.125 278.492188 L 251.875 274.945312 L 253.613281 271.398438 L 255.339844 267.851562 L 257.054688 264.304688 L 258.765625 260.757812 L 260.46875 257.210938 L 262.167969 253.664062 L 263.859375 250.121094 L 265.554688 246.574219 L 268.9375 239.480469 L 270.632812 235.933594 L 272.332031 232.386719 L 274.035156 228.839844 L 275.746094 225.292969 L 277.460938 221.75 L 279.1875 218.203125 L 280.925781 214.65625 L 282.675781 211.109375 L 284.441406 207.5625 L 286.21875 204.015625 L 288.015625 200.46875 L 289.835938 196.921875 L 291.671875 193.378906 L 293.535156 189.832031 L 295.425781 186.285156 L 297.34375 182.738281 L 299.292969 179.191406 L 301.277344 175.644531 L 303.300781 172.097656 L 305.363281 168.550781 L 307.472656 165.007812 L 309.632812 161.460938 L 311.84375 157.914062 L 314.113281 154.367188 L 316.453125 150.820312 L 318.859375 147.273438 L 321.347656 143.726562 L 323.925781 140.179688 L 326.601562 136.636719 L 329.382812 133.089844 L 332.292969 129.542969 L 335.339844 125.996094 L 338.542969 122.449219 L 341.925781 118.902344 L 345.519531 115.355469 L 349.355469 111.808594 L 353.480469 108.265625 L 357.941406 104.71875 L 362.824219 101.171875 L 368.21875 97.625 L 374.265625 94.078125 L 381.175781 90.53125 L 389.257812 86.984375 L 399.046875 83.4375 L 411.53125 79.894531 L 428.945312 76.347656 L 458.398438 72.800781 \"/>\n",
       "<path style=\"fill:none;stroke-width:0.75;stroke-linecap:round;stroke-linejoin:round;stroke:rgb(0%,0%,0%);stroke-opacity:1;stroke-miterlimit:10;\" d=\"M 98.894531 430.558594 L 433.902344 430.558594 \"/>\n",
       "<path style=\"fill:none;stroke-width:0.75;stroke-linecap:round;stroke-linejoin:round;stroke:rgb(0%,0%,0%);stroke-opacity:1;stroke-miterlimit:10;\" d=\"M 98.894531 430.558594 L 98.894531 437.761719 \"/>\n",
       "<path style=\"fill:none;stroke-width:0.75;stroke-linecap:round;stroke-linejoin:round;stroke:rgb(0%,0%,0%);stroke-opacity:1;stroke-miterlimit:10;\" d=\"M 182.648438 430.558594 L 182.648438 437.761719 \"/>\n",
       "<path style=\"fill:none;stroke-width:0.75;stroke-linecap:round;stroke-linejoin:round;stroke:rgb(0%,0%,0%);stroke-opacity:1;stroke-miterlimit:10;\" d=\"M 266.398438 430.558594 L 266.398438 437.761719 \"/>\n",
       "<path style=\"fill:none;stroke-width:0.75;stroke-linecap:round;stroke-linejoin:round;stroke:rgb(0%,0%,0%);stroke-opacity:1;stroke-miterlimit:10;\" d=\"M 350.152344 430.558594 L 350.152344 437.761719 \"/>\n",
       "<path style=\"fill:none;stroke-width:0.75;stroke-linecap:round;stroke-linejoin:round;stroke:rgb(0%,0%,0%);stroke-opacity:1;stroke-miterlimit:10;\" d=\"M 433.902344 430.558594 L 433.902344 437.761719 \"/>\n",
       "<g style=\"fill:rgb(0%,0%,0%);fill-opacity:1;\">\n",
       "  <use xlink:href=\"#glyph0-1\" x=\"93.558594\" y=\"456.480469\"/>\n",
       "  <use xlink:href=\"#glyph0-2\" x=\"97.554688\" y=\"456.480469\"/>\n",
       "</g>\n",
       "<g style=\"fill:rgb(0%,0%,0%);fill-opacity:1;\">\n",
       "  <use xlink:href=\"#glyph0-1\" x=\"177.3125\" y=\"456.480469\"/>\n",
       "  <use xlink:href=\"#glyph0-3\" x=\"181.308594\" y=\"456.480469\"/>\n",
       "</g>\n",
       "<g style=\"fill:rgb(0%,0%,0%);fill-opacity:1;\">\n",
       "  <use xlink:href=\"#glyph0-4\" x=\"263.0625\" y=\"456.480469\"/>\n",
       "</g>\n",
       "<g style=\"fill:rgb(0%,0%,0%);fill-opacity:1;\">\n",
       "  <use xlink:href=\"#glyph0-3\" x=\"346.816406\" y=\"456.480469\"/>\n",
       "</g>\n",
       "<g style=\"fill:rgb(0%,0%,0%);fill-opacity:1;\">\n",
       "  <use xlink:href=\"#glyph0-2\" x=\"430.566406\" y=\"456.480469\"/>\n",
       "</g>\n",
       "<path style=\"fill:none;stroke-width:0.75;stroke-linecap:round;stroke-linejoin:round;stroke:rgb(0%,0%,0%);stroke-opacity:1;stroke-miterlimit:10;\" d=\"M 59.039062 420.347656 L 59.039062 69.253906 \"/>\n",
       "<path style=\"fill:none;stroke-width:0.75;stroke-linecap:round;stroke-linejoin:round;stroke:rgb(0%,0%,0%);stroke-opacity:1;stroke-miterlimit:10;\" d=\"M 59.039062 420.347656 L 51.839844 420.347656 \"/>\n",
       "<path style=\"fill:none;stroke-width:0.75;stroke-linecap:round;stroke-linejoin:round;stroke:rgb(0%,0%,0%);stroke-opacity:1;stroke-miterlimit:10;\" d=\"M 59.039062 350.128906 L 51.839844 350.128906 \"/>\n",
       "<path style=\"fill:none;stroke-width:0.75;stroke-linecap:round;stroke-linejoin:round;stroke:rgb(0%,0%,0%);stroke-opacity:1;stroke-miterlimit:10;\" d=\"M 59.039062 279.910156 L 51.839844 279.910156 \"/>\n",
       "<path style=\"fill:none;stroke-width:0.75;stroke-linecap:round;stroke-linejoin:round;stroke:rgb(0%,0%,0%);stroke-opacity:1;stroke-miterlimit:10;\" d=\"M 59.039062 209.691406 L 51.839844 209.691406 \"/>\n",
       "<path style=\"fill:none;stroke-width:0.75;stroke-linecap:round;stroke-linejoin:round;stroke:rgb(0%,0%,0%);stroke-opacity:1;stroke-miterlimit:10;\" d=\"M 59.039062 139.472656 L 51.839844 139.472656 \"/>\n",
       "<path style=\"fill:none;stroke-width:0.75;stroke-linecap:round;stroke-linejoin:round;stroke:rgb(0%,0%,0%);stroke-opacity:1;stroke-miterlimit:10;\" d=\"M 59.039062 69.253906 L 51.839844 69.253906 \"/>\n",
       "<g style=\"fill:rgb(0%,0%,0%);fill-opacity:1;\">\n",
       "  <use xlink:href=\"#glyph1-1\" x=\"41.761719\" y=\"428.6875\"/>\n",
       "  <use xlink:href=\"#glyph1-2\" x=\"41.761719\" y=\"422.013672\"/>\n",
       "  <use xlink:href=\"#glyph1-1\" x=\"41.761719\" y=\"418.679688\"/>\n",
       "</g>\n",
       "<g style=\"fill:rgb(0%,0%,0%);fill-opacity:1;\">\n",
       "  <use xlink:href=\"#glyph1-1\" x=\"41.761719\" y=\"358.46875\"/>\n",
       "  <use xlink:href=\"#glyph1-2\" x=\"41.761719\" y=\"351.794922\"/>\n",
       "  <use xlink:href=\"#glyph1-3\" x=\"41.761719\" y=\"348.460938\"/>\n",
       "</g>\n",
       "<g style=\"fill:rgb(0%,0%,0%);fill-opacity:1;\">\n",
       "  <use xlink:href=\"#glyph1-1\" x=\"41.761719\" y=\"288.25\"/>\n",
       "  <use xlink:href=\"#glyph1-2\" x=\"41.761719\" y=\"281.576172\"/>\n",
       "  <use xlink:href=\"#glyph1-4\" x=\"41.761719\" y=\"278.242188\"/>\n",
       "</g>\n",
       "<g style=\"fill:rgb(0%,0%,0%);fill-opacity:1;\">\n",
       "  <use xlink:href=\"#glyph1-1\" x=\"41.761719\" y=\"218.03125\"/>\n",
       "  <use xlink:href=\"#glyph1-2\" x=\"41.761719\" y=\"211.357422\"/>\n",
       "  <use xlink:href=\"#glyph1-5\" x=\"41.761719\" y=\"208.023438\"/>\n",
       "</g>\n",
       "<g style=\"fill:rgb(0%,0%,0%);fill-opacity:1;\">\n",
       "  <use xlink:href=\"#glyph1-1\" x=\"41.761719\" y=\"147.8125\"/>\n",
       "  <use xlink:href=\"#glyph1-2\" x=\"41.761719\" y=\"141.138672\"/>\n",
       "  <use xlink:href=\"#glyph1-6\" x=\"41.761719\" y=\"137.804688\"/>\n",
       "</g>\n",
       "<g style=\"fill:rgb(0%,0%,0%);fill-opacity:1;\">\n",
       "  <use xlink:href=\"#glyph1-7\" x=\"41.761719\" y=\"77.59375\"/>\n",
       "  <use xlink:href=\"#glyph1-2\" x=\"41.761719\" y=\"70.919922\"/>\n",
       "  <use xlink:href=\"#glyph1-1\" x=\"41.761719\" y=\"67.585938\"/>\n",
       "</g>\n",
       "<path style=\"fill:none;stroke-width:0.75;stroke-linecap:round;stroke-linejoin:round;stroke:rgb(0%,0%,0%);stroke-opacity:1;stroke-miterlimit:10;\" d=\"M 59.039062 430.558594 L 473.761719 430.558594 L 473.761719 59.039062 L 59.039062 59.039062 L 59.039062 430.558594 \"/>\n",
       "<g style=\"fill:rgb(0%,0%,0%);fill-opacity:1;\">\n",
       "  <use xlink:href=\"#glyph0-5\" x=\"248.394531\" y=\"485.28125\"/>\n",
       "  <use xlink:href=\"#glyph0-6\" x=\"251.060547\" y=\"485.28125\"/>\n",
       "  <use xlink:href=\"#glyph0-7\" x=\"257.734375\" y=\"485.28125\"/>\n",
       "  <use xlink:href=\"#glyph0-8\" x=\"264.408203\" y=\"485.28125\"/>\n",
       "  <use xlink:href=\"#glyph0-9\" x=\"267.074219\" y=\"485.28125\"/>\n",
       "  <use xlink:href=\"#glyph0-10\" x=\"270.408203\" y=\"485.28125\"/>\n",
       "  <use xlink:href=\"#glyph0-11\" x=\"274.404297\" y=\"485.28125\"/>\n",
       "  <use xlink:href=\"#glyph0-12\" x=\"280.404297\" y=\"485.28125\"/>\n",
       "</g>\n",
       "<g style=\"fill:rgb(0%,0%,0%);fill-opacity:1;\">\n",
       "  <use xlink:href=\"#glyph1-8\" x=\"12.960938\" y=\"247.800781\"/>\n",
       "</g>\n",
       "</g>\n",
       "</svg>\n"
      ],
      "text/plain": [
       "plot without title"
      ]
     },
     "metadata": {
      "image/svg+xml": {
       "isolated": true
      }
     },
     "output_type": "display_data"
    }
   ],
   "source": [
    "plot(x~logit(x), type=\"l\")"
   ]
  },
  {
   "cell_type": "code",
   "execution_count": 47,
   "metadata": {
    "collapsed": true
   },
   "outputs": [],
   "source": [
    "inv_logit <- function(x){\n",
    "    exp(x)/(1+exp(x))\n",
    "}"
   ]
  },
  {
   "cell_type": "code",
   "execution_count": 51,
   "metadata": {
    "collapsed": false
   },
   "outputs": [],
   "source": [
    "y <- seq(-100,100, length=200)"
   ]
  },
  {
   "cell_type": "code",
   "execution_count": 50,
   "metadata": {
    "collapsed": false
   },
   "outputs": [
    {
     "data": {
      "image/png": "[encoded data removed]",
      "image/svg+xml": [
       "<?xml version=\"1.0\" encoding=\"UTF-8\"?>\n",
       "<svg xmlns=\"http://www.w3.org/2000/svg\" xmlns:xlink=\"http://www.w3.org/1999/xlink\" width=\"504pt\" height=\"504pt\" viewBox=\"0 0 504 504\" version=\"1.1\">\n",
       "<defs>\n",
       "<g>\n",
       "<symbol overflow=\"visible\" id=\"glyph0-0\">\n",
       "<path style=\"stroke:none;\" d=\"M 0.390625 0 L 0.390625 -8.609375 L 7.21875 -8.609375 L 7.21875 0 Z M 6.140625 -1.078125 L 6.140625 -7.53125 L 1.46875 -7.53125 L 1.46875 -1.078125 Z M 6.140625 -1.078125 \"/>\n",
       "</symbol>\n",
       "<symbol overflow=\"visible\" id=\"glyph0-1\">\n",
       "<path style=\"stroke:none;\" d=\"M 3.25 -8.390625 C 4.332031 -8.390625 5.117188 -7.941406 5.609375 -7.046875 C 5.984375 -6.359375 6.171875 -5.410156 6.171875 -4.203125 C 6.171875 -3.066406 6 -2.125 5.65625 -1.375 C 5.164062 -0.300781 4.359375 0.234375 3.234375 0.234375 C 2.234375 0.234375 1.484375 -0.203125 0.984375 -1.078125 C 0.578125 -1.816406 0.375 -2.800781 0.375 -4.03125 C 0.375 -4.976562 0.5 -5.796875 0.75 -6.484375 C 1.207031 -7.753906 2.039062 -8.390625 3.25 -8.390625 Z M 3.234375 -0.734375 C 3.785156 -0.734375 4.222656 -0.972656 4.546875 -1.453125 C 4.867188 -1.941406 5.03125 -2.847656 5.03125 -4.171875 C 5.03125 -5.117188 4.910156 -5.898438 4.671875 -6.515625 C 4.441406 -7.128906 3.988281 -7.4375 3.3125 -7.4375 C 2.6875 -7.4375 2.226562 -7.144531 1.9375 -6.5625 C 1.65625 -5.976562 1.515625 -5.117188 1.515625 -3.984375 C 1.515625 -3.128906 1.609375 -2.441406 1.796875 -1.921875 C 2.078125 -1.128906 2.554688 -0.734375 3.234375 -0.734375 Z M 3.234375 -0.734375 \"/>\n",
       "</symbol>\n",
       "<symbol overflow=\"visible\" id=\"glyph0-2\">\n",
       "<path style=\"stroke:none;\" d=\"M 1.03125 -1.28125 L 2.25 -1.28125 L 2.25 0 L 1.03125 0 Z M 1.03125 -1.28125 \"/>\n",
       "</symbol>\n",
       "<symbol overflow=\"visible\" id=\"glyph0-3\">\n",
       "<path style=\"stroke:none;\" d=\"M 0.375 0 C 0.414062 -0.71875 0.566406 -1.34375 0.828125 -1.875 C 1.085938 -2.414062 1.59375 -2.90625 2.34375 -3.34375 L 3.46875 -4 C 3.96875 -4.289062 4.320312 -4.539062 4.53125 -4.75 C 4.851562 -5.070312 5.015625 -5.441406 5.015625 -5.859375 C 5.015625 -6.347656 4.863281 -6.734375 4.5625 -7.015625 C 4.269531 -7.304688 3.882812 -7.453125 3.40625 -7.453125 C 2.675781 -7.453125 2.175781 -7.179688 1.90625 -6.640625 C 1.75 -6.335938 1.664062 -5.929688 1.65625 -5.421875 L 0.578125 -5.421875 C 0.585938 -6.148438 0.722656 -6.742188 0.984375 -7.203125 C 1.441406 -8.015625 2.25 -8.421875 3.40625 -8.421875 C 4.363281 -8.421875 5.0625 -8.160156 5.5 -7.640625 C 5.945312 -7.117188 6.171875 -6.539062 6.171875 -5.90625 C 6.171875 -5.238281 5.9375 -4.664062 5.46875 -4.1875 C 5.195312 -3.90625 4.707031 -3.566406 4 -3.171875 L 3.1875 -2.734375 C 2.8125 -2.523438 2.515625 -2.320312 2.296875 -2.125 C 1.898438 -1.789062 1.648438 -1.414062 1.546875 -1 L 6.140625 -1 L 6.140625 0 Z M 0.375 0 \"/>\n",
       "</symbol>\n",
       "<symbol overflow=\"visible\" id=\"glyph0-4\">\n",
       "<path style=\"stroke:none;\" d=\"M 3.96875 -2.96875 L 3.96875 -6.78125 L 1.28125 -2.96875 Z M 3.984375 0 L 3.984375 -2.046875 L 0.3125 -2.046875 L 0.3125 -3.078125 L 4.15625 -8.421875 L 5.046875 -8.421875 L 5.046875 -2.96875 L 6.28125 -2.96875 L 6.28125 -2.046875 L 5.046875 -2.046875 L 5.046875 0 Z M 3.984375 0 \"/>\n",
       "</symbol>\n",
       "<symbol overflow=\"visible\" id=\"glyph0-5\">\n",
       "<path style=\"stroke:none;\" d=\"M 3.515625 -8.421875 C 4.453125 -8.421875 5.101562 -8.175781 5.46875 -7.6875 C 5.84375 -7.207031 6.03125 -6.707031 6.03125 -6.1875 L 4.984375 -6.1875 C 4.921875 -6.519531 4.820312 -6.78125 4.6875 -6.96875 C 4.425781 -7.320312 4.039062 -7.5 3.53125 -7.5 C 2.9375 -7.5 2.460938 -7.222656 2.109375 -6.671875 C 1.765625 -6.128906 1.578125 -5.351562 1.546875 -4.34375 C 1.785156 -4.695312 2.085938 -4.960938 2.453125 -5.140625 C 2.785156 -5.296875 3.160156 -5.375 3.578125 -5.375 C 4.285156 -5.375 4.898438 -5.148438 5.421875 -4.703125 C 5.941406 -4.253906 6.203125 -3.582031 6.203125 -2.6875 C 6.203125 -1.925781 5.953125 -1.25 5.453125 -0.65625 C 4.960938 -0.0703125 4.257812 0.21875 3.34375 0.21875 C 2.550781 0.21875 1.867188 -0.078125 1.296875 -0.671875 C 0.734375 -1.273438 0.453125 -2.28125 0.453125 -3.6875 C 0.453125 -4.726562 0.578125 -5.613281 0.828125 -6.34375 C 1.316406 -7.726562 2.210938 -8.421875 3.515625 -8.421875 Z M 3.4375 -0.71875 C 3.988281 -0.71875 4.398438 -0.90625 4.671875 -1.28125 C 4.953125 -1.65625 5.09375 -2.097656 5.09375 -2.609375 C 5.09375 -3.035156 4.96875 -3.441406 4.71875 -3.828125 C 4.476562 -4.210938 4.03125 -4.40625 3.375 -4.40625 C 2.925781 -4.40625 2.53125 -4.253906 2.1875 -3.953125 C 1.84375 -3.660156 1.671875 -3.210938 1.671875 -2.609375 C 1.671875 -2.078125 1.828125 -1.628906 2.140625 -1.265625 C 2.453125 -0.898438 2.882812 -0.71875 3.4375 -0.71875 Z M 3.4375 -0.71875 \"/>\n",
       "</symbol>\n",
       "<symbol overflow=\"visible\" id=\"glyph0-6\">\n",
       "<path style=\"stroke:none;\" d=\"M 3.265625 -4.875 C 3.734375 -4.875 4.097656 -5.003906 4.359375 -5.265625 C 4.617188 -5.523438 4.75 -5.832031 4.75 -6.1875 C 4.75 -6.5 4.625 -6.785156 4.375 -7.046875 C 4.125 -7.316406 3.742188 -7.453125 3.234375 -7.453125 C 2.722656 -7.453125 2.351562 -7.316406 2.125 -7.046875 C 1.894531 -6.785156 1.78125 -6.484375 1.78125 -6.140625 C 1.78125 -5.742188 1.925781 -5.429688 2.21875 -5.203125 C 2.519531 -4.984375 2.867188 -4.875 3.265625 -4.875 Z M 3.328125 -0.71875 C 3.816406 -0.71875 4.222656 -0.847656 4.546875 -1.109375 C 4.867188 -1.378906 5.03125 -1.773438 5.03125 -2.296875 C 5.03125 -2.835938 4.863281 -3.25 4.53125 -3.53125 C 4.195312 -3.8125 3.769531 -3.953125 3.25 -3.953125 C 2.75 -3.953125 2.335938 -3.804688 2.015625 -3.515625 C 1.703125 -3.234375 1.546875 -2.835938 1.546875 -2.328125 C 1.546875 -1.890625 1.691406 -1.507812 1.984375 -1.1875 C 2.273438 -0.875 2.722656 -0.71875 3.328125 -0.71875 Z M 1.828125 -4.46875 C 1.535156 -4.59375 1.304688 -4.738281 1.140625 -4.90625 C 0.835938 -5.21875 0.6875 -5.625 0.6875 -6.125 C 0.6875 -6.75 0.910156 -7.285156 1.359375 -7.734375 C 1.816406 -8.191406 2.457031 -8.421875 3.28125 -8.421875 C 4.09375 -8.421875 4.722656 -8.207031 5.171875 -7.78125 C 5.628906 -7.351562 5.859375 -6.859375 5.859375 -6.296875 C 5.859375 -5.773438 5.726562 -5.347656 5.46875 -5.015625 C 5.320312 -4.835938 5.09375 -4.660156 4.78125 -4.484375 C 5.125 -4.328125 5.394531 -4.144531 5.59375 -3.9375 C 5.96875 -3.539062 6.15625 -3.03125 6.15625 -2.40625 C 6.15625 -1.664062 5.90625 -1.039062 5.40625 -0.53125 C 4.914062 -0.0195312 4.21875 0.234375 3.3125 0.234375 C 2.488281 0.234375 1.796875 0.015625 1.234375 -0.421875 C 0.671875 -0.867188 0.390625 -1.515625 0.390625 -2.359375 C 0.390625 -2.847656 0.507812 -3.273438 0.75 -3.640625 C 0.988281 -4.003906 1.347656 -4.28125 1.828125 -4.46875 Z M 1.828125 -4.46875 \"/>\n",
       "</symbol>\n",
       "<symbol overflow=\"visible\" id=\"glyph0-7\">\n",
       "<path style=\"stroke:none;\" d=\"M 1.15625 -5.9375 L 1.15625 -6.75 C 1.914062 -6.820312 2.441406 -6.945312 2.734375 -7.125 C 3.035156 -7.300781 3.265625 -7.710938 3.421875 -8.359375 L 4.25 -8.359375 L 4.25 0 L 3.125 0 L 3.125 -5.9375 Z M 1.15625 -5.9375 \"/>\n",
       "</symbol>\n",
       "<symbol overflow=\"visible\" id=\"glyph0-8\">\n",
       "<path style=\"stroke:none;\" d=\"M 0.78125 -6.25 L 1.84375 -6.25 L 1.84375 0 L 0.78125 0 Z M 0.78125 -8.609375 L 1.84375 -8.609375 L 1.84375 -7.40625 L 0.78125 -7.40625 Z M 0.78125 -8.609375 \"/>\n",
       "</symbol>\n",
       "<symbol overflow=\"visible\" id=\"glyph0-9\">\n",
       "<path style=\"stroke:none;\" d=\"M 0.78125 -6.28125 L 1.78125 -6.28125 L 1.78125 -5.390625 C 2.070312 -5.753906 2.382812 -6.015625 2.71875 -6.171875 C 3.050781 -6.335938 3.421875 -6.421875 3.828125 -6.421875 C 4.710938 -6.421875 5.3125 -6.109375 5.625 -5.484375 C 5.800781 -5.140625 5.890625 -4.65625 5.890625 -4.03125 L 5.890625 0 L 4.8125 0 L 4.8125 -3.953125 C 4.8125 -4.335938 4.753906 -4.644531 4.640625 -4.875 C 4.453125 -5.269531 4.113281 -5.46875 3.625 -5.46875 C 3.375 -5.46875 3.171875 -5.441406 3.015625 -5.390625 C 2.722656 -5.304688 2.46875 -5.132812 2.25 -4.875 C 2.070312 -4.664062 1.957031 -4.453125 1.90625 -4.234375 C 1.851562 -4.015625 1.828125 -3.695312 1.828125 -3.28125 L 1.828125 0 L 0.78125 0 Z M 3.25 -6.421875 Z M 3.25 -6.421875 \"/>\n",
       "</symbol>\n",
       "<symbol overflow=\"visible\" id=\"glyph0-10\">\n",
       "<path style=\"stroke:none;\" d=\"M 1.296875 -6.28125 L 2.96875 -1.171875 L 4.71875 -6.28125 L 5.875 -6.28125 L 3.5 0 L 2.375 0 L 0.0625 -6.28125 Z M 1.296875 -6.28125 \"/>\n",
       "</symbol>\n",
       "<symbol overflow=\"visible\" id=\"glyph0-11\">\n",
       "<path style=\"stroke:none;\" d=\"M 0 1.5 L 0 0.90625 L 6.671875 0.90625 L 6.671875 1.5 Z M 0 1.5 \"/>\n",
       "</symbol>\n",
       "<symbol overflow=\"visible\" id=\"glyph0-12\">\n",
       "<path style=\"stroke:none;\" d=\"M 0.796875 -8.609375 L 1.859375 -8.609375 L 1.859375 0 L 0.796875 0 Z M 0.796875 -8.609375 \"/>\n",
       "</symbol>\n",
       "<symbol overflow=\"visible\" id=\"glyph0-13\">\n",
       "<path style=\"stroke:none;\" d=\"M 3.265625 -0.6875 C 3.960938 -0.6875 4.441406 -0.945312 4.703125 -1.46875 C 4.960938 -2 5.09375 -2.585938 5.09375 -3.234375 C 5.09375 -3.828125 5 -4.304688 4.8125 -4.671875 C 4.507812 -5.242188 4 -5.53125 3.28125 -5.53125 C 2.632812 -5.53125 2.164062 -5.285156 1.875 -4.796875 C 1.582031 -4.304688 1.4375 -3.710938 1.4375 -3.015625 C 1.4375 -2.347656 1.582031 -1.789062 1.875 -1.34375 C 2.164062 -0.90625 2.628906 -0.6875 3.265625 -0.6875 Z M 3.3125 -6.453125 C 4.113281 -6.453125 4.789062 -6.179688 5.34375 -5.640625 C 5.90625 -5.109375 6.1875 -4.316406 6.1875 -3.265625 C 6.1875 -2.253906 5.941406 -1.414062 5.453125 -0.75 C 4.960938 -0.09375 4.203125 0.234375 3.171875 0.234375 C 2.304688 0.234375 1.617188 -0.0546875 1.109375 -0.640625 C 0.597656 -1.234375 0.34375 -2.019531 0.34375 -3 C 0.34375 -4.050781 0.609375 -4.890625 1.140625 -5.515625 C 1.679688 -6.140625 2.40625 -6.453125 3.3125 -6.453125 Z M 3.265625 -6.421875 Z M 3.265625 -6.421875 \"/>\n",
       "</symbol>\n",
       "<symbol overflow=\"visible\" id=\"glyph0-14\">\n",
       "<path style=\"stroke:none;\" d=\"M 2.984375 -6.390625 C 3.484375 -6.390625 3.914062 -6.269531 4.28125 -6.03125 C 4.476562 -5.882812 4.679688 -5.679688 4.890625 -5.421875 L 4.890625 -6.21875 L 5.859375 -6.21875 L 5.859375 -0.515625 C 5.859375 0.285156 5.742188 0.914062 5.515625 1.375 C 5.078125 2.226562 4.25 2.65625 3.03125 2.65625 C 2.351562 2.65625 1.785156 2.503906 1.328125 2.203125 C 0.867188 1.898438 0.609375 1.425781 0.546875 0.78125 L 1.625 0.78125 C 1.675781 1.0625 1.773438 1.28125 1.921875 1.4375 C 2.160156 1.664062 2.535156 1.78125 3.046875 1.78125 C 3.859375 1.78125 4.390625 1.492188 4.640625 0.921875 C 4.785156 0.585938 4.851562 -0.0078125 4.84375 -0.875 C 4.632812 -0.550781 4.378906 -0.3125 4.078125 -0.15625 C 3.785156 0 3.394531 0.078125 2.90625 0.078125 C 2.226562 0.078125 1.632812 -0.160156 1.125 -0.640625 C 0.613281 -1.128906 0.359375 -1.929688 0.359375 -3.046875 C 0.359375 -4.097656 0.613281 -4.914062 1.125 -5.5 C 1.644531 -6.09375 2.265625 -6.390625 2.984375 -6.390625 Z M 4.890625 -3.171875 C 4.890625 -3.941406 4.726562 -4.515625 4.40625 -4.890625 C 4.082031 -5.265625 3.675781 -5.453125 3.1875 -5.453125 C 2.4375 -5.453125 1.925781 -5.101562 1.65625 -4.40625 C 1.507812 -4.039062 1.4375 -3.554688 1.4375 -2.953125 C 1.4375 -2.242188 1.578125 -1.703125 1.859375 -1.328125 C 2.148438 -0.960938 2.539062 -0.78125 3.03125 -0.78125 C 3.789062 -0.78125 4.320312 -1.125 4.625 -1.8125 C 4.800781 -2.195312 4.890625 -2.648438 4.890625 -3.171875 Z M 3.109375 -6.421875 Z M 3.109375 -6.421875 \"/>\n",
       "</symbol>\n",
       "<symbol overflow=\"visible\" id=\"glyph0-15\">\n",
       "<path style=\"stroke:none;\" d=\"M 0.984375 -8.03125 L 2.046875 -8.03125 L 2.046875 -6.28125 L 3.046875 -6.28125 L 3.046875 -5.421875 L 2.046875 -5.421875 L 2.046875 -1.3125 C 2.046875 -1.09375 2.125 -0.945312 2.28125 -0.875 C 2.351562 -0.832031 2.488281 -0.8125 2.6875 -0.8125 C 2.738281 -0.8125 2.789062 -0.8125 2.84375 -0.8125 C 2.90625 -0.820312 2.972656 -0.828125 3.046875 -0.828125 L 3.046875 0 C 2.929688 0.03125 2.804688 0.0507812 2.671875 0.0625 C 2.546875 0.0820312 2.40625 0.09375 2.25 0.09375 C 1.757812 0.09375 1.425781 -0.03125 1.25 -0.28125 C 1.070312 -0.53125 0.984375 -0.859375 0.984375 -1.265625 L 0.984375 -5.421875 L 0.140625 -5.421875 L 0.140625 -6.28125 L 0.984375 -6.28125 Z M 0.984375 -8.03125 \"/>\n",
       "</symbol>\n",
       "<symbol overflow=\"visible\" id=\"glyph0-16\">\n",
       "<path style=\"stroke:none;\" d=\"M 3.546875 -8.75 C 2.929688 -7.5625 2.535156 -6.6875 2.359375 -6.125 C 2.078125 -5.257812 1.9375 -4.269531 1.9375 -3.15625 C 1.9375 -2.019531 2.097656 -0.984375 2.421875 -0.046875 C 2.609375 0.535156 2.988281 1.367188 3.5625 2.453125 L 2.859375 2.453125 C 2.285156 1.554688 1.929688 0.984375 1.796875 0.734375 C 1.660156 0.492188 1.515625 0.160156 1.359375 -0.265625 C 1.140625 -0.835938 0.984375 -1.453125 0.890625 -2.109375 C 0.847656 -2.453125 0.828125 -2.773438 0.828125 -3.078125 C 0.828125 -4.234375 1.007812 -5.265625 1.375 -6.171875 C 1.601562 -6.742188 2.082031 -7.601562 2.8125 -8.75 Z M 3.546875 -8.75 \"/>\n",
       "</symbol>\n",
       "<symbol overflow=\"visible\" id=\"glyph0-17\">\n",
       "<path style=\"stroke:none;\" d=\"M 4.6875 -6.28125 L 5.859375 -6.28125 C 5.710938 -5.875 5.382812 -4.953125 4.875 -3.515625 C 4.488281 -2.441406 4.164062 -1.566406 3.90625 -0.890625 C 3.300781 0.710938 2.875 1.691406 2.625 2.046875 C 2.375 2.398438 1.941406 2.578125 1.328125 2.578125 C 1.179688 2.578125 1.066406 2.566406 0.984375 2.546875 C 0.910156 2.535156 0.8125 2.515625 0.6875 2.484375 L 0.6875 1.53125 C 0.875 1.582031 1.007812 1.613281 1.09375 1.625 C 1.175781 1.632812 1.25 1.640625 1.3125 1.640625 C 1.5 1.640625 1.640625 1.609375 1.734375 1.546875 C 1.828125 1.484375 1.90625 1.40625 1.96875 1.3125 C 1.988281 1.28125 2.054688 1.117188 2.171875 0.828125 C 2.296875 0.535156 2.382812 0.320312 2.4375 0.1875 L 0.125 -6.28125 L 1.3125 -6.28125 L 3 -1.171875 Z M 3 -6.421875 Z M 3 -6.421875 \"/>\n",
       "</symbol>\n",
       "<symbol overflow=\"visible\" id=\"glyph0-18\">\n",
       "<path style=\"stroke:none;\" d=\"M 0.421875 2.453125 C 1.035156 1.242188 1.4375 0.359375 1.625 -0.203125 C 1.894531 -1.035156 2.03125 -2.019531 2.03125 -3.15625 C 2.03125 -4.28125 1.867188 -5.3125 1.546875 -6.25 C 1.359375 -6.832031 0.976562 -7.664062 0.40625 -8.75 L 1.109375 -8.75 C 1.710938 -7.789062 2.078125 -7.195312 2.203125 -6.96875 C 2.328125 -6.75 2.460938 -6.441406 2.609375 -6.046875 C 2.796875 -5.554688 2.929688 -5.070312 3.015625 -4.59375 C 3.097656 -4.113281 3.140625 -3.65625 3.140625 -3.21875 C 3.140625 -2.0625 2.953125 -1.03125 2.578125 -0.125 C 2.347656 0.457031 1.875 1.316406 1.15625 2.453125 Z M 0.421875 2.453125 \"/>\n",
       "</symbol>\n",
       "<symbol overflow=\"visible\" id=\"glyph1-0\">\n",
       "<path style=\"stroke:none;\" d=\"M 0 -0.390625 L -8.609375 -0.390625 L -8.609375 -7.21875 L 0 -7.21875 Z M -1.078125 -6.140625 L -7.53125 -6.140625 L -7.53125 -1.46875 L -1.078125 -1.46875 Z M -1.078125 -6.140625 \"/>\n",
       "</symbol>\n",
       "<symbol overflow=\"visible\" id=\"glyph1-1\">\n",
       "<path style=\"stroke:none;\" d=\"M -3.890625 -0.5 L -3.890625 -3.4375 L -2.796875 -3.4375 L -2.796875 -0.5 Z M -3.890625 -0.5 \"/>\n",
       "</symbol>\n",
       "<symbol overflow=\"visible\" id=\"glyph1-2\">\n",
       "<path style=\"stroke:none;\" d=\"M -2.96875 -3.96875 L -6.78125 -3.96875 L -2.96875 -1.28125 Z M 0 -3.984375 L -2.046875 -3.984375 L -2.046875 -0.3125 L -3.078125 -0.3125 L -8.421875 -4.15625 L -8.421875 -5.046875 L -2.96875 -5.046875 L -2.96875 -6.28125 L -2.046875 -6.28125 L -2.046875 -5.046875 L 0 -5.046875 Z M 0 -3.984375 \"/>\n",
       "</symbol>\n",
       "<symbol overflow=\"visible\" id=\"glyph1-3\">\n",
       "<path style=\"stroke:none;\" d=\"M 0 -0.375 C -0.71875 -0.414062 -1.34375 -0.566406 -1.875 -0.828125 C -2.414062 -1.085938 -2.90625 -1.59375 -3.34375 -2.34375 L -4 -3.46875 C -4.289062 -3.96875 -4.539062 -4.320312 -4.75 -4.53125 C -5.070312 -4.851562 -5.441406 -5.015625 -5.859375 -5.015625 C -6.347656 -5.015625 -6.734375 -4.863281 -7.015625 -4.5625 C -7.304688 -4.269531 -7.453125 -3.882812 -7.453125 -3.40625 C -7.453125 -2.675781 -7.179688 -2.175781 -6.640625 -1.90625 C -6.335938 -1.75 -5.929688 -1.664062 -5.421875 -1.65625 L -5.421875 -0.578125 C -6.148438 -0.585938 -6.742188 -0.722656 -7.203125 -0.984375 C -8.015625 -1.441406 -8.421875 -2.25 -8.421875 -3.40625 C -8.421875 -4.363281 -8.160156 -5.0625 -7.640625 -5.5 C -7.117188 -5.945312 -6.539062 -6.171875 -5.90625 -6.171875 C -5.238281 -6.171875 -4.664062 -5.9375 -4.1875 -5.46875 C -3.90625 -5.195312 -3.566406 -4.707031 -3.171875 -4 L -2.734375 -3.1875 C -2.523438 -2.8125 -2.320312 -2.515625 -2.125 -2.296875 C -1.789062 -1.898438 -1.414062 -1.648438 -1 -1.546875 L -1 -6.140625 L 0 -6.140625 Z M 0 -0.375 \"/>\n",
       "</symbol>\n",
       "<symbol overflow=\"visible\" id=\"glyph1-4\">\n",
       "<path style=\"stroke:none;\" d=\"M -8.390625 -3.25 C -8.390625 -4.332031 -7.941406 -5.117188 -7.046875 -5.609375 C -6.359375 -5.984375 -5.410156 -6.171875 -4.203125 -6.171875 C -3.066406 -6.171875 -2.125 -6 -1.375 -5.65625 C -0.300781 -5.164062 0.234375 -4.359375 0.234375 -3.234375 C 0.234375 -2.234375 -0.203125 -1.484375 -1.078125 -0.984375 C -1.816406 -0.578125 -2.800781 -0.375 -4.03125 -0.375 C -4.976562 -0.375 -5.796875 -0.5 -6.484375 -0.75 C -7.753906 -1.207031 -8.390625 -2.039062 -8.390625 -3.25 Z M -0.734375 -3.234375 C -0.734375 -3.785156 -0.972656 -4.222656 -1.453125 -4.546875 C -1.941406 -4.867188 -2.847656 -5.03125 -4.171875 -5.03125 C -5.117188 -5.03125 -5.898438 -4.910156 -6.515625 -4.671875 C -7.128906 -4.441406 -7.4375 -3.988281 -7.4375 -3.3125 C -7.4375 -2.6875 -7.144531 -2.226562 -6.5625 -1.9375 C -5.976562 -1.65625 -5.117188 -1.515625 -3.984375 -1.515625 C -3.128906 -1.515625 -2.441406 -1.609375 -1.921875 -1.796875 C -1.128906 -2.078125 -0.734375 -2.554688 -0.734375 -3.234375 Z M -0.734375 -3.234375 \"/>\n",
       "</symbol>\n",
       "<symbol overflow=\"visible\" id=\"glyph1-5\">\n",
       "<path style=\"stroke:none;\" d=\"M -6.28125 -4.6875 L -6.28125 -5.859375 C -5.875 -5.710938 -4.953125 -5.382812 -3.515625 -4.875 C -2.441406 -4.488281 -1.566406 -4.164062 -0.890625 -3.90625 C 0.710938 -3.300781 1.691406 -2.875 2.046875 -2.625 C 2.398438 -2.375 2.578125 -1.941406 2.578125 -1.328125 C 2.578125 -1.179688 2.566406 -1.066406 2.546875 -0.984375 C 2.535156 -0.910156 2.515625 -0.8125 2.484375 -0.6875 L 1.53125 -0.6875 C 1.582031 -0.875 1.613281 -1.007812 1.625 -1.09375 C 1.632812 -1.175781 1.640625 -1.25 1.640625 -1.3125 C 1.640625 -1.5 1.609375 -1.640625 1.546875 -1.734375 C 1.484375 -1.828125 1.40625 -1.90625 1.3125 -1.96875 C 1.28125 -1.988281 1.117188 -2.054688 0.828125 -2.171875 C 0.535156 -2.296875 0.320312 -2.382812 0.1875 -2.4375 L -6.28125 -0.125 L -6.28125 -1.3125 L -1.171875 -3 Z M -6.421875 -3 Z M -6.421875 -3 \"/>\n",
       "</symbol>\n",
       "</g>\n",
       "</defs>\n",
       "<g id=\"surface41\">\n",
       "<rect x=\"0\" y=\"0\" width=\"504\" height=\"504\" style=\"fill:rgb(100%,100%,100%);fill-opacity:1;stroke:none;\"/>\n",
       "<path style=\"fill:none;stroke-width:0.75;stroke-linecap:round;stroke-linejoin:round;stroke:rgb(0%,0%,0%);stroke-opacity:1;stroke-miterlimit:10;\" d=\"M 74.398438 416.800781 L 74.6875 415.070312 L 74.988281 413.34375 L 75.300781 411.613281 L 75.625 409.886719 L 75.960938 408.15625 L 76.308594 406.429688 L 76.671875 404.699219 L 77.050781 402.972656 L 77.441406 401.242188 L 77.851562 399.511719 L 78.273438 397.785156 L 78.714844 396.054688 L 79.171875 394.328125 L 79.644531 392.597656 L 80.136719 390.871094 L 80.648438 389.140625 L 81.179688 387.414062 L 81.730469 385.683594 L 82.304688 383.957031 L 82.898438 382.226562 L 83.511719 380.5 L 84.152344 378.769531 L 84.816406 377.042969 L 85.503906 375.3125 L 86.21875 373.582031 L 86.957031 371.855469 L 87.726562 370.125 L 88.519531 368.398438 L 89.34375 366.667969 L 90.199219 364.941406 L 91.085938 363.210938 L 92.003906 361.484375 L 92.953125 359.753906 L 93.9375 358.027344 L 94.957031 356.296875 L 96.011719 354.570312 L 97.101562 352.839844 L 98.234375 351.113281 L 99.402344 349.382812 L 100.609375 347.652344 L 101.859375 345.925781 L 103.152344 344.195312 L 104.488281 342.46875 L 105.867188 340.738281 L 107.292969 339.011719 L 108.765625 337.28125 L 110.285156 335.554688 L 111.851562 333.824219 L 113.472656 332.097656 L 115.140625 330.367188 L 116.859375 328.640625 L 118.632812 326.910156 L 120.460938 325.183594 L 122.339844 323.453125 L 124.277344 321.726562 L 126.269531 319.996094 L 128.320312 318.265625 L 130.429688 316.539062 L 132.59375 314.808594 L 134.820312 313.082031 L 137.109375 311.351562 L 139.453125 309.625 L 141.863281 307.894531 L 144.332031 306.167969 L 146.859375 304.4375 L 149.453125 302.710938 L 152.105469 300.980469 L 154.824219 299.253906 L 157.601562 297.523438 L 160.441406 295.796875 L 163.339844 294.066406 L 166.300781 292.335938 L 169.324219 290.609375 L 172.40625 288.878906 L 175.546875 287.152344 L 178.746094 285.421875 L 182.003906 283.695312 L 185.316406 281.964844 L 188.683594 280.238281 L 192.101562 278.507812 L 195.574219 276.78125 L 199.09375 275.050781 L 202.664062 273.324219 L 206.28125 271.59375 L 209.941406 269.867188 L 213.644531 268.136719 L 217.386719 266.40625 L 221.164062 264.679688 L 224.976562 262.949219 L 228.824219 261.222656 L 232.699219 259.492188 L 236.601562 257.765625 L 240.527344 256.035156 L 244.472656 254.308594 L 248.433594 252.578125 L 252.410156 250.851562 L 256.398438 249.121094 L 260.398438 247.394531 L 264.398438 245.664062 L 268.402344 243.9375 L 272.402344 242.207031 L 276.398438 240.476562 L 280.386719 238.75 L 284.367188 237.019531 L 288.328125 235.292969 L 292.273438 233.5625 L 296.199219 231.835938 L 300.101562 230.105469 L 303.976562 228.378906 L 307.820312 226.648438 L 311.636719 224.921875 L 315.414062 223.191406 L 319.15625 221.464844 L 322.859375 219.734375 L 326.519531 218.007812 L 330.132812 216.277344 L 333.703125 214.546875 L 337.226562 212.820312 L 340.699219 211.089844 L 344.117188 209.363281 L 347.484375 207.632812 L 350.796875 205.90625 L 354.054688 204.175781 L 357.253906 202.449219 L 360.394531 200.71875 L 363.476562 198.992188 L 366.496094 197.261719 L 369.460938 195.535156 L 372.359375 193.804688 L 375.199219 192.078125 L 377.976562 190.347656 L 380.695312 188.617188 L 383.347656 186.890625 L 385.941406 185.160156 L 388.46875 183.433594 L 390.9375 181.703125 L 393.347656 179.976562 L 395.691406 178.246094 L 397.976562 176.519531 L 400.203125 174.789062 L 402.371094 173.0625 L 404.480469 171.332031 L 406.53125 169.605469 L 408.523438 167.875 L 410.460938 166.148438 L 412.339844 164.417969 L 414.167969 162.6875 L 415.941406 160.960938 L 417.660156 159.230469 L 419.328125 157.503906 L 420.945312 155.773438 L 422.515625 154.046875 L 424.035156 152.316406 L 425.507812 150.589844 L 426.929688 148.859375 L 428.3125 147.132812 L 429.648438 145.402344 L 430.9375 143.675781 L 432.1875 141.945312 L 433.398438 140.21875 L 434.566406 138.488281 L 435.695312 136.761719 L 436.789062 135.03125 L 437.84375 133.300781 L 438.863281 131.574219 L 439.847656 129.84375 L 440.796875 128.117188 L 441.714844 126.386719 L 442.601562 124.660156 L 443.453125 122.929688 L 444.28125 121.203125 L 445.074219 119.472656 L 445.84375 117.746094 L 446.582031 116.015625 L 447.296875 114.289062 L 447.984375 112.558594 L 448.648438 110.832031 L 449.285156 109.101562 L 449.902344 107.371094 L 450.496094 105.644531 L 451.070312 103.914062 L 451.621094 102.1875 L 452.152344 100.457031 L 452.664062 98.730469 L 453.15625 97 L 453.628906 95.273438 L 454.085938 93.542969 L 454.527344 91.816406 L 454.949219 90.085938 L 455.355469 88.359375 L 455.75 86.628906 L 456.125 84.902344 L 456.488281 83.171875 L 456.839844 81.441406 L 457.175781 79.714844 L 457.5 77.984375 L 457.8125 76.257812 L 458.113281 74.527344 L 458.398438 72.800781 \"/>\n",
       "<path style=\"fill:none;stroke-width:0.75;stroke-linecap:round;stroke-linejoin:round;stroke:rgb(0%,0%,0%);stroke-opacity:1;stroke-miterlimit:10;\" d=\"M 67.234375 430.558594 L 465.5625 430.558594 \"/>\n",
       "<path style=\"fill:none;stroke-width:0.75;stroke-linecap:round;stroke-linejoin:round;stroke:rgb(0%,0%,0%);stroke-opacity:1;stroke-miterlimit:10;\" d=\"M 67.234375 430.558594 L 67.234375 437.761719 \"/>\n",
       "<path style=\"fill:none;stroke-width:0.75;stroke-linecap:round;stroke-linejoin:round;stroke:rgb(0%,0%,0%);stroke-opacity:1;stroke-miterlimit:10;\" d=\"M 146.902344 430.558594 L 146.902344 437.761719 \"/>\n",
       "<path style=\"fill:none;stroke-width:0.75;stroke-linecap:round;stroke-linejoin:round;stroke:rgb(0%,0%,0%);stroke-opacity:1;stroke-miterlimit:10;\" d=\"M 226.566406 430.558594 L 226.566406 437.761719 \"/>\n",
       "<path style=\"fill:none;stroke-width:0.75;stroke-linecap:round;stroke-linejoin:round;stroke:rgb(0%,0%,0%);stroke-opacity:1;stroke-miterlimit:10;\" d=\"M 306.234375 430.558594 L 306.234375 437.761719 \"/>\n",
       "<path style=\"fill:none;stroke-width:0.75;stroke-linecap:round;stroke-linejoin:round;stroke:rgb(0%,0%,0%);stroke-opacity:1;stroke-miterlimit:10;\" d=\"M 385.898438 430.558594 L 385.898438 437.761719 \"/>\n",
       "<path style=\"fill:none;stroke-width:0.75;stroke-linecap:round;stroke-linejoin:round;stroke:rgb(0%,0%,0%);stroke-opacity:1;stroke-miterlimit:10;\" d=\"M 465.5625 430.558594 L 465.5625 437.761719 \"/>\n",
       "<g style=\"fill:rgb(0%,0%,0%);fill-opacity:1;\">\n",
       "  <use xlink:href=\"#glyph0-1\" x=\"58.894531\" y=\"456.480469\"/>\n",
       "  <use xlink:href=\"#glyph0-2\" x=\"65.568359\" y=\"456.480469\"/>\n",
       "  <use xlink:href=\"#glyph0-1\" x=\"68.902344\" y=\"456.480469\"/>\n",
       "</g>\n",
       "<g style=\"fill:rgb(0%,0%,0%);fill-opacity:1;\">\n",
       "  <use xlink:href=\"#glyph0-1\" x=\"138.5625\" y=\"456.480469\"/>\n",
       "  <use xlink:href=\"#glyph0-2\" x=\"145.236328\" y=\"456.480469\"/>\n",
       "  <use xlink:href=\"#glyph0-3\" x=\"148.570312\" y=\"456.480469\"/>\n",
       "</g>\n",
       "<g style=\"fill:rgb(0%,0%,0%);fill-opacity:1;\">\n",
       "  <use xlink:href=\"#glyph0-1\" x=\"218.226562\" y=\"456.480469\"/>\n",
       "  <use xlink:href=\"#glyph0-2\" x=\"224.900391\" y=\"456.480469\"/>\n",
       "  <use xlink:href=\"#glyph0-4\" x=\"228.234375\" y=\"456.480469\"/>\n",
       "</g>\n",
       "<g style=\"fill:rgb(0%,0%,0%);fill-opacity:1;\">\n",
       "  <use xlink:href=\"#glyph0-1\" x=\"297.894531\" y=\"456.480469\"/>\n",
       "  <use xlink:href=\"#glyph0-2\" x=\"304.568359\" y=\"456.480469\"/>\n",
       "  <use xlink:href=\"#glyph0-5\" x=\"307.902344\" y=\"456.480469\"/>\n",
       "</g>\n",
       "<g style=\"fill:rgb(0%,0%,0%);fill-opacity:1;\">\n",
       "  <use xlink:href=\"#glyph0-1\" x=\"377.558594\" y=\"456.480469\"/>\n",
       "  <use xlink:href=\"#glyph0-2\" x=\"384.232422\" y=\"456.480469\"/>\n",
       "  <use xlink:href=\"#glyph0-6\" x=\"387.566406\" y=\"456.480469\"/>\n",
       "</g>\n",
       "<g style=\"fill:rgb(0%,0%,0%);fill-opacity:1;\">\n",
       "  <use xlink:href=\"#glyph0-7\" x=\"457.222656\" y=\"456.480469\"/>\n",
       "  <use xlink:href=\"#glyph0-2\" x=\"463.896484\" y=\"456.480469\"/>\n",
       "  <use xlink:href=\"#glyph0-1\" x=\"467.230469\" y=\"456.480469\"/>\n",
       "</g>\n",
       "<path style=\"fill:none;stroke-width:0.75;stroke-linecap:round;stroke-linejoin:round;stroke:rgb(0%,0%,0%);stroke-opacity:1;stroke-miterlimit:10;\" d=\"M 59.039062 416.800781 L 59.039062 72.800781 \"/>\n",
       "<path style=\"fill:none;stroke-width:0.75;stroke-linecap:round;stroke-linejoin:round;stroke:rgb(0%,0%,0%);stroke-opacity:1;stroke-miterlimit:10;\" d=\"M 59.039062 416.800781 L 51.839844 416.800781 \"/>\n",
       "<path style=\"fill:none;stroke-width:0.75;stroke-linecap:round;stroke-linejoin:round;stroke:rgb(0%,0%,0%);stroke-opacity:1;stroke-miterlimit:10;\" d=\"M 59.039062 330.800781 L 51.839844 330.800781 \"/>\n",
       "<path style=\"fill:none;stroke-width:0.75;stroke-linecap:round;stroke-linejoin:round;stroke:rgb(0%,0%,0%);stroke-opacity:1;stroke-miterlimit:10;\" d=\"M 59.039062 244.800781 L 51.839844 244.800781 \"/>\n",
       "<path style=\"fill:none;stroke-width:0.75;stroke-linecap:round;stroke-linejoin:round;stroke:rgb(0%,0%,0%);stroke-opacity:1;stroke-miterlimit:10;\" d=\"M 59.039062 158.800781 L 51.839844 158.800781 \"/>\n",
       "<path style=\"fill:none;stroke-width:0.75;stroke-linecap:round;stroke-linejoin:round;stroke:rgb(0%,0%,0%);stroke-opacity:1;stroke-miterlimit:10;\" d=\"M 59.039062 72.800781 L 51.839844 72.800781 \"/>\n",
       "<g style=\"fill:rgb(0%,0%,0%);fill-opacity:1;\">\n",
       "  <use xlink:href=\"#glyph1-1\" x=\"41.761719\" y=\"422.136719\"/>\n",
       "  <use xlink:href=\"#glyph1-2\" x=\"41.761719\" y=\"418.140625\"/>\n",
       "</g>\n",
       "<g style=\"fill:rgb(0%,0%,0%);fill-opacity:1;\">\n",
       "  <use xlink:href=\"#glyph1-1\" x=\"41.761719\" y=\"336.136719\"/>\n",
       "  <use xlink:href=\"#glyph1-3\" x=\"41.761719\" y=\"332.140625\"/>\n",
       "</g>\n",
       "<g style=\"fill:rgb(0%,0%,0%);fill-opacity:1;\">\n",
       "  <use xlink:href=\"#glyph1-4\" x=\"41.761719\" y=\"248.136719\"/>\n",
       "</g>\n",
       "<g style=\"fill:rgb(0%,0%,0%);fill-opacity:1;\">\n",
       "  <use xlink:href=\"#glyph1-3\" x=\"41.761719\" y=\"162.136719\"/>\n",
       "</g>\n",
       "<g style=\"fill:rgb(0%,0%,0%);fill-opacity:1;\">\n",
       "  <use xlink:href=\"#glyph1-2\" x=\"41.761719\" y=\"76.136719\"/>\n",
       "</g>\n",
       "<path style=\"fill:none;stroke-width:0.75;stroke-linecap:round;stroke-linejoin:round;stroke:rgb(0%,0%,0%);stroke-opacity:1;stroke-miterlimit:10;\" d=\"M 59.039062 430.558594 L 473.761719 430.558594 L 473.761719 59.039062 L 59.039062 59.039062 L 59.039062 430.558594 \"/>\n",
       "<g style=\"fill:rgb(0%,0%,0%);fill-opacity:1;\">\n",
       "  <use xlink:href=\"#glyph0-8\" x=\"237.390625\" y=\"485.28125\"/>\n",
       "  <use xlink:href=\"#glyph0-9\" x=\"240.056641\" y=\"485.28125\"/>\n",
       "  <use xlink:href=\"#glyph0-10\" x=\"246.730469\" y=\"485.28125\"/>\n",
       "  <use xlink:href=\"#glyph0-11\" x=\"252.730469\" y=\"485.28125\"/>\n",
       "  <use xlink:href=\"#glyph0-12\" x=\"259.404297\" y=\"485.28125\"/>\n",
       "  <use xlink:href=\"#glyph0-13\" x=\"262.070312\" y=\"485.28125\"/>\n",
       "  <use xlink:href=\"#glyph0-14\" x=\"268.744141\" y=\"485.28125\"/>\n",
       "  <use xlink:href=\"#glyph0-8\" x=\"275.417969\" y=\"485.28125\"/>\n",
       "  <use xlink:href=\"#glyph0-15\" x=\"278.083984\" y=\"485.28125\"/>\n",
       "  <use xlink:href=\"#glyph0-16\" x=\"281.417969\" y=\"485.28125\"/>\n",
       "  <use xlink:href=\"#glyph0-17\" x=\"285.414062\" y=\"485.28125\"/>\n",
       "  <use xlink:href=\"#glyph0-18\" x=\"291.414062\" y=\"485.28125\"/>\n",
       "</g>\n",
       "<g style=\"fill:rgb(0%,0%,0%);fill-opacity:1;\">\n",
       "  <use xlink:href=\"#glyph1-5\" x=\"12.960938\" y=\"247.800781\"/>\n",
       "</g>\n",
       "</g>\n",
       "</svg>\n"
      ],
      "text/plain": [
       "plot without title"
      ]
     },
     "metadata": {
      "image/svg+xml": {
       "isolated": true
      }
     },
     "output_type": "display_data"
    }
   ],
   "source": [
    "plot(y~inv_logit(y), type=\"l\")"
   ]
  },
  {
   "cell_type": "markdown",
   "metadata": {},
   "source": [
    "**Exercise**\n",
    "\n",
    "Plot the inverse logit for values between -3 and +3"
   ]
  },
  {
   "cell_type": "markdown",
   "metadata": {},
   "source": [
    "### Logistic Regression Equation\n",
    "\n",
    "<img src=\"img/logit.png\">\n",
    "\n",
    "\n",
    "Compare this with linear regression"
   ]
  },
  {
   "cell_type": "code",
   "execution_count": null,
   "metadata": {
    "collapsed": true
   },
   "outputs": [],
   "source": []
  },
  {
   "cell_type": "code",
   "execution_count": 52,
   "metadata": {
    "collapsed": true
   },
   "outputs": [],
   "source": [
    "#Running the model on train"
   ]
  },
  {
   "cell_type": "code",
   "execution_count": 54,
   "metadata": {
    "collapsed": true
   },
   "outputs": [],
   "source": [
    "model <- glm(deposit~., family=binomial(link=\"logit\"), data=train)"
   ]
  },
  {
   "cell_type": "code",
   "execution_count": 55,
   "metadata": {
    "collapsed": false
   },
   "outputs": [
    {
     "data": {
      "text/plain": [
       "\n",
       "Call:\n",
       "glm(formula = deposit ~ ., family = binomial(link = \"logit\"), \n",
       "    data = train)\n",
       "\n",
       "Deviance Residuals: \n",
       "    Min       1Q   Median       3Q      Max  \n",
       "-5.7236  -0.3718  -0.2509  -0.1490   3.2350  \n",
       "\n",
       "Coefficients:\n",
       "                     Estimate Std. Error z value Pr(>|z|)    \n",
       "(Intercept)        -2.631e+00  2.087e-01 -12.606  < 2e-16 ***\n",
       "age                 1.394e-03  2.493e-03   0.559 0.576186    \n",
       "jobblue-collar     -2.997e-01  8.245e-02  -3.635 0.000278 ***\n",
       "jobentrepreneur    -3.095e-01  1.407e-01  -2.200 0.027827 *  \n",
       "jobhousemaid       -4.539e-01  1.573e-01  -2.886 0.003898 ** \n",
       "jobmanagement      -1.602e-01  8.359e-02  -1.917 0.055285 .  \n",
       "jobretired          2.954e-01  1.094e-01   2.700 0.006931 ** \n",
       "jobself-employed   -3.636e-01  1.308e-01  -2.781 0.005420 ** \n",
       "jobservices        -2.161e-01  9.625e-02  -2.246 0.024730 *  \n",
       "jobstudent          4.002e-01  1.244e-01   3.216 0.001298 ** \n",
       "jobtechnician      -1.877e-01  7.863e-02  -2.387 0.016978 *  \n",
       "jobunemployed      -1.492e-01  1.260e-01  -1.184 0.236536    \n",
       "jobunknown         -2.792e-01  2.611e-01  -1.069 0.284963    \n",
       "maritalmarried     -1.658e-01  6.683e-02  -2.480 0.013125 *  \n",
       "maritalsingle       1.267e-01  7.625e-02   1.661 0.096696 .  \n",
       "educationsecondary  1.903e-01  7.326e-02   2.598 0.009385 ** \n",
       "educationtertiary   3.622e-01  8.549e-02   4.236 2.27e-05 ***\n",
       "educationunknown    2.786e-01  1.180e-01   2.361 0.018246 *  \n",
       "defaultyes         -2.536e-02  1.889e-01  -0.134 0.893185    \n",
       "balance             1.144e-05  5.908e-06   1.936 0.052854 .  \n",
       "housingyes         -6.768e-01  5.005e-02 -13.522  < 2e-16 ***\n",
       "loanyes            -4.496e-01  6.814e-02  -6.598 4.18e-11 ***\n",
       "contacttelephone   -1.209e-01  8.449e-02  -1.431 0.152432    \n",
       "contactunknown     -1.608e+00  8.249e-02 -19.491  < 2e-16 ***\n",
       "day                 1.088e-02  2.815e-03   3.866 0.000111 ***\n",
       "monthaug           -7.135e-01  8.897e-02  -8.019 1.07e-15 ***\n",
       "monthdec            8.035e-01  1.967e-01   4.086 4.40e-05 ***\n",
       "monthfeb           -1.560e-01  1.018e-01  -1.533 0.125232    \n",
       "monthjan           -1.473e+00  1.445e-01 -10.193  < 2e-16 ***\n",
       "monthjul           -8.461e-01  8.765e-02  -9.654  < 2e-16 ***\n",
       "monthjun            4.940e-01  1.058e-01   4.671 3.00e-06 ***\n",
       "monthmar            1.549e+00  1.362e-01  11.374  < 2e-16 ***\n",
       "monthmay           -4.446e-01  8.192e-02  -5.427 5.72e-08 ***\n",
       "monthnov           -9.546e-01  9.687e-02  -9.854  < 2e-16 ***\n",
       "monthoct            8.909e-01  1.233e-01   7.227 4.95e-13 ***\n",
       "monthsep            8.471e-01  1.342e-01   6.311 2.78e-10 ***\n",
       "duration            4.198e-03  7.313e-05  57.406  < 2e-16 ***\n",
       "campaign           -9.653e-02  1.170e-02  -8.251  < 2e-16 ***\n",
       "pdays               1.646e-04  3.426e-04   0.480 0.630937    \n",
       "previous            1.212e-02  7.443e-03   1.628 0.103554    \n",
       "poutcomeother       2.233e-01  1.017e-01   2.196 0.028124 *  \n",
       "poutcomesuccess     2.275e+00  9.375e-02  24.270  < 2e-16 ***\n",
       "poutcomeunknown    -6.327e-02  1.059e-01  -0.598 0.550143    \n",
       "---\n",
       "Signif. codes:  0 ‘***’ 0.001 ‘**’ 0.01 ‘*’ 0.05 ‘.’ 0.1 ‘ ’ 1\n",
       "\n",
       "(Dispersion parameter for binomial family taken to be 1)\n",
       "\n",
       "    Null deviance: 25413  on 35210  degrees of freedom\n",
       "Residual deviance: 16708  on 35168  degrees of freedom\n",
       "AIC: 16794\n",
       "\n",
       "Number of Fisher Scoring iterations: 6\n"
      ]
     },
     "execution_count": 55,
     "metadata": {},
     "output_type": "execute_result"
    }
   ],
   "source": [
    "summary(model)"
   ]
  },
  {
   "cell_type": "code",
   "execution_count": 56,
   "metadata": {
    "collapsed": false
   },
   "outputs": [],
   "source": [
    "#Predict on test\n",
    "test_prediction <- predict(model, test, type=\"response\")"
   ]
  },
  {
   "cell_type": "code",
   "execution_count": 57,
   "metadata": {
    "collapsed": false
   },
   "outputs": [
    {
     "data": {
      "text/html": [
       "<dl class=dl-horizontal>\n",
       "\t<dt>1</dt>\n",
       "\t\t<dd>0.0334536795812485</dd>\n",
       "\t<dt>2</dt>\n",
       "\t\t<dd>0.119641661275679</dd>\n",
       "\t<dt>3</dt>\n",
       "\t\t<dd>0.0553739182953198</dd>\n",
       "\t<dt>4</dt>\n",
       "\t\t<dd>0.0427454452591198</dd>\n",
       "\t<dt>5</dt>\n",
       "\t\t<dd>0.0382007472958081</dd>\n",
       "\t<dt>6</dt>\n",
       "\t\t<dd>0.00655807206116041</dd>\n",
       "</dl>\n"
      ],
      "text/latex": [
       "\\begin{description*}\n",
       "\\item[1] 0.0334536795812485\n",
       "\\item[2] 0.119641661275679\n",
       "\\item[3] 0.0553739182953198\n",
       "\\item[4] 0.0427454452591198\n",
       "\\item[5] 0.0382007472958081\n",
       "\\item[6] 0.00655807206116041\n",
       "\\end{description*}\n"
      ],
      "text/markdown": [
       "1\n",
       ":   0.03345367958124852\n",
       ":   0.1196416612756793\n",
       ":   0.05537391829531984\n",
       ":   0.04274544525911985\n",
       ":   0.03820074729580816\n",
       ":   0.00655807206116041\n",
       "\n"
      ],
      "text/plain": [
       "          1           2           3           4           5           6 \n",
       "0.033453680 0.119641661 0.055373918 0.042745445 0.038200747 0.006558072 "
      ]
     },
     "execution_count": 57,
     "metadata": {},
     "output_type": "execute_result"
    }
   ],
   "source": [
    "head(test_prediction)"
   ]
  },
  {
   "cell_type": "code",
   "execution_count": 58,
   "metadata": {
    "collapsed": false
   },
   "outputs": [
    {
     "data": {
      "text/html": [
       "'numeric'"
      ],
      "text/latex": [
       "'numeric'"
      ],
      "text/markdown": [
       "'numeric'"
      ],
      "text/plain": [
       "[1] \"numeric\""
      ]
     },
     "execution_count": 58,
     "metadata": {},
     "output_type": "execute_result"
    }
   ],
   "source": [
    "class(test_prediction)"
   ]
  },
  {
   "cell_type": "code",
   "execution_count": 59,
   "metadata": {
    "collapsed": false
   },
   "outputs": [
    {
     "name": "stderr",
     "output_type": "stream",
     "text": [
      "Loading required package: gplots\n",
      "\n",
      "Attaching package: ‘gplots’\n",
      "\n",
      "The following object is masked from ‘package:stats’:\n",
      "\n",
      "    lowess\n",
      "\n"
     ]
    }
   ],
   "source": [
    "library(ROCR)"
   ]
  },
  {
   "cell_type": "markdown",
   "metadata": {},
   "source": [
    "### Computing Error Metrics"
   ]
  },
  {
   "cell_type": "code",
   "execution_count": 64,
   "metadata": {
    "collapsed": true
   },
   "outputs": [],
   "source": [
    "# True Positive Rate\n",
    "# False Positive Rate\n",
    "# Area Under the Curve\n",
    "# Precision\n",
    "# Recall"
   ]
  },
  {
   "cell_type": "markdown",
   "metadata": {},
   "source": [
    "<img src=\"img/Precisionrecall.png\">\n",
    "\n",
    "\n",
    "<img src =\"img/tpr_fpr.png\">\n",
    "\n",
    "\n",
    "<img src=\"img/accuracy_metrics.png\">\n",
    "\n",
    "*src: https://en.wikipedia.org/wiki/Precision_and_recall*"
   ]
  },
  {
   "cell_type": "code",
   "execution_count": 66,
   "metadata": {
    "collapsed": false
   },
   "outputs": [],
   "source": [
    "pr <- prediction(test_prediction, test$deposit)"
   ]
  },
  {
   "cell_type": "code",
   "execution_count": 67,
   "metadata": {
    "collapsed": true
   },
   "outputs": [],
   "source": [
    "prf <- performance(pr, measure = \"tpr\", x.measure = \"fpr\")"
   ]
  },
  {
   "cell_type": "code",
   "execution_count": 79,
   "metadata": {
    "collapsed": false
   },
   "outputs": [
    {
     "data": {
      "image/png": "[encoded data removed]",
      "image/svg+xml": [
       "<?xml version=\"1.0\" encoding=\"UTF-8\"?>\n",
       "<svg xmlns=\"http://www.w3.org/2000/svg\" xmlns:xlink=\"http://www.w3.org/1999/xlink\" width=\"504pt\" height=\"504pt\" viewBox=\"0 0 504 504\" version=\"1.1\">\n",
       "<defs>\n",
       "<g>\n",
       "<symbol overflow=\"visible\" id=\"glyph0-0\">\n",
       "<path style=\"stroke:none;\" d=\"M 0.390625 0 L 0.390625 -8.609375 L 7.21875 -8.609375 L 7.21875 0 Z M 6.140625 -1.078125 L 6.140625 -7.53125 L 1.46875 -7.53125 L 1.46875 -1.078125 Z M 6.140625 -1.078125 \"/>\n",
       "</symbol>\n",
       "<symbol overflow=\"visible\" id=\"glyph0-1\">\n",
       "<path style=\"stroke:none;\" d=\"M 1.03125 -8.609375 L 7 -8.609375 L 7 -7.546875 L 2.1875 -7.546875 L 2.1875 -4.9375 L 6.421875 -4.9375 L 6.421875 -3.921875 L 2.1875 -3.921875 L 2.1875 0 L 1.03125 0 Z M 1.03125 -8.609375 \"/>\n",
       "</symbol>\n",
       "<symbol overflow=\"visible\" id=\"glyph0-2\">\n",
       "<path style=\"stroke:none;\" d=\"M 1.578125 -1.671875 C 1.578125 -1.367188 1.6875 -1.128906 1.90625 -0.953125 C 2.132812 -0.773438 2.398438 -0.6875 2.703125 -0.6875 C 3.078125 -0.6875 3.4375 -0.769531 3.78125 -0.9375 C 4.375 -1.226562 4.671875 -1.695312 4.671875 -2.34375 L 4.671875 -3.1875 C 4.535156 -3.113281 4.363281 -3.046875 4.15625 -2.984375 C 3.957031 -2.929688 3.757812 -2.894531 3.5625 -2.875 L 2.9375 -2.796875 C 2.550781 -2.742188 2.257812 -2.660156 2.0625 -2.546875 C 1.738281 -2.367188 1.578125 -2.078125 1.578125 -1.671875 Z M 4.140625 -3.796875 C 4.378906 -3.828125 4.539062 -3.929688 4.625 -4.109375 C 4.664062 -4.203125 4.6875 -4.335938 4.6875 -4.515625 C 4.6875 -4.867188 4.554688 -5.125 4.296875 -5.28125 C 4.046875 -5.445312 3.6875 -5.53125 3.21875 -5.53125 C 2.664062 -5.53125 2.273438 -5.382812 2.046875 -5.09375 C 1.910156 -4.925781 1.820312 -4.679688 1.78125 -4.359375 L 0.796875 -4.359375 C 0.816406 -5.128906 1.066406 -5.664062 1.546875 -5.96875 C 2.035156 -6.269531 2.597656 -6.421875 3.234375 -6.421875 C 3.972656 -6.421875 4.570312 -6.28125 5.03125 -6 C 5.488281 -5.71875 5.71875 -5.28125 5.71875 -4.6875 L 5.71875 -1.078125 C 5.71875 -0.972656 5.738281 -0.882812 5.78125 -0.8125 C 5.832031 -0.75 5.929688 -0.71875 6.078125 -0.71875 C 6.117188 -0.71875 6.164062 -0.71875 6.21875 -0.71875 C 6.28125 -0.726562 6.347656 -0.738281 6.421875 -0.75 L 6.421875 0.03125 C 6.253906 0.0703125 6.125 0.0976562 6.03125 0.109375 C 5.945312 0.128906 5.832031 0.140625 5.6875 0.140625 C 5.320312 0.140625 5.0625 0.0078125 4.90625 -0.25 C 4.8125 -0.382812 4.75 -0.578125 4.71875 -0.828125 C 4.5 -0.546875 4.1875 -0.300781 3.78125 -0.09375 C 3.382812 0.113281 2.945312 0.21875 2.46875 0.21875 C 1.882812 0.21875 1.40625 0.0390625 1.03125 -0.3125 C 0.664062 -0.664062 0.484375 -1.109375 0.484375 -1.640625 C 0.484375 -2.222656 0.664062 -2.675781 1.03125 -3 C 1.394531 -3.320312 1.867188 -3.519531 2.453125 -3.59375 Z M 3.265625 -6.421875 Z M 3.265625 -6.421875 \"/>\n",
       "</symbol>\n",
       "<symbol overflow=\"visible\" id=\"glyph0-3\">\n",
       "<path style=\"stroke:none;\" d=\"M 0.796875 -8.609375 L 1.859375 -8.609375 L 1.859375 0 L 0.796875 0 Z M 0.796875 -8.609375 \"/>\n",
       "</symbol>\n",
       "<symbol overflow=\"visible\" id=\"glyph0-4\">\n",
       "<path style=\"stroke:none;\" d=\"M 1.40625 -1.96875 C 1.4375 -1.613281 1.523438 -1.34375 1.671875 -1.15625 C 1.929688 -0.820312 2.390625 -0.65625 3.046875 -0.65625 C 3.441406 -0.65625 3.785156 -0.738281 4.078125 -0.90625 C 4.378906 -1.070312 4.53125 -1.332031 4.53125 -1.6875 C 4.53125 -1.957031 4.410156 -2.164062 4.171875 -2.3125 C 4.015625 -2.394531 3.710938 -2.492188 3.265625 -2.609375 L 2.421875 -2.8125 C 1.890625 -2.945312 1.5 -3.097656 1.25 -3.265625 C 0.789062 -3.546875 0.5625 -3.941406 0.5625 -4.453125 C 0.5625 -5.046875 0.773438 -5.523438 1.203125 -5.890625 C 1.628906 -6.253906 2.207031 -6.4375 2.9375 -6.4375 C 3.875 -6.4375 4.550781 -6.160156 4.96875 -5.609375 C 5.238281 -5.253906 5.367188 -4.875 5.359375 -4.46875 L 4.359375 -4.46875 C 4.335938 -4.707031 4.253906 -4.925781 4.109375 -5.125 C 3.867188 -5.394531 3.445312 -5.53125 2.84375 -5.53125 C 2.445312 -5.53125 2.144531 -5.453125 1.9375 -5.296875 C 1.738281 -5.148438 1.640625 -4.953125 1.640625 -4.703125 C 1.640625 -4.429688 1.773438 -4.210938 2.046875 -4.046875 C 2.203125 -3.953125 2.429688 -3.867188 2.734375 -3.796875 L 3.421875 -3.625 C 4.179688 -3.4375 4.691406 -3.257812 4.953125 -3.09375 C 5.359375 -2.820312 5.5625 -2.394531 5.5625 -1.8125 C 5.5625 -1.257812 5.347656 -0.78125 4.921875 -0.375 C 4.503906 0.03125 3.863281 0.234375 3 0.234375 C 2.0625 0.234375 1.394531 0.0234375 1 -0.390625 C 0.613281 -0.816406 0.410156 -1.34375 0.390625 -1.96875 Z M 2.953125 -6.421875 Z M 2.953125 -6.421875 \"/>\n",
       "</symbol>\n",
       "<symbol overflow=\"visible\" id=\"glyph0-5\">\n",
       "<path style=\"stroke:none;\" d=\"M 3.390625 -6.421875 C 3.835938 -6.421875 4.269531 -6.316406 4.6875 -6.109375 C 5.101562 -5.898438 5.421875 -5.628906 5.640625 -5.296875 C 5.847656 -4.972656 5.988281 -4.601562 6.0625 -4.1875 C 6.125 -3.894531 6.15625 -3.429688 6.15625 -2.796875 L 1.546875 -2.796875 C 1.566406 -2.160156 1.71875 -1.648438 2 -1.265625 C 2.28125 -0.878906 2.71875 -0.6875 3.3125 -0.6875 C 3.863281 -0.6875 4.300781 -0.867188 4.625 -1.234375 C 4.8125 -1.441406 4.945312 -1.6875 5.03125 -1.96875 L 6.0625 -1.96875 C 6.039062 -1.738281 5.953125 -1.484375 5.796875 -1.203125 C 5.640625 -0.921875 5.46875 -0.6875 5.28125 -0.5 C 4.957031 -0.1875 4.554688 0.0195312 4.078125 0.125 C 3.828125 0.1875 3.539062 0.21875 3.21875 0.21875 C 2.4375 0.21875 1.773438 -0.0625 1.234375 -0.625 C 0.691406 -1.195312 0.421875 -1.992188 0.421875 -3.015625 C 0.421875 -4.023438 0.691406 -4.84375 1.234375 -5.46875 C 1.785156 -6.101562 2.503906 -6.421875 3.390625 -6.421875 Z M 5.0625 -3.640625 C 5.019531 -4.097656 4.921875 -4.460938 4.765625 -4.734375 C 4.484375 -5.242188 4.003906 -5.5 3.328125 -5.5 C 2.835938 -5.5 2.425781 -5.320312 2.09375 -4.96875 C 1.769531 -4.625 1.597656 -4.179688 1.578125 -3.640625 Z M 3.28125 -6.421875 Z M 3.28125 -6.421875 \"/>\n",
       "</symbol>\n",
       "<symbol overflow=\"visible\" id=\"glyph0-6\">\n",
       "<path style=\"stroke:none;\" d=\"\"/>\n",
       "</symbol>\n",
       "<symbol overflow=\"visible\" id=\"glyph0-7\">\n",
       "<path style=\"stroke:none;\" d=\"M 3.421875 -0.703125 C 3.910156 -0.703125 4.316406 -0.910156 4.640625 -1.328125 C 4.972656 -1.742188 5.140625 -2.359375 5.140625 -3.171875 C 5.140625 -3.671875 5.066406 -4.101562 4.921875 -4.46875 C 4.648438 -5.15625 4.148438 -5.5 3.421875 -5.5 C 2.691406 -5.5 2.191406 -5.132812 1.921875 -4.40625 C 1.773438 -4.019531 1.703125 -3.523438 1.703125 -2.921875 C 1.703125 -2.429688 1.773438 -2.019531 1.921875 -1.6875 C 2.191406 -1.03125 2.691406 -0.703125 3.421875 -0.703125 Z M 0.6875 -6.25 L 1.71875 -6.25 L 1.71875 -5.421875 C 1.925781 -5.703125 2.15625 -5.921875 2.40625 -6.078125 C 2.757812 -6.304688 3.175781 -6.421875 3.65625 -6.421875 C 4.375 -6.421875 4.976562 -6.148438 5.46875 -5.609375 C 5.96875 -5.066406 6.21875 -4.289062 6.21875 -3.28125 C 6.21875 -1.90625 5.859375 -0.925781 5.140625 -0.34375 C 4.691406 0.03125 4.164062 0.21875 3.5625 0.21875 C 3.09375 0.21875 2.695312 0.113281 2.375 -0.09375 C 2.1875 -0.21875 1.976562 -0.421875 1.75 -0.703125 L 1.75 2.5 L 0.6875 2.5 Z M 0.6875 -6.25 \"/>\n",
       "</symbol>\n",
       "<symbol overflow=\"visible\" id=\"glyph0-8\">\n",
       "<path style=\"stroke:none;\" d=\"M 3.265625 -0.6875 C 3.960938 -0.6875 4.441406 -0.945312 4.703125 -1.46875 C 4.960938 -2 5.09375 -2.585938 5.09375 -3.234375 C 5.09375 -3.828125 5 -4.304688 4.8125 -4.671875 C 4.507812 -5.242188 4 -5.53125 3.28125 -5.53125 C 2.632812 -5.53125 2.164062 -5.285156 1.875 -4.796875 C 1.582031 -4.304688 1.4375 -3.710938 1.4375 -3.015625 C 1.4375 -2.347656 1.582031 -1.789062 1.875 -1.34375 C 2.164062 -0.90625 2.628906 -0.6875 3.265625 -0.6875 Z M 3.3125 -6.453125 C 4.113281 -6.453125 4.789062 -6.179688 5.34375 -5.640625 C 5.90625 -5.109375 6.1875 -4.316406 6.1875 -3.265625 C 6.1875 -2.253906 5.941406 -1.414062 5.453125 -0.75 C 4.960938 -0.09375 4.203125 0.234375 3.171875 0.234375 C 2.304688 0.234375 1.617188 -0.0546875 1.109375 -0.640625 C 0.597656 -1.234375 0.34375 -2.019531 0.34375 -3 C 0.34375 -4.050781 0.609375 -4.890625 1.140625 -5.515625 C 1.679688 -6.140625 2.40625 -6.453125 3.3125 -6.453125 Z M 3.265625 -6.421875 Z M 3.265625 -6.421875 \"/>\n",
       "</symbol>\n",
       "<symbol overflow=\"visible\" id=\"glyph0-9\">\n",
       "<path style=\"stroke:none;\" d=\"M 0.78125 -6.25 L 1.84375 -6.25 L 1.84375 0 L 0.78125 0 Z M 0.78125 -8.609375 L 1.84375 -8.609375 L 1.84375 -7.40625 L 0.78125 -7.40625 Z M 0.78125 -8.609375 \"/>\n",
       "</symbol>\n",
       "<symbol overflow=\"visible\" id=\"glyph0-10\">\n",
       "<path style=\"stroke:none;\" d=\"M 0.984375 -8.03125 L 2.046875 -8.03125 L 2.046875 -6.28125 L 3.046875 -6.28125 L 3.046875 -5.421875 L 2.046875 -5.421875 L 2.046875 -1.3125 C 2.046875 -1.09375 2.125 -0.945312 2.28125 -0.875 C 2.351562 -0.832031 2.488281 -0.8125 2.6875 -0.8125 C 2.738281 -0.8125 2.789062 -0.8125 2.84375 -0.8125 C 2.90625 -0.820312 2.972656 -0.828125 3.046875 -0.828125 L 3.046875 0 C 2.929688 0.03125 2.804688 0.0507812 2.671875 0.0625 C 2.546875 0.0820312 2.40625 0.09375 2.25 0.09375 C 1.757812 0.09375 1.425781 -0.03125 1.25 -0.28125 C 1.070312 -0.53125 0.984375 -0.859375 0.984375 -1.265625 L 0.984375 -5.421875 L 0.140625 -5.421875 L 0.140625 -6.28125 L 0.984375 -6.28125 Z M 0.984375 -8.03125 \"/>\n",
       "</symbol>\n",
       "<symbol overflow=\"visible\" id=\"glyph0-11\">\n",
       "<path style=\"stroke:none;\" d=\"M 1.296875 -6.28125 L 2.96875 -1.171875 L 4.71875 -6.28125 L 5.875 -6.28125 L 3.5 0 L 2.375 0 L 0.0625 -6.28125 Z M 1.296875 -6.28125 \"/>\n",
       "</symbol>\n",
       "<symbol overflow=\"visible\" id=\"glyph0-12\">\n",
       "<path style=\"stroke:none;\" d=\"M 0.796875 -6.28125 L 1.8125 -6.28125 L 1.8125 -5.1875 C 1.882812 -5.40625 2.082031 -5.664062 2.40625 -5.96875 C 2.726562 -6.269531 3.097656 -6.421875 3.515625 -6.421875 C 3.535156 -6.421875 3.566406 -6.414062 3.609375 -6.40625 C 3.660156 -6.40625 3.742188 -6.398438 3.859375 -6.390625 L 3.859375 -5.28125 C 3.796875 -5.289062 3.738281 -5.296875 3.6875 -5.296875 C 3.632812 -5.296875 3.578125 -5.296875 3.515625 -5.296875 C 2.984375 -5.296875 2.570312 -5.125 2.28125 -4.78125 C 2 -4.445312 1.859375 -4.054688 1.859375 -3.609375 L 1.859375 0 L 0.796875 0 Z M 0.796875 -6.28125 \"/>\n",
       "</symbol>\n",
       "<symbol overflow=\"visible\" id=\"glyph0-13\">\n",
       "<path style=\"stroke:none;\" d=\"M 3.25 -8.390625 C 4.332031 -8.390625 5.117188 -7.941406 5.609375 -7.046875 C 5.984375 -6.359375 6.171875 -5.410156 6.171875 -4.203125 C 6.171875 -3.066406 6 -2.125 5.65625 -1.375 C 5.164062 -0.300781 4.359375 0.234375 3.234375 0.234375 C 2.234375 0.234375 1.484375 -0.203125 0.984375 -1.078125 C 0.578125 -1.816406 0.375 -2.800781 0.375 -4.03125 C 0.375 -4.976562 0.5 -5.796875 0.75 -6.484375 C 1.207031 -7.753906 2.039062 -8.390625 3.25 -8.390625 Z M 3.234375 -0.734375 C 3.785156 -0.734375 4.222656 -0.972656 4.546875 -1.453125 C 4.867188 -1.941406 5.03125 -2.847656 5.03125 -4.171875 C 5.03125 -5.117188 4.910156 -5.898438 4.671875 -6.515625 C 4.441406 -7.128906 3.988281 -7.4375 3.3125 -7.4375 C 2.6875 -7.4375 2.226562 -7.144531 1.9375 -6.5625 C 1.65625 -5.976562 1.515625 -5.117188 1.515625 -3.984375 C 1.515625 -3.128906 1.609375 -2.441406 1.796875 -1.921875 C 2.078125 -1.128906 2.554688 -0.734375 3.234375 -0.734375 Z M 3.234375 -0.734375 \"/>\n",
       "</symbol>\n",
       "<symbol overflow=\"visible\" id=\"glyph0-14\">\n",
       "<path style=\"stroke:none;\" d=\"M 1.03125 -1.28125 L 2.25 -1.28125 L 2.25 0 L 1.03125 0 Z M 1.03125 -1.28125 \"/>\n",
       "</symbol>\n",
       "<symbol overflow=\"visible\" id=\"glyph0-15\">\n",
       "<path style=\"stroke:none;\" d=\"M 0.375 0 C 0.414062 -0.71875 0.566406 -1.34375 0.828125 -1.875 C 1.085938 -2.414062 1.59375 -2.90625 2.34375 -3.34375 L 3.46875 -4 C 3.96875 -4.289062 4.320312 -4.539062 4.53125 -4.75 C 4.851562 -5.070312 5.015625 -5.441406 5.015625 -5.859375 C 5.015625 -6.347656 4.863281 -6.734375 4.5625 -7.015625 C 4.269531 -7.304688 3.882812 -7.453125 3.40625 -7.453125 C 2.675781 -7.453125 2.175781 -7.179688 1.90625 -6.640625 C 1.75 -6.335938 1.664062 -5.929688 1.65625 -5.421875 L 0.578125 -5.421875 C 0.585938 -6.148438 0.722656 -6.742188 0.984375 -7.203125 C 1.441406 -8.015625 2.25 -8.421875 3.40625 -8.421875 C 4.363281 -8.421875 5.0625 -8.160156 5.5 -7.640625 C 5.945312 -7.117188 6.171875 -6.539062 6.171875 -5.90625 C 6.171875 -5.238281 5.9375 -4.664062 5.46875 -4.1875 C 5.195312 -3.90625 4.707031 -3.566406 4 -3.171875 L 3.1875 -2.734375 C 2.8125 -2.523438 2.515625 -2.320312 2.296875 -2.125 C 1.898438 -1.789062 1.648438 -1.414062 1.546875 -1 L 6.140625 -1 L 6.140625 0 Z M 0.375 0 \"/>\n",
       "</symbol>\n",
       "<symbol overflow=\"visible\" id=\"glyph0-16\">\n",
       "<path style=\"stroke:none;\" d=\"M 3.96875 -2.96875 L 3.96875 -6.78125 L 1.28125 -2.96875 Z M 3.984375 0 L 3.984375 -2.046875 L 0.3125 -2.046875 L 0.3125 -3.078125 L 4.15625 -8.421875 L 5.046875 -8.421875 L 5.046875 -2.96875 L 6.28125 -2.96875 L 6.28125 -2.046875 L 5.046875 -2.046875 L 5.046875 0 Z M 3.984375 0 \"/>\n",
       "</symbol>\n",
       "<symbol overflow=\"visible\" id=\"glyph0-17\">\n",
       "<path style=\"stroke:none;\" d=\"M 3.515625 -8.421875 C 4.453125 -8.421875 5.101562 -8.175781 5.46875 -7.6875 C 5.84375 -7.207031 6.03125 -6.707031 6.03125 -6.1875 L 4.984375 -6.1875 C 4.921875 -6.519531 4.820312 -6.78125 4.6875 -6.96875 C 4.425781 -7.320312 4.039062 -7.5 3.53125 -7.5 C 2.9375 -7.5 2.460938 -7.222656 2.109375 -6.671875 C 1.765625 -6.128906 1.578125 -5.351562 1.546875 -4.34375 C 1.785156 -4.695312 2.085938 -4.960938 2.453125 -5.140625 C 2.785156 -5.296875 3.160156 -5.375 3.578125 -5.375 C 4.285156 -5.375 4.898438 -5.148438 5.421875 -4.703125 C 5.941406 -4.253906 6.203125 -3.582031 6.203125 -2.6875 C 6.203125 -1.925781 5.953125 -1.25 5.453125 -0.65625 C 4.960938 -0.0703125 4.257812 0.21875 3.34375 0.21875 C 2.550781 0.21875 1.867188 -0.078125 1.296875 -0.671875 C 0.734375 -1.273438 0.453125 -2.28125 0.453125 -3.6875 C 0.453125 -4.726562 0.578125 -5.613281 0.828125 -6.34375 C 1.316406 -7.726562 2.210938 -8.421875 3.515625 -8.421875 Z M 3.4375 -0.71875 C 3.988281 -0.71875 4.398438 -0.90625 4.671875 -1.28125 C 4.953125 -1.65625 5.09375 -2.097656 5.09375 -2.609375 C 5.09375 -3.035156 4.96875 -3.441406 4.71875 -3.828125 C 4.476562 -4.210938 4.03125 -4.40625 3.375 -4.40625 C 2.925781 -4.40625 2.53125 -4.253906 2.1875 -3.953125 C 1.84375 -3.660156 1.671875 -3.210938 1.671875 -2.609375 C 1.671875 -2.078125 1.828125 -1.628906 2.140625 -1.265625 C 2.453125 -0.898438 2.882812 -0.71875 3.4375 -0.71875 Z M 3.4375 -0.71875 \"/>\n",
       "</symbol>\n",
       "<symbol overflow=\"visible\" id=\"glyph0-18\">\n",
       "<path style=\"stroke:none;\" d=\"M 3.265625 -4.875 C 3.734375 -4.875 4.097656 -5.003906 4.359375 -5.265625 C 4.617188 -5.523438 4.75 -5.832031 4.75 -6.1875 C 4.75 -6.5 4.625 -6.785156 4.375 -7.046875 C 4.125 -7.316406 3.742188 -7.453125 3.234375 -7.453125 C 2.722656 -7.453125 2.351562 -7.316406 2.125 -7.046875 C 1.894531 -6.785156 1.78125 -6.484375 1.78125 -6.140625 C 1.78125 -5.742188 1.925781 -5.429688 2.21875 -5.203125 C 2.519531 -4.984375 2.867188 -4.875 3.265625 -4.875 Z M 3.328125 -0.71875 C 3.816406 -0.71875 4.222656 -0.847656 4.546875 -1.109375 C 4.867188 -1.378906 5.03125 -1.773438 5.03125 -2.296875 C 5.03125 -2.835938 4.863281 -3.25 4.53125 -3.53125 C 4.195312 -3.8125 3.769531 -3.953125 3.25 -3.953125 C 2.75 -3.953125 2.335938 -3.804688 2.015625 -3.515625 C 1.703125 -3.234375 1.546875 -2.835938 1.546875 -2.328125 C 1.546875 -1.890625 1.691406 -1.507812 1.984375 -1.1875 C 2.273438 -0.875 2.722656 -0.71875 3.328125 -0.71875 Z M 1.828125 -4.46875 C 1.535156 -4.59375 1.304688 -4.738281 1.140625 -4.90625 C 0.835938 -5.21875 0.6875 -5.625 0.6875 -6.125 C 0.6875 -6.75 0.910156 -7.285156 1.359375 -7.734375 C 1.816406 -8.191406 2.457031 -8.421875 3.28125 -8.421875 C 4.09375 -8.421875 4.722656 -8.207031 5.171875 -7.78125 C 5.628906 -7.351562 5.859375 -6.859375 5.859375 -6.296875 C 5.859375 -5.773438 5.726562 -5.347656 5.46875 -5.015625 C 5.320312 -4.835938 5.09375 -4.660156 4.78125 -4.484375 C 5.125 -4.328125 5.394531 -4.144531 5.59375 -3.9375 C 5.96875 -3.539062 6.15625 -3.03125 6.15625 -2.40625 C 6.15625 -1.664062 5.90625 -1.039062 5.40625 -0.53125 C 4.914062 -0.0195312 4.21875 0.234375 3.3125 0.234375 C 2.488281 0.234375 1.796875 0.015625 1.234375 -0.421875 C 0.671875 -0.867188 0.390625 -1.515625 0.390625 -2.359375 C 0.390625 -2.847656 0.507812 -3.273438 0.75 -3.640625 C 0.988281 -4.003906 1.347656 -4.28125 1.828125 -4.46875 Z M 1.828125 -4.46875 \"/>\n",
       "</symbol>\n",
       "<symbol overflow=\"visible\" id=\"glyph0-19\">\n",
       "<path style=\"stroke:none;\" d=\"M 1.15625 -5.9375 L 1.15625 -6.75 C 1.914062 -6.820312 2.441406 -6.945312 2.734375 -7.125 C 3.035156 -7.300781 3.265625 -7.710938 3.421875 -8.359375 L 4.25 -8.359375 L 4.25 0 L 3.125 0 L 3.125 -5.9375 Z M 1.15625 -5.9375 \"/>\n",
       "</symbol>\n",
       "<symbol overflow=\"visible\" id=\"glyph1-0\">\n",
       "<path style=\"stroke:none;\" d=\"M 0 -0.390625 L -8.609375 -0.390625 L -8.609375 -7.21875 L 0 -7.21875 Z M -1.078125 -6.140625 L -7.53125 -6.140625 L -7.53125 -1.46875 L -1.078125 -1.46875 Z M -1.078125 -6.140625 \"/>\n",
       "</symbol>\n",
       "<symbol overflow=\"visible\" id=\"glyph1-1\">\n",
       "<path style=\"stroke:none;\" d=\"M -8.609375 -7.171875 L -7.578125 -7.171875 L -7.578125 -4.28125 L 0 -4.28125 L 0 -3.09375 L -7.578125 -3.09375 L -7.578125 -0.1875 L -8.609375 -0.1875 Z M -8.609375 -7.171875 \"/>\n",
       "</symbol>\n",
       "<symbol overflow=\"visible\" id=\"glyph1-2\">\n",
       "<path style=\"stroke:none;\" d=\"M -6.28125 -0.796875 L -6.28125 -1.8125 L -5.1875 -1.8125 C -5.40625 -1.882812 -5.664062 -2.082031 -5.96875 -2.40625 C -6.269531 -2.726562 -6.421875 -3.097656 -6.421875 -3.515625 C -6.421875 -3.535156 -6.414062 -3.566406 -6.40625 -3.609375 C -6.40625 -3.660156 -6.398438 -3.742188 -6.390625 -3.859375 L -5.28125 -3.859375 C -5.289062 -3.796875 -5.296875 -3.738281 -5.296875 -3.6875 C -5.296875 -3.632812 -5.296875 -3.578125 -5.296875 -3.515625 C -5.296875 -2.984375 -5.125 -2.570312 -4.78125 -2.28125 C -4.445312 -2 -4.054688 -1.859375 -3.609375 -1.859375 L 0 -1.859375 L 0 -0.796875 Z M -6.28125 -0.796875 \"/>\n",
       "</symbol>\n",
       "<symbol overflow=\"visible\" id=\"glyph1-3\">\n",
       "<path style=\"stroke:none;\" d=\"M -6.28125 -1.828125 L -2.109375 -1.828125 C -1.785156 -1.828125 -1.523438 -1.878906 -1.328125 -1.984375 C -0.953125 -2.171875 -0.765625 -2.519531 -0.765625 -3.03125 C -0.765625 -3.757812 -1.09375 -4.257812 -1.75 -4.53125 C -2.101562 -4.675781 -2.582031 -4.75 -3.1875 -4.75 L -6.28125 -4.75 L -6.28125 -5.796875 L 0 -5.796875 L 0 -4.8125 L -0.921875 -4.8125 C -0.679688 -4.675781 -0.484375 -4.507812 -0.328125 -4.3125 C 0.00390625 -3.90625 0.171875 -3.414062 0.171875 -2.84375 C 0.171875 -1.945312 -0.128906 -1.335938 -0.734375 -1.015625 C -1.046875 -0.835938 -1.472656 -0.75 -2.015625 -0.75 L -6.28125 -0.75 Z M -6.421875 -3.28125 Z M -6.421875 -3.28125 \"/>\n",
       "</symbol>\n",
       "<symbol overflow=\"visible\" id=\"glyph1-4\">\n",
       "<path style=\"stroke:none;\" d=\"M -6.421875 -3.390625 C -6.421875 -3.835938 -6.316406 -4.269531 -6.109375 -4.6875 C -5.898438 -5.101562 -5.628906 -5.421875 -5.296875 -5.640625 C -4.972656 -5.847656 -4.601562 -5.988281 -4.1875 -6.0625 C -3.894531 -6.125 -3.429688 -6.15625 -2.796875 -6.15625 L -2.796875 -1.546875 C -2.160156 -1.566406 -1.648438 -1.71875 -1.265625 -2 C -0.878906 -2.28125 -0.6875 -2.71875 -0.6875 -3.3125 C -0.6875 -3.863281 -0.867188 -4.300781 -1.234375 -4.625 C -1.441406 -4.8125 -1.6875 -4.945312 -1.96875 -5.03125 L -1.96875 -6.0625 C -1.738281 -6.039062 -1.484375 -5.953125 -1.203125 -5.796875 C -0.921875 -5.640625 -0.6875 -5.46875 -0.5 -5.28125 C -0.1875 -4.957031 0.0195312 -4.554688 0.125 -4.078125 C 0.1875 -3.828125 0.21875 -3.539062 0.21875 -3.21875 C 0.21875 -2.4375 -0.0625 -1.773438 -0.625 -1.234375 C -1.195312 -0.691406 -1.992188 -0.421875 -3.015625 -0.421875 C -4.023438 -0.421875 -4.84375 -0.691406 -5.46875 -1.234375 C -6.101562 -1.785156 -6.421875 -2.503906 -6.421875 -3.390625 Z M -3.640625 -5.0625 C -4.097656 -5.019531 -4.460938 -4.921875 -4.734375 -4.765625 C -5.242188 -4.484375 -5.5 -4.003906 -5.5 -3.328125 C -5.5 -2.835938 -5.320312 -2.425781 -4.96875 -2.09375 C -4.625 -1.769531 -4.179688 -1.597656 -3.640625 -1.578125 Z M -6.421875 -3.28125 Z M -6.421875 -3.28125 \"/>\n",
       "</symbol>\n",
       "<symbol overflow=\"visible\" id=\"glyph1-5\">\n",
       "<path style=\"stroke:none;\" d=\"\"/>\n",
       "</symbol>\n",
       "<symbol overflow=\"visible\" id=\"glyph1-6\">\n",
       "<path style=\"stroke:none;\" d=\"M -0.703125 -3.421875 C -0.703125 -3.910156 -0.910156 -4.316406 -1.328125 -4.640625 C -1.742188 -4.972656 -2.359375 -5.140625 -3.171875 -5.140625 C -3.671875 -5.140625 -4.101562 -5.066406 -4.46875 -4.921875 C -5.15625 -4.648438 -5.5 -4.148438 -5.5 -3.421875 C -5.5 -2.691406 -5.132812 -2.191406 -4.40625 -1.921875 C -4.019531 -1.773438 -3.523438 -1.703125 -2.921875 -1.703125 C -2.429688 -1.703125 -2.019531 -1.773438 -1.6875 -1.921875 C -1.03125 -2.191406 -0.703125 -2.691406 -0.703125 -3.421875 Z M -6.25 -0.6875 L -6.25 -1.71875 L -5.421875 -1.71875 C -5.703125 -1.925781 -5.921875 -2.15625 -6.078125 -2.40625 C -6.304688 -2.757812 -6.421875 -3.175781 -6.421875 -3.65625 C -6.421875 -4.375 -6.148438 -4.976562 -5.609375 -5.46875 C -5.066406 -5.96875 -4.289062 -6.21875 -3.28125 -6.21875 C -1.90625 -6.21875 -0.925781 -5.859375 -0.34375 -5.140625 C 0.03125 -4.691406 0.21875 -4.164062 0.21875 -3.5625 C 0.21875 -3.09375 0.113281 -2.695312 -0.09375 -2.375 C -0.21875 -2.1875 -0.421875 -1.976562 -0.703125 -1.75 L 2.5 -1.75 L 2.5 -0.6875 Z M -6.25 -0.6875 \"/>\n",
       "</symbol>\n",
       "<symbol overflow=\"visible\" id=\"glyph1-7\">\n",
       "<path style=\"stroke:none;\" d=\"M -0.6875 -3.265625 C -0.6875 -3.960938 -0.945312 -4.441406 -1.46875 -4.703125 C -2 -4.960938 -2.585938 -5.09375 -3.234375 -5.09375 C -3.828125 -5.09375 -4.304688 -5 -4.671875 -4.8125 C -5.242188 -4.507812 -5.53125 -4 -5.53125 -3.28125 C -5.53125 -2.632812 -5.285156 -2.164062 -4.796875 -1.875 C -4.304688 -1.582031 -3.710938 -1.4375 -3.015625 -1.4375 C -2.347656 -1.4375 -1.789062 -1.582031 -1.34375 -1.875 C -0.90625 -2.164062 -0.6875 -2.628906 -0.6875 -3.265625 Z M -6.453125 -3.3125 C -6.453125 -4.113281 -6.179688 -4.789062 -5.640625 -5.34375 C -5.109375 -5.90625 -4.316406 -6.1875 -3.265625 -6.1875 C -2.253906 -6.1875 -1.414062 -5.941406 -0.75 -5.453125 C -0.09375 -4.960938 0.234375 -4.203125 0.234375 -3.171875 C 0.234375 -2.304688 -0.0546875 -1.617188 -0.640625 -1.109375 C -1.234375 -0.597656 -2.019531 -0.34375 -3 -0.34375 C -4.050781 -0.34375 -4.890625 -0.609375 -5.515625 -1.140625 C -6.140625 -1.679688 -6.453125 -2.40625 -6.453125 -3.3125 Z M -6.421875 -3.265625 Z M -6.421875 -3.265625 \"/>\n",
       "</symbol>\n",
       "<symbol overflow=\"visible\" id=\"glyph1-8\">\n",
       "<path style=\"stroke:none;\" d=\"M -1.96875 -1.40625 C -1.613281 -1.4375 -1.34375 -1.523438 -1.15625 -1.671875 C -0.820312 -1.929688 -0.65625 -2.390625 -0.65625 -3.046875 C -0.65625 -3.441406 -0.738281 -3.785156 -0.90625 -4.078125 C -1.070312 -4.378906 -1.332031 -4.53125 -1.6875 -4.53125 C -1.957031 -4.53125 -2.164062 -4.410156 -2.3125 -4.171875 C -2.394531 -4.015625 -2.492188 -3.710938 -2.609375 -3.265625 L -2.8125 -2.421875 C -2.945312 -1.890625 -3.097656 -1.5 -3.265625 -1.25 C -3.546875 -0.789062 -3.941406 -0.5625 -4.453125 -0.5625 C -5.046875 -0.5625 -5.523438 -0.773438 -5.890625 -1.203125 C -6.253906 -1.628906 -6.4375 -2.207031 -6.4375 -2.9375 C -6.4375 -3.875 -6.160156 -4.550781 -5.609375 -4.96875 C -5.253906 -5.238281 -4.875 -5.367188 -4.46875 -5.359375 L -4.46875 -4.359375 C -4.707031 -4.335938 -4.925781 -4.253906 -5.125 -4.109375 C -5.394531 -3.867188 -5.53125 -3.445312 -5.53125 -2.84375 C -5.53125 -2.445312 -5.453125 -2.144531 -5.296875 -1.9375 C -5.148438 -1.738281 -4.953125 -1.640625 -4.703125 -1.640625 C -4.429688 -1.640625 -4.210938 -1.773438 -4.046875 -2.046875 C -3.953125 -2.203125 -3.867188 -2.429688 -3.796875 -2.734375 L -3.625 -3.421875 C -3.4375 -4.179688 -3.257812 -4.691406 -3.09375 -4.953125 C -2.820312 -5.359375 -2.394531 -5.5625 -1.8125 -5.5625 C -1.257812 -5.5625 -0.78125 -5.347656 -0.375 -4.921875 C 0.03125 -4.503906 0.234375 -3.863281 0.234375 -3 C 0.234375 -2.0625 0.0234375 -1.394531 -0.390625 -1 C -0.816406 -0.613281 -1.34375 -0.410156 -1.96875 -0.390625 Z M -6.421875 -2.953125 Z M -6.421875 -2.953125 \"/>\n",
       "</symbol>\n",
       "<symbol overflow=\"visible\" id=\"glyph1-9\">\n",
       "<path style=\"stroke:none;\" d=\"M -6.25 -0.78125 L -6.25 -1.84375 L 0 -1.84375 L 0 -0.78125 Z M -8.609375 -0.78125 L -8.609375 -1.84375 L -7.40625 -1.84375 L -7.40625 -0.78125 Z M -8.609375 -0.78125 \"/>\n",
       "</symbol>\n",
       "<symbol overflow=\"visible\" id=\"glyph1-10\">\n",
       "<path style=\"stroke:none;\" d=\"M -8.03125 -0.984375 L -8.03125 -2.046875 L -6.28125 -2.046875 L -6.28125 -3.046875 L -5.421875 -3.046875 L -5.421875 -2.046875 L -1.3125 -2.046875 C -1.09375 -2.046875 -0.945312 -2.125 -0.875 -2.28125 C -0.832031 -2.351562 -0.8125 -2.488281 -0.8125 -2.6875 C -0.8125 -2.738281 -0.8125 -2.789062 -0.8125 -2.84375 C -0.820312 -2.90625 -0.828125 -2.972656 -0.828125 -3.046875 L 0 -3.046875 C 0.03125 -2.929688 0.0507812 -2.804688 0.0625 -2.671875 C 0.0820312 -2.546875 0.09375 -2.40625 0.09375 -2.25 C 0.09375 -1.757812 -0.03125 -1.425781 -0.28125 -1.25 C -0.53125 -1.070312 -0.859375 -0.984375 -1.265625 -0.984375 L -5.421875 -0.984375 L -5.421875 -0.140625 L -6.28125 -0.140625 L -6.28125 -0.984375 Z M -8.03125 -0.984375 \"/>\n",
       "</symbol>\n",
       "<symbol overflow=\"visible\" id=\"glyph1-11\">\n",
       "<path style=\"stroke:none;\" d=\"M -6.28125 -1.296875 L -1.171875 -2.96875 L -6.28125 -4.71875 L -6.28125 -5.875 L 0 -3.5 L 0 -2.375 L -6.28125 -0.0625 Z M -6.28125 -1.296875 \"/>\n",
       "</symbol>\n",
       "<symbol overflow=\"visible\" id=\"glyph1-12\">\n",
       "<path style=\"stroke:none;\" d=\"M -1.671875 -1.578125 C -1.367188 -1.578125 -1.128906 -1.6875 -0.953125 -1.90625 C -0.773438 -2.132812 -0.6875 -2.398438 -0.6875 -2.703125 C -0.6875 -3.078125 -0.769531 -3.4375 -0.9375 -3.78125 C -1.226562 -4.375 -1.695312 -4.671875 -2.34375 -4.671875 L -3.1875 -4.671875 C -3.113281 -4.535156 -3.046875 -4.363281 -2.984375 -4.15625 C -2.929688 -3.957031 -2.894531 -3.757812 -2.875 -3.5625 L -2.796875 -2.9375 C -2.742188 -2.550781 -2.660156 -2.257812 -2.546875 -2.0625 C -2.367188 -1.738281 -2.078125 -1.578125 -1.671875 -1.578125 Z M -3.796875 -4.140625 C -3.828125 -4.378906 -3.929688 -4.539062 -4.109375 -4.625 C -4.203125 -4.664062 -4.335938 -4.6875 -4.515625 -4.6875 C -4.867188 -4.6875 -5.125 -4.554688 -5.28125 -4.296875 C -5.445312 -4.046875 -5.53125 -3.6875 -5.53125 -3.21875 C -5.53125 -2.664062 -5.382812 -2.273438 -5.09375 -2.046875 C -4.925781 -1.910156 -4.679688 -1.820312 -4.359375 -1.78125 L -4.359375 -0.796875 C -5.128906 -0.816406 -5.664062 -1.066406 -5.96875 -1.546875 C -6.269531 -2.035156 -6.421875 -2.597656 -6.421875 -3.234375 C -6.421875 -3.972656 -6.28125 -4.570312 -6 -5.03125 C -5.71875 -5.488281 -5.28125 -5.71875 -4.6875 -5.71875 L -1.078125 -5.71875 C -0.972656 -5.71875 -0.882812 -5.738281 -0.8125 -5.78125 C -0.75 -5.832031 -0.71875 -5.929688 -0.71875 -6.078125 C -0.71875 -6.117188 -0.71875 -6.164062 -0.71875 -6.21875 C -0.726562 -6.28125 -0.738281 -6.347656 -0.75 -6.421875 L 0.03125 -6.421875 C 0.0703125 -6.253906 0.0976562 -6.125 0.109375 -6.03125 C 0.128906 -5.945312 0.140625 -5.832031 0.140625 -5.6875 C 0.140625 -5.320312 0.0078125 -5.0625 -0.25 -4.90625 C -0.382812 -4.8125 -0.578125 -4.75 -0.828125 -4.71875 C -0.546875 -4.5 -0.300781 -4.1875 -0.09375 -3.78125 C 0.113281 -3.382812 0.21875 -2.945312 0.21875 -2.46875 C 0.21875 -1.882812 0.0390625 -1.40625 -0.3125 -1.03125 C -0.664062 -0.664062 -1.109375 -0.484375 -1.640625 -0.484375 C -2.222656 -0.484375 -2.675781 -0.664062 -3 -1.03125 C -3.320312 -1.394531 -3.519531 -1.867188 -3.59375 -2.453125 Z M -6.421875 -3.265625 Z M -6.421875 -3.265625 \"/>\n",
       "</symbol>\n",
       "<symbol overflow=\"visible\" id=\"glyph1-13\">\n",
       "<path style=\"stroke:none;\" d=\"M -8.390625 -3.25 C -8.390625 -4.332031 -7.941406 -5.117188 -7.046875 -5.609375 C -6.359375 -5.984375 -5.410156 -6.171875 -4.203125 -6.171875 C -3.066406 -6.171875 -2.125 -6 -1.375 -5.65625 C -0.300781 -5.164062 0.234375 -4.359375 0.234375 -3.234375 C 0.234375 -2.234375 -0.203125 -1.484375 -1.078125 -0.984375 C -1.816406 -0.578125 -2.800781 -0.375 -4.03125 -0.375 C -4.976562 -0.375 -5.796875 -0.5 -6.484375 -0.75 C -7.753906 -1.207031 -8.390625 -2.039062 -8.390625 -3.25 Z M -0.734375 -3.234375 C -0.734375 -3.785156 -0.972656 -4.222656 -1.453125 -4.546875 C -1.941406 -4.867188 -2.847656 -5.03125 -4.171875 -5.03125 C -5.117188 -5.03125 -5.898438 -4.910156 -6.515625 -4.671875 C -7.128906 -4.441406 -7.4375 -3.988281 -7.4375 -3.3125 C -7.4375 -2.6875 -7.144531 -2.226562 -6.5625 -1.9375 C -5.976562 -1.65625 -5.117188 -1.515625 -3.984375 -1.515625 C -3.128906 -1.515625 -2.441406 -1.609375 -1.921875 -1.796875 C -1.128906 -2.078125 -0.734375 -2.554688 -0.734375 -3.234375 Z M -0.734375 -3.234375 \"/>\n",
       "</symbol>\n",
       "<symbol overflow=\"visible\" id=\"glyph1-14\">\n",
       "<path style=\"stroke:none;\" d=\"M -1.28125 -1.03125 L -1.28125 -2.25 L 0 -2.25 L 0 -1.03125 Z M -1.28125 -1.03125 \"/>\n",
       "</symbol>\n",
       "<symbol overflow=\"visible\" id=\"glyph1-15\">\n",
       "<path style=\"stroke:none;\" d=\"M 0 -0.375 C -0.71875 -0.414062 -1.34375 -0.566406 -1.875 -0.828125 C -2.414062 -1.085938 -2.90625 -1.59375 -3.34375 -2.34375 L -4 -3.46875 C -4.289062 -3.96875 -4.539062 -4.320312 -4.75 -4.53125 C -5.070312 -4.851562 -5.441406 -5.015625 -5.859375 -5.015625 C -6.347656 -5.015625 -6.734375 -4.863281 -7.015625 -4.5625 C -7.304688 -4.269531 -7.453125 -3.882812 -7.453125 -3.40625 C -7.453125 -2.675781 -7.179688 -2.175781 -6.640625 -1.90625 C -6.335938 -1.75 -5.929688 -1.664062 -5.421875 -1.65625 L -5.421875 -0.578125 C -6.148438 -0.585938 -6.742188 -0.722656 -7.203125 -0.984375 C -8.015625 -1.441406 -8.421875 -2.25 -8.421875 -3.40625 C -8.421875 -4.363281 -8.160156 -5.0625 -7.640625 -5.5 C -7.117188 -5.945312 -6.539062 -6.171875 -5.90625 -6.171875 C -5.238281 -6.171875 -4.664062 -5.9375 -4.1875 -5.46875 C -3.90625 -5.195312 -3.566406 -4.707031 -3.171875 -4 L -2.734375 -3.1875 C -2.523438 -2.8125 -2.320312 -2.515625 -2.125 -2.296875 C -1.789062 -1.898438 -1.414062 -1.648438 -1 -1.546875 L -1 -6.140625 L 0 -6.140625 Z M 0 -0.375 \"/>\n",
       "</symbol>\n",
       "<symbol overflow=\"visible\" id=\"glyph1-16\">\n",
       "<path style=\"stroke:none;\" d=\"M -2.96875 -3.96875 L -6.78125 -3.96875 L -2.96875 -1.28125 Z M 0 -3.984375 L -2.046875 -3.984375 L -2.046875 -0.3125 L -3.078125 -0.3125 L -8.421875 -4.15625 L -8.421875 -5.046875 L -2.96875 -5.046875 L -2.96875 -6.28125 L -2.046875 -6.28125 L -2.046875 -5.046875 L 0 -5.046875 Z M 0 -3.984375 \"/>\n",
       "</symbol>\n",
       "<symbol overflow=\"visible\" id=\"glyph1-17\">\n",
       "<path style=\"stroke:none;\" d=\"M -8.421875 -3.515625 C -8.421875 -4.453125 -8.175781 -5.101562 -7.6875 -5.46875 C -7.207031 -5.84375 -6.707031 -6.03125 -6.1875 -6.03125 L -6.1875 -4.984375 C -6.519531 -4.921875 -6.78125 -4.820312 -6.96875 -4.6875 C -7.320312 -4.425781 -7.5 -4.039062 -7.5 -3.53125 C -7.5 -2.9375 -7.222656 -2.460938 -6.671875 -2.109375 C -6.128906 -1.765625 -5.351562 -1.578125 -4.34375 -1.546875 C -4.695312 -1.785156 -4.960938 -2.085938 -5.140625 -2.453125 C -5.296875 -2.785156 -5.375 -3.160156 -5.375 -3.578125 C -5.375 -4.285156 -5.148438 -4.898438 -4.703125 -5.421875 C -4.253906 -5.941406 -3.582031 -6.203125 -2.6875 -6.203125 C -1.925781 -6.203125 -1.25 -5.953125 -0.65625 -5.453125 C -0.0703125 -4.960938 0.21875 -4.257812 0.21875 -3.34375 C 0.21875 -2.550781 -0.078125 -1.867188 -0.671875 -1.296875 C -1.273438 -0.734375 -2.28125 -0.453125 -3.6875 -0.453125 C -4.726562 -0.453125 -5.613281 -0.578125 -6.34375 -0.828125 C -7.726562 -1.316406 -8.421875 -2.210938 -8.421875 -3.515625 Z M -0.71875 -3.4375 C -0.71875 -3.988281 -0.90625 -4.398438 -1.28125 -4.671875 C -1.65625 -4.953125 -2.097656 -5.09375 -2.609375 -5.09375 C -3.035156 -5.09375 -3.441406 -4.96875 -3.828125 -4.71875 C -4.210938 -4.476562 -4.40625 -4.03125 -4.40625 -3.375 C -4.40625 -2.925781 -4.253906 -2.53125 -3.953125 -2.1875 C -3.660156 -1.84375 -3.210938 -1.671875 -2.609375 -1.671875 C -2.078125 -1.671875 -1.628906 -1.828125 -1.265625 -2.140625 C -0.898438 -2.453125 -0.71875 -2.882812 -0.71875 -3.4375 Z M -0.71875 -3.4375 \"/>\n",
       "</symbol>\n",
       "<symbol overflow=\"visible\" id=\"glyph1-18\">\n",
       "<path style=\"stroke:none;\" d=\"M -4.875 -3.265625 C -4.875 -3.734375 -5.003906 -4.097656 -5.265625 -4.359375 C -5.523438 -4.617188 -5.832031 -4.75 -6.1875 -4.75 C -6.5 -4.75 -6.785156 -4.625 -7.046875 -4.375 C -7.316406 -4.125 -7.453125 -3.742188 -7.453125 -3.234375 C -7.453125 -2.722656 -7.316406 -2.351562 -7.046875 -2.125 C -6.785156 -1.894531 -6.484375 -1.78125 -6.140625 -1.78125 C -5.742188 -1.78125 -5.429688 -1.925781 -5.203125 -2.21875 C -4.984375 -2.519531 -4.875 -2.867188 -4.875 -3.265625 Z M -0.71875 -3.328125 C -0.71875 -3.816406 -0.847656 -4.222656 -1.109375 -4.546875 C -1.378906 -4.867188 -1.773438 -5.03125 -2.296875 -5.03125 C -2.835938 -5.03125 -3.25 -4.863281 -3.53125 -4.53125 C -3.8125 -4.195312 -3.953125 -3.769531 -3.953125 -3.25 C -3.953125 -2.75 -3.804688 -2.335938 -3.515625 -2.015625 C -3.234375 -1.703125 -2.835938 -1.546875 -2.328125 -1.546875 C -1.890625 -1.546875 -1.507812 -1.691406 -1.1875 -1.984375 C -0.875 -2.273438 -0.71875 -2.722656 -0.71875 -3.328125 Z M -4.46875 -1.828125 C -4.59375 -1.535156 -4.738281 -1.304688 -4.90625 -1.140625 C -5.21875 -0.835938 -5.625 -0.6875 -6.125 -0.6875 C -6.75 -0.6875 -7.285156 -0.910156 -7.734375 -1.359375 C -8.191406 -1.816406 -8.421875 -2.457031 -8.421875 -3.28125 C -8.421875 -4.09375 -8.207031 -4.722656 -7.78125 -5.171875 C -7.351562 -5.628906 -6.859375 -5.859375 -6.296875 -5.859375 C -5.773438 -5.859375 -5.347656 -5.726562 -5.015625 -5.46875 C -4.835938 -5.320312 -4.660156 -5.09375 -4.484375 -4.78125 C -4.328125 -5.125 -4.144531 -5.394531 -3.9375 -5.59375 C -3.539062 -5.96875 -3.03125 -6.15625 -2.40625 -6.15625 C -1.664062 -6.15625 -1.039062 -5.90625 -0.53125 -5.40625 C -0.0195312 -4.914062 0.234375 -4.21875 0.234375 -3.3125 C 0.234375 -2.488281 0.015625 -1.796875 -0.421875 -1.234375 C -0.867188 -0.671875 -1.515625 -0.390625 -2.359375 -0.390625 C -2.847656 -0.390625 -3.273438 -0.507812 -3.640625 -0.75 C -4.003906 -0.988281 -4.28125 -1.347656 -4.46875 -1.828125 Z M -4.46875 -1.828125 \"/>\n",
       "</symbol>\n",
       "<symbol overflow=\"visible\" id=\"glyph1-19\">\n",
       "<path style=\"stroke:none;\" d=\"M -5.9375 -1.15625 L -6.75 -1.15625 C -6.820312 -1.914062 -6.945312 -2.441406 -7.125 -2.734375 C -7.300781 -3.035156 -7.710938 -3.265625 -8.359375 -3.421875 L -8.359375 -4.25 L 0 -4.25 L 0 -3.125 L -5.9375 -3.125 Z M -5.9375 -1.15625 \"/>\n",
       "</symbol>\n",
       "</g>\n",
       "</defs>\n",
       "<g id=\"surface46\">\n",
       "<rect x=\"0\" y=\"0\" width=\"504\" height=\"504\" style=\"fill:rgb(100%,100%,100%);fill-opacity:1;stroke:none;\"/>\n",
       "<g style=\"fill:rgb(0%,0%,0%);fill-opacity:1;\">\n",
       "  <use xlink:href=\"#glyph0-1\" x=\"217.710938\" y=\"485.28125\"/>\n",
       "  <use xlink:href=\"#glyph0-2\" x=\"225.041016\" y=\"485.28125\"/>\n",
       "  <use xlink:href=\"#glyph0-3\" x=\"231.714844\" y=\"485.28125\"/>\n",
       "  <use xlink:href=\"#glyph0-4\" x=\"234.380859\" y=\"485.28125\"/>\n",
       "  <use xlink:href=\"#glyph0-5\" x=\"240.380859\" y=\"485.28125\"/>\n",
       "  <use xlink:href=\"#glyph0-6\" x=\"247.054688\" y=\"485.28125\"/>\n",
       "  <use xlink:href=\"#glyph0-7\" x=\"250.388672\" y=\"485.28125\"/>\n",
       "  <use xlink:href=\"#glyph0-8\" x=\"257.0625\" y=\"485.28125\"/>\n",
       "  <use xlink:href=\"#glyph0-4\" x=\"263.736328\" y=\"485.28125\"/>\n",
       "  <use xlink:href=\"#glyph0-9\" x=\"269.736328\" y=\"485.28125\"/>\n",
       "  <use xlink:href=\"#glyph0-10\" x=\"272.402344\" y=\"485.28125\"/>\n",
       "  <use xlink:href=\"#glyph0-9\" x=\"275.736328\" y=\"485.28125\"/>\n",
       "  <use xlink:href=\"#glyph0-11\" x=\"278.402344\" y=\"485.28125\"/>\n",
       "  <use xlink:href=\"#glyph0-5\" x=\"284.402344\" y=\"485.28125\"/>\n",
       "  <use xlink:href=\"#glyph0-6\" x=\"291.076172\" y=\"485.28125\"/>\n",
       "  <use xlink:href=\"#glyph0-12\" x=\"294.410156\" y=\"485.28125\"/>\n",
       "  <use xlink:href=\"#glyph0-2\" x=\"298.40625\" y=\"485.28125\"/>\n",
       "  <use xlink:href=\"#glyph0-10\" x=\"305.080078\" y=\"485.28125\"/>\n",
       "  <use xlink:href=\"#glyph0-5\" x=\"308.414062\" y=\"485.28125\"/>\n",
       "</g>\n",
       "<g style=\"fill:rgb(0%,0%,0%);fill-opacity:1;\">\n",
       "  <use xlink:href=\"#glyph1-1\" x=\"12.960938\" y=\"291.152344\"/>\n",
       "  <use xlink:href=\"#glyph1-2\" x=\"12.960938\" y=\"283.822266\"/>\n",
       "  <use xlink:href=\"#glyph1-3\" x=\"12.960938\" y=\"279.826172\"/>\n",
       "  <use xlink:href=\"#glyph1-4\" x=\"12.960938\" y=\"273.152344\"/>\n",
       "  <use xlink:href=\"#glyph1-5\" x=\"12.960938\" y=\"266.478516\"/>\n",
       "  <use xlink:href=\"#glyph1-6\" x=\"12.960938\" y=\"263.144531\"/>\n",
       "  <use xlink:href=\"#glyph1-7\" x=\"12.960938\" y=\"256.470703\"/>\n",
       "  <use xlink:href=\"#glyph1-8\" x=\"12.960938\" y=\"249.796875\"/>\n",
       "  <use xlink:href=\"#glyph1-9\" x=\"12.960938\" y=\"243.796875\"/>\n",
       "  <use xlink:href=\"#glyph1-10\" x=\"12.960938\" y=\"241.130859\"/>\n",
       "  <use xlink:href=\"#glyph1-9\" x=\"12.960938\" y=\"237.796875\"/>\n",
       "  <use xlink:href=\"#glyph1-11\" x=\"12.960938\" y=\"235.130859\"/>\n",
       "  <use xlink:href=\"#glyph1-4\" x=\"12.960938\" y=\"229.130859\"/>\n",
       "  <use xlink:href=\"#glyph1-5\" x=\"12.960938\" y=\"222.457031\"/>\n",
       "  <use xlink:href=\"#glyph1-2\" x=\"12.960938\" y=\"219.123047\"/>\n",
       "  <use xlink:href=\"#glyph1-12\" x=\"12.960938\" y=\"215.126953\"/>\n",
       "  <use xlink:href=\"#glyph1-10\" x=\"12.960938\" y=\"208.453125\"/>\n",
       "  <use xlink:href=\"#glyph1-4\" x=\"12.960938\" y=\"205.119141\"/>\n",
       "</g>\n",
       "<path style=\"fill:none;stroke-width:0.75;stroke-linecap:round;stroke-linejoin:round;stroke:rgb(0%,0%,0%);stroke-opacity:1;stroke-miterlimit:10;\" d=\"M 74.398438 430.558594 L 458.398438 430.558594 \"/>\n",
       "<path style=\"fill:none;stroke-width:0.75;stroke-linecap:round;stroke-linejoin:round;stroke:rgb(0%,0%,0%);stroke-opacity:1;stroke-miterlimit:10;\" d=\"M 74.398438 430.558594 L 74.398438 437.761719 \"/>\n",
       "<path style=\"fill:none;stroke-width:0.75;stroke-linecap:round;stroke-linejoin:round;stroke:rgb(0%,0%,0%);stroke-opacity:1;stroke-miterlimit:10;\" d=\"M 151.199219 430.558594 L 151.199219 437.761719 \"/>\n",
       "<path style=\"fill:none;stroke-width:0.75;stroke-linecap:round;stroke-linejoin:round;stroke:rgb(0%,0%,0%);stroke-opacity:1;stroke-miterlimit:10;\" d=\"M 228 430.558594 L 228 437.761719 \"/>\n",
       "<path style=\"fill:none;stroke-width:0.75;stroke-linecap:round;stroke-linejoin:round;stroke:rgb(0%,0%,0%);stroke-opacity:1;stroke-miterlimit:10;\" d=\"M 304.800781 430.558594 L 304.800781 437.761719 \"/>\n",
       "<path style=\"fill:none;stroke-width:0.75;stroke-linecap:round;stroke-linejoin:round;stroke:rgb(0%,0%,0%);stroke-opacity:1;stroke-miterlimit:10;\" d=\"M 381.601562 430.558594 L 381.601562 437.761719 \"/>\n",
       "<path style=\"fill:none;stroke-width:0.75;stroke-linecap:round;stroke-linejoin:round;stroke:rgb(0%,0%,0%);stroke-opacity:1;stroke-miterlimit:10;\" d=\"M 458.398438 430.558594 L 458.398438 437.761719 \"/>\n",
       "<g style=\"fill:rgb(0%,0%,0%);fill-opacity:1;\">\n",
       "  <use xlink:href=\"#glyph0-13\" x=\"66.058594\" y=\"456.480469\"/>\n",
       "  <use xlink:href=\"#glyph0-14\" x=\"72.732422\" y=\"456.480469\"/>\n",
       "  <use xlink:href=\"#glyph0-13\" x=\"76.066406\" y=\"456.480469\"/>\n",
       "</g>\n",
       "<g style=\"fill:rgb(0%,0%,0%);fill-opacity:1;\">\n",
       "  <use xlink:href=\"#glyph0-13\" x=\"142.859375\" y=\"456.480469\"/>\n",
       "  <use xlink:href=\"#glyph0-14\" x=\"149.533203\" y=\"456.480469\"/>\n",
       "  <use xlink:href=\"#glyph0-15\" x=\"152.867188\" y=\"456.480469\"/>\n",
       "</g>\n",
       "<g style=\"fill:rgb(0%,0%,0%);fill-opacity:1;\">\n",
       "  <use xlink:href=\"#glyph0-13\" x=\"219.660156\" y=\"456.480469\"/>\n",
       "  <use xlink:href=\"#glyph0-14\" x=\"226.333984\" y=\"456.480469\"/>\n",
       "  <use xlink:href=\"#glyph0-16\" x=\"229.667969\" y=\"456.480469\"/>\n",
       "</g>\n",
       "<g style=\"fill:rgb(0%,0%,0%);fill-opacity:1;\">\n",
       "  <use xlink:href=\"#glyph0-13\" x=\"296.460938\" y=\"456.480469\"/>\n",
       "  <use xlink:href=\"#glyph0-14\" x=\"303.134766\" y=\"456.480469\"/>\n",
       "  <use xlink:href=\"#glyph0-17\" x=\"306.46875\" y=\"456.480469\"/>\n",
       "</g>\n",
       "<g style=\"fill:rgb(0%,0%,0%);fill-opacity:1;\">\n",
       "  <use xlink:href=\"#glyph0-13\" x=\"373.261719\" y=\"456.480469\"/>\n",
       "  <use xlink:href=\"#glyph0-14\" x=\"379.935547\" y=\"456.480469\"/>\n",
       "  <use xlink:href=\"#glyph0-18\" x=\"383.269531\" y=\"456.480469\"/>\n",
       "</g>\n",
       "<g style=\"fill:rgb(0%,0%,0%);fill-opacity:1;\">\n",
       "  <use xlink:href=\"#glyph0-19\" x=\"450.058594\" y=\"456.480469\"/>\n",
       "  <use xlink:href=\"#glyph0-14\" x=\"456.732422\" y=\"456.480469\"/>\n",
       "  <use xlink:href=\"#glyph0-13\" x=\"460.066406\" y=\"456.480469\"/>\n",
       "</g>\n",
       "<path style=\"fill:none;stroke-width:0.75;stroke-linecap:round;stroke-linejoin:round;stroke:rgb(0%,0%,0%);stroke-opacity:1;stroke-miterlimit:10;\" d=\"M 59.039062 416.800781 L 59.039062 72.800781 \"/>\n",
       "<path style=\"fill:none;stroke-width:0.75;stroke-linecap:round;stroke-linejoin:round;stroke:rgb(0%,0%,0%);stroke-opacity:1;stroke-miterlimit:10;\" d=\"M 59.039062 416.800781 L 51.839844 416.800781 \"/>\n",
       "<path style=\"fill:none;stroke-width:0.75;stroke-linecap:round;stroke-linejoin:round;stroke:rgb(0%,0%,0%);stroke-opacity:1;stroke-miterlimit:10;\" d=\"M 59.039062 348 L 51.839844 348 \"/>\n",
       "<path style=\"fill:none;stroke-width:0.75;stroke-linecap:round;stroke-linejoin:round;stroke:rgb(0%,0%,0%);stroke-opacity:1;stroke-miterlimit:10;\" d=\"M 59.039062 279.199219 L 51.839844 279.199219 \"/>\n",
       "<path style=\"fill:none;stroke-width:0.75;stroke-linecap:round;stroke-linejoin:round;stroke:rgb(0%,0%,0%);stroke-opacity:1;stroke-miterlimit:10;\" d=\"M 59.039062 210.398438 L 51.839844 210.398438 \"/>\n",
       "<path style=\"fill:none;stroke-width:0.75;stroke-linecap:round;stroke-linejoin:round;stroke:rgb(0%,0%,0%);stroke-opacity:1;stroke-miterlimit:10;\" d=\"M 59.039062 141.601562 L 51.839844 141.601562 \"/>\n",
       "<path style=\"fill:none;stroke-width:0.75;stroke-linecap:round;stroke-linejoin:round;stroke:rgb(0%,0%,0%);stroke-opacity:1;stroke-miterlimit:10;\" d=\"M 59.039062 72.800781 L 51.839844 72.800781 \"/>\n",
       "<g style=\"fill:rgb(0%,0%,0%);fill-opacity:1;\">\n",
       "  <use xlink:href=\"#glyph1-13\" x=\"41.761719\" y=\"425.140625\"/>\n",
       "  <use xlink:href=\"#glyph1-14\" x=\"41.761719\" y=\"418.466797\"/>\n",
       "  <use xlink:href=\"#glyph1-13\" x=\"41.761719\" y=\"415.132812\"/>\n",
       "</g>\n",
       "<g style=\"fill:rgb(0%,0%,0%);fill-opacity:1;\">\n",
       "  <use xlink:href=\"#glyph1-13\" x=\"41.761719\" y=\"356.339844\"/>\n",
       "  <use xlink:href=\"#glyph1-14\" x=\"41.761719\" y=\"349.666016\"/>\n",
       "  <use xlink:href=\"#glyph1-15\" x=\"41.761719\" y=\"346.332031\"/>\n",
       "</g>\n",
       "<g style=\"fill:rgb(0%,0%,0%);fill-opacity:1;\">\n",
       "  <use xlink:href=\"#glyph1-13\" x=\"41.761719\" y=\"287.539062\"/>\n",
       "  <use xlink:href=\"#glyph1-14\" x=\"41.761719\" y=\"280.865234\"/>\n",
       "  <use xlink:href=\"#glyph1-16\" x=\"41.761719\" y=\"277.53125\"/>\n",
       "</g>\n",
       "<g style=\"fill:rgb(0%,0%,0%);fill-opacity:1;\">\n",
       "  <use xlink:href=\"#glyph1-13\" x=\"41.761719\" y=\"218.738281\"/>\n",
       "  <use xlink:href=\"#glyph1-14\" x=\"41.761719\" y=\"212.064453\"/>\n",
       "  <use xlink:href=\"#glyph1-17\" x=\"41.761719\" y=\"208.730469\"/>\n",
       "</g>\n",
       "<g style=\"fill:rgb(0%,0%,0%);fill-opacity:1;\">\n",
       "  <use xlink:href=\"#glyph1-13\" x=\"41.761719\" y=\"149.941406\"/>\n",
       "  <use xlink:href=\"#glyph1-14\" x=\"41.761719\" y=\"143.267578\"/>\n",
       "  <use xlink:href=\"#glyph1-18\" x=\"41.761719\" y=\"139.933594\"/>\n",
       "</g>\n",
       "<g style=\"fill:rgb(0%,0%,0%);fill-opacity:1;\">\n",
       "  <use xlink:href=\"#glyph1-19\" x=\"41.761719\" y=\"81.140625\"/>\n",
       "  <use xlink:href=\"#glyph1-14\" x=\"41.761719\" y=\"74.466797\"/>\n",
       "  <use xlink:href=\"#glyph1-13\" x=\"41.761719\" y=\"71.132812\"/>\n",
       "</g>\n",
       "<path style=\"fill:none;stroke-width:0.75;stroke-linecap:round;stroke-linejoin:round;stroke:rgb(0%,0%,0%);stroke-opacity:1;stroke-miterlimit:10;\" d=\"M 59.039062 430.558594 L 473.761719 430.558594 L 473.761719 59.039062 L 59.039062 59.039062 L 59.039062 430.558594 \"/>\n",
       "<path style=\"fill:none;stroke-width:0.75;stroke-linecap:round;stroke-linejoin:round;stroke:rgb(0%,0%,0%);stroke-opacity:1;stroke-miterlimit:10;\" d=\"M 74.398438 416.800781 L 74.445312 416.800781 L 74.445312 416.210938 L 74.53125 416.210938 L 74.53125 414.449219 L 74.574219 414.449219 L 74.574219 413.859375 L 74.617188 413.859375 L 74.617188 413.566406 L 74.660156 413.566406 L 74.660156 411.800781 L 74.746094 411.800781 L 74.746094 410.625 L 74.792969 410.625 L 74.792969 410.039062 L 74.835938 410.039062 L 74.835938 409.742188 L 74.878906 409.742188 L 74.878906 409.15625 L 74.964844 409.15625 L 74.964844 408.863281 L 75.007812 408.863281 L 75.007812 407.683594 L 75.097656 407.683594 L 75.097656 407.097656 L 75.183594 407.097656 L 75.183594 406.214844 L 75.226562 406.214844 L 75.226562 405.921875 L 75.269531 405.921875 L 75.269531 404.453125 L 75.3125 404.453125 L 75.3125 403.273438 L 75.398438 403.273438 L 75.398438 402.980469 L 75.445312 402.980469 L 75.445312 402.6875 L 75.53125 402.6875 L 75.53125 400.042969 L 75.574219 400.042969 L 75.574219 399.160156 L 75.660156 399.160156 L 75.660156 398.570312 L 75.75 398.570312 L 75.75 398.277344 L 75.792969 398.277344 L 75.792969 397.6875 L 75.878906 397.6875 L 75.878906 396.21875 L 75.921875 396.21875 L 75.921875 395.628906 L 76.007812 395.628906 L 76.007812 395.335938 L 76.050781 395.335938 L 76.050781 395.042969 L 76.097656 395.042969 L 76.097656 392.398438 L 76.140625 392.398438 L 76.140625 392.101562 L 76.183594 392.101562 L 76.183594 391.515625 L 76.226562 391.515625 L 76.226562 389.164062 L 76.269531 389.164062 L 76.269531 388.574219 L 76.3125 388.574219 L 76.3125 387.984375 L 76.402344 387.984375 L 76.402344 387.398438 L 76.574219 387.398438 L 76.574219 385.929688 L 76.617188 385.929688 L 76.617188 384.457031 L 76.660156 384.457031 L 76.660156 383.574219 L 76.703125 383.574219 L 76.703125 382.398438 L 76.75 382.398438 L 76.75 382.105469 L 76.792969 382.105469 L 76.792969 381.222656 L 76.835938 381.222656 L 76.835938 379.460938 L 76.921875 379.460938 L 76.921875 377.695312 L 76.964844 377.695312 L 76.964844 377.402344 L 77.140625 377.402344 L 77.140625 376.519531 L 77.183594 376.519531 L 77.183594 374.460938 L 77.269531 374.460938 L 77.269531 373.285156 L 77.355469 373.285156 L 77.355469 370.34375 L 77.445312 370.34375 L 77.445312 369.464844 L 77.488281 369.464844 L 77.488281 368.875 L 77.53125 368.875 L 77.53125 367.109375 L 77.574219 367.109375 L 77.574219 365.347656 L 77.617188 365.347656 L 77.617188 365.054688 L 77.707031 365.054688 L 77.707031 364.757812 L 77.75 364.757812 L 77.75 363.582031 L 77.835938 363.582031 L 77.835938 361.820312 L 77.921875 361.820312 L 77.921875 360.644531 L 77.964844 360.644531 L 77.964844 359.464844 L 78.007812 359.464844 L 78.007812 358.878906 L 78.140625 358.878906 L 78.140625 358.585938 L 78.3125 358.585938 L 78.3125 358.289062 L 78.355469 358.289062 L 78.355469 356.527344 L 78.402344 356.527344 L 78.402344 355.644531 L 78.445312 355.644531 L 78.445312 355.351562 L 78.488281 355.351562 L 78.488281 354.46875 L 78.574219 354.46875 L 78.574219 353.585938 L 78.660156 353.585938 L 78.660156 353.292969 L 78.707031 353.292969 L 78.707031 353 L 78.75 353 L 78.75 352.703125 L 78.792969 352.703125 L 78.792969 352.410156 L 78.835938 352.410156 L 78.835938 351.234375 L 78.921875 351.234375 L 78.921875 350.941406 L 78.964844 350.941406 L 78.964844 350.644531 L 79.054688 350.644531 L 79.054688 348.882812 L 79.183594 348.882812 L 79.183594 348.292969 L 79.269531 348.292969 L 79.269531 345.648438 L 79.359375 345.648438 L 79.359375 345.058594 L 79.445312 345.058594 L 79.445312 343.296875 L 79.488281 343.296875 L 79.488281 343 L 79.574219 343 L 79.574219 342.707031 L 79.617188 342.707031 L 79.617188 342.414062 L 79.660156 342.414062 L 79.660156 342.121094 L 79.707031 342.121094 L 79.707031 341.53125 L 79.75 341.53125 L 79.75 341.238281 L 79.792969 341.238281 L 79.792969 340.355469 L 79.835938 340.355469 L 79.835938 339.179688 L 79.878906 339.179688 L 79.878906 338.589844 L 79.921875 338.589844 L 79.921875 338.296875 L 79.964844 338.296875 L 79.964844 337.710938 L 80.054688 337.710938 L 80.054688 337.121094 L 80.140625 337.121094 L 80.140625 336.535156 L 80.269531 336.535156 L 80.269531 335.0625 L 80.3125 335.0625 L 80.3125 334.769531 L 80.359375 334.769531 L 80.359375 334.476562 L 80.445312 334.476562 L 80.445312 333.886719 L 80.488281 333.886719 L 80.488281 333.59375 L 80.53125 333.59375 L 80.53125 333.300781 L 80.75 333.300781 L 80.75 332.417969 L 80.792969 332.417969 L 80.792969 331.828125 L 80.835938 331.828125 L 80.835938 331.535156 L 80.878906 331.535156 L 80.878906 330.945312 L 80.921875 330.945312 L 80.921875 330.359375 L 81.054688 330.359375 L 81.054688 328.890625 L 81.097656 328.890625 L 81.097656 328.300781 L 81.183594 328.300781 L 81.183594 328.007812 L 81.269531 328.007812 L 81.269531 327.710938 L 81.316406 327.710938 L 81.316406 327.417969 L 81.359375 327.417969 L 81.359375 326.535156 L 81.402344 326.535156 L 81.402344 326.242188 L 81.445312 326.242188 L 81.445312 325.949219 L 81.488281 325.949219 L 81.488281 325.65625 L 81.53125 325.65625 L 81.53125 324.773438 L 81.75 324.773438 L 81.75 324.183594 L 81.878906 324.183594 L 81.878906 323.890625 L 82.011719 323.890625 L 82.011719 323.300781 L 82.054688 323.300781 L 82.054688 322.125 L 82.140625 322.125 L 82.140625 321.832031 L 82.183594 321.832031 L 82.183594 320.949219 L 82.226562 320.949219 L 82.226562 320.65625 L 82.269531 320.65625 L 82.269531 320.363281 L 82.316406 320.363281 L 82.316406 319.773438 L 82.402344 319.773438 L 82.402344 319.480469 L 82.574219 319.480469 L 82.574219 319.1875 L 82.621094 319.1875 L 82.621094 318.011719 L 82.707031 318.011719 L 82.707031 316.539062 L 82.75 316.539062 L 82.75 315.65625 L 82.792969 315.65625 L 82.792969 315.363281 L 82.835938 315.363281 L 82.835938 313.601562 L 82.878906 313.601562 L 82.878906 312.71875 L 82.921875 312.71875 L 82.921875 311.835938 L 83.054688 311.835938 L 83.054688 311.542969 L 83.226562 311.542969 L 83.226562 310.660156 L 83.273438 310.660156 L 83.273438 309.777344 L 83.316406 309.777344 L 83.316406 308.308594 L 83.359375 308.308594 L 83.359375 307.132812 L 83.445312 307.132812 L 83.445312 306.835938 L 83.488281 306.835938 L 83.488281 306.542969 L 83.53125 306.542969 L 83.53125 306.25 L 83.574219 306.25 L 83.574219 305.367188 L 83.707031 305.367188 L 83.707031 304.78125 L 83.75 304.78125 L 83.75 302.722656 L 84.011719 302.722656 L 84.011719 302.425781 L 84.097656 302.425781 L 84.097656 300.664062 L 84.140625 300.664062 L 84.140625 300.371094 L 84.226562 300.371094 L 84.226562 300.074219 L 84.316406 300.074219 L 84.316406 299.488281 L 84.359375 299.488281 L 84.359375 299.191406 L 84.402344 299.191406 L 84.402344 298.605469 L 84.488281 298.605469 L 84.488281 298.3125 L 84.53125 298.3125 L 84.53125 298.015625 L 84.707031 298.015625 L 84.707031 297.429688 L 84.75 297.429688 L 84.75 296.546875 L 84.792969 296.546875 L 84.792969 296.253906 L 84.835938 296.253906 L 84.835938 295.664062 L 84.925781 295.664062 L 84.925781 294.195312 L 85.011719 294.195312 L 85.011719 293.019531 L 85.054688 293.019531 L 85.054688 292.726562 L 85.097656 292.726562 L 85.097656 292.429688 L 85.140625 292.429688 L 85.140625 292.136719 L 85.230469 292.136719 L 85.230469 291.546875 L 85.359375 291.546875 L 85.359375 290.960938 L 85.445312 290.960938 L 85.445312 290.667969 L 85.488281 290.667969 L 85.488281 290.078125 L 85.53125 290.078125 L 85.53125 288.609375 L 85.578125 288.609375 L 85.578125 287.726562 L 85.621094 287.726562 L 85.621094 287.433594 L 85.664062 287.433594 L 85.664062 285.960938 L 85.707031 285.960938 L 85.707031 285.667969 L 85.792969 285.667969 L 85.792969 285.375 L 85.835938 285.375 L 85.835938 284.785156 L 85.882812 284.785156 L 85.882812 284.199219 L 85.925781 284.199219 L 85.925781 283.902344 L 85.96875 283.902344 L 85.96875 283.609375 L 86.054688 283.609375 L 86.054688 283.316406 L 86.097656 283.316406 L 86.097656 282.140625 L 86.140625 282.140625 L 86.140625 280.082031 L 86.183594 280.082031 L 86.183594 279.492188 L 86.316406 279.492188 L 86.316406 278.613281 L 86.402344 278.613281 L 86.402344 278.023438 L 86.578125 278.023438 L 86.578125 275.671875 L 86.707031 275.671875 L 86.707031 275.378906 L 86.792969 275.378906 L 86.792969 275.082031 L 86.835938 275.082031 L 86.835938 274.789062 L 86.925781 274.789062 L 86.925781 273.90625 L 86.96875 273.90625 L 86.96875 273.613281 L 87.011719 273.613281 L 87.011719 272.730469 L 87.054688 272.730469 L 87.054688 272.144531 L 87.097656 272.144531 L 87.097656 271.554688 L 87.140625 271.554688 L 87.140625 271.261719 L 87.230469 271.261719 L 87.230469 270.085938 L 87.359375 270.085938 L 87.359375 269.496094 L 87.445312 269.496094 L 87.445312 268.910156 L 87.535156 268.910156 L 87.535156 268.320312 L 87.578125 268.320312 L 87.578125 268.027344 L 87.621094 268.027344 L 87.621094 267.734375 L 87.664062 267.734375 L 87.664062 267.4375 L 87.792969 267.4375 L 87.792969 267.144531 L 87.882812 267.144531 L 87.882812 266.851562 L 87.925781 266.851562 L 87.925781 266.261719 L 88.011719 266.261719 L 88.011719 265.96875 L 88.316406 265.96875 L 88.316406 265.675781 L 88.445312 265.675781 L 88.445312 265.382812 L 88.488281 265.382812 L 88.488281 264.792969 L 88.578125 264.792969 L 88.578125 264.5 L 88.621094 264.5 L 88.621094 264.207031 L 88.664062 264.207031 L 88.664062 263.617188 L 88.839844 263.617188 L 88.839844 263.324219 L 88.882812 263.324219 L 88.882812 263.027344 L 89.097656 263.027344 L 89.097656 262.734375 L 89.1875 262.734375 L 89.1875 262.441406 L 89.273438 262.441406 L 89.273438 261.851562 L 89.359375 261.851562 L 89.359375 261.558594 L 89.402344 261.558594 L 89.402344 261.265625 L 89.445312 261.265625 L 89.445312 260.972656 L 89.492188 260.972656 L 89.492188 260.675781 L 89.621094 260.675781 L 89.621094 260.382812 L 89.664062 260.382812 L 89.664062 260.089844 L 89.707031 260.089844 L 89.707031 259.207031 L 89.75 259.207031 L 89.75 258.617188 L 89.792969 258.617188 L 89.792969 257.738281 L 89.839844 257.738281 L 89.839844 257.441406 L 89.96875 257.441406 L 89.96875 256.265625 L 90.011719 256.265625 L 90.011719 255.679688 L 90.054688 255.679688 L 90.054688 255.382812 L 90.144531 255.382812 L 90.144531 254.796875 L 90.1875 254.796875 L 90.1875 253.914062 L 90.316406 253.914062 L 90.316406 253.621094 L 90.359375 253.621094 L 90.359375 253.328125 L 90.621094 253.328125 L 90.621094 252.738281 L 90.664062 252.738281 L 90.664062 252.152344 L 90.839844 252.152344 L 90.839844 251.855469 L 90.96875 251.855469 L 90.96875 251.269531 L 91.097656 251.269531 L 91.097656 250.972656 L 91.144531 250.972656 L 91.144531 250.386719 L 91.273438 250.386719 L 91.273438 250.09375 L 91.359375 250.09375 L 91.359375 249.796875 L 91.796875 249.796875 L 91.796875 249.210938 L 91.882812 249.210938 L 91.882812 248.917969 L 91.96875 248.917969 L 91.96875 248.328125 L 92.101562 248.328125 L 92.101562 247.445312 L 92.144531 247.445312 L 92.144531 247.152344 L 92.1875 247.152344 L 92.1875 246.859375 L 92.273438 246.859375 L 92.273438 246.5625 L 92.316406 246.5625 L 92.316406 245.976562 L 92.359375 245.976562 L 92.359375 245.683594 L 92.535156 245.683594 L 92.535156 245.09375 L 92.578125 245.09375 L 92.578125 244.210938 L 92.882812 244.210938 L 92.882812 243.328125 L 92.96875 243.328125 L 92.96875 241.859375 L 93.011719 241.859375 L 93.011719 240.976562 L 93.054688 240.976562 L 93.054688 240.683594 L 93.101562 240.683594 L 93.101562 240.097656 L 93.144531 240.097656 L 93.144531 239.214844 L 93.230469 239.214844 L 93.230469 238.332031 L 93.40625 238.332031 L 93.40625 237.742188 L 93.578125 237.742188 L 93.578125 237.449219 L 93.664062 237.449219 L 93.664062 237.15625 L 93.96875 237.15625 L 93.96875 236.863281 L 94.011719 236.863281 L 94.011719 235.980469 L 94.101562 235.980469 L 94.101562 235.683594 L 94.144531 235.683594 L 94.144531 235.390625 L 94.230469 235.390625 L 94.230469 235.097656 L 94.40625 235.097656 L 94.40625 234.804688 L 94.492188 234.804688 L 94.492188 234.507812 L 94.664062 234.507812 L 94.664062 234.214844 L 94.796875 234.214844 L 94.796875 233.332031 L 94.925781 233.332031 L 94.925781 233.039062 L 94.96875 233.039062 L 94.96875 232.746094 L 95.058594 232.746094 L 95.058594 232.15625 L 95.273438 232.15625 L 95.273438 231.273438 L 95.492188 231.273438 L 95.492188 230.980469 L 95.535156 230.980469 L 95.535156 230.6875 L 95.578125 230.6875 L 95.578125 230.394531 L 95.753906 230.394531 L 95.753906 229.804688 L 96.011719 229.804688 L 96.011719 229.511719 L 96.101562 229.511719 L 96.101562 229.21875 L 96.144531 229.21875 L 96.144531 228.628906 L 96.1875 228.628906 L 96.1875 228.335938 L 96.492188 228.335938 L 96.492188 228.042969 L 96.535156 228.042969 L 96.535156 227.453125 L 96.710938 227.453125 L 96.710938 227.160156 L 96.882812 227.160156 L 96.882812 226.570312 L 97.273438 226.570312 L 97.273438 226.277344 L 97.492188 226.277344 L 97.492188 225.394531 L 97.578125 225.394531 L 97.578125 225.101562 L 97.621094 225.101562 L 97.621094 224.808594 L 97.667969 224.808594 L 97.667969 224.511719 L 97.753906 224.511719 L 97.753906 223.628906 L 97.796875 223.628906 L 97.796875 223.042969 L 97.839844 223.042969 L 97.839844 220.691406 L 97.882812 220.691406 L 97.882812 220.398438 L 98.015625 220.398438 L 98.015625 219.515625 L 98.1875 219.515625 L 98.1875 219.21875 L 98.230469 219.21875 L 98.230469 218.925781 L 98.578125 218.925781 L 98.578125 218.339844 L 98.667969 218.339844 L 98.667969 218.042969 L 98.796875 218.042969 L 98.796875 217.457031 L 99.578125 217.457031 L 99.578125 217.164062 L 99.625 217.164062 L 99.625 216.867188 L 99.839844 216.867188 L 99.839844 216.574219 L 99.925781 216.574219 L 99.925781 216.28125 L 100.015625 216.28125 L 100.015625 215.984375 L 100.1875 215.984375 L 100.1875 215.691406 L 100.277344 215.691406 L 100.277344 215.398438 L 100.363281 215.398438 L 100.363281 215.105469 L 100.449219 215.105469 L 100.449219 214.808594 L 100.625 214.808594 L 100.625 214.515625 L 100.710938 214.515625 L 100.710938 212.753906 L 100.929688 212.753906 L 100.929688 212.164062 L 101.1875 212.164062 L 101.1875 211.871094 L 101.230469 211.871094 L 101.230469 211.574219 L 101.320312 211.574219 L 101.320312 210.988281 L 101.492188 210.988281 L 101.492188 210.695312 L 101.578125 210.695312 L 101.578125 210.398438 L 101.839844 210.398438 L 101.839844 209.519531 L 101.972656 209.519531 L 101.972656 208.636719 L 102.230469 208.636719 L 102.230469 208.34375 L 102.320312 208.34375 L 102.320312 208.046875 L 102.449219 208.046875 L 102.449219 207.460938 L 102.625 207.460938 L 102.625 207.164062 L 102.929688 207.164062 L 102.929688 206.578125 L 103.058594 206.578125 L 103.058594 205.695312 L 103.1875 205.695312 L 103.1875 205.402344 L 103.363281 205.402344 L 103.363281 205.109375 L 103.449219 205.109375 L 103.449219 204.519531 L 103.839844 204.519531 L 103.839844 204.226562 L 103.886719 204.226562 L 103.886719 203.929688 L 103.972656 203.929688 L 103.972656 203.636719 L 104.101562 203.636719 L 104.101562 203.34375 L 104.144531 203.34375 L 104.144531 203.050781 L 104.277344 203.050781 L 104.277344 202.753906 L 104.40625 202.753906 L 104.40625 201.578125 L 104.449219 201.578125 L 104.449219 200.699219 L 104.582031 200.699219 L 104.582031 200.402344 L 104.667969 200.402344 L 104.667969 200.109375 L 104.710938 200.109375 L 104.710938 199.816406 L 104.972656 199.816406 L 104.972656 199.519531 L 105.015625 199.519531 L 105.015625 199.226562 L 105.191406 199.226562 L 105.191406 198.933594 L 105.234375 198.933594 L 105.234375 198.640625 L 105.363281 198.640625 L 105.363281 198.34375 L 105.492188 198.34375 L 105.492188 198.050781 L 105.886719 198.050781 L 105.886719 197.757812 L 106.101562 197.757812 L 106.101562 197.167969 L 106.234375 197.167969 L 106.234375 196.582031 L 106.277344 196.582031 L 106.277344 196.289062 L 106.582031 196.289062 L 106.582031 195.40625 L 107.058594 195.40625 L 107.058594 195.109375 L 107.148438 195.109375 L 107.148438 194.816406 L 107.191406 194.816406 L 107.191406 194.523438 L 107.496094 194.523438 L 107.496094 194.230469 L 107.539062 194.230469 L 107.539062 193.933594 L 107.625 193.933594 L 107.625 192.757812 L 107.972656 192.757812 L 107.972656 192.464844 L 108.191406 192.464844 L 108.191406 192.171875 L 108.453125 192.171875 L 108.453125 191.875 L 108.496094 191.875 L 108.496094 191.582031 L 108.539062 191.582031 L 108.539062 191.289062 L 108.753906 191.289062 L 108.753906 190.699219 L 108.886719 190.699219 L 108.886719 190.40625 L 109.191406 190.40625 L 109.191406 189.523438 L 109.277344 189.523438 L 109.277344 188.644531 L 109.363281 188.644531 L 109.363281 188.347656 L 109.40625 188.347656 L 109.40625 188.054688 L 109.625 188.054688 L 109.625 187.464844 L 109.710938 187.464844 L 109.710938 187.171875 L 110.015625 187.171875 L 110.015625 186.289062 L 110.058594 186.289062 L 110.058594 185.703125 L 110.105469 185.703125 L 110.105469 185.410156 L 110.757812 185.410156 L 110.757812 184.820312 L 110.800781 184.820312 L 110.800781 184.234375 L 110.886719 184.234375 L 110.886719 183.644531 L 111.058594 183.644531 L 111.058594 183.351562 L 111.453125 183.351562 L 111.453125 183.054688 L 111.539062 183.054688 L 111.539062 182.761719 L 111.625 182.761719 L 111.625 182.46875 L 111.667969 182.46875 L 111.667969 182.175781 L 111.757812 182.175781 L 111.757812 181.585938 L 111.929688 181.585938 L 111.929688 181.292969 L 112.015625 181.292969 L 112.015625 181 L 112.148438 181 L 112.148438 180.703125 L 112.277344 180.703125 L 112.277344 179.820312 L 112.363281 179.820312 L 112.363281 179.234375 L 112.496094 179.234375 L 112.496094 178.941406 L 112.539062 178.941406 L 112.539062 178.644531 L 112.625 178.644531 L 112.625 178.058594 L 112.757812 178.058594 L 112.757812 177.765625 L 112.800781 177.765625 L 112.800781 176.882812 L 113.148438 176.882812 L 113.148438 176.292969 L 114.105469 176.292969 L 114.105469 176 L 114.277344 176 L 114.277344 175.707031 L 114.320312 175.707031 L 114.320312 175.410156 L 114.496094 175.410156 L 114.496094 175.117188 L 114.539062 175.117188 L 114.539062 174.824219 L 114.886719 174.824219 L 114.886719 174.53125 L 115.105469 174.53125 L 115.105469 174.234375 L 115.191406 174.234375 L 115.191406 173.355469 L 115.539062 173.355469 L 115.539062 173.058594 L 115.671875 173.058594 L 115.671875 172.472656 L 115.886719 172.472656 L 115.886719 172.179688 L 115.929688 172.179688 L 115.929688 171.882812 L 116.105469 171.882812 L 116.105469 171.589844 L 116.324219 171.589844 L 116.324219 171 L 116.410156 171 L 116.410156 170.707031 L 116.496094 170.707031 L 116.496094 170.414062 L 116.714844 170.414062 L 116.714844 170.121094 L 116.800781 170.121094 L 116.800781 169.238281 L 117.0625 169.238281 L 117.0625 168.945312 L 117.234375 168.945312 L 117.234375 168.648438 L 117.277344 168.648438 L 117.277344 168.355469 L 117.324219 168.355469 L 117.324219 168.0625 L 117.410156 168.0625 L 117.410156 167.765625 L 117.714844 167.765625 L 117.714844 166.886719 L 117.757812 166.886719 L 117.757812 166.296875 L 117.800781 166.296875 L 117.800781 165.710938 L 117.84375 165.710938 L 117.84375 165.121094 L 118.105469 165.121094 L 118.105469 164.828125 L 118.410156 164.828125 L 118.410156 164.238281 L 118.582031 164.238281 L 118.582031 163.652344 L 118.757812 163.652344 L 118.757812 163.355469 L 118.84375 163.355469 L 118.84375 162.769531 L 118.933594 162.769531 L 118.933594 162.476562 L 119.019531 162.476562 L 119.019531 162.179688 L 119.0625 162.179688 L 119.0625 161.886719 L 119.148438 161.886719 L 119.148438 161.59375 L 119.367188 161.59375 L 119.367188 160.125 L 119.800781 160.125 L 119.800781 159.828125 L 119.933594 159.828125 L 119.933594 159.535156 L 120.105469 159.535156 L 120.105469 158.652344 L 120.453125 158.652344 L 120.453125 158.359375 L 120.496094 158.359375 L 120.496094 158.066406 L 120.585938 158.066406 L 120.585938 157.769531 L 120.757812 157.769531 L 120.757812 157.183594 L 120.933594 157.183594 L 120.933594 156.890625 L 121.0625 156.890625 L 121.0625 156.59375 L 121.28125 156.59375 L 121.28125 156.300781 L 121.453125 156.300781 L 121.453125 156.007812 L 121.542969 156.007812 L 121.542969 155.710938 L 121.671875 155.710938 L 121.671875 155.417969 L 121.714844 155.417969 L 121.714844 155.125 L 121.757812 155.125 L 121.757812 154.832031 L 121.84375 154.832031 L 121.84375 154.535156 L 122.148438 154.535156 L 122.148438 154.242188 L 122.324219 154.242188 L 122.324219 153.949219 L 122.496094 153.949219 L 122.496094 153.65625 L 122.847656 153.65625 L 122.847656 153.359375 L 122.890625 153.359375 L 122.890625 153.066406 L 122.976562 153.066406 L 122.976562 152.773438 L 123.105469 152.773438 L 123.105469 152.480469 L 123.890625 152.480469 L 123.890625 151.890625 L 124.019531 151.890625 L 124.019531 151.597656 L 124.105469 151.597656 L 124.105469 151.007812 L 124.28125 151.007812 L 124.28125 150.714844 L 124.5 150.714844 L 124.5 150.421875 L 124.628906 150.421875 L 124.628906 150.125 L 124.714844 150.125 L 124.714844 149.539062 L 124.757812 149.539062 L 124.757812 149.246094 L 124.976562 149.246094 L 124.976562 148.949219 L 125.019531 148.949219 L 125.019531 148.65625 L 125.542969 148.65625 L 125.542969 148.363281 L 125.804688 148.363281 L 125.804688 147.773438 L 126.0625 147.773438 L 126.0625 147.1875 L 126.324219 147.1875 L 126.324219 146.890625 L 126.714844 146.890625 L 126.714844 146.597656 L 126.804688 146.597656 L 126.804688 146.304688 L 127.238281 146.304688 L 127.238281 146.011719 L 127.28125 146.011719 L 127.28125 145.421875 L 128.28125 145.421875 L 128.28125 145.128906 L 128.324219 145.128906 L 128.324219 144.835938 L 128.367188 144.835938 L 128.367188 144.539062 L 128.761719 144.539062 L 128.761719 144.246094 L 128.933594 144.246094 L 128.933594 143.953125 L 129.28125 143.953125 L 129.28125 143.363281 L 129.367188 143.363281 L 129.367188 143.070312 L 129.457031 143.070312 L 129.457031 142.777344 L 129.585938 142.777344 L 129.585938 142.480469 L 129.804688 142.480469 L 129.804688 142.1875 L 130.019531 142.1875 L 130.019531 141.894531 L 130.066406 141.894531 L 130.066406 141.304688 L 130.195312 141.304688 L 130.195312 140.71875 L 131.023438 140.71875 L 131.023438 140.425781 L 131.195312 140.425781 L 131.195312 139.835938 L 131.324219 139.835938 L 131.324219 139.542969 L 131.414062 139.542969 L 131.414062 139.246094 L 131.71875 139.246094 L 131.71875 138.953125 L 131.761719 138.953125 L 131.761719 138.660156 L 132.152344 138.660156 L 132.152344 138.367188 L 132.675781 138.367188 L 132.675781 138.070312 L 132.804688 138.070312 L 132.804688 137.777344 L 133.023438 137.777344 L 133.023438 137.484375 L 133.628906 137.484375 L 133.628906 136.894531 L 133.890625 136.894531 L 133.890625 136.601562 L 134.023438 136.601562 L 134.023438 136.308594 L 134.195312 136.308594 L 134.195312 136.015625 L 134.238281 136.015625 L 134.238281 135.71875 L 134.980469 135.71875 L 134.980469 135.425781 L 135.023438 135.425781 L 135.023438 134.835938 L 135.152344 134.835938 L 135.152344 134.542969 L 135.9375 134.542969 L 135.9375 134.25 L 136.066406 134.25 L 136.066406 133.957031 L 136.238281 133.957031 L 136.238281 133.367188 L 136.328125 133.367188 L 136.328125 133.074219 L 136.890625 133.074219 L 136.890625 132.78125 L 137.066406 132.78125 L 137.066406 132.484375 L 137.109375 132.484375 L 137.109375 132.191406 L 137.328125 132.191406 L 137.328125 131.601562 L 137.542969 131.601562 L 137.542969 131.308594 L 138.371094 131.308594 L 138.371094 131.015625 L 138.632812 131.015625 L 138.632812 130.722656 L 138.675781 130.722656 L 138.675781 130.425781 L 139.152344 130.425781 L 139.152344 130.132812 L 139.9375 130.132812 L 139.9375 129.839844 L 140.109375 129.839844 L 140.109375 129.546875 L 140.457031 129.546875 L 140.457031 129.25 L 140.851562 129.25 L 140.851562 128.957031 L 140.894531 128.957031 L 140.894531 128.664062 L 141.546875 128.664062 L 141.546875 128.371094 L 142.066406 128.371094 L 142.066406 128.074219 L 142.457031 128.074219 L 142.457031 127.78125 L 142.546875 127.78125 L 142.546875 127.191406 L 142.632812 127.191406 L 142.632812 126.898438 L 143.242188 126.898438 L 143.242188 126.605469 L 143.460938 126.605469 L 143.460938 126.3125 L 144.242188 126.3125 L 144.242188 126.015625 L 144.285156 126.015625 L 144.285156 125.722656 L 144.328125 125.722656 L 144.328125 125.429688 L 144.546875 125.429688 L 144.546875 125.136719 L 144.71875 125.136719 L 144.71875 124.839844 L 144.894531 124.839844 L 144.894531 124.546875 L 145.546875 124.546875 L 145.546875 124.253906 L 145.980469 124.253906 L 145.980469 123.957031 L 146.023438 123.957031 L 146.023438 123.664062 L 146.242188 123.664062 L 146.242188 123.371094 L 146.503906 123.371094 L 146.503906 123.078125 L 146.546875 123.078125 L 146.546875 122.78125 L 147.503906 122.78125 L 147.503906 122.488281 L 147.546875 122.488281 L 147.546875 122.195312 L 147.851562 122.195312 L 147.851562 121.902344 L 147.9375 121.902344 L 147.9375 121.605469 L 148.417969 121.605469 L 148.417969 121.3125 L 148.589844 121.3125 L 148.589844 121.019531 L 148.632812 121.019531 L 148.632812 120.726562 L 148.808594 120.726562 L 148.808594 120.429688 L 149.546875 120.429688 L 149.546875 120.136719 L 150.546875 120.136719 L 150.546875 119.84375 L 151.242188 119.84375 L 151.242188 119.546875 L 151.417969 119.546875 L 151.417969 119.253906 L 151.503906 119.253906 L 151.503906 118.960938 L 152.15625 118.960938 L 152.15625 118.667969 L 152.503906 118.667969 L 152.503906 118.371094 L 153.113281 118.371094 L 153.113281 118.078125 L 153.332031 118.078125 L 153.332031 117.785156 L 153.546875 117.785156 L 153.546875 117.492188 L 153.59375 117.492188 L 153.59375 117.195312 L 154.070312 117.195312 L 154.070312 116.902344 L 154.460938 116.902344 L 154.460938 116.609375 L 155.027344 116.609375 L 155.027344 116.019531 L 155.289062 116.019531 L 155.289062 115.726562 L 155.546875 115.726562 L 155.546875 115.433594 L 155.636719 115.433594 L 155.636719 115.136719 L 156.246094 115.136719 L 156.246094 114.84375 L 156.765625 114.84375 L 156.765625 114.550781 L 157.679688 114.550781 L 157.679688 114.257812 L 158.332031 114.257812 L 158.332031 113.960938 L 158.722656 113.960938 L 158.722656 113.667969 L 158.855469 113.667969 L 158.855469 113.082031 L 159.246094 113.082031 L 159.246094 112.785156 L 159.636719 112.785156 L 159.636719 112.492188 L 160.332031 112.492188 L 160.332031 112.199219 L 161.160156 112.199219 L 161.160156 111.902344 L 161.246094 111.902344 L 161.246094 111.609375 L 161.332031 111.609375 L 161.332031 111.316406 L 162.636719 111.316406 L 162.636719 111.023438 L 163.855469 111.023438 L 163.855469 110.726562 L 164.59375 110.726562 L 164.59375 110.433594 L 165.636719 110.433594 L 165.636719 110.140625 L 165.769531 110.140625 L 165.769531 109.847656 L 166.332031 109.847656 L 166.332031 109.550781 L 166.378906 109.550781 L 166.378906 109.257812 L 166.769531 109.257812 L 166.769531 108.964844 L 166.898438 108.964844 L 166.898438 108.671875 L 168.464844 108.671875 L 168.464844 108.375 L 168.507812 108.375 L 168.507812 108.082031 L 168.640625 108.082031 L 168.640625 107.789062 L 169.421875 107.789062 L 169.421875 107.492188 L 169.683594 107.492188 L 169.683594 106.90625 L 170.421875 106.90625 L 170.421875 106.613281 L 170.683594 106.613281 L 170.683594 106.316406 L 170.726562 106.316406 L 170.726562 105.730469 L 171.117188 105.730469 L 171.117188 105.4375 L 172.292969 105.4375 L 172.292969 105.140625 L 172.550781 105.140625 L 172.550781 104.554688 L 173.507812 104.554688 L 173.507812 104.261719 L 173.597656 104.261719 L 173.597656 103.964844 L 173.683594 103.964844 L 173.683594 103.671875 L 174.597656 103.671875 L 174.597656 103.378906 L 174.902344 103.378906 L 174.902344 103.082031 L 175.988281 103.082031 L 175.988281 102.789062 L 176.683594 102.789062 L 176.683594 102.496094 L 176.816406 102.496094 L 176.816406 102.203125 L 176.945312 102.203125 L 176.945312 101.90625 L 177.207031 101.90625 L 177.207031 101.320312 L 177.46875 101.320312 L 177.46875 101.027344 L 177.597656 101.027344 L 177.597656 100.730469 L 182.554688 100.730469 L 182.554688 100.4375 L 182.683594 100.4375 L 182.683594 100.144531 L 182.988281 100.144531 L 182.988281 99.554688 L 183.816406 99.554688 L 183.816406 99.261719 L 183.945312 99.261719 L 183.945312 98.96875 L 184.035156 98.96875 L 184.035156 98.671875 L 184.121094 98.671875 L 184.121094 98.378906 L 184.382812 98.378906 L 184.382812 98.085938 L 184.511719 98.085938 L 184.511719 97.792969 L 184.773438 97.792969 L 184.773438 97.496094 L 185.46875 97.496094 L 185.46875 97.203125 L 185.773438 97.203125 L 185.773438 96.910156 L 188.035156 96.910156 L 188.035156 96.320312 L 188.46875 96.320312 L 188.46875 96.027344 L 189.859375 96.027344 L 189.859375 95.734375 L 190.207031 95.734375 L 190.207031 95.4375 L 190.511719 95.4375 L 190.511719 95.144531 L 191.210938 95.144531 L 191.210938 94.851562 L 191.296875 94.851562 L 191.296875 94.558594 L 191.601562 94.558594 L 191.601562 94.261719 L 192.253906 94.261719 L 192.253906 93.96875 L 193.425781 93.96875 L 193.425781 93.675781 L 195.210938 93.675781 L 195.210938 93.382812 L 196.167969 93.382812 L 196.167969 93.085938 L 196.558594 93.085938 L 196.558594 92.792969 L 197.035156 92.792969 L 197.035156 92.5 L 197.777344 92.5 L 197.777344 92.207031 L 199.820312 92.207031 L 199.820312 91.910156 L 200.167969 91.910156 L 200.167969 91.617188 L 200.820312 91.617188 L 200.820312 91.324219 L 202.863281 91.324219 L 202.863281 91.027344 L 204.34375 91.027344 L 204.34375 90.734375 L 205.34375 90.734375 L 205.34375 90.441406 L 205.648438 90.441406 L 205.648438 90.148438 L 205.734375 90.148438 L 205.734375 89.851562 L 205.777344 89.851562 L 205.777344 89.558594 L 214.953125 89.558594 L 214.953125 89.265625 L 215.996094 89.265625 L 215.996094 88.972656 L 217.128906 88.972656 L 217.128906 88.675781 L 219.910156 88.675781 L 219.910156 88.382812 L 220.519531 88.382812 L 220.519531 88.089844 L 222.867188 88.089844 L 222.867188 87.792969 L 223.085938 87.792969 L 223.085938 87.5 L 223.695312 87.5 L 223.695312 87.207031 L 224.171875 87.207031 L 224.171875 86.914062 L 225 86.914062 L 225 86.617188 L 228.128906 86.617188 L 228.128906 86.324219 L 229.871094 86.324219 L 229.871094 86.03125 L 233.828125 86.03125 L 233.828125 85.738281 L 236 85.738281 L 236 85.441406 L 238.742188 85.441406 L 238.742188 85.148438 L 239.785156 85.148438 L 239.785156 84.855469 L 239.828125 84.855469 L 239.828125 84.5625 L 240.613281 84.5625 L 240.613281 84.265625 L 241.175781 84.265625 L 241.175781 83.972656 L 248.875 83.972656 L 248.875 83.679688 L 250.789062 83.679688 L 250.789062 83.382812 L 251.65625 83.382812 L 251.65625 83.089844 L 252.222656 83.089844 L 252.222656 82.796875 L 254.789062 82.796875 L 254.789062 82.503906 L 255.527344 82.503906 L 255.527344 82.207031 L 257.136719 82.207031 L 257.136719 81.914062 L 258.875 81.914062 L 258.875 81.621094 L 259.527344 81.621094 L 259.527344 81.328125 L 266.617188 81.328125 L 266.617188 81.03125 L 269.707031 81.03125 L 269.707031 80.738281 L 274.792969 80.738281 L 274.792969 80.445312 L 279.359375 80.445312 L 279.359375 80.152344 L 281.792969 80.152344 L 281.792969 79.855469 L 284.753906 79.855469 L 284.753906 79.5625 L 290.273438 79.5625 L 290.273438 79.269531 L 301.148438 79.269531 L 301.148438 78.972656 L 302.84375 78.972656 L 302.84375 78.679688 L 303.886719 78.679688 L 303.886719 78.386719 L 304.714844 78.386719 L 304.714844 78.09375 L 308.628906 78.09375 L 308.628906 77.796875 L 312.496094 77.796875 L 312.496094 77.503906 L 314.714844 77.503906 L 314.714844 77.210938 L 323.585938 77.210938 L 323.585938 76.917969 L 335.589844 76.917969 L 335.589844 76.621094 L 345.808594 76.621094 L 345.808594 76.328125 L 356.074219 76.328125 L 356.074219 76.035156 L 356.636719 76.035156 L 356.636719 75.738281 L 359.464844 75.738281 L 359.464844 75.445312 L 381.382812 75.445312 L 381.382812 75.152344 L 390.296875 75.152344 L 390.296875 74.859375 L 414.738281 74.859375 L 414.738281 74.5625 L 419.609375 74.5625 L 419.609375 74.269531 L 422.695312 74.269531 L 422.695312 73.976562 L 434.523438 73.976562 L 434.523438 73.683594 L 450.617188 73.683594 L 450.617188 73.386719 L 455.484375 73.386719 L 455.484375 72.800781 L 458.398438 72.800781 \"/>\n",
       "</g>\n",
       "</svg>\n"
      ],
      "text/plain": [
       "plot without title"
      ]
     },
     "metadata": {
      "image/svg+xml": {
       "isolated": true
      }
     },
     "output_type": "display_data"
    }
   ],
   "source": [
    "plot(prf)"
   ]
  },
  {
   "cell_type": "code",
   "execution_count": 69,
   "metadata": {
    "collapsed": true
   },
   "outputs": [],
   "source": [
    "#Area under curve\n",
    "auc <- performance(pr, measure = \"auc\")"
   ]
  },
  {
   "cell_type": "code",
   "execution_count": 70,
   "metadata": {
    "collapsed": true
   },
   "outputs": [],
   "source": [
    "auc <- auc@y.values[[1]]"
   ]
  },
  {
   "cell_type": "code",
   "execution_count": 71,
   "metadata": {
    "collapsed": false
   },
   "outputs": [
    {
     "data": {
      "text/html": [
       "0.902732138881628"
      ],
      "text/latex": [
       "0.902732138881628"
      ],
      "text/markdown": [
       "0.902732138881628"
      ],
      "text/plain": [
       "[1] 0.9027321"
      ]
     },
     "execution_count": 71,
     "metadata": {},
     "output_type": "execute_result"
    }
   ],
   "source": [
    "auc"
   ]
  },
  {
   "cell_type": "code",
   "execution_count": 80,
   "metadata": {
    "collapsed": false
   },
   "outputs": [
    {
     "data": {
      "image/png": "[encoded data removed]",
      "image/svg+xml": [
       "<?xml version=\"1.0\" encoding=\"UTF-8\"?>\n",
       "<svg xmlns=\"http://www.w3.org/2000/svg\" xmlns:xlink=\"http://www.w3.org/1999/xlink\" width=\"504pt\" height=\"504pt\" viewBox=\"0 0 504 504\" version=\"1.1\">\n",
       "<defs>\n",
       "<g>\n",
       "<symbol overflow=\"visible\" id=\"glyph0-0\">\n",
       "<path style=\"stroke:none;\" d=\"M 0.390625 0 L 0.390625 -8.609375 L 7.21875 -8.609375 L 7.21875 0 Z M 6.140625 -1.078125 L 6.140625 -7.53125 L 1.46875 -7.53125 L 1.46875 -1.078125 Z M 6.140625 -1.078125 \"/>\n",
       "</symbol>\n",
       "<symbol overflow=\"visible\" id=\"glyph0-1\">\n",
       "<path style=\"stroke:none;\" d=\"M 4.921875 -4.671875 C 5.460938 -4.671875 5.890625 -4.78125 6.203125 -5 C 6.523438 -5.21875 6.6875 -5.609375 6.6875 -6.171875 C 6.6875 -6.785156 6.46875 -7.207031 6.03125 -7.4375 C 5.789062 -7.550781 5.46875 -7.609375 5.0625 -7.609375 L 2.21875 -7.609375 L 2.21875 -4.671875 Z M 1.0625 -8.609375 L 5.046875 -8.609375 C 5.703125 -8.609375 6.238281 -8.515625 6.65625 -8.328125 C 7.46875 -7.953125 7.875 -7.269531 7.875 -6.28125 C 7.875 -5.769531 7.765625 -5.347656 7.546875 -5.015625 C 7.335938 -4.691406 7.039062 -4.429688 6.65625 -4.234375 C 7 -4.097656 7.253906 -3.914062 7.421875 -3.6875 C 7.585938 -3.46875 7.679688 -3.109375 7.703125 -2.609375 L 7.75 -1.453125 C 7.757812 -1.128906 7.785156 -0.882812 7.828125 -0.71875 C 7.898438 -0.445312 8.023438 -0.269531 8.203125 -0.1875 L 8.203125 0 L 6.78125 0 C 6.738281 -0.0703125 6.703125 -0.164062 6.671875 -0.28125 C 6.648438 -0.40625 6.632812 -0.632812 6.625 -0.96875 L 6.546875 -2.40625 C 6.523438 -2.96875 6.316406 -3.34375 5.921875 -3.53125 C 5.703125 -3.632812 5.351562 -3.6875 4.875 -3.6875 L 2.21875 -3.6875 L 2.21875 0 L 1.0625 0 Z M 1.0625 -8.609375 \"/>\n",
       "</symbol>\n",
       "<symbol overflow=\"visible\" id=\"glyph0-2\">\n",
       "<path style=\"stroke:none;\" d=\"M 3.390625 -6.421875 C 3.835938 -6.421875 4.269531 -6.316406 4.6875 -6.109375 C 5.101562 -5.898438 5.421875 -5.628906 5.640625 -5.296875 C 5.847656 -4.972656 5.988281 -4.601562 6.0625 -4.1875 C 6.125 -3.894531 6.15625 -3.429688 6.15625 -2.796875 L 1.546875 -2.796875 C 1.566406 -2.160156 1.71875 -1.648438 2 -1.265625 C 2.28125 -0.878906 2.71875 -0.6875 3.3125 -0.6875 C 3.863281 -0.6875 4.300781 -0.867188 4.625 -1.234375 C 4.8125 -1.441406 4.945312 -1.6875 5.03125 -1.96875 L 6.0625 -1.96875 C 6.039062 -1.738281 5.953125 -1.484375 5.796875 -1.203125 C 5.640625 -0.921875 5.46875 -0.6875 5.28125 -0.5 C 4.957031 -0.1875 4.554688 0.0195312 4.078125 0.125 C 3.828125 0.1875 3.539062 0.21875 3.21875 0.21875 C 2.4375 0.21875 1.773438 -0.0625 1.234375 -0.625 C 0.691406 -1.195312 0.421875 -1.992188 0.421875 -3.015625 C 0.421875 -4.023438 0.691406 -4.84375 1.234375 -5.46875 C 1.785156 -6.101562 2.503906 -6.421875 3.390625 -6.421875 Z M 5.0625 -3.640625 C 5.019531 -4.097656 4.921875 -4.460938 4.765625 -4.734375 C 4.484375 -5.242188 4.003906 -5.5 3.328125 -5.5 C 2.835938 -5.5 2.425781 -5.320312 2.09375 -4.96875 C 1.769531 -4.625 1.597656 -4.179688 1.578125 -3.640625 Z M 3.28125 -6.421875 Z M 3.28125 -6.421875 \"/>\n",
       "</symbol>\n",
       "<symbol overflow=\"visible\" id=\"glyph0-3\">\n",
       "<path style=\"stroke:none;\" d=\"M 3.1875 -6.453125 C 3.894531 -6.453125 4.46875 -6.28125 4.90625 -5.9375 C 5.351562 -5.59375 5.625 -5.003906 5.71875 -4.171875 L 4.6875 -4.171875 C 4.625 -4.554688 4.484375 -4.875 4.265625 -5.125 C 4.046875 -5.382812 3.6875 -5.515625 3.1875 -5.515625 C 2.519531 -5.515625 2.039062 -5.1875 1.75 -4.53125 C 1.5625 -4.101562 1.46875 -3.578125 1.46875 -2.953125 C 1.46875 -2.328125 1.597656 -1.796875 1.859375 -1.359375 C 2.128906 -0.929688 2.550781 -0.71875 3.125 -0.71875 C 3.5625 -0.71875 3.90625 -0.851562 4.15625 -1.125 C 4.414062 -1.394531 4.59375 -1.757812 4.6875 -2.21875 L 5.71875 -2.21875 C 5.601562 -1.382812 5.3125 -0.773438 4.84375 -0.390625 C 4.375 -0.00390625 3.773438 0.1875 3.046875 0.1875 C 2.222656 0.1875 1.566406 -0.113281 1.078125 -0.71875 C 0.585938 -1.320312 0.34375 -2.070312 0.34375 -2.96875 C 0.34375 -4.070312 0.609375 -4.925781 1.140625 -5.53125 C 1.679688 -6.144531 2.363281 -6.453125 3.1875 -6.453125 Z M 3.03125 -6.421875 Z M 3.03125 -6.421875 \"/>\n",
       "</symbol>\n",
       "<symbol overflow=\"visible\" id=\"glyph0-4\">\n",
       "<path style=\"stroke:none;\" d=\"M 1.578125 -1.671875 C 1.578125 -1.367188 1.6875 -1.128906 1.90625 -0.953125 C 2.132812 -0.773438 2.398438 -0.6875 2.703125 -0.6875 C 3.078125 -0.6875 3.4375 -0.769531 3.78125 -0.9375 C 4.375 -1.226562 4.671875 -1.695312 4.671875 -2.34375 L 4.671875 -3.1875 C 4.535156 -3.113281 4.363281 -3.046875 4.15625 -2.984375 C 3.957031 -2.929688 3.757812 -2.894531 3.5625 -2.875 L 2.9375 -2.796875 C 2.550781 -2.742188 2.257812 -2.660156 2.0625 -2.546875 C 1.738281 -2.367188 1.578125 -2.078125 1.578125 -1.671875 Z M 4.140625 -3.796875 C 4.378906 -3.828125 4.539062 -3.929688 4.625 -4.109375 C 4.664062 -4.203125 4.6875 -4.335938 4.6875 -4.515625 C 4.6875 -4.867188 4.554688 -5.125 4.296875 -5.28125 C 4.046875 -5.445312 3.6875 -5.53125 3.21875 -5.53125 C 2.664062 -5.53125 2.273438 -5.382812 2.046875 -5.09375 C 1.910156 -4.925781 1.820312 -4.679688 1.78125 -4.359375 L 0.796875 -4.359375 C 0.816406 -5.128906 1.066406 -5.664062 1.546875 -5.96875 C 2.035156 -6.269531 2.597656 -6.421875 3.234375 -6.421875 C 3.972656 -6.421875 4.570312 -6.28125 5.03125 -6 C 5.488281 -5.71875 5.71875 -5.28125 5.71875 -4.6875 L 5.71875 -1.078125 C 5.71875 -0.972656 5.738281 -0.882812 5.78125 -0.8125 C 5.832031 -0.75 5.929688 -0.71875 6.078125 -0.71875 C 6.117188 -0.71875 6.164062 -0.71875 6.21875 -0.71875 C 6.28125 -0.726562 6.347656 -0.738281 6.421875 -0.75 L 6.421875 0.03125 C 6.253906 0.0703125 6.125 0.0976562 6.03125 0.109375 C 5.945312 0.128906 5.832031 0.140625 5.6875 0.140625 C 5.320312 0.140625 5.0625 0.0078125 4.90625 -0.25 C 4.8125 -0.382812 4.75 -0.578125 4.71875 -0.828125 C 4.5 -0.546875 4.1875 -0.300781 3.78125 -0.09375 C 3.382812 0.113281 2.945312 0.21875 2.46875 0.21875 C 1.882812 0.21875 1.40625 0.0390625 1.03125 -0.3125 C 0.664062 -0.664062 0.484375 -1.109375 0.484375 -1.640625 C 0.484375 -2.222656 0.664062 -2.675781 1.03125 -3 C 1.394531 -3.320312 1.867188 -3.519531 2.453125 -3.59375 Z M 3.265625 -6.421875 Z M 3.265625 -6.421875 \"/>\n",
       "</symbol>\n",
       "<symbol overflow=\"visible\" id=\"glyph0-5\">\n",
       "<path style=\"stroke:none;\" d=\"M 0.796875 -8.609375 L 1.859375 -8.609375 L 1.859375 0 L 0.796875 0 Z M 0.796875 -8.609375 \"/>\n",
       "</symbol>\n",
       "<symbol overflow=\"visible\" id=\"glyph0-6\">\n",
       "<path style=\"stroke:none;\" d=\"M 3.25 -8.390625 C 4.332031 -8.390625 5.117188 -7.941406 5.609375 -7.046875 C 5.984375 -6.359375 6.171875 -5.410156 6.171875 -4.203125 C 6.171875 -3.066406 6 -2.125 5.65625 -1.375 C 5.164062 -0.300781 4.359375 0.234375 3.234375 0.234375 C 2.234375 0.234375 1.484375 -0.203125 0.984375 -1.078125 C 0.578125 -1.816406 0.375 -2.800781 0.375 -4.03125 C 0.375 -4.976562 0.5 -5.796875 0.75 -6.484375 C 1.207031 -7.753906 2.039062 -8.390625 3.25 -8.390625 Z M 3.234375 -0.734375 C 3.785156 -0.734375 4.222656 -0.972656 4.546875 -1.453125 C 4.867188 -1.941406 5.03125 -2.847656 5.03125 -4.171875 C 5.03125 -5.117188 4.910156 -5.898438 4.671875 -6.515625 C 4.441406 -7.128906 3.988281 -7.4375 3.3125 -7.4375 C 2.6875 -7.4375 2.226562 -7.144531 1.9375 -6.5625 C 1.65625 -5.976562 1.515625 -5.117188 1.515625 -3.984375 C 1.515625 -3.128906 1.609375 -2.441406 1.796875 -1.921875 C 2.078125 -1.128906 2.554688 -0.734375 3.234375 -0.734375 Z M 3.234375 -0.734375 \"/>\n",
       "</symbol>\n",
       "<symbol overflow=\"visible\" id=\"glyph0-7\">\n",
       "<path style=\"stroke:none;\" d=\"M 1.03125 -1.28125 L 2.25 -1.28125 L 2.25 0 L 1.03125 0 Z M 1.03125 -1.28125 \"/>\n",
       "</symbol>\n",
       "<symbol overflow=\"visible\" id=\"glyph0-8\">\n",
       "<path style=\"stroke:none;\" d=\"M 0.375 0 C 0.414062 -0.71875 0.566406 -1.34375 0.828125 -1.875 C 1.085938 -2.414062 1.59375 -2.90625 2.34375 -3.34375 L 3.46875 -4 C 3.96875 -4.289062 4.320312 -4.539062 4.53125 -4.75 C 4.851562 -5.070312 5.015625 -5.441406 5.015625 -5.859375 C 5.015625 -6.347656 4.863281 -6.734375 4.5625 -7.015625 C 4.269531 -7.304688 3.882812 -7.453125 3.40625 -7.453125 C 2.675781 -7.453125 2.175781 -7.179688 1.90625 -6.640625 C 1.75 -6.335938 1.664062 -5.929688 1.65625 -5.421875 L 0.578125 -5.421875 C 0.585938 -6.148438 0.722656 -6.742188 0.984375 -7.203125 C 1.441406 -8.015625 2.25 -8.421875 3.40625 -8.421875 C 4.363281 -8.421875 5.0625 -8.160156 5.5 -7.640625 C 5.945312 -7.117188 6.171875 -6.539062 6.171875 -5.90625 C 6.171875 -5.238281 5.9375 -4.664062 5.46875 -4.1875 C 5.195312 -3.90625 4.707031 -3.566406 4 -3.171875 L 3.1875 -2.734375 C 2.8125 -2.523438 2.515625 -2.320312 2.296875 -2.125 C 1.898438 -1.789062 1.648438 -1.414062 1.546875 -1 L 6.140625 -1 L 6.140625 0 Z M 0.375 0 \"/>\n",
       "</symbol>\n",
       "<symbol overflow=\"visible\" id=\"glyph0-9\">\n",
       "<path style=\"stroke:none;\" d=\"M 3.96875 -2.96875 L 3.96875 -6.78125 L 1.28125 -2.96875 Z M 3.984375 0 L 3.984375 -2.046875 L 0.3125 -2.046875 L 0.3125 -3.078125 L 4.15625 -8.421875 L 5.046875 -8.421875 L 5.046875 -2.96875 L 6.28125 -2.96875 L 6.28125 -2.046875 L 5.046875 -2.046875 L 5.046875 0 Z M 3.984375 0 \"/>\n",
       "</symbol>\n",
       "<symbol overflow=\"visible\" id=\"glyph0-10\">\n",
       "<path style=\"stroke:none;\" d=\"M 3.515625 -8.421875 C 4.453125 -8.421875 5.101562 -8.175781 5.46875 -7.6875 C 5.84375 -7.207031 6.03125 -6.707031 6.03125 -6.1875 L 4.984375 -6.1875 C 4.921875 -6.519531 4.820312 -6.78125 4.6875 -6.96875 C 4.425781 -7.320312 4.039062 -7.5 3.53125 -7.5 C 2.9375 -7.5 2.460938 -7.222656 2.109375 -6.671875 C 1.765625 -6.128906 1.578125 -5.351562 1.546875 -4.34375 C 1.785156 -4.695312 2.085938 -4.960938 2.453125 -5.140625 C 2.785156 -5.296875 3.160156 -5.375 3.578125 -5.375 C 4.285156 -5.375 4.898438 -5.148438 5.421875 -4.703125 C 5.941406 -4.253906 6.203125 -3.582031 6.203125 -2.6875 C 6.203125 -1.925781 5.953125 -1.25 5.453125 -0.65625 C 4.960938 -0.0703125 4.257812 0.21875 3.34375 0.21875 C 2.550781 0.21875 1.867188 -0.078125 1.296875 -0.671875 C 0.734375 -1.273438 0.453125 -2.28125 0.453125 -3.6875 C 0.453125 -4.726562 0.578125 -5.613281 0.828125 -6.34375 C 1.316406 -7.726562 2.210938 -8.421875 3.515625 -8.421875 Z M 3.4375 -0.71875 C 3.988281 -0.71875 4.398438 -0.90625 4.671875 -1.28125 C 4.953125 -1.65625 5.09375 -2.097656 5.09375 -2.609375 C 5.09375 -3.035156 4.96875 -3.441406 4.71875 -3.828125 C 4.476562 -4.210938 4.03125 -4.40625 3.375 -4.40625 C 2.925781 -4.40625 2.53125 -4.253906 2.1875 -3.953125 C 1.84375 -3.660156 1.671875 -3.210938 1.671875 -2.609375 C 1.671875 -2.078125 1.828125 -1.628906 2.140625 -1.265625 C 2.453125 -0.898438 2.882812 -0.71875 3.4375 -0.71875 Z M 3.4375 -0.71875 \"/>\n",
       "</symbol>\n",
       "<symbol overflow=\"visible\" id=\"glyph0-11\">\n",
       "<path style=\"stroke:none;\" d=\"M 3.265625 -4.875 C 3.734375 -4.875 4.097656 -5.003906 4.359375 -5.265625 C 4.617188 -5.523438 4.75 -5.832031 4.75 -6.1875 C 4.75 -6.5 4.625 -6.785156 4.375 -7.046875 C 4.125 -7.316406 3.742188 -7.453125 3.234375 -7.453125 C 2.722656 -7.453125 2.351562 -7.316406 2.125 -7.046875 C 1.894531 -6.785156 1.78125 -6.484375 1.78125 -6.140625 C 1.78125 -5.742188 1.925781 -5.429688 2.21875 -5.203125 C 2.519531 -4.984375 2.867188 -4.875 3.265625 -4.875 Z M 3.328125 -0.71875 C 3.816406 -0.71875 4.222656 -0.847656 4.546875 -1.109375 C 4.867188 -1.378906 5.03125 -1.773438 5.03125 -2.296875 C 5.03125 -2.835938 4.863281 -3.25 4.53125 -3.53125 C 4.195312 -3.8125 3.769531 -3.953125 3.25 -3.953125 C 2.75 -3.953125 2.335938 -3.804688 2.015625 -3.515625 C 1.703125 -3.234375 1.546875 -2.835938 1.546875 -2.328125 C 1.546875 -1.890625 1.691406 -1.507812 1.984375 -1.1875 C 2.273438 -0.875 2.722656 -0.71875 3.328125 -0.71875 Z M 1.828125 -4.46875 C 1.535156 -4.59375 1.304688 -4.738281 1.140625 -4.90625 C 0.835938 -5.21875 0.6875 -5.625 0.6875 -6.125 C 0.6875 -6.75 0.910156 -7.285156 1.359375 -7.734375 C 1.816406 -8.191406 2.457031 -8.421875 3.28125 -8.421875 C 4.09375 -8.421875 4.722656 -8.207031 5.171875 -7.78125 C 5.628906 -7.351562 5.859375 -6.859375 5.859375 -6.296875 C 5.859375 -5.773438 5.726562 -5.347656 5.46875 -5.015625 C 5.320312 -4.835938 5.09375 -4.660156 4.78125 -4.484375 C 5.125 -4.328125 5.394531 -4.144531 5.59375 -3.9375 C 5.96875 -3.539062 6.15625 -3.03125 6.15625 -2.40625 C 6.15625 -1.664062 5.90625 -1.039062 5.40625 -0.53125 C 4.914062 -0.0195312 4.21875 0.234375 3.3125 0.234375 C 2.488281 0.234375 1.796875 0.015625 1.234375 -0.421875 C 0.671875 -0.867188 0.390625 -1.515625 0.390625 -2.359375 C 0.390625 -2.847656 0.507812 -3.273438 0.75 -3.640625 C 0.988281 -4.003906 1.347656 -4.28125 1.828125 -4.46875 Z M 1.828125 -4.46875 \"/>\n",
       "</symbol>\n",
       "<symbol overflow=\"visible\" id=\"glyph0-12\">\n",
       "<path style=\"stroke:none;\" d=\"M 1.15625 -5.9375 L 1.15625 -6.75 C 1.914062 -6.820312 2.441406 -6.945312 2.734375 -7.125 C 3.035156 -7.300781 3.265625 -7.710938 3.421875 -8.359375 L 4.25 -8.359375 L 4.25 0 L 3.125 0 L 3.125 -5.9375 Z M 1.15625 -5.9375 \"/>\n",
       "</symbol>\n",
       "<symbol overflow=\"visible\" id=\"glyph1-0\">\n",
       "<path style=\"stroke:none;\" d=\"M 0 -0.390625 L -8.609375 -0.390625 L -8.609375 -7.21875 L 0 -7.21875 Z M -1.078125 -6.140625 L -7.53125 -6.140625 L -7.53125 -1.46875 L -1.078125 -1.46875 Z M -1.078125 -6.140625 \"/>\n",
       "</symbol>\n",
       "<symbol overflow=\"visible\" id=\"glyph1-1\">\n",
       "<path style=\"stroke:none;\" d=\"M -8.609375 -1.03125 L -8.609375 -4.90625 C -8.609375 -5.664062 -8.390625 -6.28125 -7.953125 -6.75 C -7.523438 -7.21875 -6.921875 -7.453125 -6.140625 -7.453125 C -5.472656 -7.453125 -4.890625 -7.242188 -4.390625 -6.828125 C -3.890625 -6.410156 -3.640625 -5.769531 -3.640625 -4.90625 L -3.640625 -2.1875 L 0 -2.1875 L 0 -1.03125 Z M -6.140625 -6.28125 C -6.765625 -6.28125 -7.191406 -6.046875 -7.421875 -5.578125 C -7.546875 -5.316406 -7.609375 -4.960938 -7.609375 -4.515625 L -7.609375 -2.1875 L -4.625 -2.1875 L -4.625 -4.515625 C -4.625 -5.035156 -4.734375 -5.457031 -4.953125 -5.78125 C -5.179688 -6.113281 -5.578125 -6.28125 -6.140625 -6.28125 Z M -6.140625 -6.28125 \"/>\n",
       "</symbol>\n",
       "<symbol overflow=\"visible\" id=\"glyph1-2\">\n",
       "<path style=\"stroke:none;\" d=\"M -6.28125 -0.796875 L -6.28125 -1.8125 L -5.1875 -1.8125 C -5.40625 -1.882812 -5.664062 -2.082031 -5.96875 -2.40625 C -6.269531 -2.726562 -6.421875 -3.097656 -6.421875 -3.515625 C -6.421875 -3.535156 -6.414062 -3.566406 -6.40625 -3.609375 C -6.40625 -3.660156 -6.398438 -3.742188 -6.390625 -3.859375 L -5.28125 -3.859375 C -5.289062 -3.796875 -5.296875 -3.738281 -5.296875 -3.6875 C -5.296875 -3.632812 -5.296875 -3.578125 -5.296875 -3.515625 C -5.296875 -2.984375 -5.125 -2.570312 -4.78125 -2.28125 C -4.445312 -2 -4.054688 -1.859375 -3.609375 -1.859375 L 0 -1.859375 L 0 -0.796875 Z M -6.28125 -0.796875 \"/>\n",
       "</symbol>\n",
       "<symbol overflow=\"visible\" id=\"glyph1-3\">\n",
       "<path style=\"stroke:none;\" d=\"M -6.421875 -3.390625 C -6.421875 -3.835938 -6.316406 -4.269531 -6.109375 -4.6875 C -5.898438 -5.101562 -5.628906 -5.421875 -5.296875 -5.640625 C -4.972656 -5.847656 -4.601562 -5.988281 -4.1875 -6.0625 C -3.894531 -6.125 -3.429688 -6.15625 -2.796875 -6.15625 L -2.796875 -1.546875 C -2.160156 -1.566406 -1.648438 -1.71875 -1.265625 -2 C -0.878906 -2.28125 -0.6875 -2.71875 -0.6875 -3.3125 C -0.6875 -3.863281 -0.867188 -4.300781 -1.234375 -4.625 C -1.441406 -4.8125 -1.6875 -4.945312 -1.96875 -5.03125 L -1.96875 -6.0625 C -1.738281 -6.039062 -1.484375 -5.953125 -1.203125 -5.796875 C -0.921875 -5.640625 -0.6875 -5.46875 -0.5 -5.28125 C -0.1875 -4.957031 0.0195312 -4.554688 0.125 -4.078125 C 0.1875 -3.828125 0.21875 -3.539062 0.21875 -3.21875 C 0.21875 -2.4375 -0.0625 -1.773438 -0.625 -1.234375 C -1.195312 -0.691406 -1.992188 -0.421875 -3.015625 -0.421875 C -4.023438 -0.421875 -4.84375 -0.691406 -5.46875 -1.234375 C -6.101562 -1.785156 -6.421875 -2.503906 -6.421875 -3.390625 Z M -3.640625 -5.0625 C -4.097656 -5.019531 -4.460938 -4.921875 -4.734375 -4.765625 C -5.242188 -4.484375 -5.5 -4.003906 -5.5 -3.328125 C -5.5 -2.835938 -5.320312 -2.425781 -4.96875 -2.09375 C -4.625 -1.769531 -4.179688 -1.597656 -3.640625 -1.578125 Z M -6.421875 -3.28125 Z M -6.421875 -3.28125 \"/>\n",
       "</symbol>\n",
       "<symbol overflow=\"visible\" id=\"glyph1-4\">\n",
       "<path style=\"stroke:none;\" d=\"M -6.453125 -3.1875 C -6.453125 -3.894531 -6.28125 -4.46875 -5.9375 -4.90625 C -5.59375 -5.351562 -5.003906 -5.625 -4.171875 -5.71875 L -4.171875 -4.6875 C -4.554688 -4.625 -4.875 -4.484375 -5.125 -4.265625 C -5.382812 -4.046875 -5.515625 -3.6875 -5.515625 -3.1875 C -5.515625 -2.519531 -5.1875 -2.039062 -4.53125 -1.75 C -4.101562 -1.5625 -3.578125 -1.46875 -2.953125 -1.46875 C -2.328125 -1.46875 -1.796875 -1.597656 -1.359375 -1.859375 C -0.929688 -2.128906 -0.71875 -2.550781 -0.71875 -3.125 C -0.71875 -3.5625 -0.851562 -3.90625 -1.125 -4.15625 C -1.394531 -4.414062 -1.757812 -4.59375 -2.21875 -4.6875 L -2.21875 -5.71875 C -1.382812 -5.601562 -0.773438 -5.3125 -0.390625 -4.84375 C -0.00390625 -4.375 0.1875 -3.773438 0.1875 -3.046875 C 0.1875 -2.222656 -0.113281 -1.566406 -0.71875 -1.078125 C -1.320312 -0.585938 -2.070312 -0.34375 -2.96875 -0.34375 C -4.070312 -0.34375 -4.925781 -0.609375 -5.53125 -1.140625 C -6.144531 -1.679688 -6.453125 -2.363281 -6.453125 -3.1875 Z M -6.421875 -3.03125 Z M -6.421875 -3.03125 \"/>\n",
       "</symbol>\n",
       "<symbol overflow=\"visible\" id=\"glyph1-5\">\n",
       "<path style=\"stroke:none;\" d=\"M -6.25 -0.78125 L -6.25 -1.84375 L 0 -1.84375 L 0 -0.78125 Z M -8.609375 -0.78125 L -8.609375 -1.84375 L -7.40625 -1.84375 L -7.40625 -0.78125 Z M -8.609375 -0.78125 \"/>\n",
       "</symbol>\n",
       "<symbol overflow=\"visible\" id=\"glyph1-6\">\n",
       "<path style=\"stroke:none;\" d=\"M -1.96875 -1.40625 C -1.613281 -1.4375 -1.34375 -1.523438 -1.15625 -1.671875 C -0.820312 -1.929688 -0.65625 -2.390625 -0.65625 -3.046875 C -0.65625 -3.441406 -0.738281 -3.785156 -0.90625 -4.078125 C -1.070312 -4.378906 -1.332031 -4.53125 -1.6875 -4.53125 C -1.957031 -4.53125 -2.164062 -4.410156 -2.3125 -4.171875 C -2.394531 -4.015625 -2.492188 -3.710938 -2.609375 -3.265625 L -2.8125 -2.421875 C -2.945312 -1.890625 -3.097656 -1.5 -3.265625 -1.25 C -3.546875 -0.789062 -3.941406 -0.5625 -4.453125 -0.5625 C -5.046875 -0.5625 -5.523438 -0.773438 -5.890625 -1.203125 C -6.253906 -1.628906 -6.4375 -2.207031 -6.4375 -2.9375 C -6.4375 -3.875 -6.160156 -4.550781 -5.609375 -4.96875 C -5.253906 -5.238281 -4.875 -5.367188 -4.46875 -5.359375 L -4.46875 -4.359375 C -4.707031 -4.335938 -4.925781 -4.253906 -5.125 -4.109375 C -5.394531 -3.867188 -5.53125 -3.445312 -5.53125 -2.84375 C -5.53125 -2.445312 -5.453125 -2.144531 -5.296875 -1.9375 C -5.148438 -1.738281 -4.953125 -1.640625 -4.703125 -1.640625 C -4.429688 -1.640625 -4.210938 -1.773438 -4.046875 -2.046875 C -3.953125 -2.203125 -3.867188 -2.429688 -3.796875 -2.734375 L -3.625 -3.421875 C -3.4375 -4.179688 -3.257812 -4.691406 -3.09375 -4.953125 C -2.820312 -5.359375 -2.394531 -5.5625 -1.8125 -5.5625 C -1.257812 -5.5625 -0.78125 -5.347656 -0.375 -4.921875 C 0.03125 -4.503906 0.234375 -3.863281 0.234375 -3 C 0.234375 -2.0625 0.0234375 -1.394531 -0.390625 -1 C -0.816406 -0.613281 -1.34375 -0.410156 -1.96875 -0.390625 Z M -6.421875 -2.953125 Z M -6.421875 -2.953125 \"/>\n",
       "</symbol>\n",
       "<symbol overflow=\"visible\" id=\"glyph1-7\">\n",
       "<path style=\"stroke:none;\" d=\"M -0.6875 -3.265625 C -0.6875 -3.960938 -0.945312 -4.441406 -1.46875 -4.703125 C -2 -4.960938 -2.585938 -5.09375 -3.234375 -5.09375 C -3.828125 -5.09375 -4.304688 -5 -4.671875 -4.8125 C -5.242188 -4.507812 -5.53125 -4 -5.53125 -3.28125 C -5.53125 -2.632812 -5.285156 -2.164062 -4.796875 -1.875 C -4.304688 -1.582031 -3.710938 -1.4375 -3.015625 -1.4375 C -2.347656 -1.4375 -1.789062 -1.582031 -1.34375 -1.875 C -0.90625 -2.164062 -0.6875 -2.628906 -0.6875 -3.265625 Z M -6.453125 -3.3125 C -6.453125 -4.113281 -6.179688 -4.789062 -5.640625 -5.34375 C -5.109375 -5.90625 -4.316406 -6.1875 -3.265625 -6.1875 C -2.253906 -6.1875 -1.414062 -5.941406 -0.75 -5.453125 C -0.09375 -4.960938 0.234375 -4.203125 0.234375 -3.171875 C 0.234375 -2.304688 -0.0546875 -1.617188 -0.640625 -1.109375 C -1.234375 -0.597656 -2.019531 -0.34375 -3 -0.34375 C -4.050781 -0.34375 -4.890625 -0.609375 -5.515625 -1.140625 C -6.140625 -1.679688 -6.453125 -2.40625 -6.453125 -3.3125 Z M -6.421875 -3.265625 Z M -6.421875 -3.265625 \"/>\n",
       "</symbol>\n",
       "<symbol overflow=\"visible\" id=\"glyph1-8\">\n",
       "<path style=\"stroke:none;\" d=\"M -6.28125 -0.78125 L -6.28125 -1.78125 L -5.390625 -1.78125 C -5.753906 -2.070312 -6.015625 -2.382812 -6.171875 -2.71875 C -6.335938 -3.050781 -6.421875 -3.421875 -6.421875 -3.828125 C -6.421875 -4.710938 -6.109375 -5.3125 -5.484375 -5.625 C -5.140625 -5.800781 -4.65625 -5.890625 -4.03125 -5.890625 L 0 -5.890625 L 0 -4.8125 L -3.953125 -4.8125 C -4.335938 -4.8125 -4.644531 -4.753906 -4.875 -4.640625 C -5.269531 -4.453125 -5.46875 -4.113281 -5.46875 -3.625 C -5.46875 -3.375 -5.441406 -3.171875 -5.390625 -3.015625 C -5.304688 -2.722656 -5.132812 -2.46875 -4.875 -2.25 C -4.664062 -2.070312 -4.453125 -1.957031 -4.234375 -1.90625 C -4.015625 -1.851562 -3.695312 -1.828125 -3.28125 -1.828125 L 0 -1.828125 L 0 -0.78125 Z M -6.421875 -3.25 Z M -6.421875 -3.25 \"/>\n",
       "</symbol>\n",
       "<symbol overflow=\"visible\" id=\"glyph1-9\">\n",
       "<path style=\"stroke:none;\" d=\"M -8.390625 -3.25 C -8.390625 -4.332031 -7.941406 -5.117188 -7.046875 -5.609375 C -6.359375 -5.984375 -5.410156 -6.171875 -4.203125 -6.171875 C -3.066406 -6.171875 -2.125 -6 -1.375 -5.65625 C -0.300781 -5.164062 0.234375 -4.359375 0.234375 -3.234375 C 0.234375 -2.234375 -0.203125 -1.484375 -1.078125 -0.984375 C -1.816406 -0.578125 -2.800781 -0.375 -4.03125 -0.375 C -4.976562 -0.375 -5.796875 -0.5 -6.484375 -0.75 C -7.753906 -1.207031 -8.390625 -2.039062 -8.390625 -3.25 Z M -0.734375 -3.234375 C -0.734375 -3.785156 -0.972656 -4.222656 -1.453125 -4.546875 C -1.941406 -4.867188 -2.847656 -5.03125 -4.171875 -5.03125 C -5.117188 -5.03125 -5.898438 -4.910156 -6.515625 -4.671875 C -7.128906 -4.441406 -7.4375 -3.988281 -7.4375 -3.3125 C -7.4375 -2.6875 -7.144531 -2.226562 -6.5625 -1.9375 C -5.976562 -1.65625 -5.117188 -1.515625 -3.984375 -1.515625 C -3.128906 -1.515625 -2.441406 -1.609375 -1.921875 -1.796875 C -1.128906 -2.078125 -0.734375 -2.554688 -0.734375 -3.234375 Z M -0.734375 -3.234375 \"/>\n",
       "</symbol>\n",
       "<symbol overflow=\"visible\" id=\"glyph1-10\">\n",
       "<path style=\"stroke:none;\" d=\"M -1.28125 -1.03125 L -1.28125 -2.25 L 0 -2.25 L 0 -1.03125 Z M -1.28125 -1.03125 \"/>\n",
       "</symbol>\n",
       "<symbol overflow=\"visible\" id=\"glyph1-11\">\n",
       "<path style=\"stroke:none;\" d=\"M 0 -0.375 C -0.71875 -0.414062 -1.34375 -0.566406 -1.875 -0.828125 C -2.414062 -1.085938 -2.90625 -1.59375 -3.34375 -2.34375 L -4 -3.46875 C -4.289062 -3.96875 -4.539062 -4.320312 -4.75 -4.53125 C -5.070312 -4.851562 -5.441406 -5.015625 -5.859375 -5.015625 C -6.347656 -5.015625 -6.734375 -4.863281 -7.015625 -4.5625 C -7.304688 -4.269531 -7.453125 -3.882812 -7.453125 -3.40625 C -7.453125 -2.675781 -7.179688 -2.175781 -6.640625 -1.90625 C -6.335938 -1.75 -5.929688 -1.664062 -5.421875 -1.65625 L -5.421875 -0.578125 C -6.148438 -0.585938 -6.742188 -0.722656 -7.203125 -0.984375 C -8.015625 -1.441406 -8.421875 -2.25 -8.421875 -3.40625 C -8.421875 -4.363281 -8.160156 -5.0625 -7.640625 -5.5 C -7.117188 -5.945312 -6.539062 -6.171875 -5.90625 -6.171875 C -5.238281 -6.171875 -4.664062 -5.9375 -4.1875 -5.46875 C -3.90625 -5.195312 -3.566406 -4.707031 -3.171875 -4 L -2.734375 -3.1875 C -2.523438 -2.8125 -2.320312 -2.515625 -2.125 -2.296875 C -1.789062 -1.898438 -1.414062 -1.648438 -1 -1.546875 L -1 -6.140625 L 0 -6.140625 Z M 0 -0.375 \"/>\n",
       "</symbol>\n",
       "<symbol overflow=\"visible\" id=\"glyph1-12\">\n",
       "<path style=\"stroke:none;\" d=\"M -2.96875 -3.96875 L -6.78125 -3.96875 L -2.96875 -1.28125 Z M 0 -3.984375 L -2.046875 -3.984375 L -2.046875 -0.3125 L -3.078125 -0.3125 L -8.421875 -4.15625 L -8.421875 -5.046875 L -2.96875 -5.046875 L -2.96875 -6.28125 L -2.046875 -6.28125 L -2.046875 -5.046875 L 0 -5.046875 Z M 0 -3.984375 \"/>\n",
       "</symbol>\n",
       "<symbol overflow=\"visible\" id=\"glyph1-13\">\n",
       "<path style=\"stroke:none;\" d=\"M -8.421875 -3.515625 C -8.421875 -4.453125 -8.175781 -5.101562 -7.6875 -5.46875 C -7.207031 -5.84375 -6.707031 -6.03125 -6.1875 -6.03125 L -6.1875 -4.984375 C -6.519531 -4.921875 -6.78125 -4.820312 -6.96875 -4.6875 C -7.320312 -4.425781 -7.5 -4.039062 -7.5 -3.53125 C -7.5 -2.9375 -7.222656 -2.460938 -6.671875 -2.109375 C -6.128906 -1.765625 -5.351562 -1.578125 -4.34375 -1.546875 C -4.695312 -1.785156 -4.960938 -2.085938 -5.140625 -2.453125 C -5.296875 -2.785156 -5.375 -3.160156 -5.375 -3.578125 C -5.375 -4.285156 -5.148438 -4.898438 -4.703125 -5.421875 C -4.253906 -5.941406 -3.582031 -6.203125 -2.6875 -6.203125 C -1.925781 -6.203125 -1.25 -5.953125 -0.65625 -5.453125 C -0.0703125 -4.960938 0.21875 -4.257812 0.21875 -3.34375 C 0.21875 -2.550781 -0.078125 -1.867188 -0.671875 -1.296875 C -1.273438 -0.734375 -2.28125 -0.453125 -3.6875 -0.453125 C -4.726562 -0.453125 -5.613281 -0.578125 -6.34375 -0.828125 C -7.726562 -1.316406 -8.421875 -2.210938 -8.421875 -3.515625 Z M -0.71875 -3.4375 C -0.71875 -3.988281 -0.90625 -4.398438 -1.28125 -4.671875 C -1.65625 -4.953125 -2.097656 -5.09375 -2.609375 -5.09375 C -3.035156 -5.09375 -3.441406 -4.96875 -3.828125 -4.71875 C -4.210938 -4.476562 -4.40625 -4.03125 -4.40625 -3.375 C -4.40625 -2.925781 -4.253906 -2.53125 -3.953125 -2.1875 C -3.660156 -1.84375 -3.210938 -1.671875 -2.609375 -1.671875 C -2.078125 -1.671875 -1.628906 -1.828125 -1.265625 -2.140625 C -0.898438 -2.453125 -0.71875 -2.882812 -0.71875 -3.4375 Z M -0.71875 -3.4375 \"/>\n",
       "</symbol>\n",
       "</g>\n",
       "</defs>\n",
       "<g id=\"surface51\">\n",
       "<rect x=\"0\" y=\"0\" width=\"504\" height=\"504\" style=\"fill:rgb(100%,100%,100%);fill-opacity:1;stroke:none;\"/>\n",
       "<g style=\"fill:rgb(0%,0%,0%);fill-opacity:1;\">\n",
       "  <use xlink:href=\"#glyph0-1\" x=\"249.726562\" y=\"485.28125\"/>\n",
       "  <use xlink:href=\"#glyph0-2\" x=\"258.392578\" y=\"485.28125\"/>\n",
       "  <use xlink:href=\"#glyph0-3\" x=\"265.066406\" y=\"485.28125\"/>\n",
       "  <use xlink:href=\"#glyph0-4\" x=\"271.066406\" y=\"485.28125\"/>\n",
       "  <use xlink:href=\"#glyph0-5\" x=\"277.740234\" y=\"485.28125\"/>\n",
       "  <use xlink:href=\"#glyph0-5\" x=\"280.40625\" y=\"485.28125\"/>\n",
       "</g>\n",
       "<g style=\"fill:rgb(0%,0%,0%);fill-opacity:1;\">\n",
       "  <use xlink:href=\"#glyph1-1\" x=\"12.960938\" y=\"269.476562\"/>\n",
       "  <use xlink:href=\"#glyph1-2\" x=\"12.960938\" y=\"261.472656\"/>\n",
       "  <use xlink:href=\"#glyph1-3\" x=\"12.960938\" y=\"257.476562\"/>\n",
       "  <use xlink:href=\"#glyph1-4\" x=\"12.960938\" y=\"250.802734\"/>\n",
       "  <use xlink:href=\"#glyph1-5\" x=\"12.960938\" y=\"244.802734\"/>\n",
       "  <use xlink:href=\"#glyph1-6\" x=\"12.960938\" y=\"242.136719\"/>\n",
       "  <use xlink:href=\"#glyph1-5\" x=\"12.960938\" y=\"236.136719\"/>\n",
       "  <use xlink:href=\"#glyph1-7\" x=\"12.960938\" y=\"233.470703\"/>\n",
       "  <use xlink:href=\"#glyph1-8\" x=\"12.960938\" y=\"226.796875\"/>\n",
       "</g>\n",
       "<path style=\"fill:none;stroke-width:0.75;stroke-linecap:round;stroke-linejoin:round;stroke:rgb(0%,0%,0%);stroke-opacity:1;stroke-miterlimit:10;\" d=\"M 74.398438 430.558594 L 458.398438 430.558594 \"/>\n",
       "<path style=\"fill:none;stroke-width:0.75;stroke-linecap:round;stroke-linejoin:round;stroke:rgb(0%,0%,0%);stroke-opacity:1;stroke-miterlimit:10;\" d=\"M 74.398438 430.558594 L 74.398438 437.761719 \"/>\n",
       "<path style=\"fill:none;stroke-width:0.75;stroke-linecap:round;stroke-linejoin:round;stroke:rgb(0%,0%,0%);stroke-opacity:1;stroke-miterlimit:10;\" d=\"M 151.199219 430.558594 L 151.199219 437.761719 \"/>\n",
       "<path style=\"fill:none;stroke-width:0.75;stroke-linecap:round;stroke-linejoin:round;stroke:rgb(0%,0%,0%);stroke-opacity:1;stroke-miterlimit:10;\" d=\"M 228 430.558594 L 228 437.761719 \"/>\n",
       "<path style=\"fill:none;stroke-width:0.75;stroke-linecap:round;stroke-linejoin:round;stroke:rgb(0%,0%,0%);stroke-opacity:1;stroke-miterlimit:10;\" d=\"M 304.800781 430.558594 L 304.800781 437.761719 \"/>\n",
       "<path style=\"fill:none;stroke-width:0.75;stroke-linecap:round;stroke-linejoin:round;stroke:rgb(0%,0%,0%);stroke-opacity:1;stroke-miterlimit:10;\" d=\"M 381.601562 430.558594 L 381.601562 437.761719 \"/>\n",
       "<path style=\"fill:none;stroke-width:0.75;stroke-linecap:round;stroke-linejoin:round;stroke:rgb(0%,0%,0%);stroke-opacity:1;stroke-miterlimit:10;\" d=\"M 458.398438 430.558594 L 458.398438 437.761719 \"/>\n",
       "<g style=\"fill:rgb(0%,0%,0%);fill-opacity:1;\">\n",
       "  <use xlink:href=\"#glyph0-6\" x=\"66.058594\" y=\"456.480469\"/>\n",
       "  <use xlink:href=\"#glyph0-7\" x=\"72.732422\" y=\"456.480469\"/>\n",
       "  <use xlink:href=\"#glyph0-6\" x=\"76.066406\" y=\"456.480469\"/>\n",
       "</g>\n",
       "<g style=\"fill:rgb(0%,0%,0%);fill-opacity:1;\">\n",
       "  <use xlink:href=\"#glyph0-6\" x=\"142.859375\" y=\"456.480469\"/>\n",
       "  <use xlink:href=\"#glyph0-7\" x=\"149.533203\" y=\"456.480469\"/>\n",
       "  <use xlink:href=\"#glyph0-8\" x=\"152.867188\" y=\"456.480469\"/>\n",
       "</g>\n",
       "<g style=\"fill:rgb(0%,0%,0%);fill-opacity:1;\">\n",
       "  <use xlink:href=\"#glyph0-6\" x=\"219.660156\" y=\"456.480469\"/>\n",
       "  <use xlink:href=\"#glyph0-7\" x=\"226.333984\" y=\"456.480469\"/>\n",
       "  <use xlink:href=\"#glyph0-9\" x=\"229.667969\" y=\"456.480469\"/>\n",
       "</g>\n",
       "<g style=\"fill:rgb(0%,0%,0%);fill-opacity:1;\">\n",
       "  <use xlink:href=\"#glyph0-6\" x=\"296.460938\" y=\"456.480469\"/>\n",
       "  <use xlink:href=\"#glyph0-7\" x=\"303.134766\" y=\"456.480469\"/>\n",
       "  <use xlink:href=\"#glyph0-10\" x=\"306.46875\" y=\"456.480469\"/>\n",
       "</g>\n",
       "<g style=\"fill:rgb(0%,0%,0%);fill-opacity:1;\">\n",
       "  <use xlink:href=\"#glyph0-6\" x=\"373.261719\" y=\"456.480469\"/>\n",
       "  <use xlink:href=\"#glyph0-7\" x=\"379.935547\" y=\"456.480469\"/>\n",
       "  <use xlink:href=\"#glyph0-11\" x=\"383.269531\" y=\"456.480469\"/>\n",
       "</g>\n",
       "<g style=\"fill:rgb(0%,0%,0%);fill-opacity:1;\">\n",
       "  <use xlink:href=\"#glyph0-12\" x=\"450.058594\" y=\"456.480469\"/>\n",
       "  <use xlink:href=\"#glyph0-7\" x=\"456.732422\" y=\"456.480469\"/>\n",
       "  <use xlink:href=\"#glyph0-6\" x=\"460.066406\" y=\"456.480469\"/>\n",
       "</g>\n",
       "<path style=\"fill:none;stroke-width:0.75;stroke-linecap:round;stroke-linejoin:round;stroke:rgb(0%,0%,0%);stroke-opacity:1;stroke-miterlimit:10;\" d=\"M 59.039062 416.800781 L 59.039062 137.554688 \"/>\n",
       "<path style=\"fill:none;stroke-width:0.75;stroke-linecap:round;stroke-linejoin:round;stroke:rgb(0%,0%,0%);stroke-opacity:1;stroke-miterlimit:10;\" d=\"M 59.039062 416.800781 L 51.839844 416.800781 \"/>\n",
       "<path style=\"fill:none;stroke-width:0.75;stroke-linecap:round;stroke-linejoin:round;stroke:rgb(0%,0%,0%);stroke-opacity:1;stroke-miterlimit:10;\" d=\"M 59.039062 323.71875 L 51.839844 323.71875 \"/>\n",
       "<path style=\"fill:none;stroke-width:0.75;stroke-linecap:round;stroke-linejoin:round;stroke:rgb(0%,0%,0%);stroke-opacity:1;stroke-miterlimit:10;\" d=\"M 59.039062 230.636719 L 51.839844 230.636719 \"/>\n",
       "<path style=\"fill:none;stroke-width:0.75;stroke-linecap:round;stroke-linejoin:round;stroke:rgb(0%,0%,0%);stroke-opacity:1;stroke-miterlimit:10;\" d=\"M 59.039062 137.554688 L 51.839844 137.554688 \"/>\n",
       "<g style=\"fill:rgb(0%,0%,0%);fill-opacity:1;\">\n",
       "  <use xlink:href=\"#glyph1-9\" x=\"41.761719\" y=\"425.140625\"/>\n",
       "  <use xlink:href=\"#glyph1-10\" x=\"41.761719\" y=\"418.466797\"/>\n",
       "  <use xlink:href=\"#glyph1-9\" x=\"41.761719\" y=\"415.132812\"/>\n",
       "</g>\n",
       "<g style=\"fill:rgb(0%,0%,0%);fill-opacity:1;\">\n",
       "  <use xlink:href=\"#glyph1-9\" x=\"41.761719\" y=\"332.058594\"/>\n",
       "  <use xlink:href=\"#glyph1-10\" x=\"41.761719\" y=\"325.384766\"/>\n",
       "  <use xlink:href=\"#glyph1-11\" x=\"41.761719\" y=\"322.050781\"/>\n",
       "</g>\n",
       "<g style=\"fill:rgb(0%,0%,0%);fill-opacity:1;\">\n",
       "  <use xlink:href=\"#glyph1-9\" x=\"41.761719\" y=\"238.976562\"/>\n",
       "  <use xlink:href=\"#glyph1-10\" x=\"41.761719\" y=\"232.302734\"/>\n",
       "  <use xlink:href=\"#glyph1-12\" x=\"41.761719\" y=\"228.96875\"/>\n",
       "</g>\n",
       "<g style=\"fill:rgb(0%,0%,0%);fill-opacity:1;\">\n",
       "  <use xlink:href=\"#glyph1-9\" x=\"41.761719\" y=\"145.894531\"/>\n",
       "  <use xlink:href=\"#glyph1-10\" x=\"41.761719\" y=\"139.220703\"/>\n",
       "  <use xlink:href=\"#glyph1-13\" x=\"41.761719\" y=\"135.886719\"/>\n",
       "</g>\n",
       "<path style=\"fill:none;stroke-width:0.75;stroke-linecap:round;stroke-linejoin:round;stroke:rgb(0%,0%,0%);stroke-opacity:1;stroke-miterlimit:10;\" d=\"M 59.039062 430.558594 L 473.761719 430.558594 L 473.761719 59.039062 L 59.039062 59.039062 L 59.039062 430.558594 \"/>\n",
       "<path style=\"fill:none;stroke-width:0.75;stroke-linecap:round;stroke-linejoin:round;stroke:rgb(0%,0%,0%);stroke-opacity:1;stroke-miterlimit:10;\" d=\"M 74.398438 416.800781 L 74.726562 184.09375 L 75.054688 106.527344 L 75.054688 230.636719 L 75.382812 184.09375 L 75.710938 150.851562 L 76.042969 125.917969 L 76.371094 106.527344 L 76.699219 91.011719 L 77.027344 78.320312 L 77.027344 106.527344 L 77.355469 94.59375 L 77.683594 84.363281 L 77.683594 106.527344 L 78.011719 96.828125 L 78.011719 115.652344 L 78.339844 106.527344 L 78.667969 98.359375 L 78.996094 91.011719 L 79.324219 84.363281 L 79.652344 78.320312 L 79.980469 72.800781 L 79.980469 100.320312 L 80.308594 94.59375 L 80.636719 89.289062 L 80.964844 84.363281 L 81.292969 79.777344 L 81.292969 91.011719 L 81.621094 86.507812 L 81.949219 82.285156 L 81.949219 92.421875 L 82.277344 88.273438 L 82.277344 97.660156 L 82.605469 93.597656 L 82.933594 89.753906 L 82.933594 106.527344 L 83.261719 102.648438 L 83.261719 110.308594 L 83.589844 106.527344 L 83.917969 102.917969 L 84.246094 99.472656 L 84.574219 96.183594 L 84.574219 109.828125 L 84.902344 106.527344 L 85.230469 103.359375 L 85.230469 115.652344 L 85.558594 112.492188 L 85.886719 109.453125 L 86.214844 106.527344 L 86.214844 112.167969 L 86.542969 109.296875 L 86.542969 114.691406 L 86.871094 111.875 L 87.199219 109.15625 L 87.527344 106.527344 L 87.855469 103.980469 L 88.183594 101.519531 L 88.183594 106.527344 L 88.511719 104.101562 L 88.839844 101.753906 L 89.167969 99.472656 L 89.496094 97.261719 L 89.496094 106.527344 L 89.824219 104.308594 L 89.824219 108.710938 L 90.152344 106.527344 L 90.152344 114.910156 L 90.480469 112.730469 L 90.808594 110.609375 L 91.136719 108.539062 L 91.464844 106.527344 L 91.792969 104.5625 L 92.125 102.648438 L 92.453125 100.78125 L 92.78125 98.957031 L 93.109375 97.179688 L 93.109375 100.984375 L 93.4375 99.226562 L 93.765625 97.507812 L 94.09375 95.828125 L 94.09375 103.039062 L 94.421875 101.355469 L 94.75 99.707031 L 94.75 106.527344 L 95.078125 104.875 L 95.078125 108.160156 L 95.40625 106.527344 L 95.734375 104.925781 L 95.734375 111.226562 L 96.0625 109.628906 L 96.390625 108.0625 L 96.71875 106.527344 L 97.046875 105.019531 L 97.375 103.542969 L 97.375 106.527344 L 97.703125 105.0625 L 98.03125 103.625 L 98.03125 109.371094 L 98.359375 107.9375 L 98.359375 110.71875 L 98.6875 109.296875 L 98.6875 112.015625 L 99.015625 110.609375 L 99.34375 109.222656 L 99.671875 107.863281 L 100 106.527344 L 100.328125 105.210938 L 100.65625 103.917969 L 100.984375 102.648438 L 101.3125 101.398438 L 101.640625 100.167969 L 101.640625 102.742188 L 101.96875 101.519531 L 101.96875 104.042969 L 102.296875 102.832031 L 102.625 101.640625 L 102.625 104.101562 L 102.953125 102.917969 L 103.28125 101.753906 L 103.609375 100.605469 L 103.9375 99.472656 L 104.265625 98.359375 L 104.59375 97.261719 L 104.921875 96.183594 L 105.25 95.117188 L 105.25 97.464844 L 105.578125 96.40625 L 105.90625 95.363281 L 105.90625 97.660156 L 106.234375 96.625 L 106.5625 95.601562 L 106.5625 100.0625 L 106.890625 99.035156 L 107.21875 98.023438 L 107.21875 106.527344 L 107.546875 105.5 L 107.875 104.484375 L 108.207031 103.484375 L 108.535156 102.496094 L 108.863281 101.519531 L 108.863281 103.542969 L 109.191406 102.574219 L 109.519531 101.617188 L 109.847656 100.671875 L 110.175781 99.738281 L 110.503906 98.816406 L 110.503906 100.78125 L 110.832031 99.863281 L 111.160156 98.957031 L 111.488281 98.0625 L 111.488281 99.984375 L 111.816406 99.09375 L 112.144531 98.214844 L 112.472656 97.347656 L 112.800781 96.488281 L 112.800781 98.359375 L 113.128906 97.507812 L 113.128906 99.351562 L 113.457031 98.5 L 113.785156 97.660156 L 114.113281 96.828125 L 114.113281 98.636719 L 114.441406 97.808594 L 114.769531 96.992188 L 115.097656 96.183594 L 115.425781 95.382812 L 115.753906 94.59375 L 116.082031 93.808594 L 116.082031 97.300781 L 116.410156 96.515625 L 116.738281 95.742188 L 117.066406 94.972656 L 117.394531 94.214844 L 117.722656 93.460938 L 118.050781 92.71875 L 118.050781 94.40625 L 118.378906 93.664062 L 118.378906 100.226562 L 118.707031 99.472656 L 119.035156 98.730469 L 119.363281 97.992188 L 119.363281 99.578125 L 119.691406 98.84375 L 120.019531 98.117188 L 120.347656 97.398438 L 120.675781 96.6875 L 121.003906 95.980469 L 121.332031 95.285156 L 121.660156 94.59375 L 121.660156 97.660156 L 121.988281 96.96875 L 122.316406 96.28125 L 122.644531 95.601562 L 122.972656 94.925781 L 122.972656 97.90625 L 123.300781 97.230469 L 123.628906 96.5625 L 123.957031 95.898438 L 124.289062 95.242188 L 124.945312 93.945312 L 125.273438 93.308594 L 125.601562 92.675781 L 125.929688 92.046875 L 126.257812 91.421875 L 126.257812 94.277344 L 126.585938 93.652344 L 126.914062 93.035156 L 127.242188 92.421875 L 127.242188 93.820312 L 127.898438 92.601562 L 127.898438 93.984375 L 128.226562 93.378906 L 128.554688 92.777344 L 128.882812 92.183594 L 129.539062 91.011719 L 129.867188 90.433594 L 129.867188 91.78125 L 130.195312 91.203125 L 130.523438 90.628906 L 130.851562 90.0625 L 131.507812 88.9375 L 131.835938 88.382812 L 131.835938 89.703125 L 132.164062 89.148438 L 132.164062 91.75 L 132.492188 91.195312 L 132.492188 92.476562 L 133.148438 91.375 L 133.804688 90.289062 L 133.804688 92.800781 L 134.460938 91.722656 L 134.789062 91.1875 L 135.445312 90.132812 L 135.773438 89.613281 L 135.773438 92.054688 L 136.101562 91.53125 L 136.429688 91.011719 L 136.757812 90.496094 L 137.085938 89.984375 L 137.085938 91.183594 L 137.414062 90.671875 L 137.742188 90.164062 L 138.398438 89.164062 L 138.398438 90.34375 L 138.726562 89.84375 L 139.054688 89.347656 L 139.054688 92.820312 L 139.382812 92.324219 L 139.382812 96.828125 L 139.710938 96.324219 L 139.710938 97.429688 L 140.042969 96.929688 L 140.371094 96.429688 L 141.027344 95.445312 L 141.355469 94.957031 L 141.683594 94.472656 L 141.683594 95.554688 L 142.667969 94.113281 L 142.667969 95.1875 L 142.996094 94.710938 L 142.996094 95.773438 L 143.324219 95.296875 L 143.980469 94.359375 L 143.980469 96.453125 L 144.308594 95.980469 L 144.964844 95.050781 L 144.964844 97.109375 L 145.292969 96.644531 L 145.292969 97.660156 L 145.621094 97.199219 L 145.621094 98.207031 L 145.949219 97.742188 L 145.949219 98.746094 L 146.277344 98.285156 L 146.277344 99.277344 L 146.605469 98.816406 L 146.933594 98.359375 L 147.261719 97.90625 L 147.589844 97.457031 L 147.589844 99.410156 L 147.917969 98.957031 L 147.917969 99.925781 L 148.246094 99.472656 L 148.246094 101.386719 L 148.574219 100.933594 L 149.230469 100.042969 L 149.886719 99.160156 L 150.214844 98.722656 L 150.214844 101.519531 L 150.871094 100.644531 L 150.871094 102.476562 L 151.855469 101.175781 L 152.183594 100.746094 L 152.839844 99.894531 L 153.167969 99.472656 L 153.824219 98.636719 L 153.824219 100.425781 L 154.152344 100.007812 L 154.480469 99.59375 L 154.480469 101.355469 L 154.808594 100.9375 L 155.136719 100.527344 L 155.464844 100.113281 L 155.792969 99.707031 L 156.125 99.300781 L 156.453125 98.894531 L 156.453125 99.761719 L 156.78125 99.359375 L 156.78125 101.074219 L 157.109375 100.671875 L 157.109375 101.519531 L 157.4375 101.117188 L 157.4375 101.960938 L 157.765625 101.5625 L 157.765625 102.398438 L 158.421875 101.601562 L 158.421875 102.433594 L 158.75 102.035156 L 158.75 102.859375 L 159.734375 101.675781 L 159.734375 102.496094 L 160.390625 101.714844 L 161.046875 100.941406 L 161.046875 101.753906 L 161.375 101.367188 L 161.703125 100.984375 L 161.703125 101.789062 L 162.03125 101.40625 L 162.03125 102.207031 L 162.359375 101.824219 L 162.6875 101.445312 L 162.6875 103.027344 L 163.34375 102.269531 L 163.34375 103.832031 L 163.671875 103.453125 L 164 103.078125 L 164 105.386719 L 164.328125 105.007812 L 164.65625 104.632812 L 165.640625 103.519531 L 165.640625 104.277344 L 165.96875 103.910156 L 165.96875 104.660156 L 166.296875 104.292969 L 166.296875 105.785156 L 166.953125 105.050781 L 166.953125 105.789062 L 167.28125 105.425781 L 167.28125 106.160156 L 167.609375 105.796875 L 167.609375 109.410156 L 167.9375 109.046875 L 168.265625 108.679688 L 168.59375 108.316406 L 168.59375 109.027344 L 168.921875 108.664062 L 169.25 108.304688 L 169.25 109.011719 L 169.578125 108.652344 L 169.578125 109.351562 L 169.90625 108.992188 L 170.234375 108.636719 L 170.234375 109.332031 L 170.890625 108.621094 L 170.890625 110.691406 L 171.546875 109.980469 L 171.875 109.628906 L 172.207031 109.277344 L 172.535156 108.929688 L 172.535156 109.609375 L 172.863281 109.257812 L 173.191406 108.914062 L 173.191406 110.257812 L 173.519531 109.914062 L 173.519531 111.246094 L 173.847656 110.898438 L 173.847656 111.5625 L 174.175781 111.214844 L 174.175781 111.875 L 175.160156 110.84375 L 175.160156 111.496094 L 175.488281 111.15625 L 175.488281 111.808594 L 175.816406 111.464844 L 175.816406 112.113281 L 176.144531 111.773438 L 176.144531 112.417969 L 176.800781 111.738281 L 177.128906 111.402344 L 177.128906 114.570312 L 177.785156 113.898438 L 177.785156 115.761719 L 178.113281 115.425781 L 178.113281 117.269531 L 178.441406 116.929688 L 178.769531 116.59375 L 178.769531 117.203125 L 179.097656 116.867188 L 180.082031 115.871094 L 180.082031 117.074219 L 180.410156 116.742188 L 180.410156 117.34375 L 180.738281 117.011719 L 181.394531 116.355469 L 181.394531 116.949219 L 181.722656 116.625 L 181.722656 117.214844 L 182.050781 116.886719 L 182.050781 117.476562 L 182.707031 116.828125 L 182.707031 117.996094 L 183.035156 117.671875 L 183.035156 119.976562 L 183.363281 119.652344 L 183.363281 120.222656 L 183.691406 119.898438 L 184.675781 118.9375 L 184.675781 120.066406 L 185.003906 119.746094 L 186.316406 118.480469 L 186.316406 119.042969 L 186.644531 118.726562 L 187.300781 118.101562 L 187.300781 118.660156 L 187.628906 118.347656 L 187.628906 118.902344 L 187.957031 118.589844 L 188.289062 118.28125 L 188.617188 117.976562 L 188.945312 117.667969 L 189.601562 117.058594 L 189.601562 117.605469 L 189.929688 117.304688 L 190.257812 117 L 190.585938 116.699219 L 190.585938 117.242188 L 190.914062 116.941406 L 191.242188 116.644531 L 191.570312 116.34375 L 191.570312 117.964844 L 191.898438 117.667969 L 191.898438 119.800781 L 192.554688 119.199219 L 192.882812 118.902344 L 192.882812 119.429688 L 193.210938 119.132812 L 193.539062 118.839844 L 193.867188 118.542969 L 193.867188 119.066406 L 194.851562 118.1875 L 195.179688 117.898438 L 195.507812 117.605469 L 195.507812 118.128906 L 195.835938 117.835938 L 196.164062 117.550781 L 196.492188 117.261719 L 196.820312 116.976562 L 196.820312 118.007812 L 197.148438 117.722656 L 197.148438 118.234375 L 197.476562 117.949219 L 197.476562 118.460938 L 197.804688 118.175781 L 197.804688 118.683594 L 198.460938 118.113281 L 198.789062 117.832031 L 198.789062 119.34375 L 199.445312 118.78125 L 199.445312 119.28125 L 200.429688 118.4375 L 201.414062 117.605469 L 201.742188 117.332031 L 201.742188 120.28125 L 202.070312 120.003906 L 202.070312 120.972656 L 202.398438 120.699219 L 202.726562 120.421875 L 203.710938 119.601562 L 204.042969 119.328125 L 204.042969 119.808594 L 204.371094 119.535156 L 204.371094 120.492188 L 204.699219 120.222656 L 204.699219 121.171875 L 205.027344 120.898438 L 205.355469 120.628906 L 205.355469 121.101562 L 205.683594 120.832031 L 205.683594 121.300781 L 206.339844 120.761719 L 206.339844 121.695312 L 206.667969 121.429688 L 206.667969 121.894531 L 206.996094 121.625 L 206.996094 123.46875 L 207.324219 123.199219 L 207.652344 122.933594 L 207.652344 123.386719 L 208.636719 122.589844 L 208.636719 123.042969 L 208.964844 122.78125 L 208.964844 123.234375 L 209.292969 122.96875 L 209.621094 122.707031 L 209.621094 123.605469 L 209.949219 123.34375 L 210.277344 123.078125 L 210.605469 122.820312 L 211.261719 122.296875 L 211.261719 123.1875 L 212.574219 122.15625 L 212.574219 122.597656 L 212.902344 122.339844 L 212.902344 122.78125 L 213.230469 122.527344 L 213.230469 122.964844 L 213.558594 122.710938 L 213.558594 123.582031 L 214.214844 123.074219 L 214.214844 124.375 L 214.542969 124.117188 L 214.871094 123.863281 L 214.871094 124.722656 L 215.199219 124.46875 L 215.199219 124.898438 L 215.855469 124.390625 L 215.855469 124.816406 L 216.183594 124.566406 L 216.511719 124.3125 L 217.496094 123.5625 L 217.496094 123.988281 L 218.152344 123.488281 L 218.480469 123.242188 L 218.480469 123.664062 L 218.808594 123.417969 L 218.808594 123.835938 L 219.464844 123.34375 L 219.792969 123.101562 L 220.125 122.855469 L 220.453125 122.613281 L 220.453125 123.03125 L 220.78125 122.785156 L 220.78125 123.617188 L 221.109375 123.375 L 221.109375 123.789062 L 221.4375 123.542969 L 221.765625 123.304688 L 221.765625 123.714844 L 222.09375 123.472656 L 222.421875 123.234375 L 222.421875 123.644531 L 222.75 123.402344 L 222.75 123.8125 L 223.078125 123.570312 L 223.078125 124.382812 L 223.40625 124.144531 L 223.40625 124.550781 L 223.734375 124.3125 L 224.0625 124.070312 L 224.390625 123.835938 L 224.71875 123.597656 L 224.71875 124 L 225.046875 123.761719 L 225.703125 123.292969 L 226.03125 123.054688 L 226.359375 122.824219 L 227.015625 122.355469 L 227.015625 122.757812 L 227.34375 122.523438 L 227.671875 122.292969 L 227.671875 123.484375 L 228 123.25 L 228.65625 122.789062 L 228.65625 123.578125 L 229.3125 123.117188 L 229.3125 124.679688 L 229.96875 124.21875 L 230.296875 123.992188 L 230.625 123.761719 L 231.9375 122.855469 L 231.9375 124.011719 L 232.265625 123.785156 L 232.265625 124.550781 L 232.59375 124.324219 L 232.59375 124.707031 L 232.921875 124.480469 L 232.921875 125.238281 L 233.25 125.011719 L 233.90625 124.566406 L 233.90625 124.941406 L 234.234375 124.71875 L 234.234375 125.09375 L 235.21875 124.425781 L 235.21875 124.800781 L 235.875 124.355469 L 235.875 124.730469 L 236.207031 124.507812 L 236.535156 124.289062 L 236.535156 124.660156 L 236.863281 124.441406 L 236.863281 125.179688 L 238.175781 124.304688 L 238.175781 125.40625 L 238.503906 125.1875 L 238.832031 124.972656 L 238.832031 125.699219 L 239.160156 125.480469 L 239.488281 125.265625 L 239.488281 125.988281 L 240.144531 125.558594 L 240.144531 125.917969 L 240.472656 125.703125 L 240.472656 126.0625 L 240.800781 125.847656 L 240.800781 126.203125 L 241.128906 125.988281 L 241.128906 127.058594 L 241.457031 126.84375 L 241.457031 127.550781 L 241.785156 127.335938 L 241.785156 127.6875 L 242.113281 127.476562 L 242.441406 127.261719 L 242.441406 127.960938 L 242.769531 127.75 L 242.769531 130.179688 L 243.097656 129.964844 L 243.097656 130.992188 L 243.425781 130.777344 L 243.425781 131.117188 L 243.753906 130.902344 L 244.082031 130.691406 L 244.082031 131.371094 L 244.410156 131.15625 L 244.410156 131.496094 L 244.738281 131.28125 L 244.738281 131.617188 L 245.394531 131.195312 L 245.394531 132.535156 L 245.722656 132.320312 L 245.722656 132.652344 L 246.050781 132.441406 L 246.050781 134.09375 L 246.378906 133.882812 L 246.378906 134.535156 L 246.707031 134.324219 L 246.707031 134.976562 L 247.363281 134.554688 L 247.363281 135.203125 L 247.691406 134.992188 L 247.691406 135.3125 L 248.019531 135.101562 L 248.019531 135.425781 L 248.347656 135.214844 L 248.347656 135.535156 L 248.675781 135.328125 L 248.675781 136.285156 L 249.003906 136.074219 L 249.003906 136.394531 L 249.332031 136.183594 L 249.332031 136.5 L 249.660156 136.292969 L 249.988281 136.082031 L 250.316406 135.875 L 250.316406 136.191406 L 250.972656 135.777344 L 250.972656 136.09375 L 251.957031 135.472656 L 251.957031 135.785156 L 252.289062 135.582031 L 252.289062 136.519531 L 252.617188 136.3125 L 252.945312 136.109375 L 253.273438 135.902344 L 253.601562 135.699219 L 253.601562 136.011719 L 253.929688 135.804688 L 254.257812 135.601562 L 254.257812 135.914062 L 254.585938 135.710938 L 254.585938 136.328125 L 255.242188 135.921875 L 255.242188 136.230469 L 255.898438 135.824219 L 256.226562 135.625 L 256.226562 136.542969 L 256.554688 136.339844 L 256.554688 136.644531 L 256.882812 136.445312 L 256.882812 138.253906 L 257.210938 138.054688 L 257.539062 137.851562 L 257.539062 138.152344 L 258.195312 137.753906 L 258.195312 138.941406 L 258.523438 138.742188 L 258.523438 139.628906 L 259.179688 139.230469 L 259.179688 140.109375 L 259.507812 139.910156 L 259.507812 140.203125 L 260.164062 139.804688 L 260.164062 140.675781 L 260.492188 140.476562 L 260.492188 141.054688 L 260.820312 140.855469 L 260.820312 143.707031 L 261.148438 143.507812 L 261.476562 143.3125 L 261.476562 143.875 L 261.804688 143.675781 L 261.804688 144.234375 L 262.132812 144.039062 L 262.460938 143.839844 L 262.460938 144.675781 L 262.789062 144.480469 L 263.117188 144.28125 L 263.445312 144.085938 L 263.445312 144.363281 L 263.773438 144.167969 L 263.773438 144.445312 L 264.101562 144.25 L 264.101562 144.800781 L 264.429688 144.605469 L 264.429688 144.878906 L 265.085938 144.488281 L 265.085938 144.761719 L 265.414062 144.570312 L 265.414062 145.660156 L 266.070312 145.269531 L 266.070312 145.542969 L 266.398438 145.347656 L 266.726562 145.15625 L 267.054688 144.960938 L 267.054688 146.84375 L 267.382812 146.648438 L 267.710938 146.457031 L 268.042969 146.265625 L 268.042969 146.796875 L 269.683594 145.839844 L 269.683594 146.105469 L 270.011719 145.914062 L 270.339844 145.726562 L 270.667969 145.535156 L 270.667969 145.800781 L 270.996094 145.613281 L 270.996094 145.875 L 271.324219 145.6875 L 271.652344 145.496094 L 271.652344 145.761719 L 272.636719 145.199219 L 272.636719 145.722656 L 273.621094 145.160156 L 273.621094 146.203125 L 274.277344 145.828125 L 274.277344 146.859375 L 274.605469 146.675781 L 274.605469 147.1875 L 274.933594 147.003906 L 274.933594 148.78125 L 275.261719 148.597656 L 275.261719 148.847656 L 275.589844 148.664062 L 275.917969 148.476562 L 276.246094 148.292969 L 276.246094 148.796875 L 276.574219 148.613281 L 276.574219 148.863281 L 276.902344 148.675781 L 276.902344 149.175781 L 277.230469 148.992188 L 277.230469 149.988281 L 277.558594 149.804688 L 277.558594 150.296875 L 277.886719 150.113281 L 277.886719 151.09375 L 278.214844 150.910156 L 278.214844 151.644531 L 279.199219 151.09375 L 279.199219 151.820312 L 279.527344 151.636719 L 279.527344 151.878906 L 279.855469 151.699219 L 279.855469 152.179688 L 280.183594 151.996094 L 280.511719 151.816406 L 280.511719 153.011719 L 280.839844 152.828125 L 281.167969 152.648438 L 281.496094 152.464844 L 281.496094 153.652344 L 281.824219 153.46875 L 281.824219 153.703125 L 282.152344 153.523438 L 282.152344 153.757812 L 282.480469 153.578125 L 282.480469 154.515625 L 282.808594 154.335938 L 283.136719 154.152344 L 283.136719 155.546875 L 283.464844 155.363281 L 283.464844 155.824219 L 283.792969 155.644531 L 283.792969 155.875 L 284.125 155.695312 L 284.453125 155.515625 L 284.453125 155.746094 L 284.78125 155.566406 L 284.78125 157.15625 L 285.109375 156.980469 L 285.109375 157.203125 L 285.4375 157.027344 L 285.765625 156.847656 L 285.765625 157.746094 L 286.09375 157.566406 L 286.09375 158.460938 L 286.421875 158.28125 L 286.75 158.105469 L 286.75 160.089844 L 287.078125 159.910156 L 287.078125 161 L 287.40625 160.824219 L 287.734375 160.644531 L 288.0625 160.46875 L 288.0625 160.902344 L 288.390625 160.726562 L 288.390625 160.941406 L 288.71875 160.765625 L 288.71875 160.980469 L 289.046875 160.804688 L 289.046875 161.234375 L 290.03125 160.707031 L 290.03125 160.921875 L 290.6875 160.570312 L 290.6875 160.785156 L 291.015625 160.609375 L 291.34375 160.4375 L 292 160.085938 L 292.65625 159.742188 L 292.984375 159.566406 L 293.3125 159.394531 L 293.3125 159.609375 L 293.640625 159.4375 L 293.640625 160.074219 L 294.625 159.558594 L 294.625 160.402344 L 294.953125 160.230469 L 294.953125 160.441406 L 295.28125 160.269531 L 295.28125 161.941406 L 295.9375 161.597656 L 295.9375 162.011719 L 296.265625 161.84375 L 296.265625 162.460938 L 296.59375 162.289062 L 296.921875 162.121094 L 296.921875 165.765625 L 297.25 165.597656 L 297.25 165.796875 L 297.578125 165.625 L 297.578125 166.617188 L 297.90625 166.449219 L 297.90625 166.84375 L 298.234375 166.671875 L 298.234375 167.066406 L 298.5625 166.898438 L 298.5625 167.679688 L 298.890625 167.511719 L 298.890625 167.902344 L 299.21875 167.730469 L 299.21875 168.121094 L 299.546875 167.953125 L 299.546875 168.339844 L 299.875 168.171875 L 299.875 168.941406 L 300.207031 168.773438 L 300.207031 169.15625 L 301.847656 168.316406 L 302.175781 168.152344 L 302.175781 169.105469 L 302.832031 168.769531 L 302.832031 169.90625 L 303.160156 169.738281 L 303.160156 169.925781 L 303.488281 169.761719 L 303.488281 170.136719 L 303.816406 169.96875 L 304.144531 169.804688 L 304.144531 170.550781 L 304.472656 170.386719 L 304.472656 170.757812 L 304.800781 170.589844 L 304.800781 171.699219 L 305.457031 171.371094 L 305.785156 171.203125 L 305.785156 171.753906 L 306.769531 171.261719 L 306.769531 172.355469 L 307.097656 172.191406 L 307.097656 172.554688 L 307.425781 172.390625 L 307.425781 172.929688 L 307.753906 172.769531 L 308.082031 172.605469 L 308.082031 173.324219 L 308.410156 173.160156 L 308.410156 174.40625 L 309.066406 174.078125 L 309.066406 174.609375 L 309.394531 174.449219 L 309.722656 174.285156 L 310.050781 174.125 L 310.050781 174.652344 L 310.378906 174.488281 L 310.378906 175.1875 L 310.707031 175.027344 L 310.707031 175.375 L 311.363281 175.054688 L 311.363281 176.609375 L 311.691406 176.449219 L 311.691406 176.621094 L 312.019531 176.457031 L 312.019531 176.800781 L 312.347656 176.640625 L 312.347656 177.152344 L 312.675781 176.992188 L 312.675781 177.164062 L 313.003906 177.003906 L 313.003906 177.511719 L 313.332031 177.351562 L 313.332031 177.859375 L 314.316406 177.378906 L 314.644531 177.222656 L 314.644531 177.390625 L 315.300781 177.070312 L 315.628906 176.914062 L 315.628906 177.417969 L 315.957031 177.257812 L 315.957031 177.59375 L 316.289062 177.4375 L 316.289062 177.601562 L 316.617188 177.445312 L 316.617188 178.441406 L 316.945312 178.285156 L 316.945312 178.449219 L 317.273438 178.292969 L 317.273438 178.953125 L 317.601562 178.792969 L 317.601562 178.957031 L 317.929688 178.800781 L 317.929688 179.292969 L 318.257812 179.136719 L 318.257812 179.625 L 318.585938 179.46875 L 318.585938 180.921875 L 318.914062 180.765625 L 318.914062 181.566406 L 319.242188 181.410156 L 319.570312 181.257812 L 319.570312 181.734375 L 320.226562 181.421875 L 320.226562 181.582031 L 320.554688 181.425781 L 320.554688 182.53125 L 320.882812 182.378906 L 321.539062 182.066406 L 321.539062 183.785156 L 321.867188 183.628906 L 321.867188 183.941406 L 322.195312 183.785156 L 322.195312 183.941406 L 322.523438 183.785156 L 322.523438 184.859375 L 322.851562 184.707031 L 322.851562 184.859375 L 323.179688 184.707031 L 323.179688 185.011719 L 323.507812 184.859375 L 323.835938 184.703125 L 324.492188 184.398438 L 324.492188 185.609375 L 324.820312 185.457031 L 324.820312 186.210938 L 325.148438 186.058594 L 325.148438 186.953125 L 325.476562 186.800781 L 325.476562 186.949219 L 325.804688 186.796875 L 325.804688 186.945312 L 326.132812 186.792969 L 326.132812 187.53125 L 326.460938 187.378906 L 326.789062 187.230469 L 326.789062 187.667969 L 327.117188 187.519531 L 327.117188 188.539062 L 327.445312 188.390625 L 327.773438 188.238281 L 328.101562 188.089844 L 328.101562 188.378906 L 328.429688 188.226562 L 329.085938 187.929688 L 329.085938 188.21875 L 329.414062 188.066406 L 329.414062 188.210938 L 329.742188 188.0625 L 329.742188 188.785156 L 330.070312 188.632812 L 330.398438 188.484375 L 330.398438 188.773438 L 330.726562 188.621094 L 330.726562 189.621094 L 331.710938 189.175781 L 331.710938 189.316406 L 332.042969 189.167969 L 332.371094 189.019531 L 332.371094 189.164062 L 332.699219 189.015625 L 332.699219 191.121094 L 333.355469 190.824219 L 333.355469 190.964844 L 334.011719 190.667969 L 334.011719 190.945312 L 334.339844 190.800781 L 334.667969 190.652344 L 334.667969 191.207031 L 334.996094 191.058594 L 334.996094 192.292969 L 335.324219 192.148438 L 335.324219 192.421875 L 335.652344 192.273438 L 335.652344 192.546875 L 335.980469 192.398438 L 335.980469 192.535156 L 336.308594 192.390625 L 336.308594 192.660156 L 336.964844 192.371094 L 336.964844 192.910156 L 337.292969 192.765625 L 337.292969 193.035156 L 337.621094 192.886719 L 337.621094 193.289062 L 337.949219 193.144531 L 337.949219 193.546875 L 338.933594 193.113281 L 338.933594 193.378906 L 339.261719 193.234375 L 339.589844 193.09375 L 339.589844 193.492188 L 339.917969 193.347656 L 339.917969 193.480469 L 340.246094 193.335938 L 340.246094 193.601562 L 340.902344 193.3125 L 340.902344 193.710938 L 341.230469 193.566406 L 341.230469 193.699219 L 341.558594 193.554688 L 341.886719 193.414062 L 342.214844 193.269531 L 342.214844 194.320312 L 342.542969 194.175781 L 342.871094 194.035156 L 342.871094 196.867188 L 343.199219 196.722656 L 343.199219 197.230469 L 343.527344 197.089844 L 343.527344 197.214844 L 343.855469 197.074219 L 343.855469 197.578125 L 344.183594 197.4375 L 344.183594 197.5625 L 344.511719 197.421875 L 344.511719 198.421875 L 344.839844 198.28125 L 344.839844 198.902344 L 345.167969 198.761719 L 345.167969 199.007812 L 345.496094 198.867188 L 345.824219 198.730469 L 346.152344 198.589844 L 346.152344 199.574219 L 346.480469 199.433594 L 346.480469 199.800781 L 347.136719 199.519531 L 347.136719 200.128906 L 347.464844 199.988281 L 347.464844 200.113281 L 347.792969 199.972656 L 347.792969 200.457031 L 348.125 200.316406 L 348.125 200.917969 L 348.453125 200.78125 L 348.78125 200.640625 L 348.78125 200.882812 L 349.109375 200.742188 L 349.109375 200.984375 L 349.4375 200.84375 L 349.4375 201.441406 L 349.765625 201.304688 L 349.765625 201.539062 L 350.75 201.128906 L 350.75 201.835938 L 351.078125 201.699219 L 351.078125 202.171875 L 351.40625 202.035156 L 351.40625 202.152344 L 351.734375 202.015625 L 351.734375 202.132812 L 352.0625 201.996094 L 352.0625 202.230469 L 352.390625 202.09375 L 352.390625 202.90625 L 352.71875 202.769531 L 353.046875 202.636719 L 353.375 202.5 L 353.375 202.613281 L 353.703125 202.480469 L 354.03125 202.34375 L 354.03125 202.460938 L 354.6875 202.1875 L 354.6875 202.304688 L 355.34375 202.03125 L 355.34375 202.726562 L 355.671875 202.589844 L 355.671875 203.394531 L 356 203.257812 L 356.328125 203.125 L 356.328125 203.578125 L 356.984375 203.3125 L 356.984375 203.765625 L 357.3125 203.628906 L 357.3125 203.855469 L 357.96875 203.589844 L 357.96875 203.816406 L 358.296875 203.679688 L 358.296875 203.90625 L 358.625 203.773438 L 358.625 203.886719 L 358.953125 203.753906 L 358.953125 203.976562 L 359.28125 203.84375 L 359.28125 204.402344 L 360.59375 203.871094 L 360.921875 203.742188 L 360.921875 204.851562 L 361.25 204.71875 L 361.25 205.050781 L 361.578125 204.917969 L 361.578125 205.359375 L 362.234375 205.09375 L 362.5625 204.964844 L 362.5625 205.839844 L 362.890625 205.707031 L 362.890625 205.816406 L 363.21875 205.683594 L 363.21875 205.902344 L 363.546875 205.773438 L 363.546875 206.207031 L 363.875 206.074219 L 364.207031 205.945312 L 364.207031 206.375 L 364.535156 206.246094 L 364.535156 206.566406 L 364.863281 206.4375 L 364.863281 206.972656 L 365.191406 206.84375 L 365.191406 207.269531 L 365.519531 207.140625 L 365.519531 207.351562 L 365.847656 207.222656 L 365.847656 207.542969 L 366.175781 207.410156 L 366.175781 207.519531 L 366.503906 207.386719 L 366.503906 207.492188 L 366.832031 207.363281 L 366.832031 207.574219 L 367.160156 207.445312 L 367.160156 208.183594 L 367.488281 208.054688 L 367.488281 208.472656 L 367.816406 208.34375 L 367.816406 208.761719 L 368.144531 208.632812 L 368.144531 209.460938 L 368.472656 209.332031 L 368.472656 209.4375 L 368.800781 209.308594 L 368.800781 209.515625 L 369.128906 209.386719 L 369.128906 209.695312 L 369.457031 209.566406 L 369.457031 211.398438 L 370.113281 211.140625 L 370.113281 211.445312 L 370.441406 211.316406 L 370.441406 211.519531 L 370.769531 211.390625 L 371.097656 211.265625 L 371.097656 211.664062 L 371.425781 211.539062 L 371.425781 212.035156 L 371.753906 211.910156 L 371.753906 212.207031 L 372.082031 212.082031 L 372.082031 212.28125 L 372.410156 212.152344 L 372.738281 212.027344 L 372.738281 212.125 L 373.066406 212 L 373.066406 212.496094 L 373.394531 212.367188 L 373.394531 212.46875 L 373.722656 212.339844 L 373.722656 213.515625 L 374.050781 213.390625 L 374.050781 213.972656 L 374.707031 213.722656 L 374.707031 214.300781 L 375.035156 214.179688 L 375.363281 214.054688 L 375.363281 214.628906 L 375.691406 214.503906 L 375.691406 215.363281 L 376.019531 215.238281 L 376.019531 215.429688 L 376.347656 215.304688 L 376.347656 216.246094 L 376.675781 216.125 L 376.675781 216.21875 L 377.332031 215.96875 L 377.332031 218.105469 L 377.660156 217.984375 L 377.660156 218.074219 L 377.988281 217.953125 L 377.988281 218.042969 L 378.316406 217.921875 L 378.316406 218.742188 L 378.644531 218.621094 L 378.644531 218.984375 L 378.972656 218.863281 L 378.972656 219.585938 L 379.300781 219.460938 L 379.628906 219.339844 L 379.628906 219.519531 L 379.957031 219.398438 L 379.957031 219.578125 L 380.289062 219.457031 L 380.289062 219.722656 L 380.617188 219.601562 L 380.617188 220.050781 L 380.945312 219.925781 L 380.945312 220.371094 L 381.273438 220.25 L 381.273438 220.339844 L 381.929688 220.097656 L 381.929688 220.363281 L 382.585938 220.121094 L 382.585938 221.789062 L 382.914062 221.667969 L 382.914062 222.015625 L 383.570312 221.773438 L 383.570312 222.035156 L 383.898438 221.914062 L 383.898438 222.085938 L 384.226562 221.96875 L 384.226562 222.570312 L 384.554688 222.449219 L 384.554688 222.535156 L 384.882812 222.417969 L 384.882812 223.183594 L 385.210938 223.066406 L 385.210938 224.082031 L 385.539062 223.964844 L 385.539062 224.214844 L 385.867188 224.097656 L 385.867188 224.515625 L 386.195312 224.398438 L 386.195312 225.5625 L 386.523438 225.445312 L 386.851562 225.324219 L 386.851562 225.820312 L 387.179688 225.703125 L 387.179688 225.949219 L 387.507812 225.832031 L 387.507812 226.160156 L 387.835938 226.042969 L 387.835938 226.121094 L 388.164062 226.003906 L 388.164062 227.386719 L 388.492188 227.269531 L 388.492188 227.347656 L 389.148438 227.113281 L 389.148438 227.355469 L 389.476562 227.238281 L 389.476562 228.675781 L 389.804688 228.558594 L 389.804688 228.796875 L 390.132812 228.679688 L 390.132812 228.996094 L 390.789062 228.761719 L 390.789062 228.921875 L 391.117188 228.804688 L 391.117188 229.820312 L 391.445312 229.707031 L 391.445312 230.015625 L 391.773438 229.902344 L 391.773438 229.976562 L 392.101562 229.863281 L 392.101562 230.25 L 392.429688 230.132812 L 392.757812 230.019531 L 392.757812 230.40625 L 393.085938 230.289062 L 393.085938 231.742188 L 393.414062 231.625 L 393.414062 232.078125 L 393.742188 231.964844 L 393.742188 232.039062 L 394.070312 231.925781 L 394.070312 232.75 L 394.398438 232.636719 L 394.398438 233.972656 L 394.726562 233.859375 L 394.726562 234.152344 L 395.054688 234.039062 L 395.054688 234.625 L 395.382812 234.511719 L 395.382812 235.167969 L 395.710938 235.054688 L 395.710938 235.125 L 396.042969 235.011719 L 396.042969 236.09375 L 396.371094 235.980469 L 396.371094 236.835938 L 396.699219 236.722656 L 396.699219 237.359375 L 397.027344 237.246094 L 397.027344 237.386719 L 397.355469 237.277344 L 397.683594 237.164062 L 397.683594 237.304688 L 398.011719 237.191406 L 398.011719 238.171875 L 398.339844 238.058594 L 398.339844 238.40625 L 398.667969 238.296875 L 398.667969 239.535156 L 398.996094 239.421875 L 398.996094 239.492188 L 399.324219 239.378906 L 399.324219 239.449219 L 399.652344 239.339844 L 399.652344 239.679688 L 399.980469 239.566406 L 399.980469 239.839844 L 400.308594 239.730469 L 400.308594 240 L 400.636719 239.890625 L 400.636719 240.898438 L 400.964844 240.789062 L 400.964844 241.457031 L 401.292969 241.347656 L 401.292969 241.414062 L 401.621094 241.300781 L 401.621094 241.632812 L 401.949219 241.523438 L 401.949219 241.921875 L 402.277344 241.8125 L 402.277344 241.875 L 402.605469 241.765625 L 402.605469 243.203125 L 402.933594 243.09375 L 402.933594 243.160156 L 403.261719 243.050781 L 403.261719 243.503906 L 403.589844 243.394531 L 403.589844 243.523438 L 403.917969 243.414062 L 403.917969 244.121094 L 404.246094 244.011719 L 404.246094 244.265625 L 404.574219 244.160156 L 404.574219 244.222656 L 404.902344 244.113281 L 404.902344 244.367188 L 405.230469 244.261719 L 405.230469 245.332031 L 405.558594 245.226562 L 405.558594 246.65625 L 405.886719 246.546875 L 405.886719 247.527344 L 406.214844 247.421875 L 406.214844 247.664062 L 406.542969 247.558594 L 406.542969 247.679688 L 406.871094 247.574219 L 406.871094 248.480469 L 407.199219 248.375 L 407.199219 248.855469 L 407.527344 248.75 L 407.527344 249.582031 L 407.855469 249.476562 L 407.855469 249.769531 L 408.183594 249.664062 L 408.183594 249.960938 L 408.511719 249.855469 L 408.511719 249.914062 L 408.839844 249.808594 L 408.839844 250.453125 L 409.167969 250.347656 L 409.167969 250.871094 L 409.496094 250.765625 L 409.496094 251.519531 L 410.152344 251.308594 L 410.152344 251.652344 L 410.480469 251.550781 L 410.480469 251.894531 L 410.808594 251.789062 L 410.808594 251.902344 L 411.136719 251.800781 L 411.136719 252.59375 L 411.464844 252.488281 L 411.464844 253.164062 L 411.792969 253.0625 L 411.792969 254.230469 L 412.125 254.128906 L 412.125 254.953125 L 412.453125 254.847656 L 412.453125 255.339844 L 412.78125 255.238281 L 412.78125 255.402344 L 413.109375 255.296875 L 413.4375 255.195312 L 413.4375 255.683594 L 413.765625 255.582031 L 413.765625 256.066406 L 414.09375 255.964844 L 414.09375 256.820312 L 414.421875 256.71875 L 414.421875 257.722656 L 414.75 257.621094 L 414.75 257.726562 L 415.078125 257.625 L 415.078125 257.730469 L 415.40625 257.628906 L 415.40625 259.183594 L 415.734375 259.085938 L 415.734375 260.511719 L 416.0625 260.410156 L 416.0625 261.265625 L 416.390625 261.164062 L 416.390625 262.355469 L 416.71875 262.253906 L 416.71875 262.402344 L 417.046875 262.304688 L 417.046875 262.941406 L 417.375 262.839844 L 417.375 262.890625 L 417.703125 262.792969 L 417.703125 263.230469 L 418.03125 263.128906 L 418.03125 263.277344 L 418.359375 263.175781 L 418.359375 264.898438 L 418.6875 264.800781 L 418.6875 264.847656 L 419.015625 264.753906 L 419.015625 264.894531 L 419.34375 264.796875 L 419.34375 265.640625 L 419.671875 265.542969 L 419.671875 265.824219 L 420.328125 265.628906 L 420.328125 266.417969 L 420.65625 266.320312 L 420.65625 266.597656 L 420.984375 266.5 L 420.984375 266.546875 L 421.3125 266.453125 L 421.640625 266.355469 L 421.640625 266.769531 L 421.96875 266.671875 L 421.96875 267.894531 L 422.296875 267.800781 L 422.296875 268.070312 L 422.625 267.976562 L 422.953125 267.878906 L 422.953125 268.859375 L 423.28125 268.765625 L 423.28125 268.855469 L 423.609375 268.757812 L 423.609375 268.847656 L 423.9375 268.753906 L 423.9375 269.675781 L 424.265625 269.582031 L 424.265625 269.886719 L 424.59375 269.792969 L 424.59375 270.871094 L 424.921875 270.777344 L 424.921875 271.460938 L 425.25 271.367188 L 425.25 271.496094 L 425.578125 271.402344 L 425.578125 271.527344 L 425.90625 271.433594 L 425.90625 271.6875 L 426.234375 271.597656 L 426.5625 271.503906 L 426.5625 271.757812 L 426.890625 271.664062 L 426.890625 271.789062 L 427.21875 271.695312 L 427.21875 276.339844 L 427.546875 276.25 L 427.546875 276.367188 L 427.875 276.277344 L 427.875 276.550781 L 428.207031 276.460938 L 428.535156 276.371094 L 428.535156 277.113281 L 428.863281 277.019531 L 428.863281 277.136719 L 429.191406 277.046875 L 429.191406 277.125 L 429.519531 277.035156 L 429.519531 277.113281 L 429.847656 277.023438 L 429.847656 277.253906 L 430.175781 277.164062 L 430.175781 277.28125 L 430.503906 277.1875 L 430.503906 277.421875 L 430.832031 277.332031 L 430.832031 277.945312 L 431.160156 277.855469 L 431.160156 278.121094 L 431.488281 278.03125 L 431.488281 279.980469 L 431.816406 279.890625 L 432.144531 279.804688 L 432.144531 280.171875 L 432.472656 280.082031 L 432.472656 281.25 L 432.800781 281.164062 L 432.800781 281.453125 L 433.128906 281.363281 L 433.128906 281.617188 L 433.457031 281.527344 L 433.457031 282.101562 L 433.785156 282.015625 L 433.785156 282.085938 L 434.113281 281.996094 L 434.113281 282.246094 L 434.441406 282.160156 L 434.441406 282.691406 L 434.769531 282.601562 L 434.769531 283.546875 L 435.097656 283.460938 L 435.097656 284.871094 L 435.425781 284.785156 L 435.425781 285.53125 L 435.753906 285.445312 L 435.753906 285.746094 L 436.082031 285.660156 L 436.082031 286.027344 L 436.410156 285.945312 L 436.410156 286.507812 L 436.738281 286.421875 L 436.738281 287.960938 L 437.066406 287.875 L 437.066406 288.132812 L 437.394531 288.050781 L 437.394531 288.53125 L 437.722656 288.445312 L 437.722656 289.933594 L 438.050781 289.847656 L 438.050781 290.902344 L 438.378906 290.820312 L 438.378906 291.523438 L 438.707031 291.441406 L 438.707031 291.652344 L 439.035156 291.570312 L 439.035156 291.632812 L 439.363281 291.546875 L 439.363281 291.578125 L 439.691406 291.496094 L 439.691406 297.582031 L 440.019531 297.503906 L 440.019531 298.15625 L 440.347656 298.078125 L 440.347656 298.78125 L 440.675781 298.699219 L 440.675781 300.394531 L 441.003906 300.316406 L 441.003906 300.679688 L 441.332031 300.601562 L 441.332031 301.988281 L 441.660156 301.910156 L 441.660156 302.035156 L 441.988281 301.960938 L 441.988281 302.3125 L 442.316406 302.234375 L 442.316406 302.511719 L 442.644531 302.433594 L 442.644531 302.910156 L 442.972656 302.832031 L 442.972656 304.59375 L 443.300781 304.519531 L 443.300781 305.472656 L 443.628906 305.398438 L 443.628906 307.515625 L 443.957031 307.441406 L 443.957031 308.570312 L 444.289062 308.496094 L 444.289062 309.886719 L 444.617188 309.8125 L 444.617188 310.332031 L 444.945312 310.261719 L 444.945312 310.28125 L 445.273438 310.210938 L 445.273438 310.597656 L 445.601562 310.523438 L 445.601562 310.804688 L 445.929688 310.730469 L 445.929688 314.378906 L 446.257812 314.308594 L 446.257812 315.179688 L 446.585938 315.109375 L 446.585938 315.5 L 446.914062 315.429688 L 446.914062 315.679688 L 447.242188 315.613281 L 447.242188 316.742188 L 447.570312 316.671875 L 447.570312 316.992188 L 447.898438 316.925781 L 447.898438 317.617188 L 448.226562 317.546875 L 448.226562 318.285156 L 448.554688 318.21875 L 448.554688 318.492188 L 448.882812 318.421875 L 448.882812 321.308594 L 449.210938 321.242188 L 449.210938 322.445312 L 449.539062 322.378906 L 449.539062 324.300781 L 449.867188 324.234375 L 449.867188 325.894531 L 450.195312 325.832031 L 450.195312 326.691406 L 450.523438 326.628906 L 450.523438 327.652344 L 450.851562 327.589844 L 450.851562 329.445312 L 451.179688 329.382812 L 451.179688 332.816406 L 451.507812 332.757812 L 451.507812 333.269531 L 451.835938 333.210938 L 451.835938 333.523438 L 452.164062 333.464844 L 452.164062 333.707031 L 452.492188 333.648438 L 452.492188 334.792969 L 452.820312 334.734375 L 452.820312 335.835938 L 453.148438 335.78125 L 453.148438 336.398438 L 453.476562 336.339844 L 453.476562 338.722656 L 453.804688 338.667969 L 453.804688 341.679688 L 454.132812 341.625 L 454.132812 344.011719 L 454.460938 343.960938 L 454.460938 346.210938 L 454.789062 346.160156 L 454.789062 346.28125 L 455.117188 346.226562 L 455.117188 346.824219 L 455.445312 346.769531 L 455.445312 351.066406 L 455.773438 351.015625 L 455.773438 352.617188 L 456.101562 352.570312 L 456.101562 356.585938 L 456.429688 356.539062 L 456.429688 357.28125 L 456.757812 357.238281 L 456.757812 357.699219 L 457.085938 357.652344 L 457.085938 359.355469 L 457.414062 359.3125 L 457.414062 361.480469 L 457.742188 361.4375 L 457.742188 362.0625 L 458.070312 362.019531 L 458.398438 361.980469 L 458.398438 362.347656 \"/>\n",
       "</g>\n",
       "</svg>\n"
      ],
      "text/plain": [
       "plot without title"
      ]
     },
     "metadata": {
      "image/svg+xml": {
       "isolated": true
      }
     },
     "output_type": "display_data"
    }
   ],
   "source": [
    "#Precision and Recall\n",
    "precision_recall <- performance(pr, \"prec\", \"rec\")\n",
    "plot(precision_recall)"
   ]
  },
  {
   "cell_type": "markdown",
   "metadata": {
    "collapsed": true
   },
   "source": [
    "### Reference\n",
    "\n",
    "http://nlp.stanford.edu/manning/courses/ling289/logistic.pdf"
   ]
  }
 ],
 "metadata": {
  "kernelspec": {
   "display_name": "R",
   "language": "R",
   "name": "ir"
  },
  "language_info": {
   "codemirror_mode": "r",
   "file_extension": ".r",
   "mimetype": "text/x-r-source",
   "name": "R",
   "pygments_lexer": "r",
   "version": "3.2.3"
  }
 },
 "nbformat": 4,
 "nbformat_minor": 0
}
