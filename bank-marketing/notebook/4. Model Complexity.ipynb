{
 "cells": [
  {
   "cell_type": "markdown",
   "metadata": {},
   "source": [
    "# Model Complexity and Bias - Variance\n",
    "\n",
    "<img src=\"img/biasvariance_0.png\">\n",
    "\n",
    "\n",
    "# Model Complexity \n",
    "<img src=\"img/biasvariance_1.png\">\n",
    "\n",
    "# Bias - Variance\n",
    "\n",
    "<img src=\"img/biasvariance_2.png\">\n",
    "\n",
    "# Bias- Variance - Another pic \n",
    "\n",
    "<img src=\"img/biasvariance_3.png\">\n",
    "\n",
    "# Bias - Variance - One more example \n",
    "\n",
    "<img src=\"img/biasvariance_4.png\">\n",
    "\n",
    "# Overfitting\n",
    "\n",
    "<img src=\"img/overfitting_1.jpg\">\n",
    "\n",
    "# Overfitting - Another example\n",
    "\n",
    "<img src=\"img/overfitting_2.png\">"
   ]
  }
 ],
 "metadata": {
  "kernelspec": {
   "display_name": "R",
   "language": "R",
   "name": "ir"
  },
  "language_info": {
   "codemirror_mode": "r",
   "file_extension": ".r",
   "mimetype": "text/x-r-source",
   "name": "R",
   "pygments_lexer": "r",
   "version": "3.2.3"
  }
 },
 "nbformat": 4,
 "nbformat_minor": 0
}
