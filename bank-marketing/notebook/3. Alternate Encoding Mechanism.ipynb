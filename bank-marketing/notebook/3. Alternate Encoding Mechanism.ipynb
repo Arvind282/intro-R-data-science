{
 "cells": [
  {
   "cell_type": "markdown",
   "metadata": {},
   "source": [
    "## One Hot Encoding"
   ]
  },
  {
   "cell_type": "code",
   "execution_count": 1,
   "metadata": {
    "collapsed": true
   },
   "outputs": [],
   "source": [
    "dd <- read.table(text=\"\n",
    "   RACE        AGE.BELOW.21     CLASS\n",
    "   HISPANIC          0          A\n",
    "   ASIAN             1          A\n",
    "   HISPANIC          1          D\n",
    "   CAUCASIAN         1          B\",\n",
    "  header=TRUE)"
   ]
  },
  {
   "cell_type": "code",
   "execution_count": 2,
   "metadata": {
    "collapsed": false
   },
   "outputs": [
    {
     "data": {
      "text/html": [
       "<table>\n",
       "<thead><tr><th></th><th scope=col>RACE</th><th scope=col>AGE.BELOW.21</th><th scope=col>CLASS</th></tr></thead>\n",
       "<tbody>\n",
       "\t<tr><th scope=row>1</th><td>HISPANIC</td><td>0</td><td>A</td></tr>\n",
       "\t<tr><th scope=row>2</th><td>ASIAN</td><td>1</td><td>A</td></tr>\n",
       "\t<tr><th scope=row>3</th><td>HISPANIC</td><td>1</td><td>D</td></tr>\n",
       "\t<tr><th scope=row>4</th><td>CAUCASIAN</td><td>1</td><td>B</td></tr>\n",
       "</tbody>\n",
       "</table>\n"
      ],
      "text/latex": [
       "\\begin{tabular}{r|lll}\n",
       "  & RACE & AGE.BELOW.21 & CLASS\\\\\n",
       "\\hline\n",
       "\t1 & HISPANIC & 0 & A\\\\\n",
       "\t2 & ASIAN & 1 & A\\\\\n",
       "\t3 & HISPANIC & 1 & D\\\\\n",
       "\t4 & CAUCASIAN & 1 & B\\\\\n",
       "\\end{tabular}\n"
      ],
      "text/plain": [
       "       RACE AGE.BELOW.21 CLASS\n",
       "1  HISPANIC            0     A\n",
       "2     ASIAN            1     A\n",
       "3  HISPANIC            1     D\n",
       "4 CAUCASIAN            1     B"
      ]
     },
     "execution_count": 2,
     "metadata": {},
     "output_type": "execute_result"
    }
   ],
   "source": [
    "dd"
   ]
  },
  {
   "cell_type": "code",
   "execution_count": 6,
   "metadata": {
    "collapsed": false
   },
   "outputs": [
    {
     "data": {
      "text/html": [
       "<table>\n",
       "<thead><tr><th></th><th scope=col>RACEASIAN</th><th scope=col>RACECAUCASIAN</th><th scope=col>RACEHISPANIC</th><th scope=col>AGE.BELOW.21</th><th scope=col>CLASS</th></tr></thead>\n",
       "<tbody>\n",
       "\t<tr><th scope=row>1</th><td>0</td><td>0</td><td>1</td><td>0</td><td>A</td></tr>\n",
       "\t<tr><th scope=row>2</th><td>1</td><td>0</td><td>0</td><td>1</td><td>A</td></tr>\n",
       "\t<tr><th scope=row>3</th><td>0</td><td>0</td><td>1</td><td>1</td><td>D</td></tr>\n",
       "\t<tr><th scope=row>4</th><td>0</td><td>1</td><td>0</td><td>1</td><td>B</td></tr>\n",
       "</tbody>\n",
       "</table>\n"
      ],
      "text/latex": [
       "\\begin{tabular}{r|lllll}\n",
       "  & RACEASIAN & RACECAUCASIAN & RACEHISPANIC & AGE.BELOW.21 & CLASS\\\\\n",
       "\\hline\n",
       "\t1 & 0 & 0 & 1 & 0 & A\\\\\n",
       "\t2 & 1 & 0 & 0 & 1 & A\\\\\n",
       "\t3 & 0 & 0 & 1 & 1 & D\\\\\n",
       "\t4 & 0 & 1 & 0 & 1 & B\\\\\n",
       "\\end{tabular}\n"
      ],
      "text/plain": [
       "  RACEASIAN RACECAUCASIAN RACEHISPANIC AGE.BELOW.21 CLASS\n",
       "1         0             0            1            0     A\n",
       "2         1             0            0            1     A\n",
       "3         0             0            1            1     D\n",
       "4         0             1            0            1     B"
      ]
     },
     "execution_count": 6,
     "metadata": {},
     "output_type": "execute_result"
    }
   ],
   "source": [
    "with(dd,\n",
    "       data.frame(model.matrix(~RACE-1,dd),\n",
    "                  AGE.BELOW.21,CLASS))"
   ]
  },
  {
   "cell_type": "markdown",
   "metadata": {},
   "source": [
    "**Exercise** \n",
    "\n",
    "1. Do one hot encoding on the bank marketing dataset.\n",
    "2. Run logistic regression on that\n",
    "3. Compute accuracy metrics. Do you see any difference?\n",
    "4. Does one hot encoding impact decision tree? Discuss"
   ]
  },
  {
   "cell_type": "code",
   "execution_count": null,
   "metadata": {
    "collapsed": true
   },
   "outputs": [],
   "source": []
  }
 ],
 "metadata": {
  "kernelspec": {
   "display_name": "R",
   "language": "R",
   "name": "ir"
  },
  "language_info": {
   "codemirror_mode": "r",
   "file_extension": ".r",
   "mimetype": "text/x-r-source",
   "name": "R",
   "pygments_lexer": "r",
   "version": "3.2.3"
  }
 },
 "nbformat": 4,
 "nbformat_minor": 0
}
