{
 "cells": [
  {
   "cell_type": "markdown",
   "metadata": {},
   "source": [
    "# 2. Refine the Data\n",
    " \n",
    "> \"Data is messy\"\n",
    "\n",
    "We will be performing the following operation on our Onion price to refine it\n",
    "- **Remove** e.g. remove redundant data from the data frame\n",
    "- **Derive** e.g. State and City from the market field\n",
    "- **Parse** e.g. extract date from year and month column\n",
    "\n",
    "Other stuff you may need to do to refine are...\n",
    "- **Missing** e.g. Check for missing or incomplete data\n",
    "- **Quality** e.g. Check for duplicates, accuracy, unusual data\n",
    "- **Convert** e.g. free text to coded value\n",
    "- **Calculate** e.g. percentages, proportion\n",
    "- **Merge** e.g. first and surname for full name\n",
    "- **Aggregate** e.g. rollup by year, cluster by area\n",
    "- **Filter** e.g. exclude based on location\n",
    "- **Sample** e.g. extract a representative data\n",
    "- **Summary** e.g. show summary stats like mean"
   ]
  },
  {
   "cell_type": "code",
   "execution_count": 2,
   "metadata": {
    "collapsed": false
   },
   "outputs": [
    {
     "name": "stderr",
     "output_type": "stream",
     "text": [
      "\n",
      "Attaching package: 'dplyr'\n",
      "\n",
      "The following objects are masked from 'package:stats':\n",
      "\n",
      "    filter, lag\n",
      "\n",
      "The following objects are masked from 'package:base':\n",
      "\n",
      "    intersect, setdiff, setequal, union\n",
      "\n"
     ]
    }
   ],
   "source": [
    "# Import the one library we need, which is dplyr\n",
    "library(dplyr)"
   ]
  },
  {
   "cell_type": "code",
   "execution_count": 16,
   "metadata": {
    "collapsed": false
   },
   "outputs": [],
   "source": [
    "# Read the csv file of Month Wise Market Arrival data that has been scraped.\n",
    "df = read.csv('MonthWiseMarketArrivalsAll.csv')"
   ]
  },
  {
   "cell_type": "code",
   "execution_count": 17,
   "metadata": {
    "collapsed": false
   },
   "outputs": [
    {
     "data": {
      "text/html": [
       "<table>\n",
       "<thead><tr><th></th><th scope=col>Market</th><th scope=col>Month.Name</th><th scope=col>Year</th><th scope=col>Arrival..q.</th><th scope=col>Price.Minimum..Rs.q.</th><th scope=col>Price.Maximum..Rs.q.</th><th scope=col>Modal.Price..Rs.q.</th></tr></thead>\n",
       "<tbody>\n",
       "\t<tr><th scope=row>1</th><td>ABOHAR(PB)</td><td>January</td><td>2005</td><td>2350</td><td>404</td><td>493</td><td>446</td></tr>\n",
       "\t<tr><th scope=row>2</th><td>ABOHAR(PB)</td><td>January</td><td>2006</td><td>900</td><td>487</td><td>638</td><td>563</td></tr>\n",
       "\t<tr><th scope=row>3</th><td>ABOHAR(PB)</td><td>January</td><td>2010</td><td>790</td><td>1283</td><td>1592</td><td>1460</td></tr>\n",
       "\t<tr><th scope=row>4</th><td>ABOHAR(PB)</td><td>January</td><td>2011</td><td>245</td><td>3067</td><td>3750</td><td>3433</td></tr>\n",
       "\t<tr><th scope=row>5</th><td>ABOHAR(PB)</td><td>January</td><td>2012</td><td>1035</td><td>523</td><td>686</td><td>605</td></tr>\n",
       "\t<tr><th scope=row>6</th><td>ABOHAR(PB)</td><td>January</td><td>2013</td><td>675</td><td>1327</td><td>1900</td><td>1605</td></tr>\n",
       "</tbody>\n",
       "</table>\n"
      ],
      "text/latex": [
       "\\begin{tabular}{r|lllllll}\n",
       "  & Market & Month.Name & Year & Arrival..q. & Price.Minimum..Rs.q. & Price.Maximum..Rs.q. & Modal.Price..Rs.q.\\\\\n",
       "\\hline\n",
       "\t1 & ABOHAR(PB) & January & 2005 & 2350 & 404 & 493 & 446\\\\\n",
       "\t2 & ABOHAR(PB) & January & 2006 & 900 & 487 & 638 & 563\\\\\n",
       "\t3 & ABOHAR(PB) & January & 2010 & 790 & 1283 & 1592 & 1460\\\\\n",
       "\t4 & ABOHAR(PB) & January & 2011 & 245 & 3067 & 3750 & 3433\\\\\n",
       "\t5 & ABOHAR(PB) & January & 2012 & 1035 & 523 & 686 & 605\\\\\n",
       "\t6 & ABOHAR(PB) & January & 2013 & 675 & 1327 & 1900 & 1605\\\\\n",
       "\\end{tabular}\n"
      ],
      "text/plain": [
       "      Market Month.Name Year Arrival..q. Price.Minimum..Rs.q.\n",
       "1 ABOHAR(PB)    January 2005        2350                  404\n",
       "2 ABOHAR(PB)    January 2006         900                  487\n",
       "3 ABOHAR(PB)    January 2010         790                 1283\n",
       "4 ABOHAR(PB)    January 2011         245                 3067\n",
       "5 ABOHAR(PB)    January 2012        1035                  523\n",
       "6 ABOHAR(PB)    January 2013         675                 1327\n",
       "  Price.Maximum..Rs.q. Modal.Price..Rs.q.\n",
       "1                  493                446\n",
       "2                  638                563\n",
       "3                 1592               1460\n",
       "4                 3750               3433\n",
       "5                  686                605\n",
       "6                 1900               1605"
      ]
     },
     "execution_count": 17,
     "metadata": {},
     "output_type": "execute_result"
    }
   ],
   "source": [
    "head(df)"
   ]
  },
  {
   "cell_type": "code",
   "execution_count": 5,
   "metadata": {
    "collapsed": false
   },
   "outputs": [
    {
     "data": {
      "text/html": [
       "<table>\n",
       "<thead><tr><th></th><th scope=col>market</th><th scope=col>month</th><th scope=col>year</th><th scope=col>quantity</th><th scope=col>priceMin</th><th scope=col>priceMax</th><th scope=col>priceMod</th></tr></thead>\n",
       "<tbody>\n",
       "\t<tr><th scope=row>10223</th><td>YEOLA(MS)</td><td>December</td><td>2011</td><td>131326</td><td>282</td><td>612</td><td>526</td></tr>\n",
       "\t<tr><th scope=row>10224</th><td>YEOLA(MS)</td><td>December</td><td>2012</td><td>207066</td><td>485</td><td>1327</td><td>1136</td></tr>\n",
       "\t<tr><th scope=row>10225</th><td>YEOLA(MS)</td><td>December</td><td>2013</td><td>215883</td><td>472</td><td>1427</td><td>1177</td></tr>\n",
       "\t<tr><th scope=row>10226</th><td>YEOLA(MS)</td><td>December</td><td>2014</td><td>201077</td><td>446</td><td>1654</td><td>1456</td></tr>\n",
       "\t<tr><th scope=row>10227</th><td>YEOLA(MS)</td><td>December</td><td>2015</td><td>223315</td><td>609</td><td>1446</td><td>1126</td></tr>\n",
       "\t<tr><th scope=row>10228</th><td></td><td></td><td>Total</td><td>783438108</td><td>647(Avg)</td><td>1213(Avg)</td><td>984(Avg)</td></tr>\n",
       "</tbody>\n",
       "</table>\n"
      ],
      "text/latex": [
       "\\begin{tabular}{r|lllllll}\n",
       "  & market & month & year & quantity & priceMin & priceMax & priceMod\\\\\n",
       "\\hline\n",
       "\t10223 & YEOLA(MS) & December & 2011 & 131326 & 282 & 612 & 526\\\\\n",
       "\t10224 & YEOLA(MS) & December & 2012 & 207066 & 485 & 1327 & 1136\\\\\n",
       "\t10225 & YEOLA(MS) & December & 2013 & 215883 & 472 & 1427 & 1177\\\\\n",
       "\t10226 & YEOLA(MS) & December & 2014 & 201077 & 446 & 1654 & 1456\\\\\n",
       "\t10227 & YEOLA(MS) & December & 2015 & 223315 & 609 & 1446 & 1126\\\\\n",
       "\t10228 &  &  & Total & 783438108 & 647(Avg) & 1213(Avg) & 984(Avg)\\\\\n",
       "\\end{tabular}\n"
      ],
      "text/plain": [
       "         market    month  year  quantity priceMin  priceMax priceMod\n",
       "10223 YEOLA(MS) December  2011    131326      282       612      526\n",
       "10224 YEOLA(MS) December  2012    207066      485      1327     1136\n",
       "10225 YEOLA(MS) December  2013    215883      472      1427     1177\n",
       "10226 YEOLA(MS) December  2014    201077      446      1654     1456\n",
       "10227 YEOLA(MS) December  2015    223315      609      1446     1126\n",
       "10228                    Total 783438108 647(Avg) 1213(Avg) 984(Avg)"
      ]
     },
     "execution_count": 5,
     "metadata": {},
     "output_type": "execute_result"
    }
   ],
   "source": [
    "tail(df)"
   ]
  },
  {
   "cell_type": "markdown",
   "metadata": {},
   "source": [
    "## Fix the column names"
   ]
  },
  {
   "cell_type": "code",
   "execution_count": 18,
   "metadata": {
    "collapsed": true
   },
   "outputs": [],
   "source": [
    "column_names <- c('market', 'month', 'year', 'quantity', 'priceMin', 'priceMax', 'priceMod')"
   ]
  },
  {
   "cell_type": "code",
   "execution_count": 20,
   "metadata": {
    "collapsed": true
   },
   "outputs": [],
   "source": [
    "colnames(df) <- column_names"
   ]
  },
  {
   "cell_type": "markdown",
   "metadata": {},
   "source": [
    "## Remove the redundant data"
   ]
  },
  {
   "cell_type": "code",
   "execution_count": 21,
   "metadata": {
    "collapsed": false
   },
   "outputs": [
    {
     "name": "stdout",
     "output_type": "stream",
     "text": [
      "'data.frame':\t10321 obs. of  7 variables:\n",
      " $ market  : Factor w/ 123 levels \"ABOHAR(PB)\",\"AGRA(UP)\",..: 1 1 1 1 1 1 1 1 1 1 ...\n",
      " $ month   : Factor w/ 13 levels \"April\",\"August\",..: 5 5 5 5 5 5 5 5 4 4 ...\n",
      " $ year    : Factor w/ 22 levels \"1996\",\"1997\",..: 10 11 15 16 17 18 19 20 10 11 ...\n",
      " $ quantity: int  2350 900 790 245 1035 675 440 1305 1400 1800 ...\n",
      " $ priceMin: Factor w/ 2028 levels \"100\",\"1000\",\"1001\",..: 1328 1466 278 1125 1513 320 28 301 1081 1207 ...\n",
      " $ priceMax: Factor w/ 2736 levels \"1000\",\"1001\",..: 2138 2369 575 1763 2421 869 466 825 1726 1882 ...\n",
      " $ priceMod: Factor w/ 2427 levels \"100\",\"1000\",\"1001\",..: 1812 1988 471 1514 2032 614 258 622 1453 1626 ...\n"
     ]
    }
   ],
   "source": [
    "str(df)"
   ]
  },
  {
   "cell_type": "code",
   "execution_count": 22,
   "metadata": {
    "collapsed": false
   },
   "outputs": [
    {
     "data": {
      "text/html": [
       "<table>\n",
       "<thead><tr><th></th><th scope=col>market</th><th scope=col>month</th><th scope=col>year</th><th scope=col>quantity</th><th scope=col>priceMin</th><th scope=col>priceMax</th><th scope=col>priceMod</th></tr></thead>\n",
       "<tbody>\n",
       "\t<tr><th scope=row>10321</th><td><c2><a0></td><td><c2><a0></td><td>Total</td><td>789858881</td><td>646(Avg)</td><td>1211(Avg)</td><td>983(Avg)</td></tr>\n",
       "</tbody>\n",
       "</table>\n"
      ],
      "text/latex": [
       "\\begin{tabular}{r|lllllll}\n",
       "  & market & month & year & quantity & priceMin & priceMax & priceMod\\\\\n",
       "\\hline\n",
       "\t10321 & <c2><a0> & <c2><a0> & Total & 789858881 & 646(Avg) & 1211(Avg) & 983(Avg)\\\\\n",
       "\\end{tabular}\n"
      ],
      "text/plain": [
       "        market    month  year  quantity priceMin  priceMax priceMod\n",
       "10321 \\302\\240 \\302\\240 Total 789858881 646(Avg) 1211(Avg) 983(Avg)"
      ]
     },
     "execution_count": 22,
     "metadata": {},
     "output_type": "execute_result"
    }
   ],
   "source": [
    "# Delete the last row from the dataframe\n",
    "tail(df, n = 1)"
   ]
  },
  {
   "cell_type": "code",
   "execution_count": 23,
   "metadata": {
    "collapsed": false
   },
   "outputs": [],
   "source": [
    "# Delete the last row from the dataframe\n",
    "df <- df %>%\n",
    "      filter(year != \"Total\")"
   ]
  },
  {
   "cell_type": "code",
   "execution_count": 24,
   "metadata": {
    "collapsed": false
   },
   "outputs": [
    {
     "data": {
      "text/html": [
       "<table>\n",
       "<thead><tr><th></th><th scope=col>market</th><th scope=col>month</th><th scope=col>year</th><th scope=col>quantity</th><th scope=col>priceMin</th><th scope=col>priceMax</th><th scope=col>priceMod</th></tr></thead>\n",
       "<tbody>\n",
       "\t<tr><th scope=row>10315</th><td>YEOLA(MS)</td><td>December</td><td>2010</td><td>57586</td><td>541</td><td>2713</td><td>1830</td></tr>\n",
       "\t<tr><th scope=row>10316</th><td>YEOLA(MS)</td><td>December</td><td>2011</td><td>131326</td><td>282</td><td>612</td><td>526</td></tr>\n",
       "\t<tr><th scope=row>10317</th><td>YEOLA(MS)</td><td>December</td><td>2012</td><td>207066</td><td>485</td><td>1327</td><td>1136</td></tr>\n",
       "\t<tr><th scope=row>10318</th><td>YEOLA(MS)</td><td>December</td><td>2013</td><td>215883</td><td>472</td><td>1427</td><td>1177</td></tr>\n",
       "\t<tr><th scope=row>10319</th><td>YEOLA(MS)</td><td>December</td><td>2014</td><td>201077</td><td>446</td><td>1654</td><td>1456</td></tr>\n",
       "\t<tr><th scope=row>10320</th><td>YEOLA(MS)</td><td>December</td><td>2015</td><td>223315</td><td>609</td><td>1446</td><td>1126</td></tr>\n",
       "</tbody>\n",
       "</table>\n"
      ],
      "text/latex": [
       "\\begin{tabular}{r|lllllll}\n",
       "  & market & month & year & quantity & priceMin & priceMax & priceMod\\\\\n",
       "\\hline\n",
       "\t10315 & YEOLA(MS) & December & 2010 & 57586 & 541 & 2713 & 1830\\\\\n",
       "\t10316 & YEOLA(MS) & December & 2011 & 131326 & 282 & 612 & 526\\\\\n",
       "\t10317 & YEOLA(MS) & December & 2012 & 207066 & 485 & 1327 & 1136\\\\\n",
       "\t10318 & YEOLA(MS) & December & 2013 & 215883 & 472 & 1427 & 1177\\\\\n",
       "\t10319 & YEOLA(MS) & December & 2014 & 201077 & 446 & 1654 & 1456\\\\\n",
       "\t10320 & YEOLA(MS) & December & 2015 & 223315 & 609 & 1446 & 1126\\\\\n",
       "\\end{tabular}\n"
      ],
      "text/plain": [
       "         market    month year quantity priceMin priceMax priceMod\n",
       "10315 YEOLA(MS) December 2010    57586      541     2713     1830\n",
       "10316 YEOLA(MS) December 2011   131326      282      612      526\n",
       "10317 YEOLA(MS) December 2012   207066      485     1327     1136\n",
       "10318 YEOLA(MS) December 2013   215883      472     1427     1177\n",
       "10319 YEOLA(MS) December 2014   201077      446     1654     1456\n",
       "10320 YEOLA(MS) December 2015   223315      609     1446     1126"
      ]
     },
     "execution_count": 24,
     "metadata": {},
     "output_type": "execute_result"
    }
   ],
   "source": [
    "tail(df)"
   ]
  },
  {
   "cell_type": "code",
   "execution_count": 11,
   "metadata": {
    "collapsed": false
   },
   "outputs": [
    {
     "name": "stdout",
     "output_type": "stream",
     "text": [
      "'data.frame':\t10227 obs. of  7 variables:\n",
      " $ market  : Factor w/ 121 levels \"\",\"ABOHAR(PB)\",..: 2 2 2 2 2 2 2 2 2 2 ...\n",
      " $ month   : Factor w/ 13 levels \"\",\"April\",\"August\",..: 6 6 6 6 6 6 6 6 5 5 ...\n",
      " $ year    : Factor w/ 22 levels \"1996\",\"1997\",..: 10 11 15 16 17 18 19 20 10 11 ...\n",
      " $ quantity: int  2350 900 790 245 1035 675 440 1305 1400 1800 ...\n",
      " $ priceMin: Factor w/ 2027 levels \"100\",\"1000\",\"1001\",..: 1326 1464 278 1123 1511 319 28 300 1079 1205 ...\n",
      " $ priceMax: Factor w/ 2733 levels \"1000\",\"1001\",..: 2135 2366 573 1760 2418 867 463 823 1723 1879 ...\n",
      " $ priceMod: Factor w/ 2425 levels \"100\",\"1000\",\"1001\",..: 1811 1987 471 1513 2031 614 258 622 1452 1625 ...\n"
     ]
    }
   ],
   "source": [
    "str(df)"
   ]
  },
  {
   "cell_type": "code",
   "execution_count": 36,
   "metadata": {
    "collapsed": false
   },
   "outputs": [],
   "source": [
    "df$year <- as.numeric(df$year)\n",
    "df$priceMin <- as.numeric(df$priceMin)\n",
    "df$priceMax <- as.numeric(df$priceMax)\n",
    "df$priceMod <- as.numeric(df$priceMod)"
   ]
  },
  {
   "cell_type": "code",
   "execution_count": 37,
   "metadata": {
    "collapsed": false
   },
   "outputs": [
    {
     "name": "stdout",
     "output_type": "stream",
     "text": [
      "'data.frame':\t10320 obs. of  7 variables:\n",
      " $ market  : Factor w/ 123 levels \"ABOHAR(PB)\",\"AGRA(UP)\",..: 1 1 1 1 1 1 1 1 1 1 ...\n",
      " $ month   : Factor w/ 13 levels \"April\",\"August\",..: 5 5 5 5 5 5 5 5 4 4 ...\n",
      " $ year    : num  10 11 15 16 17 18 19 20 10 11 ...\n",
      " $ quantity: int  2350 900 790 245 1035 675 440 1305 1400 1800 ...\n",
      " $ priceMin: num  1328 1466 278 1125 1513 ...\n",
      " $ priceMax: num  2138 2369 575 1763 2421 ...\n",
      " $ priceMod: num  1812 1988 471 1514 2032 ...\n"
     ]
    }
   ],
   "source": [
    "str(df)"
   ]
  },
  {
   "cell_type": "code",
   "execution_count": 38,
   "metadata": {
    "collapsed": false
   },
   "outputs": [
    {
     "data": {
      "text/html": [
       "<ol class=list-inline>\n",
       "\t<li>10</li>\n",
       "\t<li>11</li>\n",
       "\t<li>15</li>\n",
       "\t<li>16</li>\n",
       "\t<li>17</li>\n",
       "\t<li>18</li>\n",
       "\t<li>19</li>\n",
       "\t<li>20</li>\n",
       "\t<li>12</li>\n",
       "\t<li>14</li>\n",
       "\t<li>13</li>\n",
       "\t<li>21</li>\n",
       "\t<li>7</li>\n",
       "\t<li>9</li>\n",
       "\t<li>8</li>\n",
       "\t<li>6</li>\n",
       "\t<li>4</li>\n",
       "\t<li>5</li>\n",
       "\t<li>3</li>\n",
       "\t<li>1</li>\n",
       "\t<li>2</li>\n",
       "</ol>\n"
      ],
      "text/latex": [
       "\\begin{enumerate*}\n",
       "\\item 10\n",
       "\\item 11\n",
       "\\item 15\n",
       "\\item 16\n",
       "\\item 17\n",
       "\\item 18\n",
       "\\item 19\n",
       "\\item 20\n",
       "\\item 12\n",
       "\\item 14\n",
       "\\item 13\n",
       "\\item 21\n",
       "\\item 7\n",
       "\\item 9\n",
       "\\item 8\n",
       "\\item 6\n",
       "\\item 4\n",
       "\\item 5\n",
       "\\item 3\n",
       "\\item 1\n",
       "\\item 2\n",
       "\\end{enumerate*}\n"
      ],
      "text/markdown": [
       "1. 10\n",
       "2. 11\n",
       "3. 15\n",
       "4. 16\n",
       "5. 17\n",
       "6. 18\n",
       "7. 19\n",
       "8. 20\n",
       "9. 12\n",
       "10. 14\n",
       "11. 13\n",
       "12. 21\n",
       "13. 7\n",
       "14. 9\n",
       "15. 8\n",
       "16. 6\n",
       "17. 4\n",
       "18. 5\n",
       "19. 3\n",
       "20. 1\n",
       "21. 2\n",
       "\n",
       "\n"
      ],
      "text/plain": [
       " [1] 10 11 15 16 17 18 19 20 12 14 13 21  7  9  8  6  4  5  3  1  2"
      ]
     },
     "execution_count": 38,
     "metadata": {},
     "output_type": "execute_result"
    }
   ],
   "source": [
    "unique(df$year)"
   ]
  },
  {
   "cell_type": "code",
   "execution_count": 33,
   "metadata": {
    "collapsed": false
   },
   "outputs": [
    {
     "data": {
      "text/html": [
       "<ol class=list-inline>\n",
       "\t<li>January</li>\n",
       "\t<li>February</li>\n",
       "\t<li>March</li>\n",
       "\t<li>April</li>\n",
       "\t<li>May</li>\n",
       "\t<li>June</li>\n",
       "\t<li>July</li>\n",
       "\t<li>August</li>\n",
       "\t<li>September</li>\n",
       "\t<li>October</li>\n",
       "\t<li>November</li>\n",
       "\t<li>December</li>\n",
       "</ol>\n"
      ],
      "text/latex": [
       "\\begin{enumerate*}\n",
       "\\item January\n",
       "\\item February\n",
       "\\item March\n",
       "\\item April\n",
       "\\item May\n",
       "\\item June\n",
       "\\item July\n",
       "\\item August\n",
       "\\item September\n",
       "\\item October\n",
       "\\item November\n",
       "\\item December\n",
       "\\end{enumerate*}\n"
      ],
      "text/markdown": [
       "1. January\n",
       "2. February\n",
       "3. March\n",
       "4. April\n",
       "5. May\n",
       "6. June\n",
       "7. July\n",
       "8. August\n",
       "9. September\n",
       "10. October\n",
       "11. November\n",
       "12. December\n",
       "\n",
       "\n"
      ],
      "text/plain": [
       " [1] January   February  March     April     May       June      July     \n",
       " [8] August    September October   November  December \n",
       "13 Levels: April August December February January July June March ... \\302\\240"
      ]
     },
     "execution_count": 33,
     "metadata": {},
     "output_type": "execute_result"
    }
   ],
   "source": [
    "unique(df$month)"
   ]
  },
  {
   "cell_type": "code",
   "execution_count": 31,
   "metadata": {
    "collapsed": false
   },
   "outputs": [
    {
     "data": {
      "text/html": [
       "<table>\n",
       "<thead><tr><th></th><th scope=col>market</th><th scope=col>month</th><th scope=col>year</th><th scope=col>quantity</th><th scope=col>priceMin</th><th scope=col>priceMax</th><th scope=col>priceMod</th></tr></thead>\n",
       "<tbody>\n",
       "\t<tr><th scope=row>1</th><td>ABOHAR(PB)</td><td>January</td><td>2005</td><td>2350</td><td>1328</td><td>2138</td><td>1812</td></tr>\n",
       "\t<tr><th scope=row>2</th><td>ABOHAR(PB)</td><td>January</td><td>2006</td><td>900</td><td>1466</td><td>2369</td><td>1988</td></tr>\n",
       "\t<tr><th scope=row>3</th><td>ABOHAR(PB)</td><td>January</td><td>2010</td><td>790</td><td>278</td><td>575</td><td>471</td></tr>\n",
       "\t<tr><th scope=row>4</th><td>ABOHAR(PB)</td><td>January</td><td>2011</td><td>245</td><td>1125</td><td>1763</td><td>1514</td></tr>\n",
       "\t<tr><th scope=row>5</th><td>ABOHAR(PB)</td><td>January</td><td>2012</td><td>1035</td><td>1513</td><td>2421</td><td>2032</td></tr>\n",
       "\t<tr><th scope=row>6</th><td>ABOHAR(PB)</td><td>January</td><td>2013</td><td>675</td><td>320</td><td>869</td><td>614</td></tr>\n",
       "</tbody>\n",
       "</table>\n"
      ],
      "text/latex": [
       "\\begin{tabular}{r|lllllll}\n",
       "  & market & month & year & quantity & priceMin & priceMax & priceMod\\\\\n",
       "\\hline\n",
       "\t1 & ABOHAR(PB) & January & 2005 & 2350 & 1328 & 2138 & 1812\\\\\n",
       "\t2 & ABOHAR(PB) & January & 2006 & 900 & 1466 & 2369 & 1988\\\\\n",
       "\t3 & ABOHAR(PB) & January & 2010 & 790 & 278 & 575 & 471\\\\\n",
       "\t4 & ABOHAR(PB) & January & 2011 & 245 & 1125 & 1763 & 1514\\\\\n",
       "\t5 & ABOHAR(PB) & January & 2012 & 1035 & 1513 & 2421 & 2032\\\\\n",
       "\t6 & ABOHAR(PB) & January & 2013 & 675 & 320 & 869 & 614\\\\\n",
       "\\end{tabular}\n"
      ],
      "text/plain": [
       "      market   month year quantity priceMin priceMax priceMod\n",
       "1 ABOHAR(PB) January 2005     2350     1328     2138     1812\n",
       "2 ABOHAR(PB) January 2006      900     1466     2369     1988\n",
       "3 ABOHAR(PB) January 2010      790      278      575      471\n",
       "4 ABOHAR(PB) January 2011      245     1125     1763     1514\n",
       "5 ABOHAR(PB) January 2012     1035     1513     2421     2032\n",
       "6 ABOHAR(PB) January 2013      675      320      869      614"
      ]
     },
     "execution_count": 31,
     "metadata": {},
     "output_type": "execute_result"
    }
   ],
   "source": [
    "head(df)"
   ]
  },
  {
   "cell_type": "code",
   "execution_count": 35,
   "metadata": {
    "collapsed": false
   },
   "outputs": [
    {
     "data": {
      "text/plain": [
       "            market           month           year         quantity      \n",
       " LASALGAON(MS) : 243   February : 936   2015   :1053   Min.   :     15  \n",
       " PIMPALGAON(MS): 225   January  : 929   2010   : 813   1st Qu.:   8862  \n",
       " MANMAD(MS)    : 219   March    : 907   2014   : 773   Median :  27414  \n",
       " LONAND(MS)    : 212   December : 873   2009   : 760   Mean   :  76537  \n",
       " MAHUVA(GUJ)   : 211   November : 856   2013   : 740   3rd Qu.:  87875  \n",
       " PUNE(MS)      : 207   September: 855   2007   : 738   Max.   :1639032  \n",
       " (Other)       :9003   (Other)  :4964   (Other):5443                    \n",
       "    priceMin         priceMax       priceMod   \n",
       " Min.   :   1.0   Min.   :   1   Min.   :   1  \n",
       " 1st Qu.: 573.8   1st Qu.: 610   1st Qu.: 705  \n",
       " Median :1140.0   Median :1682   Median :1567  \n",
       " Mean   :1064.8   Mean   :1504   Mean   :1388  \n",
       " 3rd Qu.:1545.0   3rd Qu.:2333   3rd Qu.:2035  \n",
       " Max.   :2028.0   Max.   :2736   Max.   :2427  \n",
       "                                               "
      ]
     },
     "execution_count": 35,
     "metadata": {},
     "output_type": "execute_result"
    }
   ],
   "source": [
    "summary(df)"
   ]
  },
  {
   "cell_type": "markdown",
   "metadata": {},
   "source": [
    "## Extracting the states from market names"
   ]
  },
  {
   "cell_type": "code",
   "execution_count": null,
   "metadata": {
    "collapsed": false
   },
   "outputs": [],
   "source": [
    "df.market.value_counts().head()"
   ]
  },
  {
   "cell_type": "code",
   "execution_count": null,
   "metadata": {
    "collapsed": false
   },
   "outputs": [],
   "source": [
    "df['state'] = df.market.str.split('(').str[-1]"
   ]
  },
  {
   "cell_type": "code",
   "execution_count": null,
   "metadata": {
    "collapsed": false
   },
   "outputs": [],
   "source": [
    "df.head()"
   ]
  },
  {
   "cell_type": "code",
   "execution_count": null,
   "metadata": {
    "collapsed": true
   },
   "outputs": [],
   "source": [
    "df['city'] = df.market.str.split('(').str[0]"
   ]
  },
  {
   "cell_type": "code",
   "execution_count": null,
   "metadata": {
    "collapsed": false
   },
   "outputs": [],
   "source": [
    "df.head()"
   ]
  },
  {
   "cell_type": "code",
   "execution_count": null,
   "metadata": {
    "collapsed": false
   },
   "outputs": [],
   "source": [
    "df.state.unique()"
   ]
  },
  {
   "cell_type": "code",
   "execution_count": null,
   "metadata": {
    "collapsed": false
   },
   "outputs": [],
   "source": [
    "df['state'] = df.state.str.split(')').str[0]"
   ]
  },
  {
   "cell_type": "code",
   "execution_count": null,
   "metadata": {
    "collapsed": false
   },
   "outputs": [],
   "source": [
    "df.state.unique()"
   ]
  },
  {
   "cell_type": "code",
   "execution_count": null,
   "metadata": {
    "collapsed": false
   },
   "outputs": [],
   "source": [
    "dfState = df.groupby(['state', 'market'], as_index=False).count()"
   ]
  },
  {
   "cell_type": "code",
   "execution_count": null,
   "metadata": {
    "collapsed": false
   },
   "outputs": [],
   "source": [
    "dfState.market.unique()"
   ]
  },
  {
   "cell_type": "code",
   "execution_count": null,
   "metadata": {
    "collapsed": false
   },
   "outputs": [],
   "source": [
    "state_now = ['PB', 'UP', 'GUJ', 'MS', 'RAJ', 'BANGALORE', 'KNT', 'BHOPAL', 'OR',\n",
    "       'BHR', 'WB', 'CHANDIGARH', 'CHENNAI', 'bellary', 'podisu', 'UTT',\n",
    "       'DELHI', 'MP', 'TN', 'Podis', 'GUWAHATI', 'HYDERABAD', 'JAIPUR',\n",
    "       'WHITE', 'JAMMU', 'HR', 'KOLKATA', 'AP', 'LUCKNOW', 'MUMBAI',\n",
    "       'NAGPUR', 'KER', 'PATNA', 'CHGARH', 'JH', 'SHIMLA', 'SRINAGAR',\n",
    "       'TRIVENDRUM']"
   ]
  },
  {
   "cell_type": "code",
   "execution_count": null,
   "metadata": {
    "collapsed": false
   },
   "outputs": [],
   "source": [
    "state_new =['PB', 'UP', 'GUJ', 'MS', 'RAJ', 'KNT', 'KNT', 'MP', 'OR',\n",
    "       'BHR', 'WB', 'CH', 'TN', 'KNT', 'TN', 'UP',\n",
    "       'DEL', 'MP', 'TN', 'TN', 'ASM', 'AP', 'RAJ',\n",
    "       'MS', 'JK', 'HR', 'WB', 'AP', 'UP', 'MS',\n",
    "       'MS', 'KER', 'BHR', 'HR', 'JH', 'HP', 'JK',\n",
    "       'KEL']"
   ]
  },
  {
   "cell_type": "code",
   "execution_count": null,
   "metadata": {
    "collapsed": false
   },
   "outputs": [],
   "source": [
    "df.state = df.state.replace(state_now, state_new)"
   ]
  },
  {
   "cell_type": "code",
   "execution_count": null,
   "metadata": {
    "collapsed": false
   },
   "outputs": [],
   "source": [
    "df.state.unique()"
   ]
  },
  {
   "cell_type": "markdown",
   "metadata": {},
   "source": [
    "## Getting the Dates"
   ]
  },
  {
   "cell_type": "code",
   "execution_count": null,
   "metadata": {
    "collapsed": false
   },
   "outputs": [],
   "source": [
    "df.index"
   ]
  },
  {
   "cell_type": "code",
   "execution_count": null,
   "metadata": {
    "collapsed": false
   },
   "outputs": [],
   "source": [
    "pd.to_datetime('January 2012')"
   ]
  },
  {
   "cell_type": "code",
   "execution_count": null,
   "metadata": {
    "collapsed": false
   },
   "outputs": [],
   "source": [
    "df['date'] = df['month'] + '-' + df['year'].map(str)"
   ]
  },
  {
   "cell_type": "code",
   "execution_count": null,
   "metadata": {
    "collapsed": false,
    "scrolled": true
   },
   "outputs": [],
   "source": [
    "df.head()"
   ]
  },
  {
   "cell_type": "code",
   "execution_count": null,
   "metadata": {
    "collapsed": false
   },
   "outputs": [],
   "source": [
    "index = pd.to_datetime(df.date)"
   ]
  },
  {
   "cell_type": "code",
   "execution_count": null,
   "metadata": {
    "collapsed": false
   },
   "outputs": [],
   "source": [
    "df.index = pd.PeriodIndex(df.date, freq='M')"
   ]
  },
  {
   "cell_type": "code",
   "execution_count": null,
   "metadata": {
    "collapsed": false
   },
   "outputs": [],
   "source": [
    "df.columns"
   ]
  },
  {
   "cell_type": "code",
   "execution_count": null,
   "metadata": {
    "collapsed": false
   },
   "outputs": [],
   "source": [
    "df.index"
   ]
  },
  {
   "cell_type": "code",
   "execution_count": null,
   "metadata": {
    "collapsed": false
   },
   "outputs": [],
   "source": [
    "df.head()"
   ]
  },
  {
   "cell_type": "code",
   "execution_count": null,
   "metadata": {
    "collapsed": true
   },
   "outputs": [],
   "source": [
    "df.to_csv('MonthWiseMarketArrivals_Clean.csv', index = False)"
   ]
  }
 ],
 "metadata": {
  "kernelspec": {
   "display_name": "R",
   "language": "R",
   "name": "ir"
  },
  "language_info": {
   "codemirror_mode": "r",
   "file_extension": ".r",
   "mimetype": "text/x-r-source",
   "name": "R",
   "pygments_lexer": "r",
   "version": "3.2.2"
  }
 },
 "nbformat": 4,
 "nbformat_minor": 0
}
