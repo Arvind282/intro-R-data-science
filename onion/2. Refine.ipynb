{
 "cells": [
  {
   "cell_type": "markdown",
   "metadata": {},
   "source": [
    "# 2. Refine the Data\n",
    " \n",
    "> \"Data is messy\"\n",
    "\n",
    "We will be performing the following operation on our Onion price to refine it\n",
    "- **Remove** e.g. remove redundant data from the data frame\n",
    "- **Derive** e.g. State and City from the market field\n",
    "- **Parse** e.g. extract date from year and month column\n",
    "\n",
    "Other stuff you may need to do to refine are...\n",
    "- **Missing** e.g. Check for missing or incomplete data\n",
    "- **Quality** e.g. Check for duplicates, accuracy, unusual data\n",
    "- **Convert** e.g. free text to coded value\n",
    "- **Calculate** e.g. percentages, proportion\n",
    "- **Merge** e.g. first and surname for full name\n",
    "- **Aggregate** e.g. rollup by year, cluster by area\n",
    "- **Filter** e.g. exclude based on location\n",
    "- **Sample** e.g. extract a representative data\n",
    "- **Summary** e.g. show summary stats like mean"
   ]
  },
  {
   "cell_type": "code",
   "execution_count": 231,
   "metadata": {
    "collapsed": false
   },
   "outputs": [],
   "source": [
    "library(plyr)\n",
    "library(dplyr)"
   ]
  },
  {
   "cell_type": "code",
   "execution_count": 232,
   "metadata": {
    "collapsed": false
   },
   "outputs": [],
   "source": [
    "df <- read.csv('MonthWiseMarketArrivals.csv')"
   ]
  },
  {
   "cell_type": "code",
   "execution_count": 233,
   "metadata": {
    "collapsed": false
   },
   "outputs": [
    {
     "data": {
      "text/html": [
       "<ol class=list-inline>\n",
       "\t<li>10228</li>\n",
       "\t<li>7</li>\n",
       "</ol>\n"
      ],
      "text/latex": [
       "\\begin{enumerate*}\n",
       "\\item 10228\n",
       "\\item 7\n",
       "\\end{enumerate*}\n"
      ],
      "text/markdown": [
       "1. 10228\n",
       "2. 7\n",
       "\n",
       "\n"
      ],
      "text/plain": [
       "[1] 10228     7"
      ]
     },
     "execution_count": 233,
     "metadata": {},
     "output_type": "execute_result"
    }
   ],
   "source": [
    "dim(df)"
   ]
  },
  {
   "cell_type": "code",
   "execution_count": 234,
   "metadata": {
    "collapsed": false
   },
   "outputs": [
    {
     "data": {
      "text/html": [
       "<table>\n",
       "<thead><tr><th></th><th scope=col>market</th><th scope=col>month</th><th scope=col>year</th><th scope=col>quantity</th><th scope=col>priceMin</th><th scope=col>priceMax</th><th scope=col>priceMod</th></tr></thead>\n",
       "<tbody>\n",
       "\t<tr><th scope=row>1</th><td>ABOHAR(PB)</td><td>January</td><td>2005</td><td>2350</td><td>404</td><td>493</td><td>446</td></tr>\n",
       "\t<tr><th scope=row>2</th><td>ABOHAR(PB)</td><td>January</td><td>2006</td><td>900</td><td>487</td><td>638</td><td>563</td></tr>\n",
       "\t<tr><th scope=row>3</th><td>ABOHAR(PB)</td><td>January</td><td>2010</td><td>790</td><td>1283</td><td>1592</td><td>1460</td></tr>\n",
       "\t<tr><th scope=row>4</th><td>ABOHAR(PB)</td><td>January</td><td>2011</td><td>245</td><td>3067</td><td>3750</td><td>3433</td></tr>\n",
       "\t<tr><th scope=row>5</th><td>ABOHAR(PB)</td><td>January</td><td>2012</td><td>1035</td><td>523</td><td>686</td><td>605</td></tr>\n",
       "\t<tr><th scope=row>6</th><td>ABOHAR(PB)</td><td>January</td><td>2013</td><td>675</td><td>1327</td><td>1900</td><td>1605</td></tr>\n",
       "</tbody>\n",
       "</table>\n"
      ],
      "text/latex": [
       "\\begin{tabular}{r|lllllll}\n",
       "  & market & month & year & quantity & priceMin & priceMax & priceMod\\\\\n",
       "\\hline\n",
       "\t1 & ABOHAR(PB) & January & 2005 & 2350 & 404 & 493 & 446\\\\\n",
       "\t2 & ABOHAR(PB) & January & 2006 & 900 & 487 & 638 & 563\\\\\n",
       "\t3 & ABOHAR(PB) & January & 2010 & 790 & 1283 & 1592 & 1460\\\\\n",
       "\t4 & ABOHAR(PB) & January & 2011 & 245 & 3067 & 3750 & 3433\\\\\n",
       "\t5 & ABOHAR(PB) & January & 2012 & 1035 & 523 & 686 & 605\\\\\n",
       "\t6 & ABOHAR(PB) & January & 2013 & 675 & 1327 & 1900 & 1605\\\\\n",
       "\\end{tabular}\n"
      ],
      "text/plain": [
       "      market   month year quantity priceMin priceMax priceMod\n",
       "1 ABOHAR(PB) January 2005     2350      404      493      446\n",
       "2 ABOHAR(PB) January 2006      900      487      638      563\n",
       "3 ABOHAR(PB) January 2010      790     1283     1592     1460\n",
       "4 ABOHAR(PB) January 2011      245     3067     3750     3433\n",
       "5 ABOHAR(PB) January 2012     1035      523      686      605\n",
       "6 ABOHAR(PB) January 2013      675     1327     1900     1605"
      ]
     },
     "execution_count": 234,
     "metadata": {},
     "output_type": "execute_result"
    }
   ],
   "source": [
    "head(df)"
   ]
  },
  {
   "cell_type": "code",
   "execution_count": 235,
   "metadata": {
    "collapsed": false
   },
   "outputs": [
    {
     "data": {
      "text/html": [
       "'data.frame'"
      ],
      "text/latex": [
       "'data.frame'"
      ],
      "text/markdown": [
       "'data.frame'"
      ],
      "text/plain": [
       "[1] \"data.frame\""
      ]
     },
     "execution_count": 235,
     "metadata": {},
     "output_type": "execute_result"
    }
   ],
   "source": [
    "class(df)"
   ]
  },
  {
   "cell_type": "code",
   "execution_count": 236,
   "metadata": {
    "collapsed": false
   },
   "outputs": [
    {
     "data": {
      "text/html": [
       "<dl class=dl-horizontal>\n",
       "\t<dt>market</dt>\n",
       "\t\t<dd>'factor'</dd>\n",
       "\t<dt>month</dt>\n",
       "\t\t<dd>'factor'</dd>\n",
       "\t<dt>year</dt>\n",
       "\t\t<dd>'factor'</dd>\n",
       "\t<dt>quantity</dt>\n",
       "\t\t<dd>'integer'</dd>\n",
       "\t<dt>priceMin</dt>\n",
       "\t\t<dd>'factor'</dd>\n",
       "\t<dt>priceMax</dt>\n",
       "\t\t<dd>'factor'</dd>\n",
       "\t<dt>priceMod</dt>\n",
       "\t\t<dd>'factor'</dd>\n",
       "</dl>\n"
      ],
      "text/latex": [
       "\\begin{description*}\n",
       "\\item[market] 'factor'\n",
       "\\item[month] 'factor'\n",
       "\\item[year] 'factor'\n",
       "\\item[quantity] 'integer'\n",
       "\\item[priceMin] 'factor'\n",
       "\\item[priceMax] 'factor'\n",
       "\\item[priceMod] 'factor'\n",
       "\\end{description*}\n"
      ],
      "text/markdown": [
       "market\n",
       ":   'factor'month\n",
       ":   'factor'year\n",
       ":   'factor'quantity\n",
       ":   'integer'priceMin\n",
       ":   'factor'priceMax\n",
       ":   'factor'priceMod\n",
       ":   'factor'\n",
       "\n"
      ],
      "text/plain": [
       "   market     month      year  quantity  priceMin  priceMax  priceMod \n",
       " \"factor\"  \"factor\"  \"factor\" \"integer\"  \"factor\"  \"factor\"  \"factor\" "
      ]
     },
     "execution_count": 236,
     "metadata": {},
     "output_type": "execute_result"
    }
   ],
   "source": [
    "sapply(df , class)"
   ]
  },
  {
   "cell_type": "code",
   "execution_count": 237,
   "metadata": {
    "collapsed": false
   },
   "outputs": [
    {
     "data": {
      "text/html": [
       "<table>\n",
       "<thead><tr><th></th><th scope=col>market</th><th scope=col>month</th><th scope=col>year</th><th scope=col>quantity</th><th scope=col>priceMin</th><th scope=col>priceMax</th><th scope=col>priceMod</th></tr></thead>\n",
       "<tbody>\n",
       "\t<tr><th scope=row>10228</th><td></td><td></td><td>Total</td><td>783438108</td><td>647(Avg)</td><td>1213(Avg)</td><td>984(Avg)</td></tr>\n",
       "</tbody>\n",
       "</table>\n"
      ],
      "text/latex": [
       "\\begin{tabular}{r|lllllll}\n",
       "  & market & month & year & quantity & priceMin & priceMax & priceMod\\\\\n",
       "\\hline\n",
       "\t10228 &  &  & Total & 783438108 & 647(Avg) & 1213(Avg) & 984(Avg)\\\\\n",
       "\\end{tabular}\n"
      ],
      "text/plain": [
       "      market month  year  quantity priceMin  priceMax priceMod\n",
       "10228              Total 783438108 647(Avg) 1213(Avg) 984(Avg)"
      ]
     },
     "execution_count": 237,
     "metadata": {},
     "output_type": "execute_result"
    }
   ],
   "source": [
    "tail(df,1)"
   ]
  },
  {
   "cell_type": "code",
   "execution_count": 238,
   "metadata": {
    "collapsed": false
   },
   "outputs": [],
   "source": [
    "last_row <- as.numeric(rownames(tail(inp_file, 1)))"
   ]
  },
  {
   "cell_type": "code",
   "execution_count": 239,
   "metadata": {
    "collapsed": false
   },
   "outputs": [],
   "source": [
    "df <- inp_file[-c(last_row),]"
   ]
  },
  {
   "cell_type": "code",
   "execution_count": 240,
   "metadata": {
    "collapsed": false
   },
   "outputs": [
    {
     "data": {
      "text/html": [
       "<ol class=list-inline>\n",
       "\t<li>10227</li>\n",
       "\t<li>7</li>\n",
       "</ol>\n"
      ],
      "text/latex": [
       "\\begin{enumerate*}\n",
       "\\item 10227\n",
       "\\item 7\n",
       "\\end{enumerate*}\n"
      ],
      "text/markdown": [
       "1. 10227\n",
       "2. 7\n",
       "\n",
       "\n"
      ],
      "text/plain": [
       "[1] 10227     7"
      ]
     },
     "execution_count": 240,
     "metadata": {},
     "output_type": "execute_result"
    }
   ],
   "source": [
    "dim(df)"
   ]
  },
  {
   "cell_type": "code",
   "execution_count": 241,
   "metadata": {
    "collapsed": false
   },
   "outputs": [
    {
     "data": {
      "text/html": [
       "<table>\n",
       "<thead><tr><th></th><th scope=col>priceMin</th><th scope=col>priceMax</th><th scope=col>priceMod</th></tr></thead>\n",
       "<tbody>\n",
       "\t<tr><th scope=row>1</th><td>404</td><td>493</td><td>446</td></tr>\n",
       "\t<tr><th scope=row>2</th><td>487</td><td>638</td><td>563</td></tr>\n",
       "\t<tr><th scope=row>3</th><td>1283</td><td>1592</td><td>1460</td></tr>\n",
       "\t<tr><th scope=row>4</th><td>3067</td><td>3750</td><td>3433</td></tr>\n",
       "\t<tr><th scope=row>5</th><td>523</td><td>686</td><td>605</td></tr>\n",
       "\t<tr><th scope=row>6</th><td>1327</td><td>1900</td><td>1605</td></tr>\n",
       "</tbody>\n",
       "</table>\n"
      ],
      "text/latex": [
       "\\begin{tabular}{r|lll}\n",
       "  & priceMin & priceMax & priceMod\\\\\n",
       "\\hline\n",
       "\t1 & 404 & 493 & 446\\\\\n",
       "\t2 & 487 & 638 & 563\\\\\n",
       "\t3 & 1283 & 1592 & 1460\\\\\n",
       "\t4 & 3067 & 3750 & 3433\\\\\n",
       "\t5 & 523 & 686 & 605\\\\\n",
       "\t6 & 1327 & 1900 & 1605\\\\\n",
       "\\end{tabular}\n"
      ],
      "text/plain": [
       "  priceMin priceMax priceMod\n",
       "1      404      493      446\n",
       "2      487      638      563\n",
       "3     1283     1592     1460\n",
       "4     3067     3750     3433\n",
       "5      523      686      605\n",
       "6     1327     1900     1605"
      ]
     },
     "execution_count": 241,
     "metadata": {},
     "output_type": "execute_result"
    }
   ],
   "source": [
    "# selecting particular columns from the df\n",
    "head(df %>% \n",
    "select(priceMin,priceMax,priceMod))"
   ]
  },
  {
   "cell_type": "code",
   "execution_count": 242,
   "metadata": {
    "collapsed": false
   },
   "outputs": [
    {
     "data": {
      "text/html": [
       "<dl class=dl-horizontal>\n",
       "\t<dt>year</dt>\n",
       "\t\t<dd>'factor'</dd>\n",
       "\t<dt>quantity</dt>\n",
       "\t\t<dd>'integer'</dd>\n",
       "\t<dt>priceMin</dt>\n",
       "\t\t<dd>'factor'</dd>\n",
       "\t<dt>priceMax</dt>\n",
       "\t\t<dd>'factor'</dd>\n",
       "\t<dt>priceMod</dt>\n",
       "\t\t<dd>'factor'</dd>\n",
       "</dl>\n"
      ],
      "text/latex": [
       "\\begin{description*}\n",
       "\\item[year] 'factor'\n",
       "\\item[quantity] 'integer'\n",
       "\\item[priceMin] 'factor'\n",
       "\\item[priceMax] 'factor'\n",
       "\\item[priceMod] 'factor'\n",
       "\\end{description*}\n"
      ],
      "text/markdown": [
       "year\n",
       ":   'factor'quantity\n",
       ":   'integer'priceMin\n",
       ":   'factor'priceMax\n",
       ":   'factor'priceMod\n",
       ":   'factor'\n",
       "\n"
      ],
      "text/plain": [
       "     year  quantity  priceMin  priceMax  priceMod \n",
       " \"factor\" \"integer\"  \"factor\"  \"factor\"  \"factor\" "
      ]
     },
     "execution_count": 242,
     "metadata": {},
     "output_type": "execute_result"
    }
   ],
   "source": [
    "sapply(head(df %>% \n",
    "select(year,quantity,priceMin,priceMax,priceMod)),class)"
   ]
  },
  {
   "cell_type": "code",
   "execution_count": 243,
   "metadata": {
    "collapsed": true
   },
   "outputs": [],
   "source": [
    "#we see that all of them are factors, we know that they are integers, so lets convert"
   ]
  },
  {
   "cell_type": "code",
   "execution_count": 244,
   "metadata": {
    "collapsed": true
   },
   "outputs": [],
   "source": [
    "df$quantity <- as.numeric(as.character(df$quantity))\n",
    "df$year     <- as.numeric(as.character(df$year))\n",
    "df$priceMin <- as.numeric(as.character(df$priceMin))\n",
    "df$priceMax <- as.numeric(as.character(df$priceMax))\n",
    "df$priceMod <- as.numeric(as.character(df$priceMod))"
   ]
  },
  {
   "cell_type": "code",
   "execution_count": 245,
   "metadata": {
    "collapsed": false
   },
   "outputs": [
    {
     "data": {
      "text/html": [
       "<table>\n",
       "<thead><tr><th></th><th scope=col>market</th><th scope=col>month</th><th scope=col>year</th><th scope=col>quantity</th><th scope=col>priceMin</th><th scope=col>priceMax</th><th scope=col>priceMod</th></tr></thead>\n",
       "<tbody>\n",
       "\t<tr><th scope=row>1</th><td>ABOHAR(PB)</td><td>January</td><td>2005</td><td>2350</td><td>404</td><td>493</td><td>446</td></tr>\n",
       "\t<tr><th scope=row>2</th><td>ABOHAR(PB)</td><td>January</td><td>2006</td><td>900</td><td>487</td><td>638</td><td>563</td></tr>\n",
       "\t<tr><th scope=row>3</th><td>ABOHAR(PB)</td><td>January</td><td>2010</td><td>790</td><td>1283</td><td>1592</td><td>1460</td></tr>\n",
       "\t<tr><th scope=row>4</th><td>ABOHAR(PB)</td><td>January</td><td>2011</td><td>245</td><td>3067</td><td>3750</td><td>3433</td></tr>\n",
       "\t<tr><th scope=row>5</th><td>ABOHAR(PB)</td><td>January</td><td>2012</td><td>1035</td><td>523</td><td>686</td><td>605</td></tr>\n",
       "\t<tr><th scope=row>6</th><td>ABOHAR(PB)</td><td>January</td><td>2013</td><td>675</td><td>1327</td><td>1900</td><td>1605</td></tr>\n",
       "</tbody>\n",
       "</table>\n"
      ],
      "text/latex": [
       "\\begin{tabular}{r|lllllll}\n",
       "  & market & month & year & quantity & priceMin & priceMax & priceMod\\\\\n",
       "\\hline\n",
       "\t1 & ABOHAR(PB) & January & 2005 & 2350 & 404 & 493 & 446\\\\\n",
       "\t2 & ABOHAR(PB) & January & 2006 & 900 & 487 & 638 & 563\\\\\n",
       "\t3 & ABOHAR(PB) & January & 2010 & 790 & 1283 & 1592 & 1460\\\\\n",
       "\t4 & ABOHAR(PB) & January & 2011 & 245 & 3067 & 3750 & 3433\\\\\n",
       "\t5 & ABOHAR(PB) & January & 2012 & 1035 & 523 & 686 & 605\\\\\n",
       "\t6 & ABOHAR(PB) & January & 2013 & 675 & 1327 & 1900 & 1605\\\\\n",
       "\\end{tabular}\n"
      ],
      "text/plain": [
       "      market   month year quantity priceMin priceMax priceMod\n",
       "1 ABOHAR(PB) January 2005     2350      404      493      446\n",
       "2 ABOHAR(PB) January 2006      900      487      638      563\n",
       "3 ABOHAR(PB) January 2010      790     1283     1592     1460\n",
       "4 ABOHAR(PB) January 2011      245     3067     3750     3433\n",
       "5 ABOHAR(PB) January 2012     1035      523      686      605\n",
       "6 ABOHAR(PB) January 2013      675     1327     1900     1605"
      ]
     },
     "execution_count": 245,
     "metadata": {},
     "output_type": "execute_result"
    }
   ],
   "source": [
    "head(df)"
   ]
  },
  {
   "cell_type": "code",
   "execution_count": 246,
   "metadata": {
    "collapsed": false
   },
   "outputs": [
    {
     "data": {
      "text/html": [
       "<dl class=dl-horizontal>\n",
       "\t<dt>year</dt>\n",
       "\t\t<dd>'numeric'</dd>\n",
       "\t<dt>quantity</dt>\n",
       "\t\t<dd>'numeric'</dd>\n",
       "\t<dt>priceMin</dt>\n",
       "\t\t<dd>'numeric'</dd>\n",
       "\t<dt>priceMax</dt>\n",
       "\t\t<dd>'numeric'</dd>\n",
       "\t<dt>priceMod</dt>\n",
       "\t\t<dd>'numeric'</dd>\n",
       "</dl>\n"
      ],
      "text/latex": [
       "\\begin{description*}\n",
       "\\item[year] 'numeric'\n",
       "\\item[quantity] 'numeric'\n",
       "\\item[priceMin] 'numeric'\n",
       "\\item[priceMax] 'numeric'\n",
       "\\item[priceMod] 'numeric'\n",
       "\\end{description*}\n"
      ],
      "text/markdown": [
       "year\n",
       ":   'numeric'quantity\n",
       ":   'numeric'priceMin\n",
       ":   'numeric'priceMax\n",
       ":   'numeric'priceMod\n",
       ":   'numeric'\n",
       "\n"
      ],
      "text/plain": [
       "     year  quantity  priceMin  priceMax  priceMod \n",
       "\"numeric\" \"numeric\" \"numeric\" \"numeric\" \"numeric\" "
      ]
     },
     "execution_count": 246,
     "metadata": {},
     "output_type": "execute_result"
    }
   ],
   "source": [
    "sapply(head(df %>% select(year,quantity,priceMin,priceMax,priceMod)),class)"
   ]
  },
  {
   "cell_type": "code",
   "execution_count": 247,
   "metadata": {
    "collapsed": false
   },
   "outputs": [
    {
     "data": {
      "text/html": [
       "<dl class=dl-horizontal>\n",
       "\t<dt>market</dt>\n",
       "\t\t<dd>'factor'</dd>\n",
       "\t<dt>month</dt>\n",
       "\t\t<dd>'factor'</dd>\n",
       "\t<dt>year</dt>\n",
       "\t\t<dd>'numeric'</dd>\n",
       "\t<dt>quantity</dt>\n",
       "\t\t<dd>'numeric'</dd>\n",
       "\t<dt>priceMin</dt>\n",
       "\t\t<dd>'numeric'</dd>\n",
       "\t<dt>priceMax</dt>\n",
       "\t\t<dd>'numeric'</dd>\n",
       "\t<dt>priceMod</dt>\n",
       "\t\t<dd>'numeric'</dd>\n",
       "</dl>\n"
      ],
      "text/latex": [
       "\\begin{description*}\n",
       "\\item[market] 'factor'\n",
       "\\item[month] 'factor'\n",
       "\\item[year] 'numeric'\n",
       "\\item[quantity] 'numeric'\n",
       "\\item[priceMin] 'numeric'\n",
       "\\item[priceMax] 'numeric'\n",
       "\\item[priceMod] 'numeric'\n",
       "\\end{description*}\n"
      ],
      "text/markdown": [
       "market\n",
       ":   'factor'month\n",
       ":   'factor'year\n",
       ":   'numeric'quantity\n",
       ":   'numeric'priceMin\n",
       ":   'numeric'priceMax\n",
       ":   'numeric'priceMod\n",
       ":   'numeric'\n",
       "\n"
      ],
      "text/plain": [
       "   market     month      year  quantity  priceMin  priceMax  priceMod \n",
       " \"factor\"  \"factor\" \"numeric\" \"numeric\" \"numeric\" \"numeric\" \"numeric\" "
      ]
     },
     "execution_count": 247,
     "metadata": {},
     "output_type": "execute_result"
    }
   ],
   "source": [
    "sapply(df,class)"
   ]
  },
  {
   "cell_type": "code",
   "execution_count": 248,
   "metadata": {
    "collapsed": false
   },
   "outputs": [
    {
     "ename": "ERROR",
     "evalue": "Error: length(rows) == 1 is not TRUE\n",
     "output_type": "error",
     "traceback": [
      "Error: length(rows) == 1 is not TRUE\n"
     ]
    }
   ],
   "source": [
    "summarise(df)"
   ]
  },
  {
   "cell_type": "code",
   "execution_count": 249,
   "metadata": {
    "collapsed": false
   },
   "outputs": [],
   "source": [
    "library(psych)"
   ]
  },
  {
   "cell_type": "code",
   "execution_count": 250,
   "metadata": {
    "collapsed": false
   },
   "outputs": [
    {
     "data": {
      "text/html": [
       "<table>\n",
       "<thead><tr><th></th><th scope=col>mean</th><th scope=col>sd</th><th scope=col>median</th><th scope=col>min</th><th scope=col>max</th></tr></thead>\n",
       "<tbody>\n",
       "\t<tr><th scope=row>quantity</th><td>76604.88</td><td>124408.7</td><td>27460</td><td>20</td><td>1639032</td></tr>\n",
       "\t<tr><th scope=row>priceMin</th><td>646.9444</td><td>673.1219</td><td>440</td><td>16</td><td>6000</td></tr>\n",
       "\t<tr><th scope=row>priceMax</th><td>1212.761</td><td>979.6589</td><td>923</td><td>145</td><td>8192</td></tr>\n",
       "\t<tr><th scope=row>priceMod</th><td>984.2843</td><td>818.4715</td><td>747</td><td>80</td><td>6400</td></tr>\n",
       "</tbody>\n",
       "</table>\n"
      ],
      "text/latex": [
       "\\begin{tabular}{r|lllll}\n",
       "  & mean & sd & median & min & max\\\\\n",
       "\\hline\n",
       "\tquantity & 76604.88 & 124408.7 & 27460 & 20 & 1639032\\\\\n",
       "\tpriceMin & 646.9444 & 673.1219 & 440 & 16 & 6000\\\\\n",
       "\tpriceMax & 1212.761 & 979.6589 & 923 & 145 & 8192\\\\\n",
       "\tpriceMod & 984.2843 & 818.4715 & 747 & 80 & 6400\\\\\n",
       "\\end{tabular}\n"
      ],
      "text/plain": [
       "               mean          sd median min     max\n",
       "quantity 76604.8800 124408.6988  27460  20 1639032\n",
       "priceMin   646.9444    673.1219    440  16    6000\n",
       "priceMax  1212.7607    979.6589    923 145    8192\n",
       "priceMod   984.2843    818.4715    747  80    6400"
      ]
     },
     "execution_count": 250,
     "metadata": {},
     "output_type": "execute_result"
    }
   ],
   "source": [
    "do.call(data.frame,list(\n",
    "                        mean=apply(select(df,quantity,priceMin,priceMax,priceMod),2,mean),\n",
    "                        sd=apply(select(df,quantity,priceMin,priceMax,priceMod),2,sd),\n",
    "                        median=apply(select(df,quantity,priceMin,priceMax,priceMod),2,median),\n",
    "                        min=apply(select(df,quantity,priceMin,priceMax,priceMod),2,min),\n",
    "                        max=apply(select(df,quantity,priceMin,priceMax,priceMod),2,max)\n",
    "                        )\n",
    "        )"
   ]
  },
  {
   "cell_type": "markdown",
   "metadata": {},
   "source": [
    "## Extracting the states from market names"
   ]
  },
  {
   "cell_type": "code",
   "execution_count": 251,
   "metadata": {
    "collapsed": false
   },
   "outputs": [
    {
     "data": {
      "text/html": [
       "<table>\n",
       "<thead><tr><th></th><th scope=col>market</th><th scope=col>freq</th></tr></thead>\n",
       "<tbody>\n",
       "\t<tr><th scope=row>1</th><td>ABOHAR(PB)</td><td>90</td></tr>\n",
       "\t<tr><th scope=row>2</th><td>AGRA(UP)</td><td>133</td></tr>\n",
       "\t<tr><th scope=row>3</th><td>AHMEDABAD(GUJ)</td><td>125</td></tr>\n",
       "\t<tr><th scope=row>4</th><td>AHMEDNAGAR(MS)</td><td>144</td></tr>\n",
       "\t<tr><th scope=row>5</th><td>AJMER(RAJ)</td><td>15</td></tr>\n",
       "\t<tr><th scope=row>6</th><td>ALIGARH(UP)</td><td>16</td></tr>\n",
       "</tbody>\n",
       "</table>\n"
      ],
      "text/latex": [
       "\\begin{tabular}{r|ll}\n",
       "  & market & freq\\\\\n",
       "\\hline\n",
       "\t1 & ABOHAR(PB) & 90\\\\\n",
       "\t2 & AGRA(UP) & 133\\\\\n",
       "\t3 & AHMEDABAD(GUJ) & 125\\\\\n",
       "\t4 & AHMEDNAGAR(MS) & 144\\\\\n",
       "\t5 & AJMER(RAJ) & 15\\\\\n",
       "\t6 & ALIGARH(UP) & 16\\\\\n",
       "\\end{tabular}\n"
      ],
      "text/plain": [
       "          market freq\n",
       "1     ABOHAR(PB)   90\n",
       "2       AGRA(UP)  133\n",
       "3 AHMEDABAD(GUJ)  125\n",
       "4 AHMEDNAGAR(MS)  144\n",
       "5     AJMER(RAJ)   15\n",
       "6    ALIGARH(UP)   16"
      ]
     },
     "execution_count": 251,
     "metadata": {},
     "output_type": "execute_result"
    }
   ],
   "source": [
    "head(count(df,'market'))"
   ]
  },
  {
   "cell_type": "code",
   "execution_count": 216,
   "metadata": {
    "collapsed": false
   },
   "outputs": [
    {
     "data": {
      "text/html": [
       "ABOHAR(PB)"
      ],
      "text/latex": [
       "ABOHAR(PB)"
      ],
      "text/markdown": [
       "ABOHAR(PB)"
      ],
      "text/plain": [
       "[1] ABOHAR(PB)\n",
       "121 Levels:  ABOHAR(PB) AGRA(UP) AHMEDABAD(GUJ) AHMEDNAGAR(MS) ... YEOLA(MS)"
      ]
     },
     "execution_count": 216,
     "metadata": {},
     "output_type": "execute_result"
    },
    {
     "data": {
      "text/html": [
       "'PB)'"
      ],
      "text/latex": [
       "'PB)'"
      ],
      "text/markdown": [
       "'PB)'"
      ],
      "text/plain": [
       "[1] \"PB)\""
      ]
     },
     "execution_count": 216,
     "metadata": {},
     "output_type": "execute_result"
    }
   ],
   "source": [
    "# we see that city and state are combined, lets split them up\n",
    "df$market[1]\n",
    "strsplit(as.character(df$market[1]),'\\\\(')[[1]][2]"
   ]
  },
  {
   "cell_type": "code",
   "execution_count": 259,
   "metadata": {
    "collapsed": false
   },
   "outputs": [],
   "source": [
    "df <- mutate(df,state = strsplit(as.character(market),'\\\\(')[[1]][2],\n",
    "                city = strsplit(as.character(market),'\\\\(')[[1]][1])\n",
    "\n",
    "                          "
   ]
  },
  {
   "cell_type": "code",
   "execution_count": 260,
   "metadata": {
    "collapsed": false
   },
   "outputs": [
    {
     "data": {
      "text/html": [
       "<table>\n",
       "<thead><tr><th></th><th scope=col>market</th><th scope=col>month</th><th scope=col>year</th><th scope=col>quantity</th><th scope=col>priceMin</th><th scope=col>priceMax</th><th scope=col>priceMod</th><th scope=col>state</th><th scope=col>city</th></tr></thead>\n",
       "<tbody>\n",
       "\t<tr><th scope=row>1</th><td>ABOHAR(PB)</td><td>January</td><td>2005</td><td>2350</td><td>404</td><td>493</td><td>446</td><td>PB)</td><td>ABOHAR</td></tr>\n",
       "\t<tr><th scope=row>2</th><td>ABOHAR(PB)</td><td>January</td><td>2006</td><td>900</td><td>487</td><td>638</td><td>563</td><td>PB)</td><td>ABOHAR</td></tr>\n",
       "\t<tr><th scope=row>3</th><td>ABOHAR(PB)</td><td>January</td><td>2010</td><td>790</td><td>1283</td><td>1592</td><td>1460</td><td>PB)</td><td>ABOHAR</td></tr>\n",
       "\t<tr><th scope=row>4</th><td>ABOHAR(PB)</td><td>January</td><td>2011</td><td>245</td><td>3067</td><td>3750</td><td>3433</td><td>PB)</td><td>ABOHAR</td></tr>\n",
       "\t<tr><th scope=row>5</th><td>ABOHAR(PB)</td><td>January</td><td>2012</td><td>1035</td><td>523</td><td>686</td><td>605</td><td>PB)</td><td>ABOHAR</td></tr>\n",
       "\t<tr><th scope=row>6</th><td>ABOHAR(PB)</td><td>January</td><td>2013</td><td>675</td><td>1327</td><td>1900</td><td>1605</td><td>PB)</td><td>ABOHAR</td></tr>\n",
       "</tbody>\n",
       "</table>\n"
      ],
      "text/latex": [
       "\\begin{tabular}{r|lllllllll}\n",
       "  & market & month & year & quantity & priceMin & priceMax & priceMod & state & city\\\\\n",
       "\\hline\n",
       "\t1 & ABOHAR(PB) & January & 2005 & 2350 & 404 & 493 & 446 & PB) & ABOHAR\\\\\n",
       "\t2 & ABOHAR(PB) & January & 2006 & 900 & 487 & 638 & 563 & PB) & ABOHAR\\\\\n",
       "\t3 & ABOHAR(PB) & January & 2010 & 790 & 1283 & 1592 & 1460 & PB) & ABOHAR\\\\\n",
       "\t4 & ABOHAR(PB) & January & 2011 & 245 & 3067 & 3750 & 3433 & PB) & ABOHAR\\\\\n",
       "\t5 & ABOHAR(PB) & January & 2012 & 1035 & 523 & 686 & 605 & PB) & ABOHAR\\\\\n",
       "\t6 & ABOHAR(PB) & January & 2013 & 675 & 1327 & 1900 & 1605 & PB) & ABOHAR\\\\\n",
       "\\end{tabular}\n"
      ],
      "text/plain": [
       "      market   month year quantity priceMin priceMax priceMod state   city\n",
       "1 ABOHAR(PB) January 2005     2350      404      493      446   PB) ABOHAR\n",
       "2 ABOHAR(PB) January 2006      900      487      638      563   PB) ABOHAR\n",
       "3 ABOHAR(PB) January 2010      790     1283     1592     1460   PB) ABOHAR\n",
       "4 ABOHAR(PB) January 2011      245     3067     3750     3433   PB) ABOHAR\n",
       "5 ABOHAR(PB) January 2012     1035      523      686      605   PB) ABOHAR\n",
       "6 ABOHAR(PB) January 2013      675     1327     1900     1605   PB) ABOHAR"
      ]
     },
     "execution_count": 260,
     "metadata": {},
     "output_type": "execute_result"
    }
   ],
   "source": [
    "head(df)"
   ]
  },
  {
   "cell_type": "code",
   "execution_count": null,
   "metadata": {
    "collapsed": true
   },
   "outputs": [],
   "source": []
  }
 ],
 "metadata": {
  "kernelspec": {
   "display_name": "R",
   "language": "R",
   "name": "ir"
  },
  "language_info": {
   "codemirror_mode": "r",
   "file_extension": ".r",
   "mimetype": "text/x-r-source",
   "name": "R",
   "pygments_lexer": "r",
   "version": "3.2.2"
  }
 },
 "nbformat": 4,
 "nbformat_minor": 0
}
