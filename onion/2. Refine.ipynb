{
 "cells": [
  {
   "cell_type": "markdown",
   "metadata": {},
   "source": [
    "# 2. Refine the Data\n",
    " \n",
    "> \"Data is messy\"\n",
    "\n",
    "We will be performing the following operation on our Onion price to refine it\n",
    "- **Remove** e.g. remove redundant data from the data frame\n",
    "- **Derive** e.g. State and City from the market field\n",
    "- **Parse** e.g. extract date from year and month column\n",
    "\n",
    "Other stuff you may need to do to refine are...\n",
    "- **Missing** e.g. Check for missing or incomplete data\n",
    "- **Quality** e.g. Check for duplicates, accuracy, unusual data\n",
    "- **Convert** e.g. free text to coded value\n",
    "- **Calculate** e.g. percentages, proportion\n",
    "- **Merge** e.g. first and surname for full name\n",
    "- **Aggregate** e.g. rollup by year, cluster by area\n",
    "- **Filter** e.g. exclude based on location\n",
    "- **Sample** e.g. extract a representative data\n",
    "- **Summary** e.g. show summary stats like mean"
   ]
  },
  {
   "cell_type": "code",
   "execution_count": 210,
   "metadata": {
    "collapsed": false
   },
   "outputs": [],
   "source": [
    "library(plyr)\n",
    "library(dplyr)\n",
    "library(tidyr)"
   ]
  },
  {
   "cell_type": "code",
   "execution_count": 211,
   "metadata": {
    "collapsed": false
   },
   "outputs": [],
   "source": [
    "df <- read.csv('MonthWiseMarketArrivalsAll.csv', stringsAsFactor = FALSE)"
   ]
  },
  {
   "cell_type": "code",
   "execution_count": 212,
   "metadata": {
    "collapsed": false
   },
   "outputs": [
    {
     "name": "stdout",
     "output_type": "stream",
     "text": [
      "'data.frame':\t10321 obs. of  7 variables:\n",
      " $ Market              : chr  \"ABOHAR(PB)\" \"ABOHAR(PB)\" \"ABOHAR(PB)\" \"ABOHAR(PB)\" ...\n",
      " $ Month.Name          : chr  \"January\" \"January\" \"January\" \"January\" ...\n",
      " $ Year                : chr  \"2005\" \"2006\" \"2010\" \"2011\" ...\n",
      " $ Arrival..q.         : int  2350 900 790 245 1035 675 440 1305 1400 1800 ...\n",
      " $ Price.Minimum..Rs.q.: chr  \"404\" \"487\" \"1283\" \"3067\" ...\n",
      " $ Price.Maximum..Rs.q.: chr  \"493\" \"638\" \"1592\" \"3750\" ...\n",
      " $ Modal.Price..Rs.q.  : chr  \"446\" \"563\" \"1460\" \"3433\" ...\n"
     ]
    }
   ],
   "source": [
    "str(df)"
   ]
  },
  {
   "cell_type": "code",
   "execution_count": 213,
   "metadata": {
    "collapsed": false
   },
   "outputs": [
    {
     "data": {
      "text/html": [
       "<ol class=list-inline>\n",
       "\t<li>10321</li>\n",
       "\t<li>7</li>\n",
       "</ol>\n"
      ],
      "text/latex": [
       "\\begin{enumerate*}\n",
       "\\item 10321\n",
       "\\item 7\n",
       "\\end{enumerate*}\n"
      ],
      "text/markdown": [
       "1. 10321\n",
       "2. 7\n",
       "\n",
       "\n"
      ],
      "text/plain": [
       "[1] 10321     7"
      ]
     },
     "execution_count": 213,
     "metadata": {},
     "output_type": "execute_result"
    }
   ],
   "source": [
    "dim(df)"
   ]
  },
  {
   "cell_type": "code",
   "execution_count": 214,
   "metadata": {
    "collapsed": true
   },
   "outputs": [],
   "source": [
    "column_names <- c('market', 'month', 'year', 'quantity', 'priceMin', 'priceMax', 'priceMod')"
   ]
  },
  {
   "cell_type": "code",
   "execution_count": 215,
   "metadata": {
    "collapsed": true
   },
   "outputs": [],
   "source": [
    "colnames(df) <- column_names"
   ]
  },
  {
   "cell_type": "code",
   "execution_count": 216,
   "metadata": {
    "collapsed": false
   },
   "outputs": [
    {
     "data": {
      "text/html": [
       "<table>\n",
       "<thead><tr><th></th><th scope=col>market</th><th scope=col>month</th><th scope=col>year</th><th scope=col>quantity</th><th scope=col>priceMin</th><th scope=col>priceMax</th><th scope=col>priceMod</th></tr></thead>\n",
       "<tbody>\n",
       "\t<tr><th scope=row>1</th><td>ABOHAR(PB)</td><td>January</td><td>2005</td><td>2350</td><td>404</td><td>493</td><td>446</td></tr>\n",
       "\t<tr><th scope=row>2</th><td>ABOHAR(PB)</td><td>January</td><td>2006</td><td>900</td><td>487</td><td>638</td><td>563</td></tr>\n",
       "\t<tr><th scope=row>3</th><td>ABOHAR(PB)</td><td>January</td><td>2010</td><td>790</td><td>1283</td><td>1592</td><td>1460</td></tr>\n",
       "\t<tr><th scope=row>4</th><td>ABOHAR(PB)</td><td>January</td><td>2011</td><td>245</td><td>3067</td><td>3750</td><td>3433</td></tr>\n",
       "\t<tr><th scope=row>5</th><td>ABOHAR(PB)</td><td>January</td><td>2012</td><td>1035</td><td>523</td><td>686</td><td>605</td></tr>\n",
       "\t<tr><th scope=row>6</th><td>ABOHAR(PB)</td><td>January</td><td>2013</td><td>675</td><td>1327</td><td>1900</td><td>1605</td></tr>\n",
       "</tbody>\n",
       "</table>\n"
      ],
      "text/latex": [
       "\\begin{tabular}{r|lllllll}\n",
       "  & market & month & year & quantity & priceMin & priceMax & priceMod\\\\\n",
       "\\hline\n",
       "\t1 & ABOHAR(PB) & January & 2005 & 2350 & 404 & 493 & 446\\\\\n",
       "\t2 & ABOHAR(PB) & January & 2006 & 900 & 487 & 638 & 563\\\\\n",
       "\t3 & ABOHAR(PB) & January & 2010 & 790 & 1283 & 1592 & 1460\\\\\n",
       "\t4 & ABOHAR(PB) & January & 2011 & 245 & 3067 & 3750 & 3433\\\\\n",
       "\t5 & ABOHAR(PB) & January & 2012 & 1035 & 523 & 686 & 605\\\\\n",
       "\t6 & ABOHAR(PB) & January & 2013 & 675 & 1327 & 1900 & 1605\\\\\n",
       "\\end{tabular}\n"
      ],
      "text/plain": [
       "      market   month year quantity priceMin priceMax priceMod\n",
       "1 ABOHAR(PB) January 2005     2350      404      493      446\n",
       "2 ABOHAR(PB) January 2006      900      487      638      563\n",
       "3 ABOHAR(PB) January 2010      790     1283     1592     1460\n",
       "4 ABOHAR(PB) January 2011      245     3067     3750     3433\n",
       "5 ABOHAR(PB) January 2012     1035      523      686      605\n",
       "6 ABOHAR(PB) January 2013      675     1327     1900     1605"
      ]
     },
     "execution_count": 216,
     "metadata": {},
     "output_type": "execute_result"
    }
   ],
   "source": [
    "head(df)"
   ]
  },
  {
   "cell_type": "code",
   "execution_count": 217,
   "metadata": {
    "collapsed": false
   },
   "outputs": [
    {
     "data": {
      "text/html": [
       "'data.frame'"
      ],
      "text/latex": [
       "'data.frame'"
      ],
      "text/markdown": [
       "'data.frame'"
      ],
      "text/plain": [
       "[1] \"data.frame\""
      ]
     },
     "execution_count": 217,
     "metadata": {},
     "output_type": "execute_result"
    }
   ],
   "source": [
    "class(df)"
   ]
  },
  {
   "cell_type": "code",
   "execution_count": 218,
   "metadata": {
    "collapsed": false
   },
   "outputs": [
    {
     "name": "stdout",
     "output_type": "stream",
     "text": [
      "'data.frame':\t10321 obs. of  7 variables:\n",
      " $ market  : chr  \"ABOHAR(PB)\" \"ABOHAR(PB)\" \"ABOHAR(PB)\" \"ABOHAR(PB)\" ...\n",
      " $ month   : chr  \"January\" \"January\" \"January\" \"January\" ...\n",
      " $ year    : chr  \"2005\" \"2006\" \"2010\" \"2011\" ...\n",
      " $ quantity: int  2350 900 790 245 1035 675 440 1305 1400 1800 ...\n",
      " $ priceMin: chr  \"404\" \"487\" \"1283\" \"3067\" ...\n",
      " $ priceMax: chr  \"493\" \"638\" \"1592\" \"3750\" ...\n",
      " $ priceMod: chr  \"446\" \"563\" \"1460\" \"3433\" ...\n"
     ]
    }
   ],
   "source": [
    "str(df)"
   ]
  },
  {
   "cell_type": "code",
   "execution_count": 219,
   "metadata": {
    "collapsed": false
   },
   "outputs": [
    {
     "data": {
      "text/html": [
       "<table>\n",
       "<thead><tr><th></th><th scope=col>market</th><th scope=col>month</th><th scope=col>year</th><th scope=col>quantity</th><th scope=col>priceMin</th><th scope=col>priceMax</th><th scope=col>priceMod</th></tr></thead>\n",
       "<tbody>\n",
       "\t<tr><th scope=row>10321</th><td><c2><a0></td><td><c2><a0></td><td>Total</td><td>789858881</td><td>646(Avg)</td><td>1211(Avg)</td><td>983(Avg)</td></tr>\n",
       "</tbody>\n",
       "</table>\n"
      ],
      "text/latex": [
       "\\begin{tabular}{r|lllllll}\n",
       "  & market & month & year & quantity & priceMin & priceMax & priceMod\\\\\n",
       "\\hline\n",
       "\t10321 & <c2><a0> & <c2><a0> & Total & 789858881 & 646(Avg) & 1211(Avg) & 983(Avg)\\\\\n",
       "\\end{tabular}\n"
      ],
      "text/plain": [
       "        market    month  year  quantity priceMin  priceMax priceMod\n",
       "10321 \\302\\240 \\302\\240 Total 789858881 646(Avg) 1211(Avg) 983(Avg)"
      ]
     },
     "execution_count": 219,
     "metadata": {},
     "output_type": "execute_result"
    }
   ],
   "source": [
    "tail(df,1)"
   ]
  },
  {
   "cell_type": "code",
   "execution_count": 220,
   "metadata": {
    "collapsed": false
   },
   "outputs": [],
   "source": [
    "df <- df %>% \n",
    "      filter( year != \"Total\")"
   ]
  },
  {
   "cell_type": "code",
   "execution_count": 221,
   "metadata": {
    "collapsed": false
   },
   "outputs": [
    {
     "data": {
      "text/html": [
       "<table>\n",
       "<thead><tr><th></th><th scope=col>market</th><th scope=col>month</th><th scope=col>year</th><th scope=col>quantity</th><th scope=col>priceMin</th><th scope=col>priceMax</th><th scope=col>priceMod</th></tr></thead>\n",
       "<tbody>\n",
       "\t<tr><th scope=row>10315</th><td>YEOLA(MS)</td><td>December</td><td>2010</td><td>57586</td><td>541</td><td>2713</td><td>1830</td></tr>\n",
       "\t<tr><th scope=row>10316</th><td>YEOLA(MS)</td><td>December</td><td>2011</td><td>131326</td><td>282</td><td>612</td><td>526</td></tr>\n",
       "\t<tr><th scope=row>10317</th><td>YEOLA(MS)</td><td>December</td><td>2012</td><td>207066</td><td>485</td><td>1327</td><td>1136</td></tr>\n",
       "\t<tr><th scope=row>10318</th><td>YEOLA(MS)</td><td>December</td><td>2013</td><td>215883</td><td>472</td><td>1427</td><td>1177</td></tr>\n",
       "\t<tr><th scope=row>10319</th><td>YEOLA(MS)</td><td>December</td><td>2014</td><td>201077</td><td>446</td><td>1654</td><td>1456</td></tr>\n",
       "\t<tr><th scope=row>10320</th><td>YEOLA(MS)</td><td>December</td><td>2015</td><td>223315</td><td>609</td><td>1446</td><td>1126</td></tr>\n",
       "</tbody>\n",
       "</table>\n"
      ],
      "text/latex": [
       "\\begin{tabular}{r|lllllll}\n",
       "  & market & month & year & quantity & priceMin & priceMax & priceMod\\\\\n",
       "\\hline\n",
       "\t10315 & YEOLA(MS) & December & 2010 & 57586 & 541 & 2713 & 1830\\\\\n",
       "\t10316 & YEOLA(MS) & December & 2011 & 131326 & 282 & 612 & 526\\\\\n",
       "\t10317 & YEOLA(MS) & December & 2012 & 207066 & 485 & 1327 & 1136\\\\\n",
       "\t10318 & YEOLA(MS) & December & 2013 & 215883 & 472 & 1427 & 1177\\\\\n",
       "\t10319 & YEOLA(MS) & December & 2014 & 201077 & 446 & 1654 & 1456\\\\\n",
       "\t10320 & YEOLA(MS) & December & 2015 & 223315 & 609 & 1446 & 1126\\\\\n",
       "\\end{tabular}\n"
      ],
      "text/plain": [
       "         market    month year quantity priceMin priceMax priceMod\n",
       "10315 YEOLA(MS) December 2010    57586      541     2713     1830\n",
       "10316 YEOLA(MS) December 2011   131326      282      612      526\n",
       "10317 YEOLA(MS) December 2012   207066      485     1327     1136\n",
       "10318 YEOLA(MS) December 2013   215883      472     1427     1177\n",
       "10319 YEOLA(MS) December 2014   201077      446     1654     1456\n",
       "10320 YEOLA(MS) December 2015   223315      609     1446     1126"
      ]
     },
     "execution_count": 221,
     "metadata": {},
     "output_type": "execute_result"
    }
   ],
   "source": [
    "tail(df)"
   ]
  },
  {
   "cell_type": "code",
   "execution_count": 222,
   "metadata": {
    "collapsed": false
   },
   "outputs": [
    {
     "data": {
      "text/html": [
       "<ol class=list-inline>\n",
       "\t<li>10320</li>\n",
       "\t<li>7</li>\n",
       "</ol>\n"
      ],
      "text/latex": [
       "\\begin{enumerate*}\n",
       "\\item 10320\n",
       "\\item 7\n",
       "\\end{enumerate*}\n"
      ],
      "text/markdown": [
       "1. 10320\n",
       "2. 7\n",
       "\n",
       "\n"
      ],
      "text/plain": [
       "[1] 10320     7"
      ]
     },
     "execution_count": 222,
     "metadata": {},
     "output_type": "execute_result"
    }
   ],
   "source": [
    "dim(df)"
   ]
  },
  {
   "cell_type": "code",
   "execution_count": 223,
   "metadata": {
    "collapsed": false
   },
   "outputs": [
    {
     "data": {
      "text/html": [
       "<table>\n",
       "<thead><tr><th></th><th scope=col>priceMin</th><th scope=col>priceMax</th><th scope=col>priceMod</th></tr></thead>\n",
       "<tbody>\n",
       "\t<tr><th scope=row>1</th><td>404</td><td>493</td><td>446</td></tr>\n",
       "\t<tr><th scope=row>2</th><td>487</td><td>638</td><td>563</td></tr>\n",
       "\t<tr><th scope=row>3</th><td>1283</td><td>1592</td><td>1460</td></tr>\n",
       "\t<tr><th scope=row>4</th><td>3067</td><td>3750</td><td>3433</td></tr>\n",
       "\t<tr><th scope=row>5</th><td>523</td><td>686</td><td>605</td></tr>\n",
       "\t<tr><th scope=row>6</th><td>1327</td><td>1900</td><td>1605</td></tr>\n",
       "</tbody>\n",
       "</table>\n"
      ],
      "text/latex": [
       "\\begin{tabular}{r|lll}\n",
       "  & priceMin & priceMax & priceMod\\\\\n",
       "\\hline\n",
       "\t1 & 404 & 493 & 446\\\\\n",
       "\t2 & 487 & 638 & 563\\\\\n",
       "\t3 & 1283 & 1592 & 1460\\\\\n",
       "\t4 & 3067 & 3750 & 3433\\\\\n",
       "\t5 & 523 & 686 & 605\\\\\n",
       "\t6 & 1327 & 1900 & 1605\\\\\n",
       "\\end{tabular}\n"
      ],
      "text/plain": [
       "  priceMin priceMax priceMod\n",
       "1      404      493      446\n",
       "2      487      638      563\n",
       "3     1283     1592     1460\n",
       "4     3067     3750     3433\n",
       "5      523      686      605\n",
       "6     1327     1900     1605"
      ]
     },
     "execution_count": 223,
     "metadata": {},
     "output_type": "execute_result"
    }
   ],
   "source": [
    "# selecting particular columns from the df\n",
    "head(df %>% \n",
    "     select(priceMin,priceMax,priceMod))"
   ]
  },
  {
   "cell_type": "code",
   "execution_count": 224,
   "metadata": {
    "collapsed": false
   },
   "outputs": [
    {
     "name": "stdout",
     "output_type": "stream",
     "text": [
      "'data.frame':\t10320 obs. of  7 variables:\n",
      " $ market  : chr  \"ABOHAR(PB)\" \"ABOHAR(PB)\" \"ABOHAR(PB)\" \"ABOHAR(PB)\" ...\n",
      " $ month   : chr  \"January\" \"January\" \"January\" \"January\" ...\n",
      " $ year    : chr  \"2005\" \"2006\" \"2010\" \"2011\" ...\n",
      " $ quantity: int  2350 900 790 245 1035 675 440 1305 1400 1800 ...\n",
      " $ priceMin: chr  \"404\" \"487\" \"1283\" \"3067\" ...\n",
      " $ priceMax: chr  \"493\" \"638\" \"1592\" \"3750\" ...\n",
      " $ priceMod: chr  \"446\" \"563\" \"1460\" \"3433\" ...\n"
     ]
    }
   ],
   "source": [
    "str(df)"
   ]
  },
  {
   "cell_type": "code",
   "execution_count": 225,
   "metadata": {
    "collapsed": false
   },
   "outputs": [],
   "source": [
    "#we see that all of them are character, we know that they are integers, so lets convert\n",
    "df$quantity <- as.numeric(df$quantity)\n",
    "df$year     <- as.numeric(df$year)\n",
    "df$priceMin <- as.numeric(df$priceMin)\n",
    "df$priceMax <- as.numeric(df$priceMax)\n",
    "df$priceMod <- as.numeric(df$priceMod)"
   ]
  },
  {
   "cell_type": "code",
   "execution_count": 226,
   "metadata": {
    "collapsed": false
   },
   "outputs": [
    {
     "name": "stdout",
     "output_type": "stream",
     "text": [
      "'data.frame':\t10320 obs. of  7 variables:\n",
      " $ market  : chr  \"ABOHAR(PB)\" \"ABOHAR(PB)\" \"ABOHAR(PB)\" \"ABOHAR(PB)\" ...\n",
      " $ month   : chr  \"January\" \"January\" \"January\" \"January\" ...\n",
      " $ year    : num  2005 2006 2010 2011 2012 ...\n",
      " $ quantity: num  2350 900 790 245 1035 ...\n",
      " $ priceMin: num  404 487 1283 3067 523 ...\n",
      " $ priceMax: num  493 638 1592 3750 686 ...\n",
      " $ priceMod: num  446 563 1460 3433 605 ...\n"
     ]
    }
   ],
   "source": [
    "str(df)"
   ]
  },
  {
   "cell_type": "code",
   "execution_count": 227,
   "metadata": {
    "collapsed": false
   },
   "outputs": [
    {
     "data": {
      "text/html": [
       "<table>\n",
       "<thead><tr><th></th><th scope=col>market</th><th scope=col>month</th><th scope=col>year</th><th scope=col>quantity</th><th scope=col>priceMin</th><th scope=col>priceMax</th><th scope=col>priceMod</th></tr></thead>\n",
       "<tbody>\n",
       "\t<tr><th scope=row>1</th><td>ABOHAR(PB)</td><td>January</td><td>2005</td><td>2350</td><td>404</td><td>493</td><td>446</td></tr>\n",
       "\t<tr><th scope=row>2</th><td>ABOHAR(PB)</td><td>January</td><td>2006</td><td>900</td><td>487</td><td>638</td><td>563</td></tr>\n",
       "\t<tr><th scope=row>3</th><td>ABOHAR(PB)</td><td>January</td><td>2010</td><td>790</td><td>1283</td><td>1592</td><td>1460</td></tr>\n",
       "\t<tr><th scope=row>4</th><td>ABOHAR(PB)</td><td>January</td><td>2011</td><td>245</td><td>3067</td><td>3750</td><td>3433</td></tr>\n",
       "\t<tr><th scope=row>5</th><td>ABOHAR(PB)</td><td>January</td><td>2012</td><td>1035</td><td>523</td><td>686</td><td>605</td></tr>\n",
       "\t<tr><th scope=row>6</th><td>ABOHAR(PB)</td><td>January</td><td>2013</td><td>675</td><td>1327</td><td>1900</td><td>1605</td></tr>\n",
       "</tbody>\n",
       "</table>\n"
      ],
      "text/latex": [
       "\\begin{tabular}{r|lllllll}\n",
       "  & market & month & year & quantity & priceMin & priceMax & priceMod\\\\\n",
       "\\hline\n",
       "\t1 & ABOHAR(PB) & January & 2005 & 2350 & 404 & 493 & 446\\\\\n",
       "\t2 & ABOHAR(PB) & January & 2006 & 900 & 487 & 638 & 563\\\\\n",
       "\t3 & ABOHAR(PB) & January & 2010 & 790 & 1283 & 1592 & 1460\\\\\n",
       "\t4 & ABOHAR(PB) & January & 2011 & 245 & 3067 & 3750 & 3433\\\\\n",
       "\t5 & ABOHAR(PB) & January & 2012 & 1035 & 523 & 686 & 605\\\\\n",
       "\t6 & ABOHAR(PB) & January & 2013 & 675 & 1327 & 1900 & 1605\\\\\n",
       "\\end{tabular}\n"
      ],
      "text/plain": [
       "      market   month year quantity priceMin priceMax priceMod\n",
       "1 ABOHAR(PB) January 2005     2350      404      493      446\n",
       "2 ABOHAR(PB) January 2006      900      487      638      563\n",
       "3 ABOHAR(PB) January 2010      790     1283     1592     1460\n",
       "4 ABOHAR(PB) January 2011      245     3067     3750     3433\n",
       "5 ABOHAR(PB) January 2012     1035      523      686      605\n",
       "6 ABOHAR(PB) January 2013      675     1327     1900     1605"
      ]
     },
     "execution_count": 227,
     "metadata": {},
     "output_type": "execute_result"
    }
   ],
   "source": [
    "head(df)"
   ]
  },
  {
   "cell_type": "code",
   "execution_count": 228,
   "metadata": {
    "collapsed": false
   },
   "outputs": [
    {
     "data": {
      "text/plain": [
       "    market             month                year         quantity      \n",
       " Length:10320       Length:10320       Min.   :1996   Min.   :     15  \n",
       " Class :character   Class :character   1st Qu.:2006   1st Qu.:   8862  \n",
       " Mode  :character   Mode  :character   Median :2009   Median :  27414  \n",
       "                                       Mean   :2009   Mean   :  76537  \n",
       "                                       3rd Qu.:2013   3rd Qu.:  87875  \n",
       "                                       Max.   :2016   Max.   :1639032  \n",
       "    priceMin         priceMax       priceMod     \n",
       " Min.   :  16.0   Min.   : 145   Min.   :  80.0  \n",
       " 1st Qu.: 210.0   1st Qu.: 560   1st Qu.: 450.0  \n",
       " Median : 441.0   Median : 925   Median : 747.0  \n",
       " Mean   : 646.2   Mean   :1211   Mean   : 982.7  \n",
       " 3rd Qu.: 827.0   3rd Qu.:1520   3rd Qu.:1240.2  \n",
       " Max.   :6000.0   Max.   :8192   Max.   :6400.0  "
      ]
     },
     "execution_count": 228,
     "metadata": {},
     "output_type": "execute_result"
    }
   ],
   "source": [
    "summary(df)"
   ]
  },
  {
   "cell_type": "markdown",
   "metadata": {},
   "source": [
    "## Extracting the states from market names"
   ]
  },
  {
   "cell_type": "code",
   "execution_count": 229,
   "metadata": {
    "collapsed": true
   },
   "outputs": [],
   "source": [
    "library(stringr)"
   ]
  },
  {
   "cell_type": "code",
   "execution_count": 230,
   "metadata": {
    "collapsed": false
   },
   "outputs": [
    {
     "data": {
      "text/html": [
       "'ABOHAR(PB)'"
      ],
      "text/latex": [
       "'ABOHAR(PB)'"
      ],
      "text/markdown": [
       "'ABOHAR(PB)'"
      ],
      "text/plain": [
       "[1] \"ABOHAR(PB)\""
      ]
     },
     "execution_count": 230,
     "metadata": {},
     "output_type": "execute_result"
    },
    {
     "data": {
      "text/html": [
       "'PB)'"
      ],
      "text/latex": [
       "'PB)'"
      ],
      "text/markdown": [
       "'PB)'"
      ],
      "text/plain": [
       "[1] \"PB)\""
      ]
     },
     "execution_count": 230,
     "metadata": {},
     "output_type": "execute_result"
    }
   ],
   "source": [
    "# we see that city and state are combined, lets split them up\n",
    "df$market[1]\n",
    "strsplit(as.character(df$market[1]),'\\\\(')[[1]][2]"
   ]
  },
  {
   "cell_type": "code",
   "execution_count": 231,
   "metadata": {
    "collapsed": false
   },
   "outputs": [
    {
     "data": {
      "text/html": [
       "<table>\n",
       "<thead><tr><th></th><th scope=col>market</th><th scope=col>month</th><th scope=col>year</th><th scope=col>quantity</th><th scope=col>priceMin</th><th scope=col>priceMax</th><th scope=col>priceMod</th></tr></thead>\n",
       "<tbody>\n",
       "\t<tr><th scope=row>1</th><td>ABOHAR(PB)</td><td>January</td><td>2005</td><td>2350</td><td>404</td><td>493</td><td>446</td></tr>\n",
       "\t<tr><th scope=row>2</th><td>ABOHAR(PB)</td><td>January</td><td>2006</td><td>900</td><td>487</td><td>638</td><td>563</td></tr>\n",
       "\t<tr><th scope=row>3</th><td>ABOHAR(PB)</td><td>January</td><td>2010</td><td>790</td><td>1283</td><td>1592</td><td>1460</td></tr>\n",
       "\t<tr><th scope=row>4</th><td>ABOHAR(PB)</td><td>January</td><td>2011</td><td>245</td><td>3067</td><td>3750</td><td>3433</td></tr>\n",
       "\t<tr><th scope=row>5</th><td>ABOHAR(PB)</td><td>January</td><td>2012</td><td>1035</td><td>523</td><td>686</td><td>605</td></tr>\n",
       "\t<tr><th scope=row>6</th><td>ABOHAR(PB)</td><td>January</td><td>2013</td><td>675</td><td>1327</td><td>1900</td><td>1605</td></tr>\n",
       "</tbody>\n",
       "</table>\n"
      ],
      "text/latex": [
       "\\begin{tabular}{r|lllllll}\n",
       "  & market & month & year & quantity & priceMin & priceMax & priceMod\\\\\n",
       "\\hline\n",
       "\t1 & ABOHAR(PB) & January & 2005 & 2350 & 404 & 493 & 446\\\\\n",
       "\t2 & ABOHAR(PB) & January & 2006 & 900 & 487 & 638 & 563\\\\\n",
       "\t3 & ABOHAR(PB) & January & 2010 & 790 & 1283 & 1592 & 1460\\\\\n",
       "\t4 & ABOHAR(PB) & January & 2011 & 245 & 3067 & 3750 & 3433\\\\\n",
       "\t5 & ABOHAR(PB) & January & 2012 & 1035 & 523 & 686 & 605\\\\\n",
       "\t6 & ABOHAR(PB) & January & 2013 & 675 & 1327 & 1900 & 1605\\\\\n",
       "\\end{tabular}\n"
      ],
      "text/plain": [
       "      market   month year quantity priceMin priceMax priceMod\n",
       "1 ABOHAR(PB) January 2005     2350      404      493      446\n",
       "2 ABOHAR(PB) January 2006      900      487      638      563\n",
       "3 ABOHAR(PB) January 2010      790     1283     1592     1460\n",
       "4 ABOHAR(PB) January 2011      245     3067     3750     3433\n",
       "5 ABOHAR(PB) January 2012     1035      523      686      605\n",
       "6 ABOHAR(PB) January 2013      675     1327     1900     1605"
      ]
     },
     "execution_count": 231,
     "metadata": {},
     "output_type": "execute_result"
    }
   ],
   "source": [
    "head(df)"
   ]
  },
  {
   "cell_type": "code",
   "execution_count": 232,
   "metadata": {
    "collapsed": true
   },
   "outputs": [],
   "source": [
    "s <- \"ABOHAR(PB)\""
   ]
  },
  {
   "cell_type": "code",
   "execution_count": 233,
   "metadata": {
    "collapsed": false
   },
   "outputs": [],
   "source": [
    "t <- unlist(str_split(s, \"\\\\(\"))"
   ]
  },
  {
   "cell_type": "code",
   "execution_count": 234,
   "metadata": {
    "collapsed": false
   },
   "outputs": [
    {
     "data": {
      "text/html": [
       "'ABOHAR'"
      ],
      "text/latex": [
       "'ABOHAR'"
      ],
      "text/markdown": [
       "'ABOHAR'"
      ],
      "text/plain": [
       "[1] \"ABOHAR\""
      ]
     },
     "execution_count": 234,
     "metadata": {},
     "output_type": "execute_result"
    }
   ],
   "source": [
    "t[1]"
   ]
  },
  {
   "cell_type": "code",
   "execution_count": 235,
   "metadata": {
    "collapsed": false
   },
   "outputs": [],
   "source": [
    "df1 <- unlist(str_split(df$market, \"\\\\(\"))[3]"
   ]
  },
  {
   "cell_type": "code",
   "execution_count": 236,
   "metadata": {
    "collapsed": false
   },
   "outputs": [
    {
     "data": {
      "text/html": [
       "'ABOHAR'"
      ],
      "text/latex": [
       "'ABOHAR'"
      ],
      "text/markdown": [
       "'ABOHAR'"
      ],
      "text/plain": [
       "[1] \"ABOHAR\""
      ]
     },
     "execution_count": 236,
     "metadata": {},
     "output_type": "execute_result"
    }
   ],
   "source": [
    "head(df1)"
   ]
  },
  {
   "cell_type": "code",
   "execution_count": 237,
   "metadata": {
    "collapsed": false
   },
   "outputs": [
    {
     "data": {
      "text/html": [
       "<table>\n",
       "<thead><tr><th></th><th scope=col>market</th><th scope=col>month</th><th scope=col>year</th><th scope=col>quantity</th><th scope=col>priceMin</th><th scope=col>priceMax</th><th scope=col>priceMod</th></tr></thead>\n",
       "<tbody>\n",
       "\t<tr><th scope=row>10315</th><td>YEOLA(MS)</td><td>December</td><td>2010</td><td>57586</td><td>541</td><td>2713</td><td>1830</td></tr>\n",
       "\t<tr><th scope=row>10316</th><td>YEOLA(MS)</td><td>December</td><td>2011</td><td>131326</td><td>282</td><td>612</td><td>526</td></tr>\n",
       "\t<tr><th scope=row>10317</th><td>YEOLA(MS)</td><td>December</td><td>2012</td><td>207066</td><td>485</td><td>1327</td><td>1136</td></tr>\n",
       "\t<tr><th scope=row>10318</th><td>YEOLA(MS)</td><td>December</td><td>2013</td><td>215883</td><td>472</td><td>1427</td><td>1177</td></tr>\n",
       "\t<tr><th scope=row>10319</th><td>YEOLA(MS)</td><td>December</td><td>2014</td><td>201077</td><td>446</td><td>1654</td><td>1456</td></tr>\n",
       "\t<tr><th scope=row>10320</th><td>YEOLA(MS)</td><td>December</td><td>2015</td><td>223315</td><td>609</td><td>1446</td><td>1126</td></tr>\n",
       "</tbody>\n",
       "</table>\n"
      ],
      "text/latex": [
       "\\begin{tabular}{r|lllllll}\n",
       "  & market & month & year & quantity & priceMin & priceMax & priceMod\\\\\n",
       "\\hline\n",
       "\t10315 & YEOLA(MS) & December & 2010 & 57586 & 541 & 2713 & 1830\\\\\n",
       "\t10316 & YEOLA(MS) & December & 2011 & 131326 & 282 & 612 & 526\\\\\n",
       "\t10317 & YEOLA(MS) & December & 2012 & 207066 & 485 & 1327 & 1136\\\\\n",
       "\t10318 & YEOLA(MS) & December & 2013 & 215883 & 472 & 1427 & 1177\\\\\n",
       "\t10319 & YEOLA(MS) & December & 2014 & 201077 & 446 & 1654 & 1456\\\\\n",
       "\t10320 & YEOLA(MS) & December & 2015 & 223315 & 609 & 1446 & 1126\\\\\n",
       "\\end{tabular}\n"
      ],
      "text/plain": [
       "         market    month year quantity priceMin priceMax priceMod\n",
       "10315 YEOLA(MS) December 2010    57586      541     2713     1830\n",
       "10316 YEOLA(MS) December 2011   131326      282      612      526\n",
       "10317 YEOLA(MS) December 2012   207066      485     1327     1136\n",
       "10318 YEOLA(MS) December 2013   215883      472     1427     1177\n",
       "10319 YEOLA(MS) December 2014   201077      446     1654     1456\n",
       "10320 YEOLA(MS) December 2015   223315      609     1446     1126"
      ]
     },
     "execution_count": 237,
     "metadata": {},
     "output_type": "execute_result"
    }
   ],
   "source": [
    "tail(df)"
   ]
  },
  {
   "cell_type": "code",
   "execution_count": 238,
   "metadata": {
    "collapsed": false
   },
   "outputs": [
    {
     "name": "stderr",
     "output_type": "stream",
     "text": [
      "Warning message:\n",
      ": Too many values at 157 locations: 1925, 1926, 1927, 1928, 1929, 1930, 1931, 1932, 1933, 1934, 1935, 1936, 1937, 1938, 1939, 1940, 1941, 1942, 1943, 1944, ...Warning message:\n",
      ": Too few values at 1880 locations: 724, 725, 726, 727, 728, 729, 730, 731, 732, 733, 734, 735, 736, 737, 738, 739, 740, 741, 742, 743, ..."
     ]
    }
   ],
   "source": [
    "df <- df %>%\n",
    "      mutate(market1 = market) %>%\n",
    "      separate(market1, c(\"city\", \"state\"), sep = \"\\\\(\") %>%"
   ]
  },
  {
   "cell_type": "code",
   "execution_count": 246,
   "metadata": {
    "collapsed": false
   },
   "outputs": [],
   "source": [
    "df$state <- df$state %>% str_replace(\"\\\\)\",\"\")"
   ]
  },
  {
   "cell_type": "code",
   "execution_count": 247,
   "metadata": {
    "collapsed": false
   },
   "outputs": [
    {
     "data": {
      "text/html": [
       "<table>\n",
       "<thead><tr><th></th><th scope=col>market</th><th scope=col>month</th><th scope=col>year</th><th scope=col>quantity</th><th scope=col>priceMin</th><th scope=col>priceMax</th><th scope=col>priceMod</th><th scope=col>city</th><th scope=col>state</th></tr></thead>\n",
       "<tbody>\n",
       "\t<tr><th scope=row>1</th><td>ABOHAR(PB)</td><td>January</td><td>2005</td><td>2350</td><td>404</td><td>493</td><td>446</td><td>ABOHAR</td><td>PB</td></tr>\n",
       "\t<tr><th scope=row>2</th><td>ABOHAR(PB)</td><td>January</td><td>2006</td><td>900</td><td>487</td><td>638</td><td>563</td><td>ABOHAR</td><td>PB</td></tr>\n",
       "\t<tr><th scope=row>3</th><td>ABOHAR(PB)</td><td>January</td><td>2010</td><td>790</td><td>1283</td><td>1592</td><td>1460</td><td>ABOHAR</td><td>PB</td></tr>\n",
       "\t<tr><th scope=row>4</th><td>ABOHAR(PB)</td><td>January</td><td>2011</td><td>245</td><td>3067</td><td>3750</td><td>3433</td><td>ABOHAR</td><td>PB</td></tr>\n",
       "\t<tr><th scope=row>5</th><td>ABOHAR(PB)</td><td>January</td><td>2012</td><td>1035</td><td>523</td><td>686</td><td>605</td><td>ABOHAR</td><td>PB</td></tr>\n",
       "\t<tr><th scope=row>6</th><td>ABOHAR(PB)</td><td>January</td><td>2013</td><td>675</td><td>1327</td><td>1900</td><td>1605</td><td>ABOHAR</td><td>PB</td></tr>\n",
       "</tbody>\n",
       "</table>\n"
      ],
      "text/latex": [
       "\\begin{tabular}{r|lllllllll}\n",
       "  & market & month & year & quantity & priceMin & priceMax & priceMod & city & state\\\\\n",
       "\\hline\n",
       "\t1 & ABOHAR(PB) & January & 2005 & 2350 & 404 & 493 & 446 & ABOHAR & PB\\\\\n",
       "\t2 & ABOHAR(PB) & January & 2006 & 900 & 487 & 638 & 563 & ABOHAR & PB\\\\\n",
       "\t3 & ABOHAR(PB) & January & 2010 & 790 & 1283 & 1592 & 1460 & ABOHAR & PB\\\\\n",
       "\t4 & ABOHAR(PB) & January & 2011 & 245 & 3067 & 3750 & 3433 & ABOHAR & PB\\\\\n",
       "\t5 & ABOHAR(PB) & January & 2012 & 1035 & 523 & 686 & 605 & ABOHAR & PB\\\\\n",
       "\t6 & ABOHAR(PB) & January & 2013 & 675 & 1327 & 1900 & 1605 & ABOHAR & PB\\\\\n",
       "\\end{tabular}\n"
      ],
      "text/plain": [
       "      market   month year quantity priceMin priceMax priceMod   city state\n",
       "1 ABOHAR(PB) January 2005     2350      404      493      446 ABOHAR    PB\n",
       "2 ABOHAR(PB) January 2006      900      487      638      563 ABOHAR    PB\n",
       "3 ABOHAR(PB) January 2010      790     1283     1592     1460 ABOHAR    PB\n",
       "4 ABOHAR(PB) January 2011      245     3067     3750     3433 ABOHAR    PB\n",
       "5 ABOHAR(PB) January 2012     1035      523      686      605 ABOHAR    PB\n",
       "6 ABOHAR(PB) January 2013      675     1327     1900     1605 ABOHAR    PB"
      ]
     },
     "execution_count": 247,
     "metadata": {},
     "output_type": "execute_result"
    }
   ],
   "source": [
    "head(df)"
   ]
  },
  {
   "cell_type": "code",
   "execution_count": 240,
   "metadata": {
    "collapsed": false
   },
   "outputs": [
    {
     "data": {
      "text/html": [
       "<ol class=list-inline>\n",
       "\t<li>'PB)'</li>\n",
       "\t<li>'UP)'</li>\n",
       "\t<li>'GUJ)'</li>\n",
       "\t<li>'MS)'</li>\n",
       "\t<li>'RAJ)'</li>\n",
       "\t<li>'NA'</li>\n",
       "\t<li>'KNT)'</li>\n",
       "\t<li>'OR)'</li>\n",
       "\t<li>'BHR)'</li>\n",
       "\t<li>'WB)'</li>\n",
       "\t<li>'TN) '</li>\n",
       "\t<li>'UTT)'</li>\n",
       "\t<li>'MP)'</li>\n",
       "\t<li>'TN)'</li>\n",
       "\t<li>'WHITE)'</li>\n",
       "\t<li>'HR)'</li>\n",
       "\t<li>'AP)'</li>\n",
       "\t<li>'KER)'</li>\n",
       "\t<li>'CHGARH)'</li>\n",
       "\t<li>'JH)'</li>\n",
       "</ol>\n"
      ],
      "text/latex": [
       "\\begin{enumerate*}\n",
       "\\item 'PB)'\n",
       "\\item 'UP)'\n",
       "\\item 'GUJ)'\n",
       "\\item 'MS)'\n",
       "\\item 'RAJ)'\n",
       "\\item 'NA'\n",
       "\\item 'KNT)'\n",
       "\\item 'OR)'\n",
       "\\item 'BHR)'\n",
       "\\item 'WB)'\n",
       "\\item 'TN) '\n",
       "\\item 'UTT)'\n",
       "\\item 'MP)'\n",
       "\\item 'TN)'\n",
       "\\item 'WHITE)'\n",
       "\\item 'HR)'\n",
       "\\item 'AP)'\n",
       "\\item 'KER)'\n",
       "\\item 'CHGARH)'\n",
       "\\item 'JH)'\n",
       "\\end{enumerate*}\n"
      ],
      "text/markdown": [
       "1. 'PB)'\n",
       "2. 'UP)'\n",
       "3. 'GUJ)'\n",
       "4. 'MS)'\n",
       "5. 'RAJ)'\n",
       "6. 'NA'\n",
       "7. 'KNT)'\n",
       "8. 'OR)'\n",
       "9. 'BHR)'\n",
       "10. 'WB)'\n",
       "11. 'TN) '\n",
       "12. 'UTT)'\n",
       "13. 'MP)'\n",
       "14. 'TN)'\n",
       "15. 'WHITE)'\n",
       "16. 'HR)'\n",
       "17. 'AP)'\n",
       "18. 'KER)'\n",
       "19. 'CHGARH)'\n",
       "20. 'JH)'\n",
       "\n",
       "\n"
      ],
      "text/plain": [
       " [1] \"PB)\"     \"UP)\"     \"GUJ)\"    \"MS)\"     \"RAJ)\"    NA        \"KNT)\"   \n",
       " [8] \"OR)\"     \"BHR)\"    \"WB)\"     \"TN) \"    \"UTT)\"    \"MP)\"     \"TN)\"    \n",
       "[15] \"WHITE)\"  \"HR)\"     \"AP)\"     \"KER)\"    \"CHGARH)\" \"JH)\"    "
      ]
     },
     "execution_count": 240,
     "metadata": {},
     "output_type": "execute_result"
    }
   ],
   "source": [
    "unique(df$state)"
   ]
  },
  {
   "cell_type": "code",
   "execution_count": 241,
   "metadata": {
    "collapsed": false
   },
   "outputs": [
    {
     "data": {
      "text/html": [
       "<ol class=list-inline>\n",
       "\t<li>'ABOHAR'</li>\n",
       "\t<li>'AGRA'</li>\n",
       "\t<li>'AHMEDABAD'</li>\n",
       "\t<li>'AHMEDNAGAR'</li>\n",
       "\t<li>'AJMER'</li>\n",
       "\t<li>'ALIGARH'</li>\n",
       "\t<li>'ALWAR'</li>\n",
       "\t<li>'AMRITSAR'</li>\n",
       "\t<li>'BALLIA'</li>\n",
       "\t<li>'BANGALORE'</li>\n",
       "\t<li>'BAREILLY'</li>\n",
       "\t<li>'BELGAUM'</li>\n",
       "\t<li>'BHATINDA'</li>\n",
       "\t<li>'BHAVNAGAR'</li>\n",
       "\t<li>'BHOPAL'</li>\n",
       "\t<li>'BHUBNESWER'</li>\n",
       "\t<li>'BIHARSHARIF'</li>\n",
       "\t<li>'BIJAPUR'</li>\n",
       "\t<li>'BIKANER'</li>\n",
       "\t<li>'BOMBORI'</li>\n",
       "\t<li>'BURDWAN'</li>\n",
       "\t<li>'CHAKAN'</li>\n",
       "\t<li>'CHALLAKERE'</li>\n",
       "\t<li>'CHANDIGARH'</li>\n",
       "\t<li>'CHANDVAD'</li>\n",
       "\t<li>'CHENNAI'</li>\n",
       "\t<li>'CHICKBALLAPUR'</li>\n",
       "\t<li>'COIMBATORE'</li>\n",
       "\t<li>'DEESA'</li>\n",
       "\t<li>'DEHRADOON'</li>\n",
       "\t<li>'DELHI'</li>\n",
       "\t<li>'DEORIA'</li>\n",
       "\t<li>'DEVALA'</li>\n",
       "\t<li>'DEWAS'</li>\n",
       "\t<li>'DHAVANGERE'</li>\n",
       "\t<li>'DHULIA'</li>\n",
       "\t<li>'DINDIGUL'</li>\n",
       "\t<li>'DINDORI'</li>\n",
       "\t<li>'ETAWAH'</li>\n",
       "\t<li>'FARUKHABAD'</li>\n",
       "\t<li>'GONDAL'</li>\n",
       "\t<li>'GORAKHPUR'</li>\n",
       "\t<li>'GUWAHATI'</li>\n",
       "\t<li>'HALDWANI'</li>\n",
       "\t<li>'HASSAN'</li>\n",
       "\t<li>'HOSHIARPUR'</li>\n",
       "\t<li>'HUBLI'</li>\n",
       "\t<li>'HYDERABAD'</li>\n",
       "\t<li>'INDORE'</li>\n",
       "\t<li>'JAIPUR'</li>\n",
       "\t<li>'JALANDHAR'</li>\n",
       "\t<li>'JALGAON'</li>\n",
       "\t<li>'JAMMU'</li>\n",
       "\t<li>'JAMNAGAR'</li>\n",
       "\t<li>'JHANSI'</li>\n",
       "\t<li>'JODHPUR'</li>\n",
       "\t<li>'JUNNAR'</li>\n",
       "\t<li>'KALVAN'</li>\n",
       "\t<li>'KANPUR'</li>\n",
       "\t<li>'KARNAL'</li>\n",
       "\t<li>'KHANNA'</li>\n",
       "\t<li>'KOLAR'</li>\n",
       "\t<li>'KOLHAPUR'</li>\n",
       "\t<li>'KOLKATA'</li>\n",
       "\t<li>'KOPERGAON'</li>\n",
       "\t<li>'KOTA'</li>\n",
       "\t<li>'KURNOOL'</li>\n",
       "\t<li>'LASALGAON'</li>\n",
       "\t<li>'LONAND'</li>\n",
       "\t<li>'LUCKNOW'</li>\n",
       "\t<li>'LUDHIANA'</li>\n",
       "\t<li>'MADURAI'</li>\n",
       "\t<li>'MAHUVA'</li>\n",
       "\t<li>'MALEGAON'</li>\n",
       "\t<li>'MANDSOUR'</li>\n",
       "\t<li>'MANMAD'</li>\n",
       "\t<li>'MEERUT'</li>\n",
       "\t<li>'MIDNAPUR'</li>\n",
       "\t<li>'MUMBAI'</li>\n",
       "\t<li>'NAGPUR'</li>\n",
       "\t<li>'NANDGAON'</li>\n",
       "\t<li>'NASIK'</li>\n",
       "\t<li>'NEEMUCH'</li>\n",
       "\t<li>'NEWASA'</li>\n",
       "\t<li>'NIPHAD'</li>\n",
       "\t<li>'PALAYAM'</li>\n",
       "\t<li>'PATIALA'</li>\n",
       "\t<li>'PATNA'</li>\n",
       "\t<li>'PHALTAN '</li>\n",
       "\t<li>'PIMPALGAON'</li>\n",
       "\t<li>'PUNE'</li>\n",
       "\t<li>'PURULIA'</li>\n",
       "\t<li>'RAHATA'</li>\n",
       "\t<li>'RAHURI'</li>\n",
       "\t<li>'RAICHUR'</li>\n",
       "\t<li>'RAIPUR'</li>\n",
       "\t<li>'RAJAHMUNDRY'</li>\n",
       "\t<li>'RAJKOT'</li>\n",
       "\t<li>'RANCHI'</li>\n",
       "\t<li>'SAGAR'</li>\n",
       "\t<li>'SAIKHEDA'</li>\n",
       "\t<li>'SANGALI'</li>\n",
       "\t<li>'SANGAMNER'</li>\n",
       "\t<li>'SATANA'</li>\n",
       "\t<li>'SHEROAPHULY'</li>\n",
       "\t<li>'SHIMLA'</li>\n",
       "\t<li>'SHRIRAMPUR'</li>\n",
       "\t<li>'SINNAR'</li>\n",
       "\t<li>'SOLAPUR'</li>\n",
       "\t<li>'SRIGANGANAGAR'</li>\n",
       "\t<li>'SRINAGAR'</li>\n",
       "\t<li>'SRIRAMPUR'</li>\n",
       "\t<li>'SURAT'</li>\n",
       "\t<li>'TRIVENDRUM'</li>\n",
       "\t<li>'UDAIPUR'</li>\n",
       "\t<li>'UJJAIN'</li>\n",
       "\t<li>'VANI'</li>\n",
       "\t<li>'VARANASI'</li>\n",
       "\t<li>'YEOLA'</li>\n",
       "</ol>\n"
      ],
      "text/latex": [
       "\\begin{enumerate*}\n",
       "\\item 'ABOHAR'\n",
       "\\item 'AGRA'\n",
       "\\item 'AHMEDABAD'\n",
       "\\item 'AHMEDNAGAR'\n",
       "\\item 'AJMER'\n",
       "\\item 'ALIGARH'\n",
       "\\item 'ALWAR'\n",
       "\\item 'AMRITSAR'\n",
       "\\item 'BALLIA'\n",
       "\\item 'BANGALORE'\n",
       "\\item 'BAREILLY'\n",
       "\\item 'BELGAUM'\n",
       "\\item 'BHATINDA'\n",
       "\\item 'BHAVNAGAR'\n",
       "\\item 'BHOPAL'\n",
       "\\item 'BHUBNESWER'\n",
       "\\item 'BIHARSHARIF'\n",
       "\\item 'BIJAPUR'\n",
       "\\item 'BIKANER'\n",
       "\\item 'BOMBORI'\n",
       "\\item 'BURDWAN'\n",
       "\\item 'CHAKAN'\n",
       "\\item 'CHALLAKERE'\n",
       "\\item 'CHANDIGARH'\n",
       "\\item 'CHANDVAD'\n",
       "\\item 'CHENNAI'\n",
       "\\item 'CHICKBALLAPUR'\n",
       "\\item 'COIMBATORE'\n",
       "\\item 'DEESA'\n",
       "\\item 'DEHRADOON'\n",
       "\\item 'DELHI'\n",
       "\\item 'DEORIA'\n",
       "\\item 'DEVALA'\n",
       "\\item 'DEWAS'\n",
       "\\item 'DHAVANGERE'\n",
       "\\item 'DHULIA'\n",
       "\\item 'DINDIGUL'\n",
       "\\item 'DINDORI'\n",
       "\\item 'ETAWAH'\n",
       "\\item 'FARUKHABAD'\n",
       "\\item 'GONDAL'\n",
       "\\item 'GORAKHPUR'\n",
       "\\item 'GUWAHATI'\n",
       "\\item 'HALDWANI'\n",
       "\\item 'HASSAN'\n",
       "\\item 'HOSHIARPUR'\n",
       "\\item 'HUBLI'\n",
       "\\item 'HYDERABAD'\n",
       "\\item 'INDORE'\n",
       "\\item 'JAIPUR'\n",
       "\\item 'JALANDHAR'\n",
       "\\item 'JALGAON'\n",
       "\\item 'JAMMU'\n",
       "\\item 'JAMNAGAR'\n",
       "\\item 'JHANSI'\n",
       "\\item 'JODHPUR'\n",
       "\\item 'JUNNAR'\n",
       "\\item 'KALVAN'\n",
       "\\item 'KANPUR'\n",
       "\\item 'KARNAL'\n",
       "\\item 'KHANNA'\n",
       "\\item 'KOLAR'\n",
       "\\item 'KOLHAPUR'\n",
       "\\item 'KOLKATA'\n",
       "\\item 'KOPERGAON'\n",
       "\\item 'KOTA'\n",
       "\\item 'KURNOOL'\n",
       "\\item 'LASALGAON'\n",
       "\\item 'LONAND'\n",
       "\\item 'LUCKNOW'\n",
       "\\item 'LUDHIANA'\n",
       "\\item 'MADURAI'\n",
       "\\item 'MAHUVA'\n",
       "\\item 'MALEGAON'\n",
       "\\item 'MANDSOUR'\n",
       "\\item 'MANMAD'\n",
       "\\item 'MEERUT'\n",
       "\\item 'MIDNAPUR'\n",
       "\\item 'MUMBAI'\n",
       "\\item 'NAGPUR'\n",
       "\\item 'NANDGAON'\n",
       "\\item 'NASIK'\n",
       "\\item 'NEEMUCH'\n",
       "\\item 'NEWASA'\n",
       "\\item 'NIPHAD'\n",
       "\\item 'PALAYAM'\n",
       "\\item 'PATIALA'\n",
       "\\item 'PATNA'\n",
       "\\item 'PHALTAN '\n",
       "\\item 'PIMPALGAON'\n",
       "\\item 'PUNE'\n",
       "\\item 'PURULIA'\n",
       "\\item 'RAHATA'\n",
       "\\item 'RAHURI'\n",
       "\\item 'RAICHUR'\n",
       "\\item 'RAIPUR'\n",
       "\\item 'RAJAHMUNDRY'\n",
       "\\item 'RAJKOT'\n",
       "\\item 'RANCHI'\n",
       "\\item 'SAGAR'\n",
       "\\item 'SAIKHEDA'\n",
       "\\item 'SANGALI'\n",
       "\\item 'SANGAMNER'\n",
       "\\item 'SATANA'\n",
       "\\item 'SHEROAPHULY'\n",
       "\\item 'SHIMLA'\n",
       "\\item 'SHRIRAMPUR'\n",
       "\\item 'SINNAR'\n",
       "\\item 'SOLAPUR'\n",
       "\\item 'SRIGANGANAGAR'\n",
       "\\item 'SRINAGAR'\n",
       "\\item 'SRIRAMPUR'\n",
       "\\item 'SURAT'\n",
       "\\item 'TRIVENDRUM'\n",
       "\\item 'UDAIPUR'\n",
       "\\item 'UJJAIN'\n",
       "\\item 'VANI'\n",
       "\\item 'VARANASI'\n",
       "\\item 'YEOLA'\n",
       "\\end{enumerate*}\n"
      ],
      "text/markdown": [
       "1. 'ABOHAR'\n",
       "2. 'AGRA'\n",
       "3. 'AHMEDABAD'\n",
       "4. 'AHMEDNAGAR'\n",
       "5. 'AJMER'\n",
       "6. 'ALIGARH'\n",
       "7. 'ALWAR'\n",
       "8. 'AMRITSAR'\n",
       "9. 'BALLIA'\n",
       "10. 'BANGALORE'\n",
       "11. 'BAREILLY'\n",
       "12. 'BELGAUM'\n",
       "13. 'BHATINDA'\n",
       "14. 'BHAVNAGAR'\n",
       "15. 'BHOPAL'\n",
       "16. 'BHUBNESWER'\n",
       "17. 'BIHARSHARIF'\n",
       "18. 'BIJAPUR'\n",
       "19. 'BIKANER'\n",
       "20. 'BOMBORI'\n",
       "21. 'BURDWAN'\n",
       "22. 'CHAKAN'\n",
       "23. 'CHALLAKERE'\n",
       "24. 'CHANDIGARH'\n",
       "25. 'CHANDVAD'\n",
       "26. 'CHENNAI'\n",
       "27. 'CHICKBALLAPUR'\n",
       "28. 'COIMBATORE'\n",
       "29. 'DEESA'\n",
       "30. 'DEHRADOON'\n",
       "31. 'DELHI'\n",
       "32. 'DEORIA'\n",
       "33. 'DEVALA'\n",
       "34. 'DEWAS'\n",
       "35. 'DHAVANGERE'\n",
       "36. 'DHULIA'\n",
       "37. 'DINDIGUL'\n",
       "38. 'DINDORI'\n",
       "39. 'ETAWAH'\n",
       "40. 'FARUKHABAD'\n",
       "41. 'GONDAL'\n",
       "42. 'GORAKHPUR'\n",
       "43. 'GUWAHATI'\n",
       "44. 'HALDWANI'\n",
       "45. 'HASSAN'\n",
       "46. 'HOSHIARPUR'\n",
       "47. 'HUBLI'\n",
       "48. 'HYDERABAD'\n",
       "49. 'INDORE'\n",
       "50. 'JAIPUR'\n",
       "51. 'JALANDHAR'\n",
       "52. 'JALGAON'\n",
       "53. 'JAMMU'\n",
       "54. 'JAMNAGAR'\n",
       "55. 'JHANSI'\n",
       "56. 'JODHPUR'\n",
       "57. 'JUNNAR'\n",
       "58. 'KALVAN'\n",
       "59. 'KANPUR'\n",
       "60. 'KARNAL'\n",
       "61. 'KHANNA'\n",
       "62. 'KOLAR'\n",
       "63. 'KOLHAPUR'\n",
       "64. 'KOLKATA'\n",
       "65. 'KOPERGAON'\n",
       "66. 'KOTA'\n",
       "67. 'KURNOOL'\n",
       "68. 'LASALGAON'\n",
       "69. 'LONAND'\n",
       "70. 'LUCKNOW'\n",
       "71. 'LUDHIANA'\n",
       "72. 'MADURAI'\n",
       "73. 'MAHUVA'\n",
       "74. 'MALEGAON'\n",
       "75. 'MANDSOUR'\n",
       "76. 'MANMAD'\n",
       "77. 'MEERUT'\n",
       "78. 'MIDNAPUR'\n",
       "79. 'MUMBAI'\n",
       "80. 'NAGPUR'\n",
       "81. 'NANDGAON'\n",
       "82. 'NASIK'\n",
       "83. 'NEEMUCH'\n",
       "84. 'NEWASA'\n",
       "85. 'NIPHAD'\n",
       "86. 'PALAYAM'\n",
       "87. 'PATIALA'\n",
       "88. 'PATNA'\n",
       "89. 'PHALTAN '\n",
       "90. 'PIMPALGAON'\n",
       "91. 'PUNE'\n",
       "92. 'PURULIA'\n",
       "93. 'RAHATA'\n",
       "94. 'RAHURI'\n",
       "95. 'RAICHUR'\n",
       "96. 'RAIPUR'\n",
       "97. 'RAJAHMUNDRY'\n",
       "98. 'RAJKOT'\n",
       "99. 'RANCHI'\n",
       "100. 'SAGAR'\n",
       "101. 'SAIKHEDA'\n",
       "102. 'SANGALI'\n",
       "103. 'SANGAMNER'\n",
       "104. 'SATANA'\n",
       "105. 'SHEROAPHULY'\n",
       "106. 'SHIMLA'\n",
       "107. 'SHRIRAMPUR'\n",
       "108. 'SINNAR'\n",
       "109. 'SOLAPUR'\n",
       "110. 'SRIGANGANAGAR'\n",
       "111. 'SRINAGAR'\n",
       "112. 'SRIRAMPUR'\n",
       "113. 'SURAT'\n",
       "114. 'TRIVENDRUM'\n",
       "115. 'UDAIPUR'\n",
       "116. 'UJJAIN'\n",
       "117. 'VANI'\n",
       "118. 'VARANASI'\n",
       "119. 'YEOLA'\n",
       "\n",
       "\n"
      ],
      "text/plain": [
       "  [1] \"ABOHAR\"        \"AGRA\"          \"AHMEDABAD\"     \"AHMEDNAGAR\"   \n",
       "  [5] \"AJMER\"         \"ALIGARH\"       \"ALWAR\"         \"AMRITSAR\"     \n",
       "  [9] \"BALLIA\"        \"BANGALORE\"     \"BAREILLY\"      \"BELGAUM\"      \n",
       " [13] \"BHATINDA\"      \"BHAVNAGAR\"     \"BHOPAL\"        \"BHUBNESWER\"   \n",
       " [17] \"BIHARSHARIF\"   \"BIJAPUR\"       \"BIKANER\"       \"BOMBORI\"      \n",
       " [21] \"BURDWAN\"       \"CHAKAN\"        \"CHALLAKERE\"    \"CHANDIGARH\"   \n",
       " [25] \"CHANDVAD\"      \"CHENNAI\"       \"CHICKBALLAPUR\" \"COIMBATORE\"   \n",
       " [29] \"DEESA\"         \"DEHRADOON\"     \"DELHI\"         \"DEORIA\"       \n",
       " [33] \"DEVALA\"        \"DEWAS\"         \"DHAVANGERE\"    \"DHULIA\"       \n",
       " [37] \"DINDIGUL\"      \"DINDORI\"       \"ETAWAH\"        \"FARUKHABAD\"   \n",
       " [41] \"GONDAL\"        \"GORAKHPUR\"     \"GUWAHATI\"      \"HALDWANI\"     \n",
       " [45] \"HASSAN\"        \"HOSHIARPUR\"    \"HUBLI\"         \"HYDERABAD\"    \n",
       " [49] \"INDORE\"        \"JAIPUR\"        \"JALANDHAR\"     \"JALGAON\"      \n",
       " [53] \"JAMMU\"         \"JAMNAGAR\"      \"JHANSI\"        \"JODHPUR\"      \n",
       " [57] \"JUNNAR\"        \"KALVAN\"        \"KANPUR\"        \"KARNAL\"       \n",
       " [61] \"KHANNA\"        \"KOLAR\"         \"KOLHAPUR\"      \"KOLKATA\"      \n",
       " [65] \"KOPERGAON\"     \"KOTA\"          \"KURNOOL\"       \"LASALGAON\"    \n",
       " [69] \"LONAND\"        \"LUCKNOW\"       \"LUDHIANA\"      \"MADURAI\"      \n",
       " [73] \"MAHUVA\"        \"MALEGAON\"      \"MANDSOUR\"      \"MANMAD\"       \n",
       " [77] \"MEERUT\"        \"MIDNAPUR\"      \"MUMBAI\"        \"NAGPUR\"       \n",
       " [81] \"NANDGAON\"      \"NASIK\"         \"NEEMUCH\"       \"NEWASA\"       \n",
       " [85] \"NIPHAD\"        \"PALAYAM\"       \"PATIALA\"       \"PATNA\"        \n",
       " [89] \"PHALTAN \"      \"PIMPALGAON\"    \"PUNE\"          \"PURULIA\"      \n",
       " [93] \"RAHATA\"        \"RAHURI\"        \"RAICHUR\"       \"RAIPUR\"       \n",
       " [97] \"RAJAHMUNDRY\"   \"RAJKOT\"        \"RANCHI\"        \"SAGAR\"        \n",
       "[101] \"SAIKHEDA\"      \"SANGALI\"       \"SANGAMNER\"     \"SATANA\"       \n",
       "[105] \"SHEROAPHULY\"   \"SHIMLA\"        \"SHRIRAMPUR\"    \"SINNAR\"       \n",
       "[109] \"SOLAPUR\"       \"SRIGANGANAGAR\" \"SRINAGAR\"      \"SRIRAMPUR\"    \n",
       "[113] \"SURAT\"         \"TRIVENDRUM\"    \"UDAIPUR\"       \"UJJAIN\"       \n",
       "[117] \"VANI\"          \"VARANASI\"      \"YEOLA\"        "
      ]
     },
     "execution_count": 241,
     "metadata": {},
     "output_type": "execute_result"
    }
   ],
   "source": [
    "unique(df$city)"
   ]
  },
  {
   "cell_type": "code",
   "execution_count": 248,
   "metadata": {
    "collapsed": false
   },
   "outputs": [
    {
     "name": "stdout",
     "output_type": "stream",
     "text": [
      "'data.frame':\t10320 obs. of  9 variables:\n",
      " $ market  : chr  \"ABOHAR(PB)\" \"ABOHAR(PB)\" \"ABOHAR(PB)\" \"ABOHAR(PB)\" ...\n",
      " $ month   : chr  \"January\" \"January\" \"January\" \"January\" ...\n",
      " $ year    : num  2005 2006 2010 2011 2012 ...\n",
      " $ quantity: num  2350 900 790 245 1035 ...\n",
      " $ priceMin: num  404 487 1283 3067 523 ...\n",
      " $ priceMax: num  493 638 1592 3750 686 ...\n",
      " $ priceMod: num  446 563 1460 3433 605 ...\n",
      " $ city    : chr  \"ABOHAR\" \"ABOHAR\" \"ABOHAR\" \"ABOHAR\" ...\n",
      " $ state   : chr  \"PB\" \"PB\" \"PB\" \"PB\" ...\n"
     ]
    }
   ],
   "source": [
    "str(df)"
   ]
  },
  {
   "cell_type": "code",
   "execution_count": 76,
   "metadata": {
    "collapsed": false
   },
   "outputs": [
    {
     "data": {
      "text/html": [
       "<table>\n",
       "<thead><tr><th></th><th scope=col>market</th><th scope=col>month</th><th scope=col>year</th><th scope=col>quantity</th><th scope=col>priceMin</th><th scope=col>priceMax</th><th scope=col>priceMod</th><th scope=col>state</th><th scope=col>city</th></tr></thead>\n",
       "<tbody>\n",
       "\t<tr><th scope=row>1</th><td>ABOHAR(PB)</td><td>January</td><td>2005</td><td>2350</td><td>404</td><td>493</td><td>446</td><td>PB</td><td>ABOHAR</td></tr>\n",
       "\t<tr><th scope=row>2</th><td>ABOHAR(PB)</td><td>January</td><td>2006</td><td>900</td><td>487</td><td>638</td><td>563</td><td>PB</td><td>ABOHAR</td></tr>\n",
       "\t<tr><th scope=row>3</th><td>ABOHAR(PB)</td><td>January</td><td>2010</td><td>790</td><td>1283</td><td>1592</td><td>1460</td><td>PB</td><td>ABOHAR</td></tr>\n",
       "\t<tr><th scope=row>4</th><td>ABOHAR(PB)</td><td>January</td><td>2011</td><td>245</td><td>3067</td><td>3750</td><td>3433</td><td>PB</td><td>ABOHAR</td></tr>\n",
       "\t<tr><th scope=row>5</th><td>ABOHAR(PB)</td><td>January</td><td>2012</td><td>1035</td><td>523</td><td>686</td><td>605</td><td>PB</td><td>ABOHAR</td></tr>\n",
       "\t<tr><th scope=row>6</th><td>ABOHAR(PB)</td><td>January</td><td>2013</td><td>675</td><td>1327</td><td>1900</td><td>1605</td><td>PB</td><td>ABOHAR</td></tr>\n",
       "</tbody>\n",
       "</table>\n"
      ],
      "text/latex": [
       "\\begin{tabular}{r|lllllllll}\n",
       "  & market & month & year & quantity & priceMin & priceMax & priceMod & state & city\\\\\n",
       "\\hline\n",
       "\t1 & ABOHAR(PB) & January & 2005 & 2350 & 404 & 493 & 446 & PB & ABOHAR\\\\\n",
       "\t2 & ABOHAR(PB) & January & 2006 & 900 & 487 & 638 & 563 & PB & ABOHAR\\\\\n",
       "\t3 & ABOHAR(PB) & January & 2010 & 790 & 1283 & 1592 & 1460 & PB & ABOHAR\\\\\n",
       "\t4 & ABOHAR(PB) & January & 2011 & 245 & 3067 & 3750 & 3433 & PB & ABOHAR\\\\\n",
       "\t5 & ABOHAR(PB) & January & 2012 & 1035 & 523 & 686 & 605 & PB & ABOHAR\\\\\n",
       "\t6 & ABOHAR(PB) & January & 2013 & 675 & 1327 & 1900 & 1605 & PB & ABOHAR\\\\\n",
       "\\end{tabular}\n"
      ],
      "text/plain": [
       "      market   month year quantity priceMin priceMax priceMod state   city\n",
       "1 ABOHAR(PB) January 2005     2350      404      493      446    PB ABOHAR\n",
       "2 ABOHAR(PB) January 2006      900      487      638      563    PB ABOHAR\n",
       "3 ABOHAR(PB) January 2010      790     1283     1592     1460    PB ABOHAR\n",
       "4 ABOHAR(PB) January 2011      245     3067     3750     3433    PB ABOHAR\n",
       "5 ABOHAR(PB) January 2012     1035      523      686      605    PB ABOHAR\n",
       "6 ABOHAR(PB) January 2013      675     1327     1900     1605    PB ABOHAR"
      ]
     },
     "execution_count": 76,
     "metadata": {},
     "output_type": "execute_result"
    }
   ],
   "source": [
    "head(df)"
   ]
  },
  {
   "cell_type": "code",
   "execution_count": 77,
   "metadata": {
    "collapsed": false
   },
   "outputs": [
    {
     "data": {
      "text/html": [
       "<table>\n",
       "<thead><tr><th></th><th scope=col>market</th><th scope=col>month</th><th scope=col>year</th><th scope=col>quantity</th><th scope=col>priceMin</th><th scope=col>priceMax</th><th scope=col>priceMod</th><th scope=col>state</th><th scope=col>city</th></tr></thead>\n",
       "<tbody>\n",
       "\t<tr><th scope=row>10222</th><td>YEOLA(MS)</td><td>December</td><td>2010</td><td>57586</td><td>541</td><td>2713</td><td>1830</td><td>MS</td><td>YEOLA</td></tr>\n",
       "\t<tr><th scope=row>10223</th><td>YEOLA(MS)</td><td>December</td><td>2011</td><td>131326</td><td>282</td><td>612</td><td>526</td><td>MS</td><td>YEOLA</td></tr>\n",
       "\t<tr><th scope=row>10224</th><td>YEOLA(MS)</td><td>December</td><td>2012</td><td>207066</td><td>485</td><td>1327</td><td>1136</td><td>MS</td><td>YEOLA</td></tr>\n",
       "\t<tr><th scope=row>10225</th><td>YEOLA(MS)</td><td>December</td><td>2013</td><td>215883</td><td>472</td><td>1427</td><td>1177</td><td>MS</td><td>YEOLA</td></tr>\n",
       "\t<tr><th scope=row>10226</th><td>YEOLA(MS)</td><td>December</td><td>2014</td><td>201077</td><td>446</td><td>1654</td><td>1456</td><td>MS</td><td>YEOLA</td></tr>\n",
       "\t<tr><th scope=row>10227</th><td>YEOLA(MS)</td><td>December</td><td>2015</td><td>223315</td><td>609</td><td>1446</td><td>1126</td><td>MS</td><td>YEOLA</td></tr>\n",
       "</tbody>\n",
       "</table>\n"
      ],
      "text/latex": [
       "\\begin{tabular}{r|lllllllll}\n",
       "  & market & month & year & quantity & priceMin & priceMax & priceMod & state & city\\\\\n",
       "\\hline\n",
       "\t10222 & YEOLA(MS) & December & 2010 & 57586 & 541 & 2713 & 1830 & MS & YEOLA\\\\\n",
       "\t10223 & YEOLA(MS) & December & 2011 & 131326 & 282 & 612 & 526 & MS & YEOLA\\\\\n",
       "\t10224 & YEOLA(MS) & December & 2012 & 207066 & 485 & 1327 & 1136 & MS & YEOLA\\\\\n",
       "\t10225 & YEOLA(MS) & December & 2013 & 215883 & 472 & 1427 & 1177 & MS & YEOLA\\\\\n",
       "\t10226 & YEOLA(MS) & December & 2014 & 201077 & 446 & 1654 & 1456 & MS & YEOLA\\\\\n",
       "\t10227 & YEOLA(MS) & December & 2015 & 223315 & 609 & 1446 & 1126 & MS & YEOLA\\\\\n",
       "\\end{tabular}\n"
      ],
      "text/plain": [
       "         market    month year quantity priceMin priceMax priceMod state  city\n",
       "10222 YEOLA(MS) December 2010    57586      541     2713     1830    MS YEOLA\n",
       "10223 YEOLA(MS) December 2011   131326      282      612      526    MS YEOLA\n",
       "10224 YEOLA(MS) December 2012   207066      485     1327     1136    MS YEOLA\n",
       "10225 YEOLA(MS) December 2013   215883      472     1427     1177    MS YEOLA\n",
       "10226 YEOLA(MS) December 2014   201077      446     1654     1456    MS YEOLA\n",
       "10227 YEOLA(MS) December 2015   223315      609     1446     1126    MS YEOLA"
      ]
     },
     "execution_count": 77,
     "metadata": {},
     "output_type": "execute_result"
    }
   ],
   "source": [
    "tail(df)"
   ]
  },
  {
   "cell_type": "code",
   "execution_count": 78,
   "metadata": {
    "collapsed": false
   },
   "outputs": [
    {
     "data": {
      "text/html": [
       "<ol class=list-inline>\n",
       "\t<li>'PB'</li>\n",
       "\t<li>'UP'</li>\n",
       "\t<li>'GUJ'</li>\n",
       "\t<li>'MS'</li>\n",
       "\t<li>'RAJ'</li>\n",
       "\t<li>'BANGALORE'</li>\n",
       "\t<li>'KNT'</li>\n",
       "\t<li>'BHOPAL'</li>\n",
       "\t<li>'OR'</li>\n",
       "\t<li>'BHR'</li>\n",
       "\t<li>'WB'</li>\n",
       "\t<li>'CHANDIGARH'</li>\n",
       "\t<li>'CHENNAI'</li>\n",
       "\t<li>'TN '</li>\n",
       "\t<li>'UTT'</li>\n",
       "\t<li>'DELHI'</li>\n",
       "\t<li>'MP'</li>\n",
       "\t<li>'TN'</li>\n",
       "\t<li>'GUWAHATI'</li>\n",
       "\t<li>'HYDERABAD'</li>\n",
       "\t<li>'JAIPUR'</li>\n",
       "\t<li>'WHITE'</li>\n",
       "\t<li>'JAMMU'</li>\n",
       "\t<li>'HR'</li>\n",
       "\t<li>'KOLKATA'</li>\n",
       "\t<li>'AP'</li>\n",
       "\t<li>'LUCKNOW'</li>\n",
       "\t<li>'MUMBAI'</li>\n",
       "\t<li>'NAGPUR'</li>\n",
       "\t<li>'KER'</li>\n",
       "\t<li>'PATNA'</li>\n",
       "\t<li>'CHGARH'</li>\n",
       "\t<li>'JH'</li>\n",
       "\t<li>'SHIMLA'</li>\n",
       "\t<li>'SRINAGAR'</li>\n",
       "\t<li>'TRIVENDRUM'</li>\n",
       "</ol>\n"
      ],
      "text/latex": [
       "\\begin{enumerate*}\n",
       "\\item 'PB'\n",
       "\\item 'UP'\n",
       "\\item 'GUJ'\n",
       "\\item 'MS'\n",
       "\\item 'RAJ'\n",
       "\\item 'BANGALORE'\n",
       "\\item 'KNT'\n",
       "\\item 'BHOPAL'\n",
       "\\item 'OR'\n",
       "\\item 'BHR'\n",
       "\\item 'WB'\n",
       "\\item 'CHANDIGARH'\n",
       "\\item 'CHENNAI'\n",
       "\\item 'TN '\n",
       "\\item 'UTT'\n",
       "\\item 'DELHI'\n",
       "\\item 'MP'\n",
       "\\item 'TN'\n",
       "\\item 'GUWAHATI'\n",
       "\\item 'HYDERABAD'\n",
       "\\item 'JAIPUR'\n",
       "\\item 'WHITE'\n",
       "\\item 'JAMMU'\n",
       "\\item 'HR'\n",
       "\\item 'KOLKATA'\n",
       "\\item 'AP'\n",
       "\\item 'LUCKNOW'\n",
       "\\item 'MUMBAI'\n",
       "\\item 'NAGPUR'\n",
       "\\item 'KER'\n",
       "\\item 'PATNA'\n",
       "\\item 'CHGARH'\n",
       "\\item 'JH'\n",
       "\\item 'SHIMLA'\n",
       "\\item 'SRINAGAR'\n",
       "\\item 'TRIVENDRUM'\n",
       "\\end{enumerate*}\n"
      ],
      "text/markdown": [
       "1. 'PB'\n",
       "2. 'UP'\n",
       "3. 'GUJ'\n",
       "4. 'MS'\n",
       "5. 'RAJ'\n",
       "6. 'BANGALORE'\n",
       "7. 'KNT'\n",
       "8. 'BHOPAL'\n",
       "9. 'OR'\n",
       "10. 'BHR'\n",
       "11. 'WB'\n",
       "12. 'CHANDIGARH'\n",
       "13. 'CHENNAI'\n",
       "14. 'TN '\n",
       "15. 'UTT'\n",
       "16. 'DELHI'\n",
       "17. 'MP'\n",
       "18. 'TN'\n",
       "19. 'GUWAHATI'\n",
       "20. 'HYDERABAD'\n",
       "21. 'JAIPUR'\n",
       "22. 'WHITE'\n",
       "23. 'JAMMU'\n",
       "24. 'HR'\n",
       "25. 'KOLKATA'\n",
       "26. 'AP'\n",
       "27. 'LUCKNOW'\n",
       "28. 'MUMBAI'\n",
       "29. 'NAGPUR'\n",
       "30. 'KER'\n",
       "31. 'PATNA'\n",
       "32. 'CHGARH'\n",
       "33. 'JH'\n",
       "34. 'SHIMLA'\n",
       "35. 'SRINAGAR'\n",
       "36. 'TRIVENDRUM'\n",
       "\n",
       "\n"
      ],
      "text/plain": [
       " [1] \"PB\"         \"UP\"         \"GUJ\"        \"MS\"         \"RAJ\"       \n",
       " [6] \"BANGALORE\"  \"KNT\"        \"BHOPAL\"     \"OR\"         \"BHR\"       \n",
       "[11] \"WB\"         \"CHANDIGARH\" \"CHENNAI\"    \"TN \"        \"UTT\"       \n",
       "[16] \"DELHI\"      \"MP\"         \"TN\"         \"GUWAHATI\"   \"HYDERABAD\" \n",
       "[21] \"JAIPUR\"     \"WHITE\"      \"JAMMU\"      \"HR\"         \"KOLKATA\"   \n",
       "[26] \"AP\"         \"LUCKNOW\"    \"MUMBAI\"     \"NAGPUR\"     \"KER\"       \n",
       "[31] \"PATNA\"      \"CHGARH\"     \"JH\"         \"SHIMLA\"     \"SRINAGAR\"  \n",
       "[36] \"TRIVENDRUM\""
      ]
     },
     "execution_count": 78,
     "metadata": {},
     "output_type": "execute_result"
    }
   ],
   "source": [
    "unique(df$state)"
   ]
  },
  {
   "cell_type": "code",
   "execution_count": 79,
   "metadata": {
    "collapsed": false
   },
   "outputs": [
    {
     "data": {
      "text/html": [
       "<ol class=list-inline>\n",
       "\t<li>'ABOHAR'</li>\n",
       "\t<li>'AGRA'</li>\n",
       "\t<li>'AHMEDABAD'</li>\n",
       "\t<li>'AHMEDNAGAR'</li>\n",
       "\t<li>'AJMER'</li>\n",
       "\t<li>'ALIGARH'</li>\n",
       "\t<li>'ALWAR'</li>\n",
       "\t<li>'AMRITSAR'</li>\n",
       "\t<li>'BALLIA'</li>\n",
       "\t<li>'BANGALORE'</li>\n",
       "\t<li>'BAREILLY'</li>\n",
       "\t<li>'BELGAUM'</li>\n",
       "\t<li>'BHATINDA'</li>\n",
       "\t<li>'BHAVNAGAR'</li>\n",
       "\t<li>'BHOPAL'</li>\n",
       "\t<li>'BHUBNESWER'</li>\n",
       "\t<li>'BIHARSHARIF'</li>\n",
       "\t<li>'BIJAPUR'</li>\n",
       "\t<li>'BIKANER'</li>\n",
       "\t<li>'BOMBORI'</li>\n",
       "\t<li>'BURDWAN'</li>\n",
       "\t<li>'CHAKAN'</li>\n",
       "\t<li>'CHALLAKERE'</li>\n",
       "\t<li>'CHANDIGARH'</li>\n",
       "\t<li>'CHANDVAD'</li>\n",
       "\t<li>'CHENNAI'</li>\n",
       "\t<li>'CHICKBALLAPUR'</li>\n",
       "\t<li>'COIMBATORE'</li>\n",
       "\t<li>'DEESA'</li>\n",
       "\t<li>'DEHRADOON'</li>\n",
       "\t<li>'DELHI'</li>\n",
       "\t<li>'DEORIA'</li>\n",
       "\t<li>'DEVALA'</li>\n",
       "\t<li>'DEWAS'</li>\n",
       "\t<li>'DHAVANGERE'</li>\n",
       "\t<li>'DHULIA'</li>\n",
       "\t<li>'DINDIGUL'</li>\n",
       "\t<li>'DINDORI'</li>\n",
       "\t<li>'ETAWAH'</li>\n",
       "\t<li>'GONDAL'</li>\n",
       "\t<li>'GORAKHPUR'</li>\n",
       "\t<li>'GUWAHATI'</li>\n",
       "\t<li>'HALDWANI'</li>\n",
       "\t<li>'HASSAN'</li>\n",
       "\t<li>'HOSHIARPUR'</li>\n",
       "\t<li>'HUBLI'</li>\n",
       "\t<li>'HYDERABAD'</li>\n",
       "\t<li>'INDORE'</li>\n",
       "\t<li>'JAIPUR'</li>\n",
       "\t<li>'JALANDHAR'</li>\n",
       "\t<li>'JALGAON'</li>\n",
       "\t<li>'JAMMU'</li>\n",
       "\t<li>'JAMNAGAR'</li>\n",
       "\t<li>'JODHPUR'</li>\n",
       "\t<li>'JUNNAR'</li>\n",
       "\t<li>'KALVAN'</li>\n",
       "\t<li>'KANPUR'</li>\n",
       "\t<li>'KARNAL'</li>\n",
       "\t<li>'KHANNA'</li>\n",
       "\t<li>'KOLAR'</li>\n",
       "\t<li>'KOLHAPUR'</li>\n",
       "\t<li>'KOLKATA'</li>\n",
       "\t<li>'KOPERGAON'</li>\n",
       "\t<li>'KOTA'</li>\n",
       "\t<li>'KURNOOL'</li>\n",
       "\t<li>'LASALGAON'</li>\n",
       "\t<li>'LONAND'</li>\n",
       "\t<li>'LUCKNOW'</li>\n",
       "\t<li>'LUDHIANA'</li>\n",
       "\t<li>'MADURAI'</li>\n",
       "\t<li>'MAHUVA'</li>\n",
       "\t<li>'MALEGAON'</li>\n",
       "\t<li>'MANDSOUR'</li>\n",
       "\t<li>'MANMAD'</li>\n",
       "\t<li>'MEERUT'</li>\n",
       "\t<li>'MIDNAPUR'</li>\n",
       "\t<li>'MUMBAI'</li>\n",
       "\t<li>'NAGPUR'</li>\n",
       "\t<li>'NANDGAON'</li>\n",
       "\t<li>'NASIK'</li>\n",
       "\t<li>'NEEMUCH'</li>\n",
       "\t<li>'NEWASA'</li>\n",
       "\t<li>'NIPHAD'</li>\n",
       "\t<li>'PALAYAM'</li>\n",
       "\t<li>'PATIALA'</li>\n",
       "\t<li>'PATNA'</li>\n",
       "\t<li>'PHALTAN '</li>\n",
       "\t<li>'PIMPALGAON'</li>\n",
       "\t<li>'PUNE'</li>\n",
       "\t<li>'PURULIA'</li>\n",
       "\t<li>'RAHATA'</li>\n",
       "\t<li>'RAHURI'</li>\n",
       "\t<li>'RAICHUR'</li>\n",
       "\t<li>'RAIPUR'</li>\n",
       "\t<li>'RAJAHMUNDRY'</li>\n",
       "\t<li>'RAJKOT'</li>\n",
       "\t<li>'RANCHI'</li>\n",
       "\t<li>'SAGAR'</li>\n",
       "\t<li>'SAIKHEDA'</li>\n",
       "\t<li>'SANGALI'</li>\n",
       "\t<li>'SANGAMNER'</li>\n",
       "\t<li>'SATANA'</li>\n",
       "\t<li>'SHEROAPHULY'</li>\n",
       "\t<li>'SHIMLA'</li>\n",
       "\t<li>'SHRIRAMPUR'</li>\n",
       "\t<li>'SINNAR'</li>\n",
       "\t<li>'SOLAPUR'</li>\n",
       "\t<li>'SRIGANGANAGAR'</li>\n",
       "\t<li>'SRINAGAR'</li>\n",
       "\t<li>'SRIRAMPUR'</li>\n",
       "\t<li>'SURAT'</li>\n",
       "\t<li>'TRIVENDRUM'</li>\n",
       "\t<li>'UDAIPUR'</li>\n",
       "\t<li>'UJJAIN'</li>\n",
       "\t<li>'VANI'</li>\n",
       "\t<li>'VARANASI'</li>\n",
       "\t<li>'YEOLA'</li>\n",
       "</ol>\n"
      ],
      "text/latex": [
       "\\begin{enumerate*}\n",
       "\\item 'ABOHAR'\n",
       "\\item 'AGRA'\n",
       "\\item 'AHMEDABAD'\n",
       "\\item 'AHMEDNAGAR'\n",
       "\\item 'AJMER'\n",
       "\\item 'ALIGARH'\n",
       "\\item 'ALWAR'\n",
       "\\item 'AMRITSAR'\n",
       "\\item 'BALLIA'\n",
       "\\item 'BANGALORE'\n",
       "\\item 'BAREILLY'\n",
       "\\item 'BELGAUM'\n",
       "\\item 'BHATINDA'\n",
       "\\item 'BHAVNAGAR'\n",
       "\\item 'BHOPAL'\n",
       "\\item 'BHUBNESWER'\n",
       "\\item 'BIHARSHARIF'\n",
       "\\item 'BIJAPUR'\n",
       "\\item 'BIKANER'\n",
       "\\item 'BOMBORI'\n",
       "\\item 'BURDWAN'\n",
       "\\item 'CHAKAN'\n",
       "\\item 'CHALLAKERE'\n",
       "\\item 'CHANDIGARH'\n",
       "\\item 'CHANDVAD'\n",
       "\\item 'CHENNAI'\n",
       "\\item 'CHICKBALLAPUR'\n",
       "\\item 'COIMBATORE'\n",
       "\\item 'DEESA'\n",
       "\\item 'DEHRADOON'\n",
       "\\item 'DELHI'\n",
       "\\item 'DEORIA'\n",
       "\\item 'DEVALA'\n",
       "\\item 'DEWAS'\n",
       "\\item 'DHAVANGERE'\n",
       "\\item 'DHULIA'\n",
       "\\item 'DINDIGUL'\n",
       "\\item 'DINDORI'\n",
       "\\item 'ETAWAH'\n",
       "\\item 'GONDAL'\n",
       "\\item 'GORAKHPUR'\n",
       "\\item 'GUWAHATI'\n",
       "\\item 'HALDWANI'\n",
       "\\item 'HASSAN'\n",
       "\\item 'HOSHIARPUR'\n",
       "\\item 'HUBLI'\n",
       "\\item 'HYDERABAD'\n",
       "\\item 'INDORE'\n",
       "\\item 'JAIPUR'\n",
       "\\item 'JALANDHAR'\n",
       "\\item 'JALGAON'\n",
       "\\item 'JAMMU'\n",
       "\\item 'JAMNAGAR'\n",
       "\\item 'JODHPUR'\n",
       "\\item 'JUNNAR'\n",
       "\\item 'KALVAN'\n",
       "\\item 'KANPUR'\n",
       "\\item 'KARNAL'\n",
       "\\item 'KHANNA'\n",
       "\\item 'KOLAR'\n",
       "\\item 'KOLHAPUR'\n",
       "\\item 'KOLKATA'\n",
       "\\item 'KOPERGAON'\n",
       "\\item 'KOTA'\n",
       "\\item 'KURNOOL'\n",
       "\\item 'LASALGAON'\n",
       "\\item 'LONAND'\n",
       "\\item 'LUCKNOW'\n",
       "\\item 'LUDHIANA'\n",
       "\\item 'MADURAI'\n",
       "\\item 'MAHUVA'\n",
       "\\item 'MALEGAON'\n",
       "\\item 'MANDSOUR'\n",
       "\\item 'MANMAD'\n",
       "\\item 'MEERUT'\n",
       "\\item 'MIDNAPUR'\n",
       "\\item 'MUMBAI'\n",
       "\\item 'NAGPUR'\n",
       "\\item 'NANDGAON'\n",
       "\\item 'NASIK'\n",
       "\\item 'NEEMUCH'\n",
       "\\item 'NEWASA'\n",
       "\\item 'NIPHAD'\n",
       "\\item 'PALAYAM'\n",
       "\\item 'PATIALA'\n",
       "\\item 'PATNA'\n",
       "\\item 'PHALTAN '\n",
       "\\item 'PIMPALGAON'\n",
       "\\item 'PUNE'\n",
       "\\item 'PURULIA'\n",
       "\\item 'RAHATA'\n",
       "\\item 'RAHURI'\n",
       "\\item 'RAICHUR'\n",
       "\\item 'RAIPUR'\n",
       "\\item 'RAJAHMUNDRY'\n",
       "\\item 'RAJKOT'\n",
       "\\item 'RANCHI'\n",
       "\\item 'SAGAR'\n",
       "\\item 'SAIKHEDA'\n",
       "\\item 'SANGALI'\n",
       "\\item 'SANGAMNER'\n",
       "\\item 'SATANA'\n",
       "\\item 'SHEROAPHULY'\n",
       "\\item 'SHIMLA'\n",
       "\\item 'SHRIRAMPUR'\n",
       "\\item 'SINNAR'\n",
       "\\item 'SOLAPUR'\n",
       "\\item 'SRIGANGANAGAR'\n",
       "\\item 'SRINAGAR'\n",
       "\\item 'SRIRAMPUR'\n",
       "\\item 'SURAT'\n",
       "\\item 'TRIVENDRUM'\n",
       "\\item 'UDAIPUR'\n",
       "\\item 'UJJAIN'\n",
       "\\item 'VANI'\n",
       "\\item 'VARANASI'\n",
       "\\item 'YEOLA'\n",
       "\\end{enumerate*}\n"
      ],
      "text/markdown": [
       "1. 'ABOHAR'\n",
       "2. 'AGRA'\n",
       "3. 'AHMEDABAD'\n",
       "4. 'AHMEDNAGAR'\n",
       "5. 'AJMER'\n",
       "6. 'ALIGARH'\n",
       "7. 'ALWAR'\n",
       "8. 'AMRITSAR'\n",
       "9. 'BALLIA'\n",
       "10. 'BANGALORE'\n",
       "11. 'BAREILLY'\n",
       "12. 'BELGAUM'\n",
       "13. 'BHATINDA'\n",
       "14. 'BHAVNAGAR'\n",
       "15. 'BHOPAL'\n",
       "16. 'BHUBNESWER'\n",
       "17. 'BIHARSHARIF'\n",
       "18. 'BIJAPUR'\n",
       "19. 'BIKANER'\n",
       "20. 'BOMBORI'\n",
       "21. 'BURDWAN'\n",
       "22. 'CHAKAN'\n",
       "23. 'CHALLAKERE'\n",
       "24. 'CHANDIGARH'\n",
       "25. 'CHANDVAD'\n",
       "26. 'CHENNAI'\n",
       "27. 'CHICKBALLAPUR'\n",
       "28. 'COIMBATORE'\n",
       "29. 'DEESA'\n",
       "30. 'DEHRADOON'\n",
       "31. 'DELHI'\n",
       "32. 'DEORIA'\n",
       "33. 'DEVALA'\n",
       "34. 'DEWAS'\n",
       "35. 'DHAVANGERE'\n",
       "36. 'DHULIA'\n",
       "37. 'DINDIGUL'\n",
       "38. 'DINDORI'\n",
       "39. 'ETAWAH'\n",
       "40. 'GONDAL'\n",
       "41. 'GORAKHPUR'\n",
       "42. 'GUWAHATI'\n",
       "43. 'HALDWANI'\n",
       "44. 'HASSAN'\n",
       "45. 'HOSHIARPUR'\n",
       "46. 'HUBLI'\n",
       "47. 'HYDERABAD'\n",
       "48. 'INDORE'\n",
       "49. 'JAIPUR'\n",
       "50. 'JALANDHAR'\n",
       "51. 'JALGAON'\n",
       "52. 'JAMMU'\n",
       "53. 'JAMNAGAR'\n",
       "54. 'JODHPUR'\n",
       "55. 'JUNNAR'\n",
       "56. 'KALVAN'\n",
       "57. 'KANPUR'\n",
       "58. 'KARNAL'\n",
       "59. 'KHANNA'\n",
       "60. 'KOLAR'\n",
       "61. 'KOLHAPUR'\n",
       "62. 'KOLKATA'\n",
       "63. 'KOPERGAON'\n",
       "64. 'KOTA'\n",
       "65. 'KURNOOL'\n",
       "66. 'LASALGAON'\n",
       "67. 'LONAND'\n",
       "68. 'LUCKNOW'\n",
       "69. 'LUDHIANA'\n",
       "70. 'MADURAI'\n",
       "71. 'MAHUVA'\n",
       "72. 'MALEGAON'\n",
       "73. 'MANDSOUR'\n",
       "74. 'MANMAD'\n",
       "75. 'MEERUT'\n",
       "76. 'MIDNAPUR'\n",
       "77. 'MUMBAI'\n",
       "78. 'NAGPUR'\n",
       "79. 'NANDGAON'\n",
       "80. 'NASIK'\n",
       "81. 'NEEMUCH'\n",
       "82. 'NEWASA'\n",
       "83. 'NIPHAD'\n",
       "84. 'PALAYAM'\n",
       "85. 'PATIALA'\n",
       "86. 'PATNA'\n",
       "87. 'PHALTAN '\n",
       "88. 'PIMPALGAON'\n",
       "89. 'PUNE'\n",
       "90. 'PURULIA'\n",
       "91. 'RAHATA'\n",
       "92. 'RAHURI'\n",
       "93. 'RAICHUR'\n",
       "94. 'RAIPUR'\n",
       "95. 'RAJAHMUNDRY'\n",
       "96. 'RAJKOT'\n",
       "97. 'RANCHI'\n",
       "98. 'SAGAR'\n",
       "99. 'SAIKHEDA'\n",
       "100. 'SANGALI'\n",
       "101. 'SANGAMNER'\n",
       "102. 'SATANA'\n",
       "103. 'SHEROAPHULY'\n",
       "104. 'SHIMLA'\n",
       "105. 'SHRIRAMPUR'\n",
       "106. 'SINNAR'\n",
       "107. 'SOLAPUR'\n",
       "108. 'SRIGANGANAGAR'\n",
       "109. 'SRINAGAR'\n",
       "110. 'SRIRAMPUR'\n",
       "111. 'SURAT'\n",
       "112. 'TRIVENDRUM'\n",
       "113. 'UDAIPUR'\n",
       "114. 'UJJAIN'\n",
       "115. 'VANI'\n",
       "116. 'VARANASI'\n",
       "117. 'YEOLA'\n",
       "\n",
       "\n"
      ],
      "text/plain": [
       "  [1] \"ABOHAR\"        \"AGRA\"          \"AHMEDABAD\"     \"AHMEDNAGAR\"   \n",
       "  [5] \"AJMER\"         \"ALIGARH\"       \"ALWAR\"         \"AMRITSAR\"     \n",
       "  [9] \"BALLIA\"        \"BANGALORE\"     \"BAREILLY\"      \"BELGAUM\"      \n",
       " [13] \"BHATINDA\"      \"BHAVNAGAR\"     \"BHOPAL\"        \"BHUBNESWER\"   \n",
       " [17] \"BIHARSHARIF\"   \"BIJAPUR\"       \"BIKANER\"       \"BOMBORI\"      \n",
       " [21] \"BURDWAN\"       \"CHAKAN\"        \"CHALLAKERE\"    \"CHANDIGARH\"   \n",
       " [25] \"CHANDVAD\"      \"CHENNAI\"       \"CHICKBALLAPUR\" \"COIMBATORE\"   \n",
       " [29] \"DEESA\"         \"DEHRADOON\"     \"DELHI\"         \"DEORIA\"       \n",
       " [33] \"DEVALA\"        \"DEWAS\"         \"DHAVANGERE\"    \"DHULIA\"       \n",
       " [37] \"DINDIGUL\"      \"DINDORI\"       \"ETAWAH\"        \"GONDAL\"       \n",
       " [41] \"GORAKHPUR\"     \"GUWAHATI\"      \"HALDWANI\"      \"HASSAN\"       \n",
       " [45] \"HOSHIARPUR\"    \"HUBLI\"         \"HYDERABAD\"     \"INDORE\"       \n",
       " [49] \"JAIPUR\"        \"JALANDHAR\"     \"JALGAON\"       \"JAMMU\"        \n",
       " [53] \"JAMNAGAR\"      \"JODHPUR\"       \"JUNNAR\"        \"KALVAN\"       \n",
       " [57] \"KANPUR\"        \"KARNAL\"        \"KHANNA\"        \"KOLAR\"        \n",
       " [61] \"KOLHAPUR\"      \"KOLKATA\"       \"KOPERGAON\"     \"KOTA\"         \n",
       " [65] \"KURNOOL\"       \"LASALGAON\"     \"LONAND\"        \"LUCKNOW\"      \n",
       " [69] \"LUDHIANA\"      \"MADURAI\"       \"MAHUVA\"        \"MALEGAON\"     \n",
       " [73] \"MANDSOUR\"      \"MANMAD\"        \"MEERUT\"        \"MIDNAPUR\"     \n",
       " [77] \"MUMBAI\"        \"NAGPUR\"        \"NANDGAON\"      \"NASIK\"        \n",
       " [81] \"NEEMUCH\"       \"NEWASA\"        \"NIPHAD\"        \"PALAYAM\"      \n",
       " [85] \"PATIALA\"       \"PATNA\"         \"PHALTAN \"      \"PIMPALGAON\"   \n",
       " [89] \"PUNE\"          \"PURULIA\"       \"RAHATA\"        \"RAHURI\"       \n",
       " [93] \"RAICHUR\"       \"RAIPUR\"        \"RAJAHMUNDRY\"   \"RAJKOT\"       \n",
       " [97] \"RANCHI\"        \"SAGAR\"         \"SAIKHEDA\"      \"SANGALI\"      \n",
       "[101] \"SANGAMNER\"     \"SATANA\"        \"SHEROAPHULY\"   \"SHIMLA\"       \n",
       "[105] \"SHRIRAMPUR\"    \"SINNAR\"        \"SOLAPUR\"       \"SRIGANGANAGAR\"\n",
       "[109] \"SRINAGAR\"      \"SRIRAMPUR\"     \"SURAT\"         \"TRIVENDRUM\"   \n",
       "[113] \"UDAIPUR\"       \"UJJAIN\"        \"VANI\"          \"VARANASI\"     \n",
       "[117] \"YEOLA\"        "
      ]
     },
     "execution_count": 79,
     "metadata": {},
     "output_type": "execute_result"
    }
   ],
   "source": [
    "unique(df$city)"
   ]
  },
  {
   "cell_type": "code",
   "execution_count": 250,
   "metadata": {
    "collapsed": true
   },
   "outputs": [],
   "source": [
    "state_now <- c('PB', 'UP', 'GUJ', 'MS', 'RAJ', 'BANGALORE', 'KNT', 'BHOPAL', 'OR',\n",
    "       'BHR', 'WB', 'CHANDIGARH', 'CHENNAI','UTT',\n",
    "       'DELHI', 'MP', 'TN', 'Podis', 'GUWAHATI', 'HYDERABAD', 'JAIPUR',\n",
    "       'WHITE', 'JAMMU', 'HR', 'KOLKATA', 'AP', 'LUCKNOW', 'MUMBAI',\n",
    "       'NAGPUR', 'KER', 'PATNA', 'CHGARH', 'JH', 'SHIMLA', 'SRINAGAR',\n",
    "       'TRIVENDRUM')"
   ]
  },
  {
   "cell_type": "code",
   "execution_count": 251,
   "metadata": {
    "collapsed": true
   },
   "outputs": [],
   "source": [
    "state_new <- c('PB', 'UP', 'GUJ', 'MS', 'RAJ', 'KNT', 'KNT', 'MP', 'OR',\n",
    "       'BHR', 'WB', 'CH', 'TN', 'KNT', 'TN', 'UP',\n",
    "       'DEL', 'MP', 'TN', 'TN', 'ASM', 'AP', 'RAJ',\n",
    "       'MS', 'JK', 'HR', 'WB', 'AP', 'UP', 'MS',\n",
    "       'MS', 'KER', 'BHR', 'HR', 'JH', 'HP', 'JK',\n",
    "       'KEL')"
   ]
  },
  {
   "cell_type": "code",
   "execution_count": 252,
   "metadata": {
    "collapsed": false
   },
   "outputs": [
    {
     "name": "stderr",
     "output_type": "stream",
     "text": [
      "Warning message:\n",
      "In replace(df$state, state_now, state_new): number of items to replace is not a multiple of replacement length"
     ]
    },
    {
     "ename": "ERROR",
     "evalue": "Error in `$<-.data.frame`(`*tmp*`, \"state\", value = structure(c(\"PB\", : replacement has 10356 rows, data has 10320\n",
     "output_type": "error",
     "traceback": [
      "Error in `$<-.data.frame`(`*tmp*`, \"state\", value = structure(c(\"PB\", : replacement has 10356 rows, data has 10320\n"
     ]
    }
   ],
   "source": [
    "df$state <- replace(df$state,state_now,state_new)"
   ]
  },
  {
   "cell_type": "code",
   "execution_count": 83,
   "metadata": {
    "collapsed": false
   },
   "outputs": [
    {
     "data": {
      "text/html": [
       "<ol class=list-inline>\n",
       "\t<li>'PB'</li>\n",
       "\t<li>'UP'</li>\n",
       "\t<li>'GUJ'</li>\n",
       "\t<li>'MS'</li>\n",
       "\t<li>'RAJ'</li>\n",
       "\t<li>'BANGALORE'</li>\n",
       "\t<li>'KNT'</li>\n",
       "\t<li>'BHOPAL'</li>\n",
       "\t<li>'OR'</li>\n",
       "\t<li>'BHR'</li>\n",
       "\t<li>'WB'</li>\n",
       "\t<li>'CHANDIGARH'</li>\n",
       "\t<li>'CHENNAI'</li>\n",
       "\t<li>'TN '</li>\n",
       "\t<li>'UTT'</li>\n",
       "\t<li>'DELHI'</li>\n",
       "\t<li>'MP'</li>\n",
       "\t<li>'TN'</li>\n",
       "\t<li>'GUWAHATI'</li>\n",
       "\t<li>'HYDERABAD'</li>\n",
       "\t<li>'JAIPUR'</li>\n",
       "\t<li>'WHITE'</li>\n",
       "\t<li>'JAMMU'</li>\n",
       "\t<li>'HR'</li>\n",
       "\t<li>'KOLKATA'</li>\n",
       "\t<li>'AP'</li>\n",
       "\t<li>'LUCKNOW'</li>\n",
       "\t<li>'MUMBAI'</li>\n",
       "\t<li>'NAGPUR'</li>\n",
       "\t<li>'KER'</li>\n",
       "\t<li>'PATNA'</li>\n",
       "\t<li>'CHGARH'</li>\n",
       "\t<li>'JH'</li>\n",
       "\t<li>'SHIMLA'</li>\n",
       "\t<li>'SRINAGAR'</li>\n",
       "\t<li>'TRIVENDRUM'</li>\n",
       "</ol>\n"
      ],
      "text/latex": [
       "\\begin{enumerate*}\n",
       "\\item 'PB'\n",
       "\\item 'UP'\n",
       "\\item 'GUJ'\n",
       "\\item 'MS'\n",
       "\\item 'RAJ'\n",
       "\\item 'BANGALORE'\n",
       "\\item 'KNT'\n",
       "\\item 'BHOPAL'\n",
       "\\item 'OR'\n",
       "\\item 'BHR'\n",
       "\\item 'WB'\n",
       "\\item 'CHANDIGARH'\n",
       "\\item 'CHENNAI'\n",
       "\\item 'TN '\n",
       "\\item 'UTT'\n",
       "\\item 'DELHI'\n",
       "\\item 'MP'\n",
       "\\item 'TN'\n",
       "\\item 'GUWAHATI'\n",
       "\\item 'HYDERABAD'\n",
       "\\item 'JAIPUR'\n",
       "\\item 'WHITE'\n",
       "\\item 'JAMMU'\n",
       "\\item 'HR'\n",
       "\\item 'KOLKATA'\n",
       "\\item 'AP'\n",
       "\\item 'LUCKNOW'\n",
       "\\item 'MUMBAI'\n",
       "\\item 'NAGPUR'\n",
       "\\item 'KER'\n",
       "\\item 'PATNA'\n",
       "\\item 'CHGARH'\n",
       "\\item 'JH'\n",
       "\\item 'SHIMLA'\n",
       "\\item 'SRINAGAR'\n",
       "\\item 'TRIVENDRUM'\n",
       "\\end{enumerate*}\n"
      ],
      "text/markdown": [
       "1. 'PB'\n",
       "2. 'UP'\n",
       "3. 'GUJ'\n",
       "4. 'MS'\n",
       "5. 'RAJ'\n",
       "6. 'BANGALORE'\n",
       "7. 'KNT'\n",
       "8. 'BHOPAL'\n",
       "9. 'OR'\n",
       "10. 'BHR'\n",
       "11. 'WB'\n",
       "12. 'CHANDIGARH'\n",
       "13. 'CHENNAI'\n",
       "14. 'TN '\n",
       "15. 'UTT'\n",
       "16. 'DELHI'\n",
       "17. 'MP'\n",
       "18. 'TN'\n",
       "19. 'GUWAHATI'\n",
       "20. 'HYDERABAD'\n",
       "21. 'JAIPUR'\n",
       "22. 'WHITE'\n",
       "23. 'JAMMU'\n",
       "24. 'HR'\n",
       "25. 'KOLKATA'\n",
       "26. 'AP'\n",
       "27. 'LUCKNOW'\n",
       "28. 'MUMBAI'\n",
       "29. 'NAGPUR'\n",
       "30. 'KER'\n",
       "31. 'PATNA'\n",
       "32. 'CHGARH'\n",
       "33. 'JH'\n",
       "34. 'SHIMLA'\n",
       "35. 'SRINAGAR'\n",
       "36. 'TRIVENDRUM'\n",
       "\n",
       "\n"
      ],
      "text/plain": [
       " [1] \"PB\"         \"UP\"         \"GUJ\"        \"MS\"         \"RAJ\"       \n",
       " [6] \"BANGALORE\"  \"KNT\"        \"BHOPAL\"     \"OR\"         \"BHR\"       \n",
       "[11] \"WB\"         \"CHANDIGARH\" \"CHENNAI\"    \"TN \"        \"UTT\"       \n",
       "[16] \"DELHI\"      \"MP\"         \"TN\"         \"GUWAHATI\"   \"HYDERABAD\" \n",
       "[21] \"JAIPUR\"     \"WHITE\"      \"JAMMU\"      \"HR\"         \"KOLKATA\"   \n",
       "[26] \"AP\"         \"LUCKNOW\"    \"MUMBAI\"     \"NAGPUR\"     \"KER\"       \n",
       "[31] \"PATNA\"      \"CHGARH\"     \"JH\"         \"SHIMLA\"     \"SRINAGAR\"  \n",
       "[36] \"TRIVENDRUM\""
      ]
     },
     "execution_count": 83,
     "metadata": {},
     "output_type": "execute_result"
    }
   ],
   "source": [
    "unique(df$state)"
   ]
  },
  {
   "cell_type": "code",
   "execution_count": null,
   "metadata": {
    "collapsed": true
   },
   "outputs": [],
   "source": []
  }
 ],
 "metadata": {
  "kernelspec": {
   "display_name": "R",
   "language": "R",
   "name": "ir"
  },
  "language_info": {
   "codemirror_mode": "r",
   "file_extension": ".r",
   "mimetype": "text/x-r-source",
   "name": "R",
   "pygments_lexer": "r",
   "version": "3.2.4"
  }
 },
 "nbformat": 4,
 "nbformat_minor": 0
}
