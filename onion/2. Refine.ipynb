{
 "cells": [
  {
   "cell_type": "markdown",
   "metadata": {},
   "source": [
    "# 2. Refine the Data\n",
    " \n",
    "> \"Data is messy\"\n",
    "\n",
    "We will be performing the following operation on our Onion price to refine it\n",
    "- **Remove** e.g. remove redundant data from the data frame\n",
    "- **Derive** e.g. State and City from the market field\n",
    "- **Parse** e.g. extract date from year and month column\n",
    "\n",
    "Other stuff you may need to do to refine are...\n",
    "- **Missing** e.g. Check for missing or incomplete data\n",
    "- **Quality** e.g. Check for duplicates, accuracy, unusual data\n",
    "- **Convert** e.g. free text to coded value\n",
    "- **Calculate** e.g. percentages, proportion\n",
    "- **Merge** e.g. first and surname for full name\n",
    "- **Aggregate** e.g. rollup by year, cluster by area\n",
    "- **Filter** e.g. exclude based on location\n",
    "- **Sample** e.g. extract a representative data\n",
    "- **Summary** e.g. show summary stats like mean"
   ]
  },
  {
   "cell_type": "code",
   "execution_count": 16,
   "metadata": {
    "collapsed": false
   },
   "outputs": [
    {
     "name": "stderr",
     "output_type": "stream",
     "text": [
      "\n",
      "Attaching package: ‘dplyr’\n",
      "\n",
      "The following objects are masked from ‘package:stats’:\n",
      "\n",
      "    filter, lag\n",
      "\n",
      "The following objects are masked from ‘package:base’:\n",
      "\n",
      "    intersect, setdiff, setequal, union\n",
      "\n"
     ]
    }
   ],
   "source": [
    "library(dplyr)"
   ]
  },
  {
   "cell_type": "code",
   "execution_count": 90,
   "metadata": {
    "collapsed": false
   },
   "outputs": [],
   "source": [
    "df <- read.csv('MonthWiseMarketArrivals.csv')"
   ]
  },
  {
   "cell_type": "code",
   "execution_count": 91,
   "metadata": {
    "collapsed": false
   },
   "outputs": [
    {
     "data": {
      "text/html": [
       "<ol class=list-inline>\n",
       "\t<li>10228</li>\n",
       "\t<li>7</li>\n",
       "</ol>\n"
      ],
      "text/latex": [
       "\\begin{enumerate*}\n",
       "\\item 10228\n",
       "\\item 7\n",
       "\\end{enumerate*}\n"
      ],
      "text/markdown": [
       "1. 10228\n",
       "2. 7\n",
       "\n",
       "\n"
      ],
      "text/plain": [
       "[1] 10228     7"
      ]
     },
     "execution_count": 91,
     "metadata": {},
     "output_type": "execute_result"
    }
   ],
   "source": [
    "dim(df)"
   ]
  },
  {
   "cell_type": "code",
   "execution_count": 92,
   "metadata": {
    "collapsed": false
   },
   "outputs": [
    {
     "data": {
      "text/html": [
       "<table>\n",
       "<thead><tr><th></th><th scope=col>market</th><th scope=col>month</th><th scope=col>year</th><th scope=col>quantity</th><th scope=col>priceMin</th><th scope=col>priceMax</th><th scope=col>priceMod</th></tr></thead>\n",
       "<tbody>\n",
       "\t<tr><th scope=row>1</th><td>ABOHAR(PB)</td><td>January</td><td>2005</td><td>2350</td><td>404</td><td>493</td><td>446</td></tr>\n",
       "\t<tr><th scope=row>2</th><td>ABOHAR(PB)</td><td>January</td><td>2006</td><td>900</td><td>487</td><td>638</td><td>563</td></tr>\n",
       "\t<tr><th scope=row>3</th><td>ABOHAR(PB)</td><td>January</td><td>2010</td><td>790</td><td>1283</td><td>1592</td><td>1460</td></tr>\n",
       "\t<tr><th scope=row>4</th><td>ABOHAR(PB)</td><td>January</td><td>2011</td><td>245</td><td>3067</td><td>3750</td><td>3433</td></tr>\n",
       "\t<tr><th scope=row>5</th><td>ABOHAR(PB)</td><td>January</td><td>2012</td><td>1035</td><td>523</td><td>686</td><td>605</td></tr>\n",
       "\t<tr><th scope=row>6</th><td>ABOHAR(PB)</td><td>January</td><td>2013</td><td>675</td><td>1327</td><td>1900</td><td>1605</td></tr>\n",
       "</tbody>\n",
       "</table>\n"
      ],
      "text/latex": [
       "\\begin{tabular}{r|lllllll}\n",
       "  & market & month & year & quantity & priceMin & priceMax & priceMod\\\\\n",
       "\\hline\n",
       "\t1 & ABOHAR(PB) & January & 2005 & 2350 & 404 & 493 & 446\\\\\n",
       "\t2 & ABOHAR(PB) & January & 2006 & 900 & 487 & 638 & 563\\\\\n",
       "\t3 & ABOHAR(PB) & January & 2010 & 790 & 1283 & 1592 & 1460\\\\\n",
       "\t4 & ABOHAR(PB) & January & 2011 & 245 & 3067 & 3750 & 3433\\\\\n",
       "\t5 & ABOHAR(PB) & January & 2012 & 1035 & 523 & 686 & 605\\\\\n",
       "\t6 & ABOHAR(PB) & January & 2013 & 675 & 1327 & 1900 & 1605\\\\\n",
       "\\end{tabular}\n"
      ],
      "text/plain": [
       "      market   month year quantity priceMin priceMax priceMod\n",
       "1 ABOHAR(PB) January 2005     2350      404      493      446\n",
       "2 ABOHAR(PB) January 2006      900      487      638      563\n",
       "3 ABOHAR(PB) January 2010      790     1283     1592     1460\n",
       "4 ABOHAR(PB) January 2011      245     3067     3750     3433\n",
       "5 ABOHAR(PB) January 2012     1035      523      686      605\n",
       "6 ABOHAR(PB) January 2013      675     1327     1900     1605"
      ]
     },
     "execution_count": 92,
     "metadata": {},
     "output_type": "execute_result"
    }
   ],
   "source": [
    "head(df)"
   ]
  },
  {
   "cell_type": "code",
   "execution_count": 93,
   "metadata": {
    "collapsed": false
   },
   "outputs": [
    {
     "data": {
      "text/html": [
       "'data.frame'"
      ],
      "text/latex": [
       "'data.frame'"
      ],
      "text/markdown": [
       "'data.frame'"
      ],
      "text/plain": [
       "[1] \"data.frame\""
      ]
     },
     "execution_count": 93,
     "metadata": {},
     "output_type": "execute_result"
    }
   ],
   "source": [
    "class(df)"
   ]
  },
  {
   "cell_type": "code",
   "execution_count": 94,
   "metadata": {
    "collapsed": false
   },
   "outputs": [
    {
     "data": {
      "text/html": [
       "<dl class=dl-horizontal>\n",
       "\t<dt>market</dt>\n",
       "\t\t<dd>'factor'</dd>\n",
       "\t<dt>month</dt>\n",
       "\t\t<dd>'factor'</dd>\n",
       "\t<dt>year</dt>\n",
       "\t\t<dd>'factor'</dd>\n",
       "\t<dt>quantity</dt>\n",
       "\t\t<dd>'integer'</dd>\n",
       "\t<dt>priceMin</dt>\n",
       "\t\t<dd>'factor'</dd>\n",
       "\t<dt>priceMax</dt>\n",
       "\t\t<dd>'factor'</dd>\n",
       "\t<dt>priceMod</dt>\n",
       "\t\t<dd>'factor'</dd>\n",
       "</dl>\n"
      ],
      "text/latex": [
       "\\begin{description*}\n",
       "\\item[market] 'factor'\n",
       "\\item[month] 'factor'\n",
       "\\item[year] 'factor'\n",
       "\\item[quantity] 'integer'\n",
       "\\item[priceMin] 'factor'\n",
       "\\item[priceMax] 'factor'\n",
       "\\item[priceMod] 'factor'\n",
       "\\end{description*}\n"
      ],
      "text/markdown": [
       "market\n",
       ":   'factor'month\n",
       ":   'factor'year\n",
       ":   'factor'quantity\n",
       ":   'integer'priceMin\n",
       ":   'factor'priceMax\n",
       ":   'factor'priceMod\n",
       ":   'factor'\n",
       "\n"
      ],
      "text/plain": [
       "   market     month      year  quantity  priceMin  priceMax  priceMod \n",
       " \"factor\"  \"factor\"  \"factor\" \"integer\"  \"factor\"  \"factor\"  \"factor\" "
      ]
     },
     "execution_count": 94,
     "metadata": {},
     "output_type": "execute_result"
    }
   ],
   "source": [
    "sapply(df , class)"
   ]
  },
  {
   "cell_type": "code",
   "execution_count": 95,
   "metadata": {
    "collapsed": false
   },
   "outputs": [
    {
     "data": {
      "text/html": [
       "<table>\n",
       "<thead><tr><th></th><th scope=col>market</th><th scope=col>month</th><th scope=col>year</th><th scope=col>quantity</th><th scope=col>priceMin</th><th scope=col>priceMax</th><th scope=col>priceMod</th></tr></thead>\n",
       "<tbody>\n",
       "\t<tr><th scope=row>10228</th><td></td><td></td><td>Total</td><td>783438108</td><td>647(Avg)</td><td>1213(Avg)</td><td>984(Avg)</td></tr>\n",
       "</tbody>\n",
       "</table>\n"
      ],
      "text/latex": [
       "\\begin{tabular}{r|lllllll}\n",
       "  & market & month & year & quantity & priceMin & priceMax & priceMod\\\\\n",
       "\\hline\n",
       "\t10228 &  &  & Total & 783438108 & 647(Avg) & 1213(Avg) & 984(Avg)\\\\\n",
       "\\end{tabular}\n"
      ],
      "text/plain": [
       "      market month  year  quantity priceMin  priceMax priceMod\n",
       "10228              Total 783438108 647(Avg) 1213(Avg) 984(Avg)"
      ]
     },
     "execution_count": 95,
     "metadata": {},
     "output_type": "execute_result"
    }
   ],
   "source": [
    "tail(df,1)"
   ]
  },
  {
   "cell_type": "code",
   "execution_count": 96,
   "metadata": {
    "collapsed": false
   },
   "outputs": [],
   "source": [
    "last_row <- as.numeric(rownames(tail(inp_file, 1)))"
   ]
  },
  {
   "cell_type": "code",
   "execution_count": 97,
   "metadata": {
    "collapsed": false
   },
   "outputs": [],
   "source": [
    "df <- inp_file[-c(last_row),]"
   ]
  },
  {
   "cell_type": "code",
   "execution_count": 98,
   "metadata": {
    "collapsed": false
   },
   "outputs": [
    {
     "data": {
      "text/html": [
       "<ol class=list-inline>\n",
       "\t<li>10227</li>\n",
       "\t<li>7</li>\n",
       "</ol>\n"
      ],
      "text/latex": [
       "\\begin{enumerate*}\n",
       "\\item 10227\n",
       "\\item 7\n",
       "\\end{enumerate*}\n"
      ],
      "text/markdown": [
       "1. 10227\n",
       "2. 7\n",
       "\n",
       "\n"
      ],
      "text/plain": [
       "[1] 10227     7"
      ]
     },
     "execution_count": 98,
     "metadata": {},
     "output_type": "execute_result"
    }
   ],
   "source": [
    "dim(df)"
   ]
  },
  {
   "cell_type": "code",
   "execution_count": 99,
   "metadata": {
    "collapsed": false
   },
   "outputs": [
    {
     "data": {
      "text/html": [
       "<table>\n",
       "<thead><tr><th></th><th scope=col>priceMin</th><th scope=col>priceMax</th><th scope=col>priceMod</th></tr></thead>\n",
       "<tbody>\n",
       "\t<tr><th scope=row>1</th><td>404</td><td>493</td><td>446</td></tr>\n",
       "\t<tr><th scope=row>2</th><td>487</td><td>638</td><td>563</td></tr>\n",
       "\t<tr><th scope=row>3</th><td>1283</td><td>1592</td><td>1460</td></tr>\n",
       "\t<tr><th scope=row>4</th><td>3067</td><td>3750</td><td>3433</td></tr>\n",
       "\t<tr><th scope=row>5</th><td>523</td><td>686</td><td>605</td></tr>\n",
       "\t<tr><th scope=row>6</th><td>1327</td><td>1900</td><td>1605</td></tr>\n",
       "</tbody>\n",
       "</table>\n"
      ],
      "text/latex": [
       "\\begin{tabular}{r|lll}\n",
       "  & priceMin & priceMax & priceMod\\\\\n",
       "\\hline\n",
       "\t1 & 404 & 493 & 446\\\\\n",
       "\t2 & 487 & 638 & 563\\\\\n",
       "\t3 & 1283 & 1592 & 1460\\\\\n",
       "\t4 & 3067 & 3750 & 3433\\\\\n",
       "\t5 & 523 & 686 & 605\\\\\n",
       "\t6 & 1327 & 1900 & 1605\\\\\n",
       "\\end{tabular}\n"
      ],
      "text/plain": [
       "  priceMin priceMax priceMod\n",
       "1      404      493      446\n",
       "2      487      638      563\n",
       "3     1283     1592     1460\n",
       "4     3067     3750     3433\n",
       "5      523      686      605\n",
       "6     1327     1900     1605"
      ]
     },
     "execution_count": 99,
     "metadata": {},
     "output_type": "execute_result"
    }
   ],
   "source": [
    "# selecting particular columns from the df\n",
    "head(df %>% \n",
    "select(priceMin,priceMax,priceMod))"
   ]
  },
  {
   "cell_type": "code",
   "execution_count": 100,
   "metadata": {
    "collapsed": false
   },
   "outputs": [
    {
     "data": {
      "text/html": [
       "<dl class=dl-horizontal>\n",
       "\t<dt>year</dt>\n",
       "\t\t<dd>'factor'</dd>\n",
       "\t<dt>quantity</dt>\n",
       "\t\t<dd>'integer'</dd>\n",
       "\t<dt>priceMin</dt>\n",
       "\t\t<dd>'factor'</dd>\n",
       "\t<dt>priceMax</dt>\n",
       "\t\t<dd>'factor'</dd>\n",
       "\t<dt>priceMod</dt>\n",
       "\t\t<dd>'factor'</dd>\n",
       "</dl>\n"
      ],
      "text/latex": [
       "\\begin{description*}\n",
       "\\item[year] 'factor'\n",
       "\\item[quantity] 'integer'\n",
       "\\item[priceMin] 'factor'\n",
       "\\item[priceMax] 'factor'\n",
       "\\item[priceMod] 'factor'\n",
       "\\end{description*}\n"
      ],
      "text/markdown": [
       "year\n",
       ":   'factor'quantity\n",
       ":   'integer'priceMin\n",
       ":   'factor'priceMax\n",
       ":   'factor'priceMod\n",
       ":   'factor'\n",
       "\n"
      ],
      "text/plain": [
       "     year  quantity  priceMin  priceMax  priceMod \n",
       " \"factor\" \"integer\"  \"factor\"  \"factor\"  \"factor\" "
      ]
     },
     "execution_count": 100,
     "metadata": {},
     "output_type": "execute_result"
    }
   ],
   "source": [
    "sapply(head(df %>% \n",
    "select(year,quantity,priceMin,priceMax,priceMod)),class)"
   ]
  },
  {
   "cell_type": "code",
   "execution_count": 101,
   "metadata": {
    "collapsed": true
   },
   "outputs": [],
   "source": [
    "#we see that all of them are factors, we know that they are integers, so lets convert"
   ]
  },
  {
   "cell_type": "code",
   "execution_count": 102,
   "metadata": {
    "collapsed": true
   },
   "outputs": [],
   "source": [
    "df$quantity <- as.integer(as.character(df$quantity))\n",
    "df$year     <- as.integer(as.character(df$year))\n",
    "df$priceMin <- as.integer(as.character(df$priceMin))\n",
    "df$priceMax <- as.integer(as.character(df$priceMax))\n",
    "df$priceMod <- as.integer(as.character(df$priceMod))"
   ]
  },
  {
   "cell_type": "code",
   "execution_count": 103,
   "metadata": {
    "collapsed": false
   },
   "outputs": [
    {
     "data": {
      "text/html": [
       "<table>\n",
       "<thead><tr><th></th><th scope=col>market</th><th scope=col>month</th><th scope=col>year</th><th scope=col>quantity</th><th scope=col>priceMin</th><th scope=col>priceMax</th><th scope=col>priceMod</th></tr></thead>\n",
       "<tbody>\n",
       "\t<tr><th scope=row>1</th><td>ABOHAR(PB)</td><td>January</td><td>2005</td><td>2350</td><td>404</td><td>493</td><td>446</td></tr>\n",
       "\t<tr><th scope=row>2</th><td>ABOHAR(PB)</td><td>January</td><td>2006</td><td>900</td><td>487</td><td>638</td><td>563</td></tr>\n",
       "\t<tr><th scope=row>3</th><td>ABOHAR(PB)</td><td>January</td><td>2010</td><td>790</td><td>1283</td><td>1592</td><td>1460</td></tr>\n",
       "\t<tr><th scope=row>4</th><td>ABOHAR(PB)</td><td>January</td><td>2011</td><td>245</td><td>3067</td><td>3750</td><td>3433</td></tr>\n",
       "\t<tr><th scope=row>5</th><td>ABOHAR(PB)</td><td>January</td><td>2012</td><td>1035</td><td>523</td><td>686</td><td>605</td></tr>\n",
       "\t<tr><th scope=row>6</th><td>ABOHAR(PB)</td><td>January</td><td>2013</td><td>675</td><td>1327</td><td>1900</td><td>1605</td></tr>\n",
       "</tbody>\n",
       "</table>\n"
      ],
      "text/latex": [
       "\\begin{tabular}{r|lllllll}\n",
       "  & market & month & year & quantity & priceMin & priceMax & priceMod\\\\\n",
       "\\hline\n",
       "\t1 & ABOHAR(PB) & January & 2005 & 2350 & 404 & 493 & 446\\\\\n",
       "\t2 & ABOHAR(PB) & January & 2006 & 900 & 487 & 638 & 563\\\\\n",
       "\t3 & ABOHAR(PB) & January & 2010 & 790 & 1283 & 1592 & 1460\\\\\n",
       "\t4 & ABOHAR(PB) & January & 2011 & 245 & 3067 & 3750 & 3433\\\\\n",
       "\t5 & ABOHAR(PB) & January & 2012 & 1035 & 523 & 686 & 605\\\\\n",
       "\t6 & ABOHAR(PB) & January & 2013 & 675 & 1327 & 1900 & 1605\\\\\n",
       "\\end{tabular}\n"
      ],
      "text/plain": [
       "      market   month year quantity priceMin priceMax priceMod\n",
       "1 ABOHAR(PB) January 2005     2350      404      493      446\n",
       "2 ABOHAR(PB) January 2006      900      487      638      563\n",
       "3 ABOHAR(PB) January 2010      790     1283     1592     1460\n",
       "4 ABOHAR(PB) January 2011      245     3067     3750     3433\n",
       "5 ABOHAR(PB) January 2012     1035      523      686      605\n",
       "6 ABOHAR(PB) January 2013      675     1327     1900     1605"
      ]
     },
     "execution_count": 103,
     "metadata": {},
     "output_type": "execute_result"
    }
   ],
   "source": [
    "head(df)"
   ]
  },
  {
   "cell_type": "code",
   "execution_count": 104,
   "metadata": {
    "collapsed": false
   },
   "outputs": [
    {
     "data": {
      "text/html": [
       "<dl class=dl-horizontal>\n",
       "\t<dt>year</dt>\n",
       "\t\t<dd>'integer'</dd>\n",
       "\t<dt>quantity</dt>\n",
       "\t\t<dd>'integer'</dd>\n",
       "\t<dt>priceMin</dt>\n",
       "\t\t<dd>'integer'</dd>\n",
       "\t<dt>priceMax</dt>\n",
       "\t\t<dd>'integer'</dd>\n",
       "\t<dt>priceMod</dt>\n",
       "\t\t<dd>'integer'</dd>\n",
       "</dl>\n"
      ],
      "text/latex": [
       "\\begin{description*}\n",
       "\\item[year] 'integer'\n",
       "\\item[quantity] 'integer'\n",
       "\\item[priceMin] 'integer'\n",
       "\\item[priceMax] 'integer'\n",
       "\\item[priceMod] 'integer'\n",
       "\\end{description*}\n"
      ],
      "text/markdown": [
       "year\n",
       ":   'integer'quantity\n",
       ":   'integer'priceMin\n",
       ":   'integer'priceMax\n",
       ":   'integer'priceMod\n",
       ":   'integer'\n",
       "\n"
      ],
      "text/plain": [
       "     year  quantity  priceMin  priceMax  priceMod \n",
       "\"integer\" \"integer\" \"integer\" \"integer\" \"integer\" "
      ]
     },
     "execution_count": 104,
     "metadata": {},
     "output_type": "execute_result"
    }
   ],
   "source": [
    "sapply(head(df %>% select(year,quantity,priceMin,priceMax,priceMod)),class)"
   ]
  },
  {
   "cell_type": "code",
   "execution_count": 105,
   "metadata": {
    "collapsed": false
   },
   "outputs": [
    {
     "data": {
      "text/html": [
       "<dl class=dl-horizontal>\n",
       "\t<dt>market</dt>\n",
       "\t\t<dd>'factor'</dd>\n",
       "\t<dt>month</dt>\n",
       "\t\t<dd>'factor'</dd>\n",
       "\t<dt>year</dt>\n",
       "\t\t<dd>'integer'</dd>\n",
       "\t<dt>quantity</dt>\n",
       "\t\t<dd>'integer'</dd>\n",
       "\t<dt>priceMin</dt>\n",
       "\t\t<dd>'integer'</dd>\n",
       "\t<dt>priceMax</dt>\n",
       "\t\t<dd>'integer'</dd>\n",
       "\t<dt>priceMod</dt>\n",
       "\t\t<dd>'integer'</dd>\n",
       "</dl>\n"
      ],
      "text/latex": [
       "\\begin{description*}\n",
       "\\item[market] 'factor'\n",
       "\\item[month] 'factor'\n",
       "\\item[year] 'integer'\n",
       "\\item[quantity] 'integer'\n",
       "\\item[priceMin] 'integer'\n",
       "\\item[priceMax] 'integer'\n",
       "\\item[priceMod] 'integer'\n",
       "\\end{description*}\n"
      ],
      "text/markdown": [
       "market\n",
       ":   'factor'month\n",
       ":   'factor'year\n",
       ":   'integer'quantity\n",
       ":   'integer'priceMin\n",
       ":   'integer'priceMax\n",
       ":   'integer'priceMod\n",
       ":   'integer'\n",
       "\n"
      ],
      "text/plain": [
       "   market     month      year  quantity  priceMin  priceMax  priceMod \n",
       " \"factor\"  \"factor\" \"integer\" \"integer\" \"integer\" \"integer\" \"integer\" "
      ]
     },
     "execution_count": 105,
     "metadata": {},
     "output_type": "execute_result"
    }
   ],
   "source": [
    "sapply(df,class)"
   ]
  },
  {
   "cell_type": "code",
   "execution_count": null,
   "metadata": {
    "collapsed": true
   },
   "outputs": [],
   "source": []
  }
 ],
 "metadata": {
  "kernelspec": {
   "display_name": "R",
   "language": "R",
   "name": "ir"
  },
  "language_info": {
   "codemirror_mode": "r",
   "file_extension": ".r",
   "mimetype": "text/x-r-source",
   "name": "R",
   "pygments_lexer": "r",
   "version": "3.2.2"
  }
 },
 "nbformat": 4,
 "nbformat_minor": 0
}
