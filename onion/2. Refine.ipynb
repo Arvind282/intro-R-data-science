{
 "cells": [
  {
   "cell_type": "markdown",
   "metadata": {},
   "source": [
    "# 2. Refine the Data\n",
    " \n",
    "> \"Data is messy\"\n",
    "\n",
    "We will be performing the following operation on our Onion price to refine it\n",
    "- **Remove** e.g. remove redundant data from the data frame\n",
    "- **Derive** e.g. State and City from the market field\n",
    "- **Parse** e.g. extract date from year and month column\n",
    "\n",
    "Other stuff you may need to do to refine are...\n",
    "- **Missing** e.g. Check for missing or incomplete data\n",
    "- **Quality** e.g. Check for duplicates, accuracy, unusual data\n",
    "- **Convert** e.g. free text to coded value\n",
    "- **Calculate** e.g. percentages, proportion\n",
    "- **Merge** e.g. first and surname for full name\n",
    "- **Aggregate** e.g. rollup by year, cluster by area\n",
    "- **Filter** e.g. exclude based on location\n",
    "- **Sample** e.g. extract a representative data\n",
    "- **Summary** e.g. show summary stats like mean"
   ]
  },
  {
   "cell_type": "code",
   "execution_count": 46,
   "metadata": {
    "collapsed": false
   },
   "outputs": [],
   "source": [
    "library(plyr)\n",
    "library(dplyr)"
   ]
  },
  {
   "cell_type": "code",
   "execution_count": 47,
   "metadata": {
    "collapsed": false
   },
   "outputs": [],
   "source": [
    "df <- read.csv('MonthWiseMarketArrivals.csv')"
   ]
  },
  {
   "cell_type": "code",
   "execution_count": 48,
   "metadata": {
    "collapsed": false
   },
   "outputs": [
    {
     "data": {
      "text/html": [
       "<ol class=list-inline>\n",
       "\t<li>10228</li>\n",
       "\t<li>7</li>\n",
       "</ol>\n"
      ],
      "text/latex": [
       "\\begin{enumerate*}\n",
       "\\item 10228\n",
       "\\item 7\n",
       "\\end{enumerate*}\n"
      ],
      "text/markdown": [
       "1. 10228\n",
       "2. 7\n",
       "\n",
       "\n"
      ],
      "text/plain": [
       "[1] 10228     7"
      ]
     },
     "execution_count": 48,
     "metadata": {},
     "output_type": "execute_result"
    }
   ],
   "source": [
    "dim(df)"
   ]
  },
  {
   "cell_type": "code",
   "execution_count": 49,
   "metadata": {
    "collapsed": false
   },
   "outputs": [
    {
     "data": {
      "text/html": [
       "<table>\n",
       "<thead><tr><th></th><th scope=col>market</th><th scope=col>month</th><th scope=col>year</th><th scope=col>quantity</th><th scope=col>priceMin</th><th scope=col>priceMax</th><th scope=col>priceMod</th></tr></thead>\n",
       "<tbody>\n",
       "\t<tr><th scope=row>1</th><td>ABOHAR(PB)</td><td>January</td><td>2005</td><td>2350</td><td>404</td><td>493</td><td>446</td></tr>\n",
       "\t<tr><th scope=row>2</th><td>ABOHAR(PB)</td><td>January</td><td>2006</td><td>900</td><td>487</td><td>638</td><td>563</td></tr>\n",
       "\t<tr><th scope=row>3</th><td>ABOHAR(PB)</td><td>January</td><td>2010</td><td>790</td><td>1283</td><td>1592</td><td>1460</td></tr>\n",
       "\t<tr><th scope=row>4</th><td>ABOHAR(PB)</td><td>January</td><td>2011</td><td>245</td><td>3067</td><td>3750</td><td>3433</td></tr>\n",
       "\t<tr><th scope=row>5</th><td>ABOHAR(PB)</td><td>January</td><td>2012</td><td>1035</td><td>523</td><td>686</td><td>605</td></tr>\n",
       "\t<tr><th scope=row>6</th><td>ABOHAR(PB)</td><td>January</td><td>2013</td><td>675</td><td>1327</td><td>1900</td><td>1605</td></tr>\n",
       "</tbody>\n",
       "</table>\n"
      ],
      "text/latex": [
       "\\begin{tabular}{r|lllllll}\n",
       "  & market & month & year & quantity & priceMin & priceMax & priceMod\\\\\n",
       "\\hline\n",
       "\t1 & ABOHAR(PB) & January & 2005 & 2350 & 404 & 493 & 446\\\\\n",
       "\t2 & ABOHAR(PB) & January & 2006 & 900 & 487 & 638 & 563\\\\\n",
       "\t3 & ABOHAR(PB) & January & 2010 & 790 & 1283 & 1592 & 1460\\\\\n",
       "\t4 & ABOHAR(PB) & January & 2011 & 245 & 3067 & 3750 & 3433\\\\\n",
       "\t5 & ABOHAR(PB) & January & 2012 & 1035 & 523 & 686 & 605\\\\\n",
       "\t6 & ABOHAR(PB) & January & 2013 & 675 & 1327 & 1900 & 1605\\\\\n",
       "\\end{tabular}\n"
      ],
      "text/plain": [
       "      market   month year quantity priceMin priceMax priceMod\n",
       "1 ABOHAR(PB) January 2005     2350      404      493      446\n",
       "2 ABOHAR(PB) January 2006      900      487      638      563\n",
       "3 ABOHAR(PB) January 2010      790     1283     1592     1460\n",
       "4 ABOHAR(PB) January 2011      245     3067     3750     3433\n",
       "5 ABOHAR(PB) January 2012     1035      523      686      605\n",
       "6 ABOHAR(PB) January 2013      675     1327     1900     1605"
      ]
     },
     "execution_count": 49,
     "metadata": {},
     "output_type": "execute_result"
    }
   ],
   "source": [
    "head(df)"
   ]
  },
  {
   "cell_type": "code",
   "execution_count": 50,
   "metadata": {
    "collapsed": false
   },
   "outputs": [
    {
     "data": {
      "text/html": [
       "'data.frame'"
      ],
      "text/latex": [
       "'data.frame'"
      ],
      "text/markdown": [
       "'data.frame'"
      ],
      "text/plain": [
       "[1] \"data.frame\""
      ]
     },
     "execution_count": 50,
     "metadata": {},
     "output_type": "execute_result"
    }
   ],
   "source": [
    "class(df)"
   ]
  },
  {
   "cell_type": "code",
   "execution_count": 51,
   "metadata": {
    "collapsed": false
   },
   "outputs": [
    {
     "data": {
      "text/html": [
       "<dl class=dl-horizontal>\n",
       "\t<dt>market</dt>\n",
       "\t\t<dd>'factor'</dd>\n",
       "\t<dt>month</dt>\n",
       "\t\t<dd>'factor'</dd>\n",
       "\t<dt>year</dt>\n",
       "\t\t<dd>'factor'</dd>\n",
       "\t<dt>quantity</dt>\n",
       "\t\t<dd>'integer'</dd>\n",
       "\t<dt>priceMin</dt>\n",
       "\t\t<dd>'factor'</dd>\n",
       "\t<dt>priceMax</dt>\n",
       "\t\t<dd>'factor'</dd>\n",
       "\t<dt>priceMod</dt>\n",
       "\t\t<dd>'factor'</dd>\n",
       "</dl>\n"
      ],
      "text/latex": [
       "\\begin{description*}\n",
       "\\item[market] 'factor'\n",
       "\\item[month] 'factor'\n",
       "\\item[year] 'factor'\n",
       "\\item[quantity] 'integer'\n",
       "\\item[priceMin] 'factor'\n",
       "\\item[priceMax] 'factor'\n",
       "\\item[priceMod] 'factor'\n",
       "\\end{description*}\n"
      ],
      "text/markdown": [
       "market\n",
       ":   'factor'month\n",
       ":   'factor'year\n",
       ":   'factor'quantity\n",
       ":   'integer'priceMin\n",
       ":   'factor'priceMax\n",
       ":   'factor'priceMod\n",
       ":   'factor'\n",
       "\n"
      ],
      "text/plain": [
       "   market     month      year  quantity  priceMin  priceMax  priceMod \n",
       " \"factor\"  \"factor\"  \"factor\" \"integer\"  \"factor\"  \"factor\"  \"factor\" "
      ]
     },
     "execution_count": 51,
     "metadata": {},
     "output_type": "execute_result"
    }
   ],
   "source": [
    "sapply(df , class)"
   ]
  },
  {
   "cell_type": "code",
   "execution_count": 52,
   "metadata": {
    "collapsed": false
   },
   "outputs": [
    {
     "data": {
      "text/html": [
       "<table>\n",
       "<thead><tr><th></th><th scope=col>market</th><th scope=col>month</th><th scope=col>year</th><th scope=col>quantity</th><th scope=col>priceMin</th><th scope=col>priceMax</th><th scope=col>priceMod</th></tr></thead>\n",
       "<tbody>\n",
       "\t<tr><th scope=row>10228</th><td></td><td></td><td>Total</td><td>783438108</td><td>647(Avg)</td><td>1213(Avg)</td><td>984(Avg)</td></tr>\n",
       "</tbody>\n",
       "</table>\n"
      ],
      "text/latex": [
       "\\begin{tabular}{r|lllllll}\n",
       "  & market & month & year & quantity & priceMin & priceMax & priceMod\\\\\n",
       "\\hline\n",
       "\t10228 &  &  & Total & 783438108 & 647(Avg) & 1213(Avg) & 984(Avg)\\\\\n",
       "\\end{tabular}\n"
      ],
      "text/plain": [
       "      market month  year  quantity priceMin  priceMax priceMod\n",
       "10228              Total 783438108 647(Avg) 1213(Avg) 984(Avg)"
      ]
     },
     "execution_count": 52,
     "metadata": {},
     "output_type": "execute_result"
    }
   ],
   "source": [
    "tail(df,1)"
   ]
  },
  {
   "cell_type": "code",
   "execution_count": 53,
   "metadata": {
    "collapsed": false
   },
   "outputs": [],
   "source": [
    "last_row <- as.numeric(rownames(tail(df, 1)))"
   ]
  },
  {
   "cell_type": "code",
   "execution_count": 54,
   "metadata": {
    "collapsed": false
   },
   "outputs": [],
   "source": [
    "df <- df[-c(last_row),]"
   ]
  },
  {
   "cell_type": "code",
   "execution_count": 55,
   "metadata": {
    "collapsed": false
   },
   "outputs": [
    {
     "data": {
      "text/html": [
       "<ol class=list-inline>\n",
       "\t<li>10227</li>\n",
       "\t<li>7</li>\n",
       "</ol>\n"
      ],
      "text/latex": [
       "\\begin{enumerate*}\n",
       "\\item 10227\n",
       "\\item 7\n",
       "\\end{enumerate*}\n"
      ],
      "text/markdown": [
       "1. 10227\n",
       "2. 7\n",
       "\n",
       "\n"
      ],
      "text/plain": [
       "[1] 10227     7"
      ]
     },
     "execution_count": 55,
     "metadata": {},
     "output_type": "execute_result"
    }
   ],
   "source": [
    "dim(df)"
   ]
  },
  {
   "cell_type": "code",
   "execution_count": 56,
   "metadata": {
    "collapsed": false
   },
   "outputs": [
    {
     "data": {
      "text/html": [
       "<table>\n",
       "<thead><tr><th></th><th scope=col>priceMin</th><th scope=col>priceMax</th><th scope=col>priceMod</th></tr></thead>\n",
       "<tbody>\n",
       "\t<tr><th scope=row>1</th><td>404</td><td>493</td><td>446</td></tr>\n",
       "\t<tr><th scope=row>2</th><td>487</td><td>638</td><td>563</td></tr>\n",
       "\t<tr><th scope=row>3</th><td>1283</td><td>1592</td><td>1460</td></tr>\n",
       "\t<tr><th scope=row>4</th><td>3067</td><td>3750</td><td>3433</td></tr>\n",
       "\t<tr><th scope=row>5</th><td>523</td><td>686</td><td>605</td></tr>\n",
       "\t<tr><th scope=row>6</th><td>1327</td><td>1900</td><td>1605</td></tr>\n",
       "</tbody>\n",
       "</table>\n"
      ],
      "text/latex": [
       "\\begin{tabular}{r|lll}\n",
       "  & priceMin & priceMax & priceMod\\\\\n",
       "\\hline\n",
       "\t1 & 404 & 493 & 446\\\\\n",
       "\t2 & 487 & 638 & 563\\\\\n",
       "\t3 & 1283 & 1592 & 1460\\\\\n",
       "\t4 & 3067 & 3750 & 3433\\\\\n",
       "\t5 & 523 & 686 & 605\\\\\n",
       "\t6 & 1327 & 1900 & 1605\\\\\n",
       "\\end{tabular}\n"
      ],
      "text/plain": [
       "  priceMin priceMax priceMod\n",
       "1      404      493      446\n",
       "2      487      638      563\n",
       "3     1283     1592     1460\n",
       "4     3067     3750     3433\n",
       "5      523      686      605\n",
       "6     1327     1900     1605"
      ]
     },
     "execution_count": 56,
     "metadata": {},
     "output_type": "execute_result"
    }
   ],
   "source": [
    "# selecting particular columns from the df\n",
    "head(df %>% \n",
    "select(priceMin,priceMax,priceMod))"
   ]
  },
  {
   "cell_type": "code",
   "execution_count": 57,
   "metadata": {
    "collapsed": false
   },
   "outputs": [
    {
     "data": {
      "text/html": [
       "<dl class=dl-horizontal>\n",
       "\t<dt>year</dt>\n",
       "\t\t<dd>'factor'</dd>\n",
       "\t<dt>quantity</dt>\n",
       "\t\t<dd>'integer'</dd>\n",
       "\t<dt>priceMin</dt>\n",
       "\t\t<dd>'factor'</dd>\n",
       "\t<dt>priceMax</dt>\n",
       "\t\t<dd>'factor'</dd>\n",
       "\t<dt>priceMod</dt>\n",
       "\t\t<dd>'factor'</dd>\n",
       "</dl>\n"
      ],
      "text/latex": [
       "\\begin{description*}\n",
       "\\item[year] 'factor'\n",
       "\\item[quantity] 'integer'\n",
       "\\item[priceMin] 'factor'\n",
       "\\item[priceMax] 'factor'\n",
       "\\item[priceMod] 'factor'\n",
       "\\end{description*}\n"
      ],
      "text/markdown": [
       "year\n",
       ":   'factor'quantity\n",
       ":   'integer'priceMin\n",
       ":   'factor'priceMax\n",
       ":   'factor'priceMod\n",
       ":   'factor'\n",
       "\n"
      ],
      "text/plain": [
       "     year  quantity  priceMin  priceMax  priceMod \n",
       " \"factor\" \"integer\"  \"factor\"  \"factor\"  \"factor\" "
      ]
     },
     "execution_count": 57,
     "metadata": {},
     "output_type": "execute_result"
    }
   ],
   "source": [
    "sapply(head(df %>% \n",
    "select(year,quantity,priceMin,priceMax,priceMod)),class)"
   ]
  },
  {
   "cell_type": "code",
   "execution_count": 58,
   "metadata": {
    "collapsed": true
   },
   "outputs": [],
   "source": [
    "#we see that all of them are factors, we know that they are integers, so lets convert"
   ]
  },
  {
   "cell_type": "code",
   "execution_count": 59,
   "metadata": {
    "collapsed": false
   },
   "outputs": [],
   "source": [
    "df$quantity <- as.numeric(as.character(df$quantity))\n",
    "df$year     <- as.numeric(as.character(df$year))\n",
    "df$priceMin <- as.numeric(as.character(df$priceMin))\n",
    "df$priceMax <- as.numeric(as.character(df$priceMax))\n",
    "df$priceMod <- as.numeric(as.character(df$priceMod))"
   ]
  },
  {
   "cell_type": "code",
   "execution_count": 60,
   "metadata": {
    "collapsed": false
   },
   "outputs": [
    {
     "data": {
      "text/html": [
       "<table>\n",
       "<thead><tr><th></th><th scope=col>market</th><th scope=col>month</th><th scope=col>year</th><th scope=col>quantity</th><th scope=col>priceMin</th><th scope=col>priceMax</th><th scope=col>priceMod</th></tr></thead>\n",
       "<tbody>\n",
       "\t<tr><th scope=row>1</th><td>ABOHAR(PB)</td><td>January</td><td>2005</td><td>2350</td><td>404</td><td>493</td><td>446</td></tr>\n",
       "\t<tr><th scope=row>2</th><td>ABOHAR(PB)</td><td>January</td><td>2006</td><td>900</td><td>487</td><td>638</td><td>563</td></tr>\n",
       "\t<tr><th scope=row>3</th><td>ABOHAR(PB)</td><td>January</td><td>2010</td><td>790</td><td>1283</td><td>1592</td><td>1460</td></tr>\n",
       "\t<tr><th scope=row>4</th><td>ABOHAR(PB)</td><td>January</td><td>2011</td><td>245</td><td>3067</td><td>3750</td><td>3433</td></tr>\n",
       "\t<tr><th scope=row>5</th><td>ABOHAR(PB)</td><td>January</td><td>2012</td><td>1035</td><td>523</td><td>686</td><td>605</td></tr>\n",
       "\t<tr><th scope=row>6</th><td>ABOHAR(PB)</td><td>January</td><td>2013</td><td>675</td><td>1327</td><td>1900</td><td>1605</td></tr>\n",
       "</tbody>\n",
       "</table>\n"
      ],
      "text/latex": [
       "\\begin{tabular}{r|lllllll}\n",
       "  & market & month & year & quantity & priceMin & priceMax & priceMod\\\\\n",
       "\\hline\n",
       "\t1 & ABOHAR(PB) & January & 2005 & 2350 & 404 & 493 & 446\\\\\n",
       "\t2 & ABOHAR(PB) & January & 2006 & 900 & 487 & 638 & 563\\\\\n",
       "\t3 & ABOHAR(PB) & January & 2010 & 790 & 1283 & 1592 & 1460\\\\\n",
       "\t4 & ABOHAR(PB) & January & 2011 & 245 & 3067 & 3750 & 3433\\\\\n",
       "\t5 & ABOHAR(PB) & January & 2012 & 1035 & 523 & 686 & 605\\\\\n",
       "\t6 & ABOHAR(PB) & January & 2013 & 675 & 1327 & 1900 & 1605\\\\\n",
       "\\end{tabular}\n"
      ],
      "text/plain": [
       "      market   month year quantity priceMin priceMax priceMod\n",
       "1 ABOHAR(PB) January 2005     2350      404      493      446\n",
       "2 ABOHAR(PB) January 2006      900      487      638      563\n",
       "3 ABOHAR(PB) January 2010      790     1283     1592     1460\n",
       "4 ABOHAR(PB) January 2011      245     3067     3750     3433\n",
       "5 ABOHAR(PB) January 2012     1035      523      686      605\n",
       "6 ABOHAR(PB) January 2013      675     1327     1900     1605"
      ]
     },
     "execution_count": 60,
     "metadata": {},
     "output_type": "execute_result"
    }
   ],
   "source": [
    "head(df)"
   ]
  },
  {
   "cell_type": "code",
   "execution_count": 61,
   "metadata": {
    "collapsed": false
   },
   "outputs": [
    {
     "data": {
      "text/html": [
       "<dl class=dl-horizontal>\n",
       "\t<dt>year</dt>\n",
       "\t\t<dd>'numeric'</dd>\n",
       "\t<dt>quantity</dt>\n",
       "\t\t<dd>'numeric'</dd>\n",
       "\t<dt>priceMin</dt>\n",
       "\t\t<dd>'numeric'</dd>\n",
       "\t<dt>priceMax</dt>\n",
       "\t\t<dd>'numeric'</dd>\n",
       "\t<dt>priceMod</dt>\n",
       "\t\t<dd>'numeric'</dd>\n",
       "</dl>\n"
      ],
      "text/latex": [
       "\\begin{description*}\n",
       "\\item[year] 'numeric'\n",
       "\\item[quantity] 'numeric'\n",
       "\\item[priceMin] 'numeric'\n",
       "\\item[priceMax] 'numeric'\n",
       "\\item[priceMod] 'numeric'\n",
       "\\end{description*}\n"
      ],
      "text/markdown": [
       "year\n",
       ":   'numeric'quantity\n",
       ":   'numeric'priceMin\n",
       ":   'numeric'priceMax\n",
       ":   'numeric'priceMod\n",
       ":   'numeric'\n",
       "\n"
      ],
      "text/plain": [
       "     year  quantity  priceMin  priceMax  priceMod \n",
       "\"numeric\" \"numeric\" \"numeric\" \"numeric\" \"numeric\" "
      ]
     },
     "execution_count": 61,
     "metadata": {},
     "output_type": "execute_result"
    }
   ],
   "source": [
    "sapply(head(df %>% select(year,quantity,priceMin,priceMax,priceMod)),class)"
   ]
  },
  {
   "cell_type": "code",
   "execution_count": 62,
   "metadata": {
    "collapsed": false
   },
   "outputs": [
    {
     "data": {
      "text/html": [
       "<dl class=dl-horizontal>\n",
       "\t<dt>market</dt>\n",
       "\t\t<dd>'factor'</dd>\n",
       "\t<dt>month</dt>\n",
       "\t\t<dd>'factor'</dd>\n",
       "\t<dt>year</dt>\n",
       "\t\t<dd>'numeric'</dd>\n",
       "\t<dt>quantity</dt>\n",
       "\t\t<dd>'numeric'</dd>\n",
       "\t<dt>priceMin</dt>\n",
       "\t\t<dd>'numeric'</dd>\n",
       "\t<dt>priceMax</dt>\n",
       "\t\t<dd>'numeric'</dd>\n",
       "\t<dt>priceMod</dt>\n",
       "\t\t<dd>'numeric'</dd>\n",
       "</dl>\n"
      ],
      "text/latex": [
       "\\begin{description*}\n",
       "\\item[market] 'factor'\n",
       "\\item[month] 'factor'\n",
       "\\item[year] 'numeric'\n",
       "\\item[quantity] 'numeric'\n",
       "\\item[priceMin] 'numeric'\n",
       "\\item[priceMax] 'numeric'\n",
       "\\item[priceMod] 'numeric'\n",
       "\\end{description*}\n"
      ],
      "text/markdown": [
       "market\n",
       ":   'factor'month\n",
       ":   'factor'year\n",
       ":   'numeric'quantity\n",
       ":   'numeric'priceMin\n",
       ":   'numeric'priceMax\n",
       ":   'numeric'priceMod\n",
       ":   'numeric'\n",
       "\n"
      ],
      "text/plain": [
       "   market     month      year  quantity  priceMin  priceMax  priceMod \n",
       " \"factor\"  \"factor\" \"numeric\" \"numeric\" \"numeric\" \"numeric\" \"numeric\" "
      ]
     },
     "execution_count": 62,
     "metadata": {},
     "output_type": "execute_result"
    }
   ],
   "source": [
    "sapply(df,class)"
   ]
  },
  {
   "cell_type": "code",
   "execution_count": 63,
   "metadata": {
    "collapsed": false
   },
   "outputs": [],
   "source": [
    "library(psych)"
   ]
  },
  {
   "cell_type": "code",
   "execution_count": 64,
   "metadata": {
    "collapsed": false
   },
   "outputs": [
    {
     "data": {
      "text/html": [
       "<table>\n",
       "<thead><tr><th></th><th scope=col>mean</th><th scope=col>sd</th><th scope=col>median</th><th scope=col>min</th><th scope=col>max</th></tr></thead>\n",
       "<tbody>\n",
       "\t<tr><th scope=row>quantity</th><td>76604.88</td><td>124408.7</td><td>27460</td><td>20</td><td>1639032</td></tr>\n",
       "\t<tr><th scope=row>priceMin</th><td>646.9444</td><td>673.1219</td><td>440</td><td>16</td><td>6000</td></tr>\n",
       "\t<tr><th scope=row>priceMax</th><td>1212.761</td><td>979.6589</td><td>923</td><td>145</td><td>8192</td></tr>\n",
       "\t<tr><th scope=row>priceMod</th><td>984.2843</td><td>818.4715</td><td>747</td><td>80</td><td>6400</td></tr>\n",
       "</tbody>\n",
       "</table>\n"
      ],
      "text/latex": [
       "\\begin{tabular}{r|lllll}\n",
       "  & mean & sd & median & min & max\\\\\n",
       "\\hline\n",
       "\tquantity & 76604.88 & 124408.7 & 27460 & 20 & 1639032\\\\\n",
       "\tpriceMin & 646.9444 & 673.1219 & 440 & 16 & 6000\\\\\n",
       "\tpriceMax & 1212.761 & 979.6589 & 923 & 145 & 8192\\\\\n",
       "\tpriceMod & 984.2843 & 818.4715 & 747 & 80 & 6400\\\\\n",
       "\\end{tabular}\n"
      ],
      "text/plain": [
       "               mean          sd median min     max\n",
       "quantity 76604.8800 124408.6988  27460  20 1639032\n",
       "priceMin   646.9444    673.1219    440  16    6000\n",
       "priceMax  1212.7607    979.6589    923 145    8192\n",
       "priceMod   984.2843    818.4715    747  80    6400"
      ]
     },
     "execution_count": 64,
     "metadata": {},
     "output_type": "execute_result"
    }
   ],
   "source": [
    "do.call(data.frame,list(\n",
    "                        mean=apply(select(df,quantity,priceMin,priceMax,priceMod),2,mean),\n",
    "                        sd=apply(select(df,quantity,priceMin,priceMax,priceMod),2,sd),\n",
    "                        median=apply(select(df,quantity,priceMin,priceMax,priceMod),2,median),\n",
    "                        min=apply(select(df,quantity,priceMin,priceMax,priceMod),2,min),\n",
    "                        max=apply(select(df,quantity,priceMin,priceMax,priceMod),2,max)\n",
    "                        )\n",
    "        )"
   ]
  },
  {
   "cell_type": "markdown",
   "metadata": {},
   "source": [
    "## Extracting the states from market names"
   ]
  },
  {
   "cell_type": "code",
   "execution_count": 65,
   "metadata": {
    "collapsed": false
   },
   "outputs": [
    {
     "data": {
      "text/html": [
       "<table>\n",
       "<thead><tr><th></th><th scope=col>\"market\"</th><th scope=col>n</th></tr></thead>\n",
       "<tbody>\n",
       "\t<tr><th scope=row>1</th><td>market</td><td>10227</td></tr>\n",
       "</tbody>\n",
       "</table>\n"
      ],
      "text/latex": [
       "\\begin{tabular}{r|ll}\n",
       "  & \"market\" & n\\\\\n",
       "\\hline\n",
       "\t1 & market & 10227\\\\\n",
       "\\end{tabular}\n"
      ],
      "text/plain": [
       "Source: local data frame [1 x 2]\n",
       "\n",
       "  \"market\"     n\n",
       "     (chr) (int)\n",
       "1   market 10227"
      ]
     },
     "execution_count": 65,
     "metadata": {},
     "output_type": "execute_result"
    }
   ],
   "source": [
    "head(count(df,'market'))"
   ]
  },
  {
   "cell_type": "code",
   "execution_count": 66,
   "metadata": {
    "collapsed": false
   },
   "outputs": [
    {
     "data": {
      "text/html": [
       "ABOHAR(PB)"
      ],
      "text/latex": [
       "ABOHAR(PB)"
      ],
      "text/markdown": [
       "ABOHAR(PB)"
      ],
      "text/plain": [
       "[1] ABOHAR(PB)\n",
       "121 Levels:  ABOHAR(PB) AGRA(UP) AHMEDABAD(GUJ) AHMEDNAGAR(MS) ... YEOLA(MS)"
      ]
     },
     "execution_count": 66,
     "metadata": {},
     "output_type": "execute_result"
    },
    {
     "data": {
      "text/html": [
       "'PB)'"
      ],
      "text/latex": [
       "'PB)'"
      ],
      "text/markdown": [
       "'PB)'"
      ],
      "text/plain": [
       "[1] \"PB)\""
      ]
     },
     "execution_count": 66,
     "metadata": {},
     "output_type": "execute_result"
    }
   ],
   "source": [
    "# we see that city and state are combined, lets split them up\n",
    "df$market[1]\n",
    "strsplit(as.character(df$market[1]),'\\\\(')[[1]][2]"
   ]
  },
  {
   "cell_type": "code",
   "execution_count": 67,
   "metadata": {
    "collapsed": false
   },
   "outputs": [
    {
     "data": {
      "text/html": [
       "<table>\n",
       "<thead><tr><th></th><th scope=col>market</th><th scope=col>month</th><th scope=col>year</th><th scope=col>quantity</th><th scope=col>priceMin</th><th scope=col>priceMax</th><th scope=col>priceMod</th></tr></thead>\n",
       "<tbody>\n",
       "\t<tr><th scope=row>1</th><td>ABOHAR(PB)</td><td>January</td><td>2005</td><td>2350</td><td>404</td><td>493</td><td>446</td></tr>\n",
       "\t<tr><th scope=row>2</th><td>ABOHAR(PB)</td><td>January</td><td>2006</td><td>900</td><td>487</td><td>638</td><td>563</td></tr>\n",
       "\t<tr><th scope=row>3</th><td>ABOHAR(PB)</td><td>January</td><td>2010</td><td>790</td><td>1283</td><td>1592</td><td>1460</td></tr>\n",
       "\t<tr><th scope=row>4</th><td>ABOHAR(PB)</td><td>January</td><td>2011</td><td>245</td><td>3067</td><td>3750</td><td>3433</td></tr>\n",
       "\t<tr><th scope=row>5</th><td>ABOHAR(PB)</td><td>January</td><td>2012</td><td>1035</td><td>523</td><td>686</td><td>605</td></tr>\n",
       "\t<tr><th scope=row>6</th><td>ABOHAR(PB)</td><td>January</td><td>2013</td><td>675</td><td>1327</td><td>1900</td><td>1605</td></tr>\n",
       "</tbody>\n",
       "</table>\n"
      ],
      "text/latex": [
       "\\begin{tabular}{r|lllllll}\n",
       "  & market & month & year & quantity & priceMin & priceMax & priceMod\\\\\n",
       "\\hline\n",
       "\t1 & ABOHAR(PB) & January & 2005 & 2350 & 404 & 493 & 446\\\\\n",
       "\t2 & ABOHAR(PB) & January & 2006 & 900 & 487 & 638 & 563\\\\\n",
       "\t3 & ABOHAR(PB) & January & 2010 & 790 & 1283 & 1592 & 1460\\\\\n",
       "\t4 & ABOHAR(PB) & January & 2011 & 245 & 3067 & 3750 & 3433\\\\\n",
       "\t5 & ABOHAR(PB) & January & 2012 & 1035 & 523 & 686 & 605\\\\\n",
       "\t6 & ABOHAR(PB) & January & 2013 & 675 & 1327 & 1900 & 1605\\\\\n",
       "\\end{tabular}\n"
      ],
      "text/plain": [
       "      market   month year quantity priceMin priceMax priceMod\n",
       "1 ABOHAR(PB) January 2005     2350      404      493      446\n",
       "2 ABOHAR(PB) January 2006      900      487      638      563\n",
       "3 ABOHAR(PB) January 2010      790     1283     1592     1460\n",
       "4 ABOHAR(PB) January 2011      245     3067     3750     3433\n",
       "5 ABOHAR(PB) January 2012     1035      523      686      605\n",
       "6 ABOHAR(PB) January 2013      675     1327     1900     1605"
      ]
     },
     "execution_count": 67,
     "metadata": {},
     "output_type": "execute_result"
    }
   ],
   "source": [
    "head(df)"
   ]
  },
  {
   "cell_type": "code",
   "execution_count": 68,
   "metadata": {
    "collapsed": false
   },
   "outputs": [
    {
     "data": {
      "text/html": [
       "<ol class=list-inline>\n",
       "\t<li>ABOHAR(PB)</li>\n",
       "\t<li>AGRA(UP)</li>\n",
       "\t<li>AHMEDABAD(GUJ)</li>\n",
       "\t<li>AHMEDNAGAR(MS)</li>\n",
       "\t<li>AJMER(RAJ)</li>\n",
       "\t<li>ALIGARH(UP)</li>\n",
       "\t<li>ALWAR(RAJ)</li>\n",
       "\t<li>AMRITSAR(PB)</li>\n",
       "\t<li>BALLIA(UP)</li>\n",
       "\t<li>BANGALORE</li>\n",
       "\t<li>BAREILLY(UP)</li>\n",
       "\t<li>BELGAUM(KNT)</li>\n",
       "\t<li>BHATINDA(PB)</li>\n",
       "\t<li>BHAVNAGAR(GUJ)</li>\n",
       "\t<li>BHOPAL</li>\n",
       "\t<li>BHUBNESWER(OR)</li>\n",
       "\t<li>BIHARSHARIF(BHR)</li>\n",
       "\t<li>BIJAPUR(KNT)</li>\n",
       "\t<li>BIKANER(RAJ)</li>\n",
       "\t<li>BOMBORI(MS)</li>\n",
       "\t<li>BURDWAN(WB)</li>\n",
       "\t<li>CHAKAN(MS)</li>\n",
       "\t<li>CHALLAKERE(KNT)</li>\n",
       "\t<li>CHANDIGARH</li>\n",
       "\t<li>CHANDVAD(MS)</li>\n",
       "\t<li>CHENNAI</li>\n",
       "\t<li>CHICKBALLAPUR(KNT)</li>\n",
       "\t<li>COIMBATORE(TN) (bellary)</li>\n",
       "\t<li>COIMBATORE(TN) (podisu)</li>\n",
       "\t<li>DEESA(GUJ)</li>\n",
       "\t<li>DEHRADOON(UTT)</li>\n",
       "\t<li>DELHI</li>\n",
       "\t<li>DEORIA(UP)</li>\n",
       "\t<li>DEVALA(MS)</li>\n",
       "\t<li>DEWAS(MP)</li>\n",
       "\t<li>DHAVANGERE(KNT)</li>\n",
       "\t<li>DHULIA(MS)</li>\n",
       "\t<li>DINDIGUL(TN)</li>\n",
       "\t<li>DINDIGUL(TN)(Podis</li>\n",
       "\t<li>DINDORI(MS)</li>\n",
       "\t<li>ETAWAH(UP)</li>\n",
       "\t<li>GONDAL(GUJ)</li>\n",
       "\t<li>GORAKHPUR(UP)</li>\n",
       "\t<li>GUWAHATI</li>\n",
       "\t<li>HALDWANI(UTT)</li>\n",
       "\t<li>HASSAN(KNT)</li>\n",
       "\t<li>HOSHIARPUR(PB)</li>\n",
       "\t<li>HUBLI(KNT)</li>\n",
       "\t<li>HYDERABAD</li>\n",
       "\t<li>INDORE(MP)</li>\n",
       "\t<li>JAIPUR</li>\n",
       "\t<li>JALANDHAR(PB)</li>\n",
       "\t<li>JALGAON(MS)</li>\n",
       "\t<li>JALGAON(WHITE)</li>\n",
       "\t<li>JAMMU</li>\n",
       "\t<li>JAMNAGAR(GUJ)</li>\n",
       "\t<li>JODHPUR(RAJ)</li>\n",
       "\t<li>JUNNAR(MS)</li>\n",
       "\t<li>KALVAN(MS)</li>\n",
       "\t<li>KANPUR(UP)</li>\n",
       "\t<li>KARNAL(HR)</li>\n",
       "\t<li>KHANNA(PB)</li>\n",
       "\t<li>KOLAR(KNT)</li>\n",
       "\t<li>KOLHAPUR(MS)</li>\n",
       "\t<li>KOLKATA</li>\n",
       "\t<li>KOPERGAON(MS)</li>\n",
       "\t<li>KOTA(RAJ)</li>\n",
       "\t<li>KURNOOL(AP)</li>\n",
       "\t<li>LASALGAON(MS)</li>\n",
       "\t<li>LONAND(MS)</li>\n",
       "\t<li>LUCKNOW</li>\n",
       "\t<li>LUDHIANA(PB)</li>\n",
       "\t<li>MADURAI(TN)</li>\n",
       "\t<li>MAHUVA(GUJ)</li>\n",
       "\t<li>MALEGAON(MS)</li>\n",
       "\t<li>MANDSOUR(MP)</li>\n",
       "\t<li>MANMAD(MS)</li>\n",
       "\t<li>MEERUT(UP)</li>\n",
       "\t<li>MIDNAPUR(WB)</li>\n",
       "\t<li>MUMBAI</li>\n",
       "\t<li>NAGPUR</li>\n",
       "\t<li>NANDGAON(MS)</li>\n",
       "\t<li>NASIK(MS)</li>\n",
       "\t<li>NEEMUCH(MP)</li>\n",
       "\t<li>NEWASA(MS)</li>\n",
       "\t<li>NIPHAD(MS)</li>\n",
       "\t<li>PALAYAM(KER)</li>\n",
       "\t<li>PATIALA(PB)</li>\n",
       "\t<li>PATNA</li>\n",
       "\t<li>PHALTAN (MS)</li>\n",
       "\t<li>PIMPALGAON(MS)</li>\n",
       "\t<li>PUNE(MS)</li>\n",
       "\t<li>PURULIA(WB)</li>\n",
       "\t<li>RAHATA(MS)</li>\n",
       "\t<li>RAHURI(MS)</li>\n",
       "\t<li>RAICHUR(KNT)</li>\n",
       "\t<li>RAIPUR(CHGARH)</li>\n",
       "\t<li>RAJAHMUNDRY(AP)</li>\n",
       "\t<li>RAJKOT(GUJ)</li>\n",
       "\t<li>RANCHI(JH)</li>\n",
       "\t<li>SAGAR(MP)</li>\n",
       "\t<li>SAIKHEDA(MS)</li>\n",
       "\t<li>SANGALI(MS)</li>\n",
       "\t<li>SANGAMNER(MS)</li>\n",
       "\t<li>SATANA(MS)</li>\n",
       "\t<li>SHEROAPHULY(WB)</li>\n",
       "\t<li>SHIMLA</li>\n",
       "\t<li>SHRIRAMPUR(MS)</li>\n",
       "\t<li>SINNAR(MS)</li>\n",
       "\t<li>SOLAPUR(MS)</li>\n",
       "\t<li>SRIGANGANAGAR(RAJ)</li>\n",
       "\t<li>SRINAGAR</li>\n",
       "\t<li>SRIRAMPUR(MS)</li>\n",
       "\t<li>SURAT(GUJ)</li>\n",
       "\t<li>TRIVENDRUM</li>\n",
       "\t<li>UDAIPUR(RAJ)</li>\n",
       "\t<li>UJJAIN(MP)</li>\n",
       "\t<li>VANI(MS)</li>\n",
       "\t<li>VARANASI(UP)</li>\n",
       "\t<li>YEOLA(MS)</li>\n",
       "</ol>\n"
      ],
      "text/latex": [
       "\\begin{enumerate*}\n",
       "\\item ABOHAR(PB)\n",
       "\\item AGRA(UP)\n",
       "\\item AHMEDABAD(GUJ)\n",
       "\\item AHMEDNAGAR(MS)\n",
       "\\item AJMER(RAJ)\n",
       "\\item ALIGARH(UP)\n",
       "\\item ALWAR(RAJ)\n",
       "\\item AMRITSAR(PB)\n",
       "\\item BALLIA(UP)\n",
       "\\item BANGALORE\n",
       "\\item BAREILLY(UP)\n",
       "\\item BELGAUM(KNT)\n",
       "\\item BHATINDA(PB)\n",
       "\\item BHAVNAGAR(GUJ)\n",
       "\\item BHOPAL\n",
       "\\item BHUBNESWER(OR)\n",
       "\\item BIHARSHARIF(BHR)\n",
       "\\item BIJAPUR(KNT)\n",
       "\\item BIKANER(RAJ)\n",
       "\\item BOMBORI(MS)\n",
       "\\item BURDWAN(WB)\n",
       "\\item CHAKAN(MS)\n",
       "\\item CHALLAKERE(KNT)\n",
       "\\item CHANDIGARH\n",
       "\\item CHANDVAD(MS)\n",
       "\\item CHENNAI\n",
       "\\item CHICKBALLAPUR(KNT)\n",
       "\\item COIMBATORE(TN) (bellary)\n",
       "\\item COIMBATORE(TN) (podisu)\n",
       "\\item DEESA(GUJ)\n",
       "\\item DEHRADOON(UTT)\n",
       "\\item DELHI\n",
       "\\item DEORIA(UP)\n",
       "\\item DEVALA(MS)\n",
       "\\item DEWAS(MP)\n",
       "\\item DHAVANGERE(KNT)\n",
       "\\item DHULIA(MS)\n",
       "\\item DINDIGUL(TN)\n",
       "\\item DINDIGUL(TN)(Podis\n",
       "\\item DINDORI(MS)\n",
       "\\item ETAWAH(UP)\n",
       "\\item GONDAL(GUJ)\n",
       "\\item GORAKHPUR(UP)\n",
       "\\item GUWAHATI\n",
       "\\item HALDWANI(UTT)\n",
       "\\item HASSAN(KNT)\n",
       "\\item HOSHIARPUR(PB)\n",
       "\\item HUBLI(KNT)\n",
       "\\item HYDERABAD\n",
       "\\item INDORE(MP)\n",
       "\\item JAIPUR\n",
       "\\item JALANDHAR(PB)\n",
       "\\item JALGAON(MS)\n",
       "\\item JALGAON(WHITE)\n",
       "\\item JAMMU\n",
       "\\item JAMNAGAR(GUJ)\n",
       "\\item JODHPUR(RAJ)\n",
       "\\item JUNNAR(MS)\n",
       "\\item KALVAN(MS)\n",
       "\\item KANPUR(UP)\n",
       "\\item KARNAL(HR)\n",
       "\\item KHANNA(PB)\n",
       "\\item KOLAR(KNT)\n",
       "\\item KOLHAPUR(MS)\n",
       "\\item KOLKATA\n",
       "\\item KOPERGAON(MS)\n",
       "\\item KOTA(RAJ)\n",
       "\\item KURNOOL(AP)\n",
       "\\item LASALGAON(MS)\n",
       "\\item LONAND(MS)\n",
       "\\item LUCKNOW\n",
       "\\item LUDHIANA(PB)\n",
       "\\item MADURAI(TN)\n",
       "\\item MAHUVA(GUJ)\n",
       "\\item MALEGAON(MS)\n",
       "\\item MANDSOUR(MP)\n",
       "\\item MANMAD(MS)\n",
       "\\item MEERUT(UP)\n",
       "\\item MIDNAPUR(WB)\n",
       "\\item MUMBAI\n",
       "\\item NAGPUR\n",
       "\\item NANDGAON(MS)\n",
       "\\item NASIK(MS)\n",
       "\\item NEEMUCH(MP)\n",
       "\\item NEWASA(MS)\n",
       "\\item NIPHAD(MS)\n",
       "\\item PALAYAM(KER)\n",
       "\\item PATIALA(PB)\n",
       "\\item PATNA\n",
       "\\item PHALTAN (MS)\n",
       "\\item PIMPALGAON(MS)\n",
       "\\item PUNE(MS)\n",
       "\\item PURULIA(WB)\n",
       "\\item RAHATA(MS)\n",
       "\\item RAHURI(MS)\n",
       "\\item RAICHUR(KNT)\n",
       "\\item RAIPUR(CHGARH)\n",
       "\\item RAJAHMUNDRY(AP)\n",
       "\\item RAJKOT(GUJ)\n",
       "\\item RANCHI(JH)\n",
       "\\item SAGAR(MP)\n",
       "\\item SAIKHEDA(MS)\n",
       "\\item SANGALI(MS)\n",
       "\\item SANGAMNER(MS)\n",
       "\\item SATANA(MS)\n",
       "\\item SHEROAPHULY(WB)\n",
       "\\item SHIMLA\n",
       "\\item SHRIRAMPUR(MS)\n",
       "\\item SINNAR(MS)\n",
       "\\item SOLAPUR(MS)\n",
       "\\item SRIGANGANAGAR(RAJ)\n",
       "\\item SRINAGAR\n",
       "\\item SRIRAMPUR(MS)\n",
       "\\item SURAT(GUJ)\n",
       "\\item TRIVENDRUM\n",
       "\\item UDAIPUR(RAJ)\n",
       "\\item UJJAIN(MP)\n",
       "\\item VANI(MS)\n",
       "\\item VARANASI(UP)\n",
       "\\item YEOLA(MS)\n",
       "\\end{enumerate*}\n"
      ],
      "text/markdown": [
       "1. ABOHAR(PB)\n",
       "2. AGRA(UP)\n",
       "3. AHMEDABAD(GUJ)\n",
       "4. AHMEDNAGAR(MS)\n",
       "5. AJMER(RAJ)\n",
       "6. ALIGARH(UP)\n",
       "7. ALWAR(RAJ)\n",
       "8. AMRITSAR(PB)\n",
       "9. BALLIA(UP)\n",
       "10. BANGALORE\n",
       "11. BAREILLY(UP)\n",
       "12. BELGAUM(KNT)\n",
       "13. BHATINDA(PB)\n",
       "14. BHAVNAGAR(GUJ)\n",
       "15. BHOPAL\n",
       "16. BHUBNESWER(OR)\n",
       "17. BIHARSHARIF(BHR)\n",
       "18. BIJAPUR(KNT)\n",
       "19. BIKANER(RAJ)\n",
       "20. BOMBORI(MS)\n",
       "21. BURDWAN(WB)\n",
       "22. CHAKAN(MS)\n",
       "23. CHALLAKERE(KNT)\n",
       "24. CHANDIGARH\n",
       "25. CHANDVAD(MS)\n",
       "26. CHENNAI\n",
       "27. CHICKBALLAPUR(KNT)\n",
       "28. COIMBATORE(TN) (bellary)\n",
       "29. COIMBATORE(TN) (podisu)\n",
       "30. DEESA(GUJ)\n",
       "31. DEHRADOON(UTT)\n",
       "32. DELHI\n",
       "33. DEORIA(UP)\n",
       "34. DEVALA(MS)\n",
       "35. DEWAS(MP)\n",
       "36. DHAVANGERE(KNT)\n",
       "37. DHULIA(MS)\n",
       "38. DINDIGUL(TN)\n",
       "39. DINDIGUL(TN)(Podis\n",
       "40. DINDORI(MS)\n",
       "41. ETAWAH(UP)\n",
       "42. GONDAL(GUJ)\n",
       "43. GORAKHPUR(UP)\n",
       "44. GUWAHATI\n",
       "45. HALDWANI(UTT)\n",
       "46. HASSAN(KNT)\n",
       "47. HOSHIARPUR(PB)\n",
       "48. HUBLI(KNT)\n",
       "49. HYDERABAD\n",
       "50. INDORE(MP)\n",
       "51. JAIPUR\n",
       "52. JALANDHAR(PB)\n",
       "53. JALGAON(MS)\n",
       "54. JALGAON(WHITE)\n",
       "55. JAMMU\n",
       "56. JAMNAGAR(GUJ)\n",
       "57. JODHPUR(RAJ)\n",
       "58. JUNNAR(MS)\n",
       "59. KALVAN(MS)\n",
       "60. KANPUR(UP)\n",
       "61. KARNAL(HR)\n",
       "62. KHANNA(PB)\n",
       "63. KOLAR(KNT)\n",
       "64. KOLHAPUR(MS)\n",
       "65. KOLKATA\n",
       "66. KOPERGAON(MS)\n",
       "67. KOTA(RAJ)\n",
       "68. KURNOOL(AP)\n",
       "69. LASALGAON(MS)\n",
       "70. LONAND(MS)\n",
       "71. LUCKNOW\n",
       "72. LUDHIANA(PB)\n",
       "73. MADURAI(TN)\n",
       "74. MAHUVA(GUJ)\n",
       "75. MALEGAON(MS)\n",
       "76. MANDSOUR(MP)\n",
       "77. MANMAD(MS)\n",
       "78. MEERUT(UP)\n",
       "79. MIDNAPUR(WB)\n",
       "80. MUMBAI\n",
       "81. NAGPUR\n",
       "82. NANDGAON(MS)\n",
       "83. NASIK(MS)\n",
       "84. NEEMUCH(MP)\n",
       "85. NEWASA(MS)\n",
       "86. NIPHAD(MS)\n",
       "87. PALAYAM(KER)\n",
       "88. PATIALA(PB)\n",
       "89. PATNA\n",
       "90. PHALTAN (MS)\n",
       "91. PIMPALGAON(MS)\n",
       "92. PUNE(MS)\n",
       "93. PURULIA(WB)\n",
       "94. RAHATA(MS)\n",
       "95. RAHURI(MS)\n",
       "96. RAICHUR(KNT)\n",
       "97. RAIPUR(CHGARH)\n",
       "98. RAJAHMUNDRY(AP)\n",
       "99. RAJKOT(GUJ)\n",
       "100. RANCHI(JH)\n",
       "101. SAGAR(MP)\n",
       "102. SAIKHEDA(MS)\n",
       "103. SANGALI(MS)\n",
       "104. SANGAMNER(MS)\n",
       "105. SATANA(MS)\n",
       "106. SHEROAPHULY(WB)\n",
       "107. SHIMLA\n",
       "108. SHRIRAMPUR(MS)\n",
       "109. SINNAR(MS)\n",
       "110. SOLAPUR(MS)\n",
       "111. SRIGANGANAGAR(RAJ)\n",
       "112. SRINAGAR\n",
       "113. SRIRAMPUR(MS)\n",
       "114. SURAT(GUJ)\n",
       "115. TRIVENDRUM\n",
       "116. UDAIPUR(RAJ)\n",
       "117. UJJAIN(MP)\n",
       "118. VANI(MS)\n",
       "119. VARANASI(UP)\n",
       "120. YEOLA(MS)\n",
       "\n",
       "\n"
      ],
      "text/plain": [
       "  [1] ABOHAR(PB)               AGRA(UP)                 AHMEDABAD(GUJ)          \n",
       "  [4] AHMEDNAGAR(MS)           AJMER(RAJ)               ALIGARH(UP)             \n",
       "  [7] ALWAR(RAJ)               AMRITSAR(PB)             BALLIA(UP)              \n",
       " [10] BANGALORE                BAREILLY(UP)             BELGAUM(KNT)            \n",
       " [13] BHATINDA(PB)             BHAVNAGAR(GUJ)           BHOPAL                  \n",
       " [16] BHUBNESWER(OR)           BIHARSHARIF(BHR)         BIJAPUR(KNT)            \n",
       " [19] BIKANER(RAJ)             BOMBORI(MS)              BURDWAN(WB)             \n",
       " [22] CHAKAN(MS)               CHALLAKERE(KNT)          CHANDIGARH              \n",
       " [25] CHANDVAD(MS)             CHENNAI                  CHICKBALLAPUR(KNT)      \n",
       " [28] COIMBATORE(TN) (bellary) COIMBATORE(TN) (podisu)  DEESA(GUJ)              \n",
       " [31] DEHRADOON(UTT)           DELHI                    DEORIA(UP)              \n",
       " [34] DEVALA(MS)               DEWAS(MP)                DHAVANGERE(KNT)         \n",
       " [37] DHULIA(MS)               DINDIGUL(TN)             DINDIGUL(TN)(Podis      \n",
       " [40] DINDORI(MS)              ETAWAH(UP)               GONDAL(GUJ)             \n",
       " [43] GORAKHPUR(UP)            GUWAHATI                 HALDWANI(UTT)           \n",
       " [46] HASSAN(KNT)              HOSHIARPUR(PB)           HUBLI(KNT)              \n",
       " [49] HYDERABAD                INDORE(MP)               JAIPUR                  \n",
       " [52] JALANDHAR(PB)            JALGAON(MS)              JALGAON(WHITE)          \n",
       " [55] JAMMU                    JAMNAGAR(GUJ)            JODHPUR(RAJ)            \n",
       " [58] JUNNAR(MS)               KALVAN(MS)               KANPUR(UP)              \n",
       " [61] KARNAL(HR)               KHANNA(PB)               KOLAR(KNT)              \n",
       " [64] KOLHAPUR(MS)             KOLKATA                  KOPERGAON(MS)           \n",
       " [67] KOTA(RAJ)                KURNOOL(AP)              LASALGAON(MS)           \n",
       " [70] LONAND(MS)               LUCKNOW                  LUDHIANA(PB)            \n",
       " [73] MADURAI(TN)              MAHUVA(GUJ)              MALEGAON(MS)            \n",
       " [76] MANDSOUR(MP)             MANMAD(MS)               MEERUT(UP)              \n",
       " [79] MIDNAPUR(WB)             MUMBAI                   NAGPUR                  \n",
       " [82] NANDGAON(MS)             NASIK(MS)                NEEMUCH(MP)             \n",
       " [85] NEWASA(MS)               NIPHAD(MS)               PALAYAM(KER)            \n",
       " [88] PATIALA(PB)              PATNA                    PHALTAN (MS)            \n",
       " [91] PIMPALGAON(MS)           PUNE(MS)                 PURULIA(WB)             \n",
       " [94] RAHATA(MS)               RAHURI(MS)               RAICHUR(KNT)            \n",
       " [97] RAIPUR(CHGARH)           RAJAHMUNDRY(AP)          RAJKOT(GUJ)             \n",
       "[100] RANCHI(JH)               SAGAR(MP)                SAIKHEDA(MS)            \n",
       "[103] SANGALI(MS)              SANGAMNER(MS)            SATANA(MS)              \n",
       "[106] SHEROAPHULY(WB)          SHIMLA                   SHRIRAMPUR(MS)          \n",
       "[109] SINNAR(MS)               SOLAPUR(MS)              SRIGANGANAGAR(RAJ)      \n",
       "[112] SRINAGAR                 SRIRAMPUR(MS)            SURAT(GUJ)              \n",
       "[115] TRIVENDRUM               UDAIPUR(RAJ)             UJJAIN(MP)              \n",
       "[118] VANI(MS)                 VARANASI(UP)             YEOLA(MS)               \n",
       "121 Levels:  ABOHAR(PB) AGRA(UP) AHMEDABAD(GUJ) AHMEDNAGAR(MS) ... YEOLA(MS)"
      ]
     },
     "execution_count": 68,
     "metadata": {},
     "output_type": "execute_result"
    }
   ],
   "source": [
    "unique(df$market)"
   ]
  },
  {
   "cell_type": "code",
   "execution_count": 69,
   "metadata": {
    "collapsed": false
   },
   "outputs": [
    {
     "data": {
      "text/html": [
       "<dl class=dl-horizontal>\n",
       "\t<dt>market</dt>\n",
       "\t\t<dd>'factor'</dd>\n",
       "\t<dt>month</dt>\n",
       "\t\t<dd>'factor'</dd>\n",
       "\t<dt>year</dt>\n",
       "\t\t<dd>'numeric'</dd>\n",
       "\t<dt>quantity</dt>\n",
       "\t\t<dd>'numeric'</dd>\n",
       "\t<dt>priceMin</dt>\n",
       "\t\t<dd>'numeric'</dd>\n",
       "\t<dt>priceMax</dt>\n",
       "\t\t<dd>'numeric'</dd>\n",
       "\t<dt>priceMod</dt>\n",
       "\t\t<dd>'numeric'</dd>\n",
       "</dl>\n"
      ],
      "text/latex": [
       "\\begin{description*}\n",
       "\\item[market] 'factor'\n",
       "\\item[month] 'factor'\n",
       "\\item[year] 'numeric'\n",
       "\\item[quantity] 'numeric'\n",
       "\\item[priceMin] 'numeric'\n",
       "\\item[priceMax] 'numeric'\n",
       "\\item[priceMod] 'numeric'\n",
       "\\end{description*}\n"
      ],
      "text/markdown": [
       "market\n",
       ":   'factor'month\n",
       ":   'factor'year\n",
       ":   'numeric'quantity\n",
       ":   'numeric'priceMin\n",
       ":   'numeric'priceMax\n",
       ":   'numeric'priceMod\n",
       ":   'numeric'\n",
       "\n"
      ],
      "text/plain": [
       "   market     month      year  quantity  priceMin  priceMax  priceMod \n",
       " \"factor\"  \"factor\" \"numeric\" \"numeric\" \"numeric\" \"numeric\" \"numeric\" "
      ]
     },
     "execution_count": 69,
     "metadata": {},
     "output_type": "execute_result"
    }
   ],
   "source": [
    "sapply(df,class)"
   ]
  },
  {
   "cell_type": "code",
   "execution_count": 70,
   "metadata": {
    "collapsed": false
   },
   "outputs": [
    {
     "data": {
      "text/html": [
       "'PB)'"
      ],
      "text/latex": [
       "'PB)'"
      ],
      "text/markdown": [
       "'PB)'"
      ],
      "text/plain": [
       "[1] \"PB)\""
      ]
     },
     "execution_count": 70,
     "metadata": {},
     "output_type": "execute_result"
    }
   ],
   "source": [
    "unlist(strsplit(as.character(df$market),'\\\\('))[2]"
   ]
  },
  {
   "cell_type": "code",
   "execution_count": 71,
   "metadata": {
    "collapsed": false
   },
   "outputs": [
    {
     "data": {
      "text/html": [
       "FALSE"
      ],
      "text/latex": [
       "FALSE"
      ],
      "text/markdown": [
       "FALSE"
      ],
      "text/plain": [
       "[1] FALSE"
      ]
     },
     "execution_count": 71,
     "metadata": {},
     "output_type": "execute_result"
    }
   ],
   "source": [
    "grepl('\\\\(','BANGALORE')"
   ]
  },
  {
   "cell_type": "code",
   "execution_count": 72,
   "metadata": {
    "collapsed": false
   },
   "outputs": [],
   "source": [
    "stateSplit <- function(inpString){\n",
    "    if(grepl('\\\\(',as.character(inpString))){\n",
    "    m <- unlist(strsplit(as.character(inpString),'\\\\('))\n",
    "    return(gsub(\")\",\"\",m[2]))\n",
    "    } else{\n",
    "        return(as.character(inpString))\n",
    "    }\n",
    "}"
   ]
  },
  {
   "cell_type": "code",
   "execution_count": 73,
   "metadata": {
    "collapsed": true
   },
   "outputs": [],
   "source": [
    "citySplit <- function(inpString){\n",
    "    if(grepl('\\\\(',as.character(inpString))){\n",
    "    m <- unlist(strsplit(as.character(inpString),'\\\\('))\n",
    "        return(m[1])\n",
    "    } else{\n",
    "        return(as.character(inpString))\n",
    "\n",
    "    }\n",
    "}"
   ]
  },
  {
   "cell_type": "code",
   "execution_count": 74,
   "metadata": {
    "collapsed": false
   },
   "outputs": [],
   "source": [
    "df <- data.frame(mutate(rowwise(df),\n",
    "             state = stateSplit(market),\n",
    "             city = citySplit(market)))\n",
    "\n",
    "                          "
   ]
  },
  {
   "cell_type": "code",
   "execution_count": 75,
   "metadata": {
    "collapsed": false
   },
   "outputs": [
    {
     "data": {
      "text/html": [
       "<dl class=dl-horizontal>\n",
       "\t<dt>market</dt>\n",
       "\t\t<dd>'factor'</dd>\n",
       "\t<dt>month</dt>\n",
       "\t\t<dd>'factor'</dd>\n",
       "\t<dt>year</dt>\n",
       "\t\t<dd>'numeric'</dd>\n",
       "\t<dt>quantity</dt>\n",
       "\t\t<dd>'numeric'</dd>\n",
       "\t<dt>priceMin</dt>\n",
       "\t\t<dd>'numeric'</dd>\n",
       "\t<dt>priceMax</dt>\n",
       "\t\t<dd>'numeric'</dd>\n",
       "\t<dt>priceMod</dt>\n",
       "\t\t<dd>'numeric'</dd>\n",
       "\t<dt>state</dt>\n",
       "\t\t<dd>'character'</dd>\n",
       "\t<dt>city</dt>\n",
       "\t\t<dd>'character'</dd>\n",
       "</dl>\n"
      ],
      "text/latex": [
       "\\begin{description*}\n",
       "\\item[market] 'factor'\n",
       "\\item[month] 'factor'\n",
       "\\item[year] 'numeric'\n",
       "\\item[quantity] 'numeric'\n",
       "\\item[priceMin] 'numeric'\n",
       "\\item[priceMax] 'numeric'\n",
       "\\item[priceMod] 'numeric'\n",
       "\\item[state] 'character'\n",
       "\\item[city] 'character'\n",
       "\\end{description*}\n"
      ],
      "text/markdown": [
       "market\n",
       ":   'factor'month\n",
       ":   'factor'year\n",
       ":   'numeric'quantity\n",
       ":   'numeric'priceMin\n",
       ":   'numeric'priceMax\n",
       ":   'numeric'priceMod\n",
       ":   'numeric'state\n",
       ":   'character'city\n",
       ":   'character'\n",
       "\n"
      ],
      "text/plain": [
       "     market       month        year    quantity    priceMin    priceMax \n",
       "   \"factor\"    \"factor\"   \"numeric\"   \"numeric\"   \"numeric\"   \"numeric\" \n",
       "   priceMod       state        city \n",
       "  \"numeric\" \"character\" \"character\" "
      ]
     },
     "execution_count": 75,
     "metadata": {},
     "output_type": "execute_result"
    }
   ],
   "source": [
    "sapply(df,class)"
   ]
  },
  {
   "cell_type": "code",
   "execution_count": 76,
   "metadata": {
    "collapsed": false
   },
   "outputs": [
    {
     "data": {
      "text/html": [
       "<table>\n",
       "<thead><tr><th></th><th scope=col>market</th><th scope=col>month</th><th scope=col>year</th><th scope=col>quantity</th><th scope=col>priceMin</th><th scope=col>priceMax</th><th scope=col>priceMod</th><th scope=col>state</th><th scope=col>city</th></tr></thead>\n",
       "<tbody>\n",
       "\t<tr><th scope=row>1</th><td>ABOHAR(PB)</td><td>January</td><td>2005</td><td>2350</td><td>404</td><td>493</td><td>446</td><td>PB</td><td>ABOHAR</td></tr>\n",
       "\t<tr><th scope=row>2</th><td>ABOHAR(PB)</td><td>January</td><td>2006</td><td>900</td><td>487</td><td>638</td><td>563</td><td>PB</td><td>ABOHAR</td></tr>\n",
       "\t<tr><th scope=row>3</th><td>ABOHAR(PB)</td><td>January</td><td>2010</td><td>790</td><td>1283</td><td>1592</td><td>1460</td><td>PB</td><td>ABOHAR</td></tr>\n",
       "\t<tr><th scope=row>4</th><td>ABOHAR(PB)</td><td>January</td><td>2011</td><td>245</td><td>3067</td><td>3750</td><td>3433</td><td>PB</td><td>ABOHAR</td></tr>\n",
       "\t<tr><th scope=row>5</th><td>ABOHAR(PB)</td><td>January</td><td>2012</td><td>1035</td><td>523</td><td>686</td><td>605</td><td>PB</td><td>ABOHAR</td></tr>\n",
       "\t<tr><th scope=row>6</th><td>ABOHAR(PB)</td><td>January</td><td>2013</td><td>675</td><td>1327</td><td>1900</td><td>1605</td><td>PB</td><td>ABOHAR</td></tr>\n",
       "</tbody>\n",
       "</table>\n"
      ],
      "text/latex": [
       "\\begin{tabular}{r|lllllllll}\n",
       "  & market & month & year & quantity & priceMin & priceMax & priceMod & state & city\\\\\n",
       "\\hline\n",
       "\t1 & ABOHAR(PB) & January & 2005 & 2350 & 404 & 493 & 446 & PB & ABOHAR\\\\\n",
       "\t2 & ABOHAR(PB) & January & 2006 & 900 & 487 & 638 & 563 & PB & ABOHAR\\\\\n",
       "\t3 & ABOHAR(PB) & January & 2010 & 790 & 1283 & 1592 & 1460 & PB & ABOHAR\\\\\n",
       "\t4 & ABOHAR(PB) & January & 2011 & 245 & 3067 & 3750 & 3433 & PB & ABOHAR\\\\\n",
       "\t5 & ABOHAR(PB) & January & 2012 & 1035 & 523 & 686 & 605 & PB & ABOHAR\\\\\n",
       "\t6 & ABOHAR(PB) & January & 2013 & 675 & 1327 & 1900 & 1605 & PB & ABOHAR\\\\\n",
       "\\end{tabular}\n"
      ],
      "text/plain": [
       "      market   month year quantity priceMin priceMax priceMod state   city\n",
       "1 ABOHAR(PB) January 2005     2350      404      493      446    PB ABOHAR\n",
       "2 ABOHAR(PB) January 2006      900      487      638      563    PB ABOHAR\n",
       "3 ABOHAR(PB) January 2010      790     1283     1592     1460    PB ABOHAR\n",
       "4 ABOHAR(PB) January 2011      245     3067     3750     3433    PB ABOHAR\n",
       "5 ABOHAR(PB) January 2012     1035      523      686      605    PB ABOHAR\n",
       "6 ABOHAR(PB) January 2013      675     1327     1900     1605    PB ABOHAR"
      ]
     },
     "execution_count": 76,
     "metadata": {},
     "output_type": "execute_result"
    }
   ],
   "source": [
    "head(df)"
   ]
  },
  {
   "cell_type": "code",
   "execution_count": 77,
   "metadata": {
    "collapsed": false
   },
   "outputs": [
    {
     "data": {
      "text/html": [
       "<table>\n",
       "<thead><tr><th></th><th scope=col>market</th><th scope=col>month</th><th scope=col>year</th><th scope=col>quantity</th><th scope=col>priceMin</th><th scope=col>priceMax</th><th scope=col>priceMod</th><th scope=col>state</th><th scope=col>city</th></tr></thead>\n",
       "<tbody>\n",
       "\t<tr><th scope=row>10222</th><td>YEOLA(MS)</td><td>December</td><td>2010</td><td>57586</td><td>541</td><td>2713</td><td>1830</td><td>MS</td><td>YEOLA</td></tr>\n",
       "\t<tr><th scope=row>10223</th><td>YEOLA(MS)</td><td>December</td><td>2011</td><td>131326</td><td>282</td><td>612</td><td>526</td><td>MS</td><td>YEOLA</td></tr>\n",
       "\t<tr><th scope=row>10224</th><td>YEOLA(MS)</td><td>December</td><td>2012</td><td>207066</td><td>485</td><td>1327</td><td>1136</td><td>MS</td><td>YEOLA</td></tr>\n",
       "\t<tr><th scope=row>10225</th><td>YEOLA(MS)</td><td>December</td><td>2013</td><td>215883</td><td>472</td><td>1427</td><td>1177</td><td>MS</td><td>YEOLA</td></tr>\n",
       "\t<tr><th scope=row>10226</th><td>YEOLA(MS)</td><td>December</td><td>2014</td><td>201077</td><td>446</td><td>1654</td><td>1456</td><td>MS</td><td>YEOLA</td></tr>\n",
       "\t<tr><th scope=row>10227</th><td>YEOLA(MS)</td><td>December</td><td>2015</td><td>223315</td><td>609</td><td>1446</td><td>1126</td><td>MS</td><td>YEOLA</td></tr>\n",
       "</tbody>\n",
       "</table>\n"
      ],
      "text/latex": [
       "\\begin{tabular}{r|lllllllll}\n",
       "  & market & month & year & quantity & priceMin & priceMax & priceMod & state & city\\\\\n",
       "\\hline\n",
       "\t10222 & YEOLA(MS) & December & 2010 & 57586 & 541 & 2713 & 1830 & MS & YEOLA\\\\\n",
       "\t10223 & YEOLA(MS) & December & 2011 & 131326 & 282 & 612 & 526 & MS & YEOLA\\\\\n",
       "\t10224 & YEOLA(MS) & December & 2012 & 207066 & 485 & 1327 & 1136 & MS & YEOLA\\\\\n",
       "\t10225 & YEOLA(MS) & December & 2013 & 215883 & 472 & 1427 & 1177 & MS & YEOLA\\\\\n",
       "\t10226 & YEOLA(MS) & December & 2014 & 201077 & 446 & 1654 & 1456 & MS & YEOLA\\\\\n",
       "\t10227 & YEOLA(MS) & December & 2015 & 223315 & 609 & 1446 & 1126 & MS & YEOLA\\\\\n",
       "\\end{tabular}\n"
      ],
      "text/plain": [
       "         market    month year quantity priceMin priceMax priceMod state  city\n",
       "10222 YEOLA(MS) December 2010    57586      541     2713     1830    MS YEOLA\n",
       "10223 YEOLA(MS) December 2011   131326      282      612      526    MS YEOLA\n",
       "10224 YEOLA(MS) December 2012   207066      485     1327     1136    MS YEOLA\n",
       "10225 YEOLA(MS) December 2013   215883      472     1427     1177    MS YEOLA\n",
       "10226 YEOLA(MS) December 2014   201077      446     1654     1456    MS YEOLA\n",
       "10227 YEOLA(MS) December 2015   223315      609     1446     1126    MS YEOLA"
      ]
     },
     "execution_count": 77,
     "metadata": {},
     "output_type": "execute_result"
    }
   ],
   "source": [
    "tail(df)"
   ]
  },
  {
   "cell_type": "code",
   "execution_count": 78,
   "metadata": {
    "collapsed": false
   },
   "outputs": [
    {
     "data": {
      "text/html": [
       "<ol class=list-inline>\n",
       "\t<li>'PB'</li>\n",
       "\t<li>'UP'</li>\n",
       "\t<li>'GUJ'</li>\n",
       "\t<li>'MS'</li>\n",
       "\t<li>'RAJ'</li>\n",
       "\t<li>'BANGALORE'</li>\n",
       "\t<li>'KNT'</li>\n",
       "\t<li>'BHOPAL'</li>\n",
       "\t<li>'OR'</li>\n",
       "\t<li>'BHR'</li>\n",
       "\t<li>'WB'</li>\n",
       "\t<li>'CHANDIGARH'</li>\n",
       "\t<li>'CHENNAI'</li>\n",
       "\t<li>'TN '</li>\n",
       "\t<li>'UTT'</li>\n",
       "\t<li>'DELHI'</li>\n",
       "\t<li>'MP'</li>\n",
       "\t<li>'TN'</li>\n",
       "\t<li>'GUWAHATI'</li>\n",
       "\t<li>'HYDERABAD'</li>\n",
       "\t<li>'JAIPUR'</li>\n",
       "\t<li>'WHITE'</li>\n",
       "\t<li>'JAMMU'</li>\n",
       "\t<li>'HR'</li>\n",
       "\t<li>'KOLKATA'</li>\n",
       "\t<li>'AP'</li>\n",
       "\t<li>'LUCKNOW'</li>\n",
       "\t<li>'MUMBAI'</li>\n",
       "\t<li>'NAGPUR'</li>\n",
       "\t<li>'KER'</li>\n",
       "\t<li>'PATNA'</li>\n",
       "\t<li>'CHGARH'</li>\n",
       "\t<li>'JH'</li>\n",
       "\t<li>'SHIMLA'</li>\n",
       "\t<li>'SRINAGAR'</li>\n",
       "\t<li>'TRIVENDRUM'</li>\n",
       "</ol>\n"
      ],
      "text/latex": [
       "\\begin{enumerate*}\n",
       "\\item 'PB'\n",
       "\\item 'UP'\n",
       "\\item 'GUJ'\n",
       "\\item 'MS'\n",
       "\\item 'RAJ'\n",
       "\\item 'BANGALORE'\n",
       "\\item 'KNT'\n",
       "\\item 'BHOPAL'\n",
       "\\item 'OR'\n",
       "\\item 'BHR'\n",
       "\\item 'WB'\n",
       "\\item 'CHANDIGARH'\n",
       "\\item 'CHENNAI'\n",
       "\\item 'TN '\n",
       "\\item 'UTT'\n",
       "\\item 'DELHI'\n",
       "\\item 'MP'\n",
       "\\item 'TN'\n",
       "\\item 'GUWAHATI'\n",
       "\\item 'HYDERABAD'\n",
       "\\item 'JAIPUR'\n",
       "\\item 'WHITE'\n",
       "\\item 'JAMMU'\n",
       "\\item 'HR'\n",
       "\\item 'KOLKATA'\n",
       "\\item 'AP'\n",
       "\\item 'LUCKNOW'\n",
       "\\item 'MUMBAI'\n",
       "\\item 'NAGPUR'\n",
       "\\item 'KER'\n",
       "\\item 'PATNA'\n",
       "\\item 'CHGARH'\n",
       "\\item 'JH'\n",
       "\\item 'SHIMLA'\n",
       "\\item 'SRINAGAR'\n",
       "\\item 'TRIVENDRUM'\n",
       "\\end{enumerate*}\n"
      ],
      "text/markdown": [
       "1. 'PB'\n",
       "2. 'UP'\n",
       "3. 'GUJ'\n",
       "4. 'MS'\n",
       "5. 'RAJ'\n",
       "6. 'BANGALORE'\n",
       "7. 'KNT'\n",
       "8. 'BHOPAL'\n",
       "9. 'OR'\n",
       "10. 'BHR'\n",
       "11. 'WB'\n",
       "12. 'CHANDIGARH'\n",
       "13. 'CHENNAI'\n",
       "14. 'TN '\n",
       "15. 'UTT'\n",
       "16. 'DELHI'\n",
       "17. 'MP'\n",
       "18. 'TN'\n",
       "19. 'GUWAHATI'\n",
       "20. 'HYDERABAD'\n",
       "21. 'JAIPUR'\n",
       "22. 'WHITE'\n",
       "23. 'JAMMU'\n",
       "24. 'HR'\n",
       "25. 'KOLKATA'\n",
       "26. 'AP'\n",
       "27. 'LUCKNOW'\n",
       "28. 'MUMBAI'\n",
       "29. 'NAGPUR'\n",
       "30. 'KER'\n",
       "31. 'PATNA'\n",
       "32. 'CHGARH'\n",
       "33. 'JH'\n",
       "34. 'SHIMLA'\n",
       "35. 'SRINAGAR'\n",
       "36. 'TRIVENDRUM'\n",
       "\n",
       "\n"
      ],
      "text/plain": [
       " [1] \"PB\"         \"UP\"         \"GUJ\"        \"MS\"         \"RAJ\"       \n",
       " [6] \"BANGALORE\"  \"KNT\"        \"BHOPAL\"     \"OR\"         \"BHR\"       \n",
       "[11] \"WB\"         \"CHANDIGARH\" \"CHENNAI\"    \"TN \"        \"UTT\"       \n",
       "[16] \"DELHI\"      \"MP\"         \"TN\"         \"GUWAHATI\"   \"HYDERABAD\" \n",
       "[21] \"JAIPUR\"     \"WHITE\"      \"JAMMU\"      \"HR\"         \"KOLKATA\"   \n",
       "[26] \"AP\"         \"LUCKNOW\"    \"MUMBAI\"     \"NAGPUR\"     \"KER\"       \n",
       "[31] \"PATNA\"      \"CHGARH\"     \"JH\"         \"SHIMLA\"     \"SRINAGAR\"  \n",
       "[36] \"TRIVENDRUM\""
      ]
     },
     "execution_count": 78,
     "metadata": {},
     "output_type": "execute_result"
    }
   ],
   "source": [
    "unique(df$state)"
   ]
  },
  {
   "cell_type": "code",
   "execution_count": 79,
   "metadata": {
    "collapsed": false
   },
   "outputs": [
    {
     "data": {
      "text/html": [
       "<ol class=list-inline>\n",
       "\t<li>'ABOHAR'</li>\n",
       "\t<li>'AGRA'</li>\n",
       "\t<li>'AHMEDABAD'</li>\n",
       "\t<li>'AHMEDNAGAR'</li>\n",
       "\t<li>'AJMER'</li>\n",
       "\t<li>'ALIGARH'</li>\n",
       "\t<li>'ALWAR'</li>\n",
       "\t<li>'AMRITSAR'</li>\n",
       "\t<li>'BALLIA'</li>\n",
       "\t<li>'BANGALORE'</li>\n",
       "\t<li>'BAREILLY'</li>\n",
       "\t<li>'BELGAUM'</li>\n",
       "\t<li>'BHATINDA'</li>\n",
       "\t<li>'BHAVNAGAR'</li>\n",
       "\t<li>'BHOPAL'</li>\n",
       "\t<li>'BHUBNESWER'</li>\n",
       "\t<li>'BIHARSHARIF'</li>\n",
       "\t<li>'BIJAPUR'</li>\n",
       "\t<li>'BIKANER'</li>\n",
       "\t<li>'BOMBORI'</li>\n",
       "\t<li>'BURDWAN'</li>\n",
       "\t<li>'CHAKAN'</li>\n",
       "\t<li>'CHALLAKERE'</li>\n",
       "\t<li>'CHANDIGARH'</li>\n",
       "\t<li>'CHANDVAD'</li>\n",
       "\t<li>'CHENNAI'</li>\n",
       "\t<li>'CHICKBALLAPUR'</li>\n",
       "\t<li>'COIMBATORE'</li>\n",
       "\t<li>'DEESA'</li>\n",
       "\t<li>'DEHRADOON'</li>\n",
       "\t<li>'DELHI'</li>\n",
       "\t<li>'DEORIA'</li>\n",
       "\t<li>'DEVALA'</li>\n",
       "\t<li>'DEWAS'</li>\n",
       "\t<li>'DHAVANGERE'</li>\n",
       "\t<li>'DHULIA'</li>\n",
       "\t<li>'DINDIGUL'</li>\n",
       "\t<li>'DINDORI'</li>\n",
       "\t<li>'ETAWAH'</li>\n",
       "\t<li>'GONDAL'</li>\n",
       "\t<li>'GORAKHPUR'</li>\n",
       "\t<li>'GUWAHATI'</li>\n",
       "\t<li>'HALDWANI'</li>\n",
       "\t<li>'HASSAN'</li>\n",
       "\t<li>'HOSHIARPUR'</li>\n",
       "\t<li>'HUBLI'</li>\n",
       "\t<li>'HYDERABAD'</li>\n",
       "\t<li>'INDORE'</li>\n",
       "\t<li>'JAIPUR'</li>\n",
       "\t<li>'JALANDHAR'</li>\n",
       "\t<li>'JALGAON'</li>\n",
       "\t<li>'JAMMU'</li>\n",
       "\t<li>'JAMNAGAR'</li>\n",
       "\t<li>'JODHPUR'</li>\n",
       "\t<li>'JUNNAR'</li>\n",
       "\t<li>'KALVAN'</li>\n",
       "\t<li>'KANPUR'</li>\n",
       "\t<li>'KARNAL'</li>\n",
       "\t<li>'KHANNA'</li>\n",
       "\t<li>'KOLAR'</li>\n",
       "\t<li>'KOLHAPUR'</li>\n",
       "\t<li>'KOLKATA'</li>\n",
       "\t<li>'KOPERGAON'</li>\n",
       "\t<li>'KOTA'</li>\n",
       "\t<li>'KURNOOL'</li>\n",
       "\t<li>'LASALGAON'</li>\n",
       "\t<li>'LONAND'</li>\n",
       "\t<li>'LUCKNOW'</li>\n",
       "\t<li>'LUDHIANA'</li>\n",
       "\t<li>'MADURAI'</li>\n",
       "\t<li>'MAHUVA'</li>\n",
       "\t<li>'MALEGAON'</li>\n",
       "\t<li>'MANDSOUR'</li>\n",
       "\t<li>'MANMAD'</li>\n",
       "\t<li>'MEERUT'</li>\n",
       "\t<li>'MIDNAPUR'</li>\n",
       "\t<li>'MUMBAI'</li>\n",
       "\t<li>'NAGPUR'</li>\n",
       "\t<li>'NANDGAON'</li>\n",
       "\t<li>'NASIK'</li>\n",
       "\t<li>'NEEMUCH'</li>\n",
       "\t<li>'NEWASA'</li>\n",
       "\t<li>'NIPHAD'</li>\n",
       "\t<li>'PALAYAM'</li>\n",
       "\t<li>'PATIALA'</li>\n",
       "\t<li>'PATNA'</li>\n",
       "\t<li>'PHALTAN '</li>\n",
       "\t<li>'PIMPALGAON'</li>\n",
       "\t<li>'PUNE'</li>\n",
       "\t<li>'PURULIA'</li>\n",
       "\t<li>'RAHATA'</li>\n",
       "\t<li>'RAHURI'</li>\n",
       "\t<li>'RAICHUR'</li>\n",
       "\t<li>'RAIPUR'</li>\n",
       "\t<li>'RAJAHMUNDRY'</li>\n",
       "\t<li>'RAJKOT'</li>\n",
       "\t<li>'RANCHI'</li>\n",
       "\t<li>'SAGAR'</li>\n",
       "\t<li>'SAIKHEDA'</li>\n",
       "\t<li>'SANGALI'</li>\n",
       "\t<li>'SANGAMNER'</li>\n",
       "\t<li>'SATANA'</li>\n",
       "\t<li>'SHEROAPHULY'</li>\n",
       "\t<li>'SHIMLA'</li>\n",
       "\t<li>'SHRIRAMPUR'</li>\n",
       "\t<li>'SINNAR'</li>\n",
       "\t<li>'SOLAPUR'</li>\n",
       "\t<li>'SRIGANGANAGAR'</li>\n",
       "\t<li>'SRINAGAR'</li>\n",
       "\t<li>'SRIRAMPUR'</li>\n",
       "\t<li>'SURAT'</li>\n",
       "\t<li>'TRIVENDRUM'</li>\n",
       "\t<li>'UDAIPUR'</li>\n",
       "\t<li>'UJJAIN'</li>\n",
       "\t<li>'VANI'</li>\n",
       "\t<li>'VARANASI'</li>\n",
       "\t<li>'YEOLA'</li>\n",
       "</ol>\n"
      ],
      "text/latex": [
       "\\begin{enumerate*}\n",
       "\\item 'ABOHAR'\n",
       "\\item 'AGRA'\n",
       "\\item 'AHMEDABAD'\n",
       "\\item 'AHMEDNAGAR'\n",
       "\\item 'AJMER'\n",
       "\\item 'ALIGARH'\n",
       "\\item 'ALWAR'\n",
       "\\item 'AMRITSAR'\n",
       "\\item 'BALLIA'\n",
       "\\item 'BANGALORE'\n",
       "\\item 'BAREILLY'\n",
       "\\item 'BELGAUM'\n",
       "\\item 'BHATINDA'\n",
       "\\item 'BHAVNAGAR'\n",
       "\\item 'BHOPAL'\n",
       "\\item 'BHUBNESWER'\n",
       "\\item 'BIHARSHARIF'\n",
       "\\item 'BIJAPUR'\n",
       "\\item 'BIKANER'\n",
       "\\item 'BOMBORI'\n",
       "\\item 'BURDWAN'\n",
       "\\item 'CHAKAN'\n",
       "\\item 'CHALLAKERE'\n",
       "\\item 'CHANDIGARH'\n",
       "\\item 'CHANDVAD'\n",
       "\\item 'CHENNAI'\n",
       "\\item 'CHICKBALLAPUR'\n",
       "\\item 'COIMBATORE'\n",
       "\\item 'DEESA'\n",
       "\\item 'DEHRADOON'\n",
       "\\item 'DELHI'\n",
       "\\item 'DEORIA'\n",
       "\\item 'DEVALA'\n",
       "\\item 'DEWAS'\n",
       "\\item 'DHAVANGERE'\n",
       "\\item 'DHULIA'\n",
       "\\item 'DINDIGUL'\n",
       "\\item 'DINDORI'\n",
       "\\item 'ETAWAH'\n",
       "\\item 'GONDAL'\n",
       "\\item 'GORAKHPUR'\n",
       "\\item 'GUWAHATI'\n",
       "\\item 'HALDWANI'\n",
       "\\item 'HASSAN'\n",
       "\\item 'HOSHIARPUR'\n",
       "\\item 'HUBLI'\n",
       "\\item 'HYDERABAD'\n",
       "\\item 'INDORE'\n",
       "\\item 'JAIPUR'\n",
       "\\item 'JALANDHAR'\n",
       "\\item 'JALGAON'\n",
       "\\item 'JAMMU'\n",
       "\\item 'JAMNAGAR'\n",
       "\\item 'JODHPUR'\n",
       "\\item 'JUNNAR'\n",
       "\\item 'KALVAN'\n",
       "\\item 'KANPUR'\n",
       "\\item 'KARNAL'\n",
       "\\item 'KHANNA'\n",
       "\\item 'KOLAR'\n",
       "\\item 'KOLHAPUR'\n",
       "\\item 'KOLKATA'\n",
       "\\item 'KOPERGAON'\n",
       "\\item 'KOTA'\n",
       "\\item 'KURNOOL'\n",
       "\\item 'LASALGAON'\n",
       "\\item 'LONAND'\n",
       "\\item 'LUCKNOW'\n",
       "\\item 'LUDHIANA'\n",
       "\\item 'MADURAI'\n",
       "\\item 'MAHUVA'\n",
       "\\item 'MALEGAON'\n",
       "\\item 'MANDSOUR'\n",
       "\\item 'MANMAD'\n",
       "\\item 'MEERUT'\n",
       "\\item 'MIDNAPUR'\n",
       "\\item 'MUMBAI'\n",
       "\\item 'NAGPUR'\n",
       "\\item 'NANDGAON'\n",
       "\\item 'NASIK'\n",
       "\\item 'NEEMUCH'\n",
       "\\item 'NEWASA'\n",
       "\\item 'NIPHAD'\n",
       "\\item 'PALAYAM'\n",
       "\\item 'PATIALA'\n",
       "\\item 'PATNA'\n",
       "\\item 'PHALTAN '\n",
       "\\item 'PIMPALGAON'\n",
       "\\item 'PUNE'\n",
       "\\item 'PURULIA'\n",
       "\\item 'RAHATA'\n",
       "\\item 'RAHURI'\n",
       "\\item 'RAICHUR'\n",
       "\\item 'RAIPUR'\n",
       "\\item 'RAJAHMUNDRY'\n",
       "\\item 'RAJKOT'\n",
       "\\item 'RANCHI'\n",
       "\\item 'SAGAR'\n",
       "\\item 'SAIKHEDA'\n",
       "\\item 'SANGALI'\n",
       "\\item 'SANGAMNER'\n",
       "\\item 'SATANA'\n",
       "\\item 'SHEROAPHULY'\n",
       "\\item 'SHIMLA'\n",
       "\\item 'SHRIRAMPUR'\n",
       "\\item 'SINNAR'\n",
       "\\item 'SOLAPUR'\n",
       "\\item 'SRIGANGANAGAR'\n",
       "\\item 'SRINAGAR'\n",
       "\\item 'SRIRAMPUR'\n",
       "\\item 'SURAT'\n",
       "\\item 'TRIVENDRUM'\n",
       "\\item 'UDAIPUR'\n",
       "\\item 'UJJAIN'\n",
       "\\item 'VANI'\n",
       "\\item 'VARANASI'\n",
       "\\item 'YEOLA'\n",
       "\\end{enumerate*}\n"
      ],
      "text/markdown": [
       "1. 'ABOHAR'\n",
       "2. 'AGRA'\n",
       "3. 'AHMEDABAD'\n",
       "4. 'AHMEDNAGAR'\n",
       "5. 'AJMER'\n",
       "6. 'ALIGARH'\n",
       "7. 'ALWAR'\n",
       "8. 'AMRITSAR'\n",
       "9. 'BALLIA'\n",
       "10. 'BANGALORE'\n",
       "11. 'BAREILLY'\n",
       "12. 'BELGAUM'\n",
       "13. 'BHATINDA'\n",
       "14. 'BHAVNAGAR'\n",
       "15. 'BHOPAL'\n",
       "16. 'BHUBNESWER'\n",
       "17. 'BIHARSHARIF'\n",
       "18. 'BIJAPUR'\n",
       "19. 'BIKANER'\n",
       "20. 'BOMBORI'\n",
       "21. 'BURDWAN'\n",
       "22. 'CHAKAN'\n",
       "23. 'CHALLAKERE'\n",
       "24. 'CHANDIGARH'\n",
       "25. 'CHANDVAD'\n",
       "26. 'CHENNAI'\n",
       "27. 'CHICKBALLAPUR'\n",
       "28. 'COIMBATORE'\n",
       "29. 'DEESA'\n",
       "30. 'DEHRADOON'\n",
       "31. 'DELHI'\n",
       "32. 'DEORIA'\n",
       "33. 'DEVALA'\n",
       "34. 'DEWAS'\n",
       "35. 'DHAVANGERE'\n",
       "36. 'DHULIA'\n",
       "37. 'DINDIGUL'\n",
       "38. 'DINDORI'\n",
       "39. 'ETAWAH'\n",
       "40. 'GONDAL'\n",
       "41. 'GORAKHPUR'\n",
       "42. 'GUWAHATI'\n",
       "43. 'HALDWANI'\n",
       "44. 'HASSAN'\n",
       "45. 'HOSHIARPUR'\n",
       "46. 'HUBLI'\n",
       "47. 'HYDERABAD'\n",
       "48. 'INDORE'\n",
       "49. 'JAIPUR'\n",
       "50. 'JALANDHAR'\n",
       "51. 'JALGAON'\n",
       "52. 'JAMMU'\n",
       "53. 'JAMNAGAR'\n",
       "54. 'JODHPUR'\n",
       "55. 'JUNNAR'\n",
       "56. 'KALVAN'\n",
       "57. 'KANPUR'\n",
       "58. 'KARNAL'\n",
       "59. 'KHANNA'\n",
       "60. 'KOLAR'\n",
       "61. 'KOLHAPUR'\n",
       "62. 'KOLKATA'\n",
       "63. 'KOPERGAON'\n",
       "64. 'KOTA'\n",
       "65. 'KURNOOL'\n",
       "66. 'LASALGAON'\n",
       "67. 'LONAND'\n",
       "68. 'LUCKNOW'\n",
       "69. 'LUDHIANA'\n",
       "70. 'MADURAI'\n",
       "71. 'MAHUVA'\n",
       "72. 'MALEGAON'\n",
       "73. 'MANDSOUR'\n",
       "74. 'MANMAD'\n",
       "75. 'MEERUT'\n",
       "76. 'MIDNAPUR'\n",
       "77. 'MUMBAI'\n",
       "78. 'NAGPUR'\n",
       "79. 'NANDGAON'\n",
       "80. 'NASIK'\n",
       "81. 'NEEMUCH'\n",
       "82. 'NEWASA'\n",
       "83. 'NIPHAD'\n",
       "84. 'PALAYAM'\n",
       "85. 'PATIALA'\n",
       "86. 'PATNA'\n",
       "87. 'PHALTAN '\n",
       "88. 'PIMPALGAON'\n",
       "89. 'PUNE'\n",
       "90. 'PURULIA'\n",
       "91. 'RAHATA'\n",
       "92. 'RAHURI'\n",
       "93. 'RAICHUR'\n",
       "94. 'RAIPUR'\n",
       "95. 'RAJAHMUNDRY'\n",
       "96. 'RAJKOT'\n",
       "97. 'RANCHI'\n",
       "98. 'SAGAR'\n",
       "99. 'SAIKHEDA'\n",
       "100. 'SANGALI'\n",
       "101. 'SANGAMNER'\n",
       "102. 'SATANA'\n",
       "103. 'SHEROAPHULY'\n",
       "104. 'SHIMLA'\n",
       "105. 'SHRIRAMPUR'\n",
       "106. 'SINNAR'\n",
       "107. 'SOLAPUR'\n",
       "108. 'SRIGANGANAGAR'\n",
       "109. 'SRINAGAR'\n",
       "110. 'SRIRAMPUR'\n",
       "111. 'SURAT'\n",
       "112. 'TRIVENDRUM'\n",
       "113. 'UDAIPUR'\n",
       "114. 'UJJAIN'\n",
       "115. 'VANI'\n",
       "116. 'VARANASI'\n",
       "117. 'YEOLA'\n",
       "\n",
       "\n"
      ],
      "text/plain": [
       "  [1] \"ABOHAR\"        \"AGRA\"          \"AHMEDABAD\"     \"AHMEDNAGAR\"   \n",
       "  [5] \"AJMER\"         \"ALIGARH\"       \"ALWAR\"         \"AMRITSAR\"     \n",
       "  [9] \"BALLIA\"        \"BANGALORE\"     \"BAREILLY\"      \"BELGAUM\"      \n",
       " [13] \"BHATINDA\"      \"BHAVNAGAR\"     \"BHOPAL\"        \"BHUBNESWER\"   \n",
       " [17] \"BIHARSHARIF\"   \"BIJAPUR\"       \"BIKANER\"       \"BOMBORI\"      \n",
       " [21] \"BURDWAN\"       \"CHAKAN\"        \"CHALLAKERE\"    \"CHANDIGARH\"   \n",
       " [25] \"CHANDVAD\"      \"CHENNAI\"       \"CHICKBALLAPUR\" \"COIMBATORE\"   \n",
       " [29] \"DEESA\"         \"DEHRADOON\"     \"DELHI\"         \"DEORIA\"       \n",
       " [33] \"DEVALA\"        \"DEWAS\"         \"DHAVANGERE\"    \"DHULIA\"       \n",
       " [37] \"DINDIGUL\"      \"DINDORI\"       \"ETAWAH\"        \"GONDAL\"       \n",
       " [41] \"GORAKHPUR\"     \"GUWAHATI\"      \"HALDWANI\"      \"HASSAN\"       \n",
       " [45] \"HOSHIARPUR\"    \"HUBLI\"         \"HYDERABAD\"     \"INDORE\"       \n",
       " [49] \"JAIPUR\"        \"JALANDHAR\"     \"JALGAON\"       \"JAMMU\"        \n",
       " [53] \"JAMNAGAR\"      \"JODHPUR\"       \"JUNNAR\"        \"KALVAN\"       \n",
       " [57] \"KANPUR\"        \"KARNAL\"        \"KHANNA\"        \"KOLAR\"        \n",
       " [61] \"KOLHAPUR\"      \"KOLKATA\"       \"KOPERGAON\"     \"KOTA\"         \n",
       " [65] \"KURNOOL\"       \"LASALGAON\"     \"LONAND\"        \"LUCKNOW\"      \n",
       " [69] \"LUDHIANA\"      \"MADURAI\"       \"MAHUVA\"        \"MALEGAON\"     \n",
       " [73] \"MANDSOUR\"      \"MANMAD\"        \"MEERUT\"        \"MIDNAPUR\"     \n",
       " [77] \"MUMBAI\"        \"NAGPUR\"        \"NANDGAON\"      \"NASIK\"        \n",
       " [81] \"NEEMUCH\"       \"NEWASA\"        \"NIPHAD\"        \"PALAYAM\"      \n",
       " [85] \"PATIALA\"       \"PATNA\"         \"PHALTAN \"      \"PIMPALGAON\"   \n",
       " [89] \"PUNE\"          \"PURULIA\"       \"RAHATA\"        \"RAHURI\"       \n",
       " [93] \"RAICHUR\"       \"RAIPUR\"        \"RAJAHMUNDRY\"   \"RAJKOT\"       \n",
       " [97] \"RANCHI\"        \"SAGAR\"         \"SAIKHEDA\"      \"SANGALI\"      \n",
       "[101] \"SANGAMNER\"     \"SATANA\"        \"SHEROAPHULY\"   \"SHIMLA\"       \n",
       "[105] \"SHRIRAMPUR\"    \"SINNAR\"        \"SOLAPUR\"       \"SRIGANGANAGAR\"\n",
       "[109] \"SRINAGAR\"      \"SRIRAMPUR\"     \"SURAT\"         \"TRIVENDRUM\"   \n",
       "[113] \"UDAIPUR\"       \"UJJAIN\"        \"VANI\"          \"VARANASI\"     \n",
       "[117] \"YEOLA\"        "
      ]
     },
     "execution_count": 79,
     "metadata": {},
     "output_type": "execute_result"
    }
   ],
   "source": [
    "unique(df$city)"
   ]
  },
  {
   "cell_type": "code",
   "execution_count": 80,
   "metadata": {
    "collapsed": true
   },
   "outputs": [],
   "source": [
    "state_now <- c('PB', 'UP', 'GUJ', 'MS', 'RAJ', 'BANGALORE', 'KNT', 'BHOPAL', 'OR',\n",
    "       'BHR', 'WB', 'CHANDIGARH', 'CHENNAI','UTT',\n",
    "       'DELHI', 'MP', 'TN', 'Podis', 'GUWAHATI', 'HYDERABAD', 'JAIPUR',\n",
    "       'WHITE', 'JAMMU', 'HR', 'KOLKATA', 'AP', 'LUCKNOW', 'MUMBAI',\n",
    "       'NAGPUR', 'KER', 'PATNA', 'CHGARH', 'JH', 'SHIMLA', 'SRINAGAR',\n",
    "       'TRIVENDRUM')"
   ]
  },
  {
   "cell_type": "code",
   "execution_count": 81,
   "metadata": {
    "collapsed": true
   },
   "outputs": [],
   "source": [
    "state_new <- c('PB', 'UP', 'GUJ', 'MS', 'RAJ', 'KNT', 'KNT', 'MP', 'OR',\n",
    "       'BHR', 'WB', 'CH', 'TN', 'KNT', 'TN', 'UP',\n",
    "       'DEL', 'MP', 'TN', 'TN', 'ASM', 'AP', 'RAJ',\n",
    "       'MS', 'JK', 'HR', 'WB', 'AP', 'UP', 'MS',\n",
    "       'MS', 'KER', 'BHR', 'HR', 'JH', 'HP', 'JK',\n",
    "       'KEL')"
   ]
  },
  {
   "cell_type": "code",
   "execution_count": 82,
   "metadata": {
    "collapsed": false
   },
   "outputs": [
    {
     "name": "stderr",
     "output_type": "stream",
     "text": [
      "Warning message:\n",
      "In replace(df$state, state_now, state_new): number of items to replace is not a multiple of replacement length"
     ]
    },
    {
     "ename": "ERROR",
     "evalue": "Error in `$<-.data.frame`(`*tmp*`, \"state\", value = structure(c(\"PB\", : replacement has 10263 rows, data has 10227\n",
     "output_type": "error",
     "traceback": [
      "Error in `$<-.data.frame`(`*tmp*`, \"state\", value = structure(c(\"PB\", : replacement has 10263 rows, data has 10227\n"
     ]
    }
   ],
   "source": [
    "df$state <- replace(df$state,state_now,state_new)"
   ]
  },
  {
   "cell_type": "code",
   "execution_count": 83,
   "metadata": {
    "collapsed": false
   },
   "outputs": [
    {
     "data": {
      "text/html": [
       "<ol class=list-inline>\n",
       "\t<li>'PB'</li>\n",
       "\t<li>'UP'</li>\n",
       "\t<li>'GUJ'</li>\n",
       "\t<li>'MS'</li>\n",
       "\t<li>'RAJ'</li>\n",
       "\t<li>'BANGALORE'</li>\n",
       "\t<li>'KNT'</li>\n",
       "\t<li>'BHOPAL'</li>\n",
       "\t<li>'OR'</li>\n",
       "\t<li>'BHR'</li>\n",
       "\t<li>'WB'</li>\n",
       "\t<li>'CHANDIGARH'</li>\n",
       "\t<li>'CHENNAI'</li>\n",
       "\t<li>'TN '</li>\n",
       "\t<li>'UTT'</li>\n",
       "\t<li>'DELHI'</li>\n",
       "\t<li>'MP'</li>\n",
       "\t<li>'TN'</li>\n",
       "\t<li>'GUWAHATI'</li>\n",
       "\t<li>'HYDERABAD'</li>\n",
       "\t<li>'JAIPUR'</li>\n",
       "\t<li>'WHITE'</li>\n",
       "\t<li>'JAMMU'</li>\n",
       "\t<li>'HR'</li>\n",
       "\t<li>'KOLKATA'</li>\n",
       "\t<li>'AP'</li>\n",
       "\t<li>'LUCKNOW'</li>\n",
       "\t<li>'MUMBAI'</li>\n",
       "\t<li>'NAGPUR'</li>\n",
       "\t<li>'KER'</li>\n",
       "\t<li>'PATNA'</li>\n",
       "\t<li>'CHGARH'</li>\n",
       "\t<li>'JH'</li>\n",
       "\t<li>'SHIMLA'</li>\n",
       "\t<li>'SRINAGAR'</li>\n",
       "\t<li>'TRIVENDRUM'</li>\n",
       "</ol>\n"
      ],
      "text/latex": [
       "\\begin{enumerate*}\n",
       "\\item 'PB'\n",
       "\\item 'UP'\n",
       "\\item 'GUJ'\n",
       "\\item 'MS'\n",
       "\\item 'RAJ'\n",
       "\\item 'BANGALORE'\n",
       "\\item 'KNT'\n",
       "\\item 'BHOPAL'\n",
       "\\item 'OR'\n",
       "\\item 'BHR'\n",
       "\\item 'WB'\n",
       "\\item 'CHANDIGARH'\n",
       "\\item 'CHENNAI'\n",
       "\\item 'TN '\n",
       "\\item 'UTT'\n",
       "\\item 'DELHI'\n",
       "\\item 'MP'\n",
       "\\item 'TN'\n",
       "\\item 'GUWAHATI'\n",
       "\\item 'HYDERABAD'\n",
       "\\item 'JAIPUR'\n",
       "\\item 'WHITE'\n",
       "\\item 'JAMMU'\n",
       "\\item 'HR'\n",
       "\\item 'KOLKATA'\n",
       "\\item 'AP'\n",
       "\\item 'LUCKNOW'\n",
       "\\item 'MUMBAI'\n",
       "\\item 'NAGPUR'\n",
       "\\item 'KER'\n",
       "\\item 'PATNA'\n",
       "\\item 'CHGARH'\n",
       "\\item 'JH'\n",
       "\\item 'SHIMLA'\n",
       "\\item 'SRINAGAR'\n",
       "\\item 'TRIVENDRUM'\n",
       "\\end{enumerate*}\n"
      ],
      "text/markdown": [
       "1. 'PB'\n",
       "2. 'UP'\n",
       "3. 'GUJ'\n",
       "4. 'MS'\n",
       "5. 'RAJ'\n",
       "6. 'BANGALORE'\n",
       "7. 'KNT'\n",
       "8. 'BHOPAL'\n",
       "9. 'OR'\n",
       "10. 'BHR'\n",
       "11. 'WB'\n",
       "12. 'CHANDIGARH'\n",
       "13. 'CHENNAI'\n",
       "14. 'TN '\n",
       "15. 'UTT'\n",
       "16. 'DELHI'\n",
       "17. 'MP'\n",
       "18. 'TN'\n",
       "19. 'GUWAHATI'\n",
       "20. 'HYDERABAD'\n",
       "21. 'JAIPUR'\n",
       "22. 'WHITE'\n",
       "23. 'JAMMU'\n",
       "24. 'HR'\n",
       "25. 'KOLKATA'\n",
       "26. 'AP'\n",
       "27. 'LUCKNOW'\n",
       "28. 'MUMBAI'\n",
       "29. 'NAGPUR'\n",
       "30. 'KER'\n",
       "31. 'PATNA'\n",
       "32. 'CHGARH'\n",
       "33. 'JH'\n",
       "34. 'SHIMLA'\n",
       "35. 'SRINAGAR'\n",
       "36. 'TRIVENDRUM'\n",
       "\n",
       "\n"
      ],
      "text/plain": [
       " [1] \"PB\"         \"UP\"         \"GUJ\"        \"MS\"         \"RAJ\"       \n",
       " [6] \"BANGALORE\"  \"KNT\"        \"BHOPAL\"     \"OR\"         \"BHR\"       \n",
       "[11] \"WB\"         \"CHANDIGARH\" \"CHENNAI\"    \"TN \"        \"UTT\"       \n",
       "[16] \"DELHI\"      \"MP\"         \"TN\"         \"GUWAHATI\"   \"HYDERABAD\" \n",
       "[21] \"JAIPUR\"     \"WHITE\"      \"JAMMU\"      \"HR\"         \"KOLKATA\"   \n",
       "[26] \"AP\"         \"LUCKNOW\"    \"MUMBAI\"     \"NAGPUR\"     \"KER\"       \n",
       "[31] \"PATNA\"      \"CHGARH\"     \"JH\"         \"SHIMLA\"     \"SRINAGAR\"  \n",
       "[36] \"TRIVENDRUM\""
      ]
     },
     "execution_count": 83,
     "metadata": {},
     "output_type": "execute_result"
    }
   ],
   "source": [
    "unique(df$state)"
   ]
  },
  {
   "cell_type": "code",
   "execution_count": null,
   "metadata": {
    "collapsed": true
   },
   "outputs": [],
   "source": []
  }
 ],
 "metadata": {
  "kernelspec": {
   "display_name": "R",
   "language": "R",
   "name": "ir"
  },
  "language_info": {
   "codemirror_mode": "r",
   "file_extension": ".r",
   "mimetype": "text/x-r-source",
   "name": "R",
   "pygments_lexer": "r",
   "version": "3.2.2"
  }
 },
 "nbformat": 4,
 "nbformat_minor": 0
}
