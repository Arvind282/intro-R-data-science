{
 "cells": [
  {
   "cell_type": "markdown",
   "metadata": {},
   "source": [
    "# Share the Insight"
   ]
  },
  {
   "cell_type": "markdown",
   "metadata": {
    "collapsed": true
   },
   "source": [
    "There are two main insights we want to communicate. \n",
    "- Bangalore is the largest market for Onion Arrivals. \n",
    "- Onion Price variation has increased in the recent years.\n",
    "\n",
    "Let us explore how we can communicate these insight visually."
   ]
  },
  {
   "cell_type": "markdown",
   "metadata": {},
   "source": [
    "## Preprocessing to get the data"
   ]
  },
  {
   "cell_type": "code",
   "execution_count": 1,
   "metadata": {
    "collapsed": false
   },
   "outputs": [
    {
     "name": "stderr",
     "output_type": "stream",
     "text": [
      "\n",
      "Attaching package: 'dplyr'\n",
      "\n",
      "The following objects are masked from 'package:stats':\n",
      "\n",
      "    filter, lag\n",
      "\n",
      "The following objects are masked from 'package:base':\n",
      "\n",
      "    intersect, setdiff, setequal, union\n",
      "\n"
     ]
    }
   ],
   "source": [
    "# Import the library we need, which is dplyr and ggplot2\n",
    "library(dplyr)\n",
    "library(ggplot2)"
   ]
  },
  {
   "cell_type": "code",
   "execution_count": 3,
   "metadata": {
    "collapsed": false
   },
   "outputs": [],
   "source": [
    "# Read the csv file of Monthwise Quantity and Price csv file we have.\n",
    "df <- read.csv('MonthWiseMarketArrivals_clean.csv')"
   ]
  },
  {
   "cell_type": "code",
   "execution_count": 5,
   "metadata": {
    "collapsed": false
   },
   "outputs": [],
   "source": [
    "# Fix the date\n",
    "df$date = as.Date(paste(\"01-\",df$date,sep=\"\"), \"%d-%B-%Y\")"
   ]
  },
  {
   "cell_type": "code",
   "execution_count": 13,
   "metadata": {
    "collapsed": false
   },
   "outputs": [],
   "source": [
    "# Get the data for year 2015 and sort\n",
    "df2015 <- df %>% \n",
    "          filter(year == 2015) %>%\n",
    "          group_by(city) %>%\n",
    "          summarize(quantity_year = sum(quantity)) %>%\n",
    "          arrange(desc(quantity_year))"
   ]
  },
  {
   "cell_type": "code",
   "execution_count": 14,
   "metadata": {
    "collapsed": false
   },
   "outputs": [
    {
     "data": {
      "text/html": [
       "<table>\n",
       "<thead><tr><th></th><th scope=col>city</th><th scope=col>quantity_year</th></tr></thead>\n",
       "<tbody>\n",
       "\t<tr><th scope=row>1</th><td>BANGALORE</td><td>8267060</td></tr>\n",
       "\t<tr><th scope=row>2</th><td>MAHUVA</td><td>5113510</td></tr>\n",
       "\t<tr><th scope=row>3</th><td>SOLAPUR</td><td>4162041</td></tr>\n",
       "\t<tr><th scope=row>4</th><td>PUNE</td><td>3591209</td></tr>\n",
       "\t<tr><th scope=row>5</th><td>LASALGAON</td><td>3581359</td></tr>\n",
       "\t<tr><th scope=row>6</th><td>PIMPALGAON</td><td>3455265</td></tr>\n",
       "</tbody>\n",
       "</table>\n"
      ],
      "text/latex": [
       "\\begin{tabular}{r|ll}\n",
       "  & city & quantity_year\\\\\n",
       "\\hline\n",
       "\t1 & BANGALORE & 8267060\\\\\n",
       "\t2 & MAHUVA & 5113510\\\\\n",
       "\t3 & SOLAPUR & 4162041\\\\\n",
       "\t4 & PUNE & 3591209\\\\\n",
       "\t5 & LASALGAON & 3581359\\\\\n",
       "\t6 & PIMPALGAON & 3455265\\\\\n",
       "\\end{tabular}\n"
      ],
      "text/plain": [
       "Source: local data frame [6 x 2]\n",
       "\n",
       "        city quantity_year\n",
       "      (fctr)         (int)\n",
       "1  BANGALORE       8267060\n",
       "2     MAHUVA       5113510\n",
       "3    SOLAPUR       4162041\n",
       "4       PUNE       3591209\n",
       "5  LASALGAON       3581359\n",
       "6 PIMPALGAON       3455265"
      ]
     },
     "execution_count": 14,
     "metadata": {},
     "output_type": "execute_result"
    }
   ],
   "source": [
    "head(df2015)"
   ]
  },
  {
   "cell_type": "markdown",
   "metadata": {},
   "source": [
    "## Let us plot the Cities in a Geographic Map"
   ]
  },
  {
   "cell_type": "code",
   "execution_count": null,
   "metadata": {
    "collapsed": false
   },
   "outputs": [],
   "source": [
    "# Load the geocode file\n",
    "dfGeo = pd.read_csv('city_geocode.csv')"
   ]
  },
  {
   "cell_type": "code",
   "execution_count": null,
   "metadata": {
    "collapsed": false
   },
   "outputs": [],
   "source": [
    "dfGeo.head()"
   ]
  },
  {
   "cell_type": "markdown",
   "metadata": {},
   "source": [
    "### PRINCIPLE: Joining two data frames\n",
    "\n",
    "There will be many cases in which your data is in two different dataframe and you would like to merge them in to one dataframe. Let us look at one example of this - which is called left join\n",
    "\n",
    "![](../img/left_merge.png)"
   ]
  },
  {
   "cell_type": "code",
   "execution_count": null,
   "metadata": {
    "collapsed": false
   },
   "outputs": [],
   "source": [
    "dfCityGeo = pd.merge(df2015City, dfGeo, how='left', on=['city', 'city'])"
   ]
  },
  {
   "cell_type": "code",
   "execution_count": null,
   "metadata": {
    "collapsed": false
   },
   "outputs": [],
   "source": [
    "dfCityGeo.head()"
   ]
  },
  {
   "cell_type": "code",
   "execution_count": null,
   "metadata": {
    "collapsed": false
   },
   "outputs": [],
   "source": [
    "dfCityGeo.plot(kind = 'scatter', x = 'lon', y = 'lat', s = 100)"
   ]
  },
  {
   "cell_type": "markdown",
   "metadata": {},
   "source": [
    "We can do a crude aspect ratio adjustment to make the cartesian coordinate systesm appear like a mercator map"
   ]
  },
  {
   "cell_type": "code",
   "execution_count": null,
   "metadata": {
    "collapsed": false
   },
   "outputs": [],
   "source": [
    "dfCityGeo.plot(kind = 'scatter', x = 'lon', y = 'lat', s = 100, figsize = [10,11])"
   ]
  },
  {
   "cell_type": "code",
   "execution_count": null,
   "metadata": {
    "collapsed": false
   },
   "outputs": [],
   "source": [
    "# Let us at quanitity as the size of the bubble\n",
    "dfCityGeo.plot(kind = 'scatter', x = 'lon', y = 'lat', s = dfCityGeo.quantity, figsize = [10,11])"
   ]
  },
  {
   "cell_type": "code",
   "execution_count": null,
   "metadata": {
    "collapsed": false
   },
   "outputs": [],
   "source": [
    "# Let us scale down the quantity variable\n",
    "dfCityGeo.plot(kind = 'scatter', x = 'lon', y = 'lat', s = dfCityGeo.quantity/1000, figsize = [10,11])"
   ]
  },
  {
   "cell_type": "code",
   "execution_count": null,
   "metadata": {
    "collapsed": false
   },
   "outputs": [],
   "source": [
    "# Reduce the opacity of the color, so that we can see overlapping values\n",
    "dfCityGeo.plot(kind = 'scatter', x = 'lon', y = 'lat', s = dfCityGeo.quantity/1000, alpha = 0.5, figsize = [10,11])"
   ]
  },
  {
   "cell_type": "markdown",
   "metadata": {},
   "source": [
    "### Exercise - Can you plot all the States by quantity in (pseudo) geographic map"
   ]
  },
  {
   "cell_type": "code",
   "execution_count": null,
   "metadata": {
    "collapsed": true
   },
   "outputs": [],
   "source": []
  },
  {
   "cell_type": "code",
   "execution_count": null,
   "metadata": {
    "collapsed": true
   },
   "outputs": [],
   "source": []
  },
  {
   "cell_type": "code",
   "execution_count": null,
   "metadata": {
    "collapsed": true
   },
   "outputs": [],
   "source": []
  },
  {
   "cell_type": "code",
   "execution_count": null,
   "metadata": {
    "collapsed": true
   },
   "outputs": [],
   "source": []
  },
  {
   "cell_type": "code",
   "execution_count": null,
   "metadata": {
    "collapsed": true
   },
   "outputs": [],
   "source": []
  }
 ],
 "metadata": {
  "kernelspec": {
   "display_name": "R",
   "language": "R",
   "name": "ir"
  },
  "language_info": {
   "codemirror_mode": "r",
   "file_extension": ".r",
   "mimetype": "text/x-r-source",
   "name": "R",
   "pygments_lexer": "r",
   "version": "3.2.4"
  }
 },
 "nbformat": 4,
 "nbformat_minor": 0
}
